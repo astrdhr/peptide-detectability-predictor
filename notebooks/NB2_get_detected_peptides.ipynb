{
 "cells": [
  {
   "cell_type": "markdown",
   "id": "1c934354",
   "metadata": {},
   "source": [
    "# Get experimentally detected peptides\n",
    "    Author: Anima Sutradhar\n",
    "    Project: Peptide detectability prediction to improve protein identification in mass spectrometry using machine learning."
   ]
  },
  {
   "cell_type": "markdown",
   "id": "c7850870",
   "metadata": {},
   "source": [
    "## Notebook summary:\n",
    "1. Import MaxQuant output (evidence.txt) file.\n",
    "2. Clean dataset.\n",
    "    - Check for and remove contaminants and 'reverse' sequences by MaxQuant and empty protein IDs.\n",
    "    - Keep only peptides with 0 missed cleavages.\n",
    "3. Reformat dataset columns for ML training.\n",
    "4. Export reformatted peptide dataset as TSV."
   ]
  },
  {
   "cell_type": "code",
   "execution_count": 1,
   "id": "c2d6c866",
   "metadata": {},
   "outputs": [],
   "source": [
    "# import libraries\n",
    "import numpy as np\n",
    "import pandas as pd\n",
    "import re\n",
    "import csv\n",
    "\n",
    "# set display options\n",
    "#pd.set_option(\"display.max_rows\", None, \"display.max_columns\", None)"
   ]
  },
  {
   "cell_type": "markdown",
   "id": "91787524",
   "metadata": {},
   "source": [
    "### 1. Import MaxQuant output (evidence.txt) file"
   ]
  },
  {
   "cell_type": "code",
   "execution_count": 2,
   "id": "d64d01f2",
   "metadata": {
    "scrolled": false
   },
   "outputs": [
    {
     "data": {
      "text/html": [
       "<div>\n",
       "<style scoped>\n",
       "    .dataframe tbody tr th:only-of-type {\n",
       "        vertical-align: middle;\n",
       "    }\n",
       "\n",
       "    .dataframe tbody tr th {\n",
       "        vertical-align: top;\n",
       "    }\n",
       "\n",
       "    .dataframe thead th {\n",
       "        text-align: right;\n",
       "    }\n",
       "</style>\n",
       "<table border=\"1\" class=\"dataframe\">\n",
       "  <thead>\n",
       "    <tr style=\"text-align: right;\">\n",
       "      <th></th>\n",
       "      <th>Sequence</th>\n",
       "      <th>Length</th>\n",
       "      <th>Modifications</th>\n",
       "      <th>Modified sequence</th>\n",
       "      <th>Oxidation (M) Probabilities</th>\n",
       "      <th>Oxidation (M) Score Diffs</th>\n",
       "      <th>Acetyl (Protein N-term)</th>\n",
       "      <th>Oxidation (M)</th>\n",
       "      <th>Missed cleavages</th>\n",
       "      <th>Proteins</th>\n",
       "      <th>...</th>\n",
       "      <th>Reverse</th>\n",
       "      <th>Potential contaminant</th>\n",
       "      <th>id</th>\n",
       "      <th>Protein group IDs</th>\n",
       "      <th>Peptide ID</th>\n",
       "      <th>Mod. peptide ID</th>\n",
       "      <th>MS/MS IDs</th>\n",
       "      <th>Best MS/MS</th>\n",
       "      <th>Oxidation (M) site IDs</th>\n",
       "      <th>Taxonomy IDs</th>\n",
       "    </tr>\n",
       "  </thead>\n",
       "  <tbody>\n",
       "    <tr>\n",
       "      <th>0</th>\n",
       "      <td>AAAAAAAAAVSR</td>\n",
       "      <td>12</td>\n",
       "      <td>Unmodified</td>\n",
       "      <td>_AAAAAAAAAVSR_</td>\n",
       "      <td>NaN</td>\n",
       "      <td>NaN</td>\n",
       "      <td>0</td>\n",
       "      <td>0</td>\n",
       "      <td>0</td>\n",
       "      <td>Q96JP5</td>\n",
       "      <td>...</td>\n",
       "      <td>NaN</td>\n",
       "      <td>NaN</td>\n",
       "      <td>0</td>\n",
       "      <td>4209</td>\n",
       "      <td>0</td>\n",
       "      <td>0</td>\n",
       "      <td>0</td>\n",
       "      <td>0</td>\n",
       "      <td>NaN</td>\n",
       "      <td>9606.0</td>\n",
       "    </tr>\n",
       "    <tr>\n",
       "      <th>1</th>\n",
       "      <td>AAAAAAAATMALAAPSSPTPESPTMLTK</td>\n",
       "      <td>28</td>\n",
       "      <td>Unmodified</td>\n",
       "      <td>_AAAAAAAATMALAAPSSPTPESPTMLTK_</td>\n",
       "      <td>NaN</td>\n",
       "      <td>NaN</td>\n",
       "      <td>0</td>\n",
       "      <td>0</td>\n",
       "      <td>0</td>\n",
       "      <td>Q9NQS7</td>\n",
       "      <td>...</td>\n",
       "      <td>NaN</td>\n",
       "      <td>NaN</td>\n",
       "      <td>1</td>\n",
       "      <td>4961</td>\n",
       "      <td>1</td>\n",
       "      <td>1</td>\n",
       "      <td>1</td>\n",
       "      <td>1</td>\n",
       "      <td>NaN</td>\n",
       "      <td>9606.0</td>\n",
       "    </tr>\n",
       "    <tr>\n",
       "      <th>2</th>\n",
       "      <td>AAAAAAAGDSDSWDADAFSVEDPVR</td>\n",
       "      <td>25</td>\n",
       "      <td>Acetyl (Protein N-term)</td>\n",
       "      <td>_(Acetyl (Protein N-term))AAAAAAAGDSDSWDADAFSV...</td>\n",
       "      <td>NaN</td>\n",
       "      <td>NaN</td>\n",
       "      <td>1</td>\n",
       "      <td>0</td>\n",
       "      <td>0</td>\n",
       "      <td>O75822</td>\n",
       "      <td>...</td>\n",
       "      <td>NaN</td>\n",
       "      <td>NaN</td>\n",
       "      <td>2</td>\n",
       "      <td>655</td>\n",
       "      <td>2</td>\n",
       "      <td>2</td>\n",
       "      <td>2;3</td>\n",
       "      <td>2</td>\n",
       "      <td>NaN</td>\n",
       "      <td>9606.0</td>\n",
       "    </tr>\n",
       "    <tr>\n",
       "      <th>3</th>\n",
       "      <td>AAAAAAAGDSDSWDADAFSVEDPVR</td>\n",
       "      <td>25</td>\n",
       "      <td>Acetyl (Protein N-term)</td>\n",
       "      <td>_(Acetyl (Protein N-term))AAAAAAAGDSDSWDADAFSV...</td>\n",
       "      <td>NaN</td>\n",
       "      <td>NaN</td>\n",
       "      <td>1</td>\n",
       "      <td>0</td>\n",
       "      <td>0</td>\n",
       "      <td>O75822</td>\n",
       "      <td>...</td>\n",
       "      <td>NaN</td>\n",
       "      <td>NaN</td>\n",
       "      <td>3</td>\n",
       "      <td>655</td>\n",
       "      <td>2</td>\n",
       "      <td>2</td>\n",
       "      <td>4</td>\n",
       "      <td>4</td>\n",
       "      <td>NaN</td>\n",
       "      <td>9606.0</td>\n",
       "    </tr>\n",
       "    <tr>\n",
       "      <th>4</th>\n",
       "      <td>AAAAAAAGDSDSWDADAFSVEDPVRK</td>\n",
       "      <td>26</td>\n",
       "      <td>Acetyl (Protein N-term)</td>\n",
       "      <td>_(Acetyl (Protein N-term))AAAAAAAGDSDSWDADAFSV...</td>\n",
       "      <td>NaN</td>\n",
       "      <td>NaN</td>\n",
       "      <td>1</td>\n",
       "      <td>0</td>\n",
       "      <td>1</td>\n",
       "      <td>O75822</td>\n",
       "      <td>...</td>\n",
       "      <td>NaN</td>\n",
       "      <td>NaN</td>\n",
       "      <td>4</td>\n",
       "      <td>655</td>\n",
       "      <td>3</td>\n",
       "      <td>3</td>\n",
       "      <td>5</td>\n",
       "      <td>5</td>\n",
       "      <td>NaN</td>\n",
       "      <td>9606.0</td>\n",
       "    </tr>\n",
       "  </tbody>\n",
       "</table>\n",
       "<p>5 rows × 92 columns</p>\n",
       "</div>"
      ],
      "text/plain": [
       "                       Sequence  Length            Modifications  \\\n",
       "0                  AAAAAAAAAVSR      12               Unmodified   \n",
       "1  AAAAAAAATMALAAPSSPTPESPTMLTK      28               Unmodified   \n",
       "2     AAAAAAAGDSDSWDADAFSVEDPVR      25  Acetyl (Protein N-term)   \n",
       "3     AAAAAAAGDSDSWDADAFSVEDPVR      25  Acetyl (Protein N-term)   \n",
       "4    AAAAAAAGDSDSWDADAFSVEDPVRK      26  Acetyl (Protein N-term)   \n",
       "\n",
       "                                   Modified sequence  \\\n",
       "0                                     _AAAAAAAAAVSR_   \n",
       "1                     _AAAAAAAATMALAAPSSPTPESPTMLTK_   \n",
       "2  _(Acetyl (Protein N-term))AAAAAAAGDSDSWDADAFSV...   \n",
       "3  _(Acetyl (Protein N-term))AAAAAAAGDSDSWDADAFSV...   \n",
       "4  _(Acetyl (Protein N-term))AAAAAAAGDSDSWDADAFSV...   \n",
       "\n",
       "  Oxidation (M) Probabilities Oxidation (M) Score Diffs  \\\n",
       "0                         NaN                       NaN   \n",
       "1                         NaN                       NaN   \n",
       "2                         NaN                       NaN   \n",
       "3                         NaN                       NaN   \n",
       "4                         NaN                       NaN   \n",
       "\n",
       "   Acetyl (Protein N-term)  Oxidation (M)  Missed cleavages Proteins  ...  \\\n",
       "0                        0              0                 0   Q96JP5  ...   \n",
       "1                        0              0                 0   Q9NQS7  ...   \n",
       "2                        1              0                 0   O75822  ...   \n",
       "3                        1              0                 0   O75822  ...   \n",
       "4                        1              0                 1   O75822  ...   \n",
       "\n",
       "  Reverse Potential contaminant id Protein group IDs Peptide ID  \\\n",
       "0     NaN                   NaN  0              4209          0   \n",
       "1     NaN                   NaN  1              4961          1   \n",
       "2     NaN                   NaN  2               655          2   \n",
       "3     NaN                   NaN  3               655          2   \n",
       "4     NaN                   NaN  4               655          3   \n",
       "\n",
       "  Mod. peptide ID  MS/MS IDs  Best MS/MS  Oxidation (M) site IDs  Taxonomy IDs  \n",
       "0               0          0           0                     NaN        9606.0  \n",
       "1               1          1           1                     NaN        9606.0  \n",
       "2               2        2;3           2                     NaN        9606.0  \n",
       "3               2          4           4                     NaN        9606.0  \n",
       "4               3          5           5                     NaN        9606.0  \n",
       "\n",
       "[5 rows x 92 columns]"
      ]
     },
     "execution_count": 2,
     "metadata": {},
     "output_type": "execute_result"
    }
   ],
   "source": [
    "# load dataset\n",
    "evidence = pd.read_table('../data/maxquant_output/txt/evidence.txt')\n",
    "evidence.head()"
   ]
  },
  {
   "cell_type": "markdown",
   "id": "2e20c9b8",
   "metadata": {},
   "source": [
    "#### Explore dataset"
   ]
  },
  {
   "cell_type": "code",
   "execution_count": 3,
   "id": "af71a937",
   "metadata": {},
   "outputs": [
    {
     "data": {
      "text/plain": [
       "(103479, 92)"
      ]
     },
     "execution_count": 3,
     "metadata": {},
     "output_type": "execute_result"
    }
   ],
   "source": [
    "evidence.shape"
   ]
  },
  {
   "cell_type": "code",
   "execution_count": 4,
   "id": "c3c813b9",
   "metadata": {},
   "outputs": [
    {
     "data": {
      "text/plain": [
       "Index(['Sequence', 'Length', 'Modifications', 'Modified sequence',\n",
       "       'Oxidation (M) Probabilities', 'Oxidation (M) Score Diffs',\n",
       "       'Acetyl (Protein N-term)', 'Oxidation (M)', 'Missed cleavages',\n",
       "       'Proteins', 'Leading proteins', 'Leading razor protein', 'Gene names',\n",
       "       'Protein names', 'Type', 'Raw file', 'Fraction', 'Experiment',\n",
       "       'MS/MS m/z', 'Charge', 'm/z', 'Mass',\n",
       "       'Uncalibrated - Calibrated m/z [ppm]',\n",
       "       'Uncalibrated - Calibrated m/z [Da]', 'Mass error [ppm]',\n",
       "       'Mass error [Da]', 'Uncalibrated mass error [ppm]',\n",
       "       'Uncalibrated mass error [Da]', 'Max intensity m/z 0', 'Retention time',\n",
       "       'Retention length', 'Calibrated retention time',\n",
       "       'Calibrated retention time start', 'Calibrated retention time finish',\n",
       "       'Retention time calibration', 'Match time difference',\n",
       "       'Match m/z difference', 'Match q-value', 'Match score',\n",
       "       'Number of data points', 'Number of scans', 'Number of isotopic peaks',\n",
       "       'PIF', 'Fraction of total spectrum', 'Base peak fraction', 'PEP',\n",
       "       'MS/MS count', 'MS/MS scan number', 'Score', 'Delta score',\n",
       "       'Combinatorics', 'Intensity', 'Reporter intensity corrected 1',\n",
       "       'Reporter intensity corrected 2', 'Reporter intensity corrected 3',\n",
       "       'Reporter intensity corrected 4', 'Reporter intensity corrected 5',\n",
       "       'Reporter intensity corrected 6', 'Reporter intensity corrected 7',\n",
       "       'Reporter intensity corrected 8', 'Reporter intensity corrected 9',\n",
       "       'Reporter intensity corrected 10', 'Reporter intensity 1',\n",
       "       'Reporter intensity 2', 'Reporter intensity 3', 'Reporter intensity 4',\n",
       "       'Reporter intensity 5', 'Reporter intensity 6', 'Reporter intensity 7',\n",
       "       'Reporter intensity 8', 'Reporter intensity 9', 'Reporter intensity 10',\n",
       "       'Reporter intensity count 1', 'Reporter intensity count 2',\n",
       "       'Reporter intensity count 3', 'Reporter intensity count 4',\n",
       "       'Reporter intensity count 5', 'Reporter intensity count 6',\n",
       "       'Reporter intensity count 7', 'Reporter intensity count 8',\n",
       "       'Reporter intensity count 9', 'Reporter intensity count 10', 'Reverse',\n",
       "       'Potential contaminant', 'id', 'Protein group IDs', 'Peptide ID',\n",
       "       'Mod. peptide ID', 'MS/MS IDs', 'Best MS/MS', 'Oxidation (M) site IDs',\n",
       "       'Taxonomy IDs'],\n",
       "      dtype='object')"
      ]
     },
     "execution_count": 4,
     "metadata": {},
     "output_type": "execute_result"
    }
   ],
   "source": [
    "evidence.columns"
   ]
  },
  {
   "cell_type": "code",
   "execution_count": 5,
   "id": "fb79e386",
   "metadata": {
    "scrolled": false
   },
   "outputs": [
    {
     "data": {
      "text/html": [
       "<div>\n",
       "<style scoped>\n",
       "    .dataframe tbody tr th:only-of-type {\n",
       "        vertical-align: middle;\n",
       "    }\n",
       "\n",
       "    .dataframe tbody tr th {\n",
       "        vertical-align: top;\n",
       "    }\n",
       "\n",
       "    .dataframe thead th {\n",
       "        text-align: right;\n",
       "    }\n",
       "</style>\n",
       "<table border=\"1\" class=\"dataframe\">\n",
       "  <thead>\n",
       "    <tr style=\"text-align: right;\">\n",
       "      <th></th>\n",
       "      <th>Length</th>\n",
       "      <th>Acetyl (Protein N-term)</th>\n",
       "      <th>Oxidation (M)</th>\n",
       "      <th>Missed cleavages</th>\n",
       "      <th>Fraction</th>\n",
       "      <th>Experiment</th>\n",
       "      <th>MS/MS m/z</th>\n",
       "      <th>Charge</th>\n",
       "      <th>m/z</th>\n",
       "      <th>Mass</th>\n",
       "      <th>...</th>\n",
       "      <th>Reporter intensity count 6</th>\n",
       "      <th>Reporter intensity count 7</th>\n",
       "      <th>Reporter intensity count 8</th>\n",
       "      <th>Reporter intensity count 9</th>\n",
       "      <th>Reporter intensity count 10</th>\n",
       "      <th>id</th>\n",
       "      <th>Peptide ID</th>\n",
       "      <th>Mod. peptide ID</th>\n",
       "      <th>Best MS/MS</th>\n",
       "      <th>Taxonomy IDs</th>\n",
       "    </tr>\n",
       "  </thead>\n",
       "  <tbody>\n",
       "    <tr>\n",
       "      <th>count</th>\n",
       "      <td>103479.000000</td>\n",
       "      <td>103479.000000</td>\n",
       "      <td>103479.000000</td>\n",
       "      <td>103479.000000</td>\n",
       "      <td>103479.000000</td>\n",
       "      <td>103479.0</td>\n",
       "      <td>103479.000000</td>\n",
       "      <td>103479.000000</td>\n",
       "      <td>103479.000000</td>\n",
       "      <td>103479.000000</td>\n",
       "      <td>...</td>\n",
       "      <td>103479.000000</td>\n",
       "      <td>103479.000000</td>\n",
       "      <td>103479.000000</td>\n",
       "      <td>103479.000000</td>\n",
       "      <td>103479.000000</td>\n",
       "      <td>103479.00000</td>\n",
       "      <td>103479.000000</td>\n",
       "      <td>103479.000000</td>\n",
       "      <td>103479.000000</td>\n",
       "      <td>102868.0</td>\n",
       "    </tr>\n",
       "    <tr>\n",
       "      <th>mean</th>\n",
       "      <td>13.528242</td>\n",
       "      <td>0.019202</td>\n",
       "      <td>0.057200</td>\n",
       "      <td>0.110660</td>\n",
       "      <td>4.121116</td>\n",
       "      <td>1.0</td>\n",
       "      <td>716.593043</td>\n",
       "      <td>2.739474</td>\n",
       "      <td>562.947075</td>\n",
       "      <td>1517.353103</td>\n",
       "      <td>...</td>\n",
       "      <td>1.021202</td>\n",
       "      <td>1.021975</td>\n",
       "      <td>1.022430</td>\n",
       "      <td>1.016293</td>\n",
       "      <td>1.019444</td>\n",
       "      <td>51739.00000</td>\n",
       "      <td>23169.097082</td>\n",
       "      <td>24086.685627</td>\n",
       "      <td>54374.214749</td>\n",
       "      <td>9606.0</td>\n",
       "    </tr>\n",
       "    <tr>\n",
       "      <th>std</th>\n",
       "      <td>5.629131</td>\n",
       "      <td>0.137235</td>\n",
       "      <td>0.238467</td>\n",
       "      <td>0.332321</td>\n",
       "      <td>1.849471</td>\n",
       "      <td>0.0</td>\n",
       "      <td>191.897488</td>\n",
       "      <td>0.651233</td>\n",
       "      <td>192.640500</td>\n",
       "      <td>603.112929</td>\n",
       "      <td>...</td>\n",
       "      <td>0.406388</td>\n",
       "      <td>0.405871</td>\n",
       "      <td>0.405667</td>\n",
       "      <td>0.407848</td>\n",
       "      <td>0.406166</td>\n",
       "      <td>29871.95859</td>\n",
       "      <td>13471.188256</td>\n",
       "      <td>14063.205794</td>\n",
       "      <td>31400.611870</td>\n",
       "      <td>0.0</td>\n",
       "    </tr>\n",
       "    <tr>\n",
       "      <th>min</th>\n",
       "      <td>7.000000</td>\n",
       "      <td>0.000000</td>\n",
       "      <td>0.000000</td>\n",
       "      <td>0.000000</td>\n",
       "      <td>1.000000</td>\n",
       "      <td>1.0</td>\n",
       "      <td>375.205170</td>\n",
       "      <td>1.000000</td>\n",
       "      <td>202.118618</td>\n",
       "      <td>573.287074</td>\n",
       "      <td>...</td>\n",
       "      <td>0.000000</td>\n",
       "      <td>0.000000</td>\n",
       "      <td>0.000000</td>\n",
       "      <td>0.000000</td>\n",
       "      <td>0.000000</td>\n",
       "      <td>0.00000</td>\n",
       "      <td>0.000000</td>\n",
       "      <td>0.000000</td>\n",
       "      <td>0.000000</td>\n",
       "      <td>9606.0</td>\n",
       "    </tr>\n",
       "    <tr>\n",
       "      <th>25%</th>\n",
       "      <td>9.000000</td>\n",
       "      <td>0.000000</td>\n",
       "      <td>0.000000</td>\n",
       "      <td>0.000000</td>\n",
       "      <td>3.000000</td>\n",
       "      <td>1.0</td>\n",
       "      <td>575.967377</td>\n",
       "      <td>2.000000</td>\n",
       "      <td>421.226354</td>\n",
       "      <td>1060.504540</td>\n",
       "      <td>...</td>\n",
       "      <td>1.000000</td>\n",
       "      <td>1.000000</td>\n",
       "      <td>1.000000</td>\n",
       "      <td>1.000000</td>\n",
       "      <td>1.000000</td>\n",
       "      <td>25869.50000</td>\n",
       "      <td>11527.500000</td>\n",
       "      <td>11927.500000</td>\n",
       "      <td>27160.500000</td>\n",
       "      <td>9606.0</td>\n",
       "    </tr>\n",
       "    <tr>\n",
       "      <th>50%</th>\n",
       "      <td>12.000000</td>\n",
       "      <td>0.000000</td>\n",
       "      <td>0.000000</td>\n",
       "      <td>0.000000</td>\n",
       "      <td>4.000000</td>\n",
       "      <td>1.0</td>\n",
       "      <td>689.926086</td>\n",
       "      <td>3.000000</td>\n",
       "      <td>530.785296</td>\n",
       "      <td>1364.682360</td>\n",
       "      <td>...</td>\n",
       "      <td>1.000000</td>\n",
       "      <td>1.000000</td>\n",
       "      <td>1.000000</td>\n",
       "      <td>1.000000</td>\n",
       "      <td>1.000000</td>\n",
       "      <td>51739.00000</td>\n",
       "      <td>23164.000000</td>\n",
       "      <td>23996.000000</td>\n",
       "      <td>54267.000000</td>\n",
       "      <td>9606.0</td>\n",
       "    </tr>\n",
       "    <tr>\n",
       "      <th>75%</th>\n",
       "      <td>16.000000</td>\n",
       "      <td>0.000000</td>\n",
       "      <td>0.000000</td>\n",
       "      <td>0.000000</td>\n",
       "      <td>6.000000</td>\n",
       "      <td>1.0</td>\n",
       "      <td>827.067291</td>\n",
       "      <td>3.000000</td>\n",
       "      <td>672.938369</td>\n",
       "      <td>1829.996345</td>\n",
       "      <td>...</td>\n",
       "      <td>1.000000</td>\n",
       "      <td>1.000000</td>\n",
       "      <td>1.000000</td>\n",
       "      <td>1.000000</td>\n",
       "      <td>1.000000</td>\n",
       "      <td>77608.50000</td>\n",
       "      <td>34913.000000</td>\n",
       "      <td>36397.000000</td>\n",
       "      <td>81569.500000</td>\n",
       "      <td>9606.0</td>\n",
       "    </tr>\n",
       "    <tr>\n",
       "      <th>max</th>\n",
       "      <td>51.000000</td>\n",
       "      <td>1.000000</td>\n",
       "      <td>3.000000</td>\n",
       "      <td>2.000000</td>\n",
       "      <td>7.000000</td>\n",
       "      <td>1.0</td>\n",
       "      <td>1495.714722</td>\n",
       "      <td>7.000000</td>\n",
       "      <td>1446.724350</td>\n",
       "      <td>4456.189030</td>\n",
       "      <td>...</td>\n",
       "      <td>17.000000</td>\n",
       "      <td>17.000000</td>\n",
       "      <td>17.000000</td>\n",
       "      <td>17.000000</td>\n",
       "      <td>17.000000</td>\n",
       "      <td>103478.00000</td>\n",
       "      <td>46462.000000</td>\n",
       "      <td>48432.000000</td>\n",
       "      <td>108930.000000</td>\n",
       "      <td>9606.0</td>\n",
       "    </tr>\n",
       "  </tbody>\n",
       "</table>\n",
       "<p>8 rows × 75 columns</p>\n",
       "</div>"
      ],
      "text/plain": [
       "              Length  Acetyl (Protein N-term)  Oxidation (M)  \\\n",
       "count  103479.000000            103479.000000  103479.000000   \n",
       "mean       13.528242                 0.019202       0.057200   \n",
       "std         5.629131                 0.137235       0.238467   \n",
       "min         7.000000                 0.000000       0.000000   \n",
       "25%         9.000000                 0.000000       0.000000   \n",
       "50%        12.000000                 0.000000       0.000000   \n",
       "75%        16.000000                 0.000000       0.000000   \n",
       "max        51.000000                 1.000000       3.000000   \n",
       "\n",
       "       Missed cleavages       Fraction  Experiment      MS/MS m/z  \\\n",
       "count     103479.000000  103479.000000    103479.0  103479.000000   \n",
       "mean           0.110660       4.121116         1.0     716.593043   \n",
       "std            0.332321       1.849471         0.0     191.897488   \n",
       "min            0.000000       1.000000         1.0     375.205170   \n",
       "25%            0.000000       3.000000         1.0     575.967377   \n",
       "50%            0.000000       4.000000         1.0     689.926086   \n",
       "75%            0.000000       6.000000         1.0     827.067291   \n",
       "max            2.000000       7.000000         1.0    1495.714722   \n",
       "\n",
       "              Charge            m/z           Mass  ...  \\\n",
       "count  103479.000000  103479.000000  103479.000000  ...   \n",
       "mean        2.739474     562.947075    1517.353103  ...   \n",
       "std         0.651233     192.640500     603.112929  ...   \n",
       "min         1.000000     202.118618     573.287074  ...   \n",
       "25%         2.000000     421.226354    1060.504540  ...   \n",
       "50%         3.000000     530.785296    1364.682360  ...   \n",
       "75%         3.000000     672.938369    1829.996345  ...   \n",
       "max         7.000000    1446.724350    4456.189030  ...   \n",
       "\n",
       "       Reporter intensity count 6  Reporter intensity count 7  \\\n",
       "count               103479.000000               103479.000000   \n",
       "mean                     1.021202                    1.021975   \n",
       "std                      0.406388                    0.405871   \n",
       "min                      0.000000                    0.000000   \n",
       "25%                      1.000000                    1.000000   \n",
       "50%                      1.000000                    1.000000   \n",
       "75%                      1.000000                    1.000000   \n",
       "max                     17.000000                   17.000000   \n",
       "\n",
       "       Reporter intensity count 8  Reporter intensity count 9  \\\n",
       "count               103479.000000               103479.000000   \n",
       "mean                     1.022430                    1.016293   \n",
       "std                      0.405667                    0.407848   \n",
       "min                      0.000000                    0.000000   \n",
       "25%                      1.000000                    1.000000   \n",
       "50%                      1.000000                    1.000000   \n",
       "75%                      1.000000                    1.000000   \n",
       "max                     17.000000                   17.000000   \n",
       "\n",
       "       Reporter intensity count 10            id     Peptide ID  \\\n",
       "count                103479.000000  103479.00000  103479.000000   \n",
       "mean                      1.019444   51739.00000   23169.097082   \n",
       "std                       0.406166   29871.95859   13471.188256   \n",
       "min                       0.000000       0.00000       0.000000   \n",
       "25%                       1.000000   25869.50000   11527.500000   \n",
       "50%                       1.000000   51739.00000   23164.000000   \n",
       "75%                       1.000000   77608.50000   34913.000000   \n",
       "max                      17.000000  103478.00000   46462.000000   \n",
       "\n",
       "       Mod. peptide ID     Best MS/MS  Taxonomy IDs  \n",
       "count    103479.000000  103479.000000      102868.0  \n",
       "mean      24086.685627   54374.214749        9606.0  \n",
       "std       14063.205794   31400.611870           0.0  \n",
       "min           0.000000       0.000000        9606.0  \n",
       "25%       11927.500000   27160.500000        9606.0  \n",
       "50%       23996.000000   54267.000000        9606.0  \n",
       "75%       36397.000000   81569.500000        9606.0  \n",
       "max       48432.000000  108930.000000        9606.0  \n",
       "\n",
       "[8 rows x 75 columns]"
      ]
     },
     "execution_count": 5,
     "metadata": {},
     "output_type": "execute_result"
    }
   ],
   "source": [
    "# get summary statistics\n",
    "evidence.describe()"
   ]
  },
  {
   "cell_type": "markdown",
   "id": "4caaf0fc",
   "metadata": {},
   "source": [
    "#### Verification: check number of proteins (unique rows) and peptides"
   ]
  },
  {
   "cell_type": "code",
   "execution_count": 6,
   "id": "110b2fb4",
   "metadata": {},
   "outputs": [
    {
     "data": {
      "text/plain": [
       "count     103335\n",
       "unique      6906\n",
       "top       Q09666\n",
       "freq         827\n",
       "Name: Proteins, dtype: object"
      ]
     },
     "execution_count": 6,
     "metadata": {},
     "output_type": "execute_result"
    }
   ],
   "source": [
    "evidence['Proteins'].describe()"
   ]
  },
  {
   "cell_type": "code",
   "execution_count": 7,
   "id": "d0ce3d70",
   "metadata": {},
   "outputs": [
    {
     "data": {
      "text/plain": [
       "count                      103479\n",
       "unique                      46421\n",
       "top       LCYVALDFEQEMATAASSSSLEK\n",
       "freq                          124\n",
       "Name: Sequence, dtype: object"
      ]
     },
     "execution_count": 7,
     "metadata": {},
     "output_type": "execute_result"
    }
   ],
   "source": [
    "evidence['Sequence'].describe()"
   ]
  },
  {
   "cell_type": "code",
   "execution_count": 8,
   "id": "f7ab8e53",
   "metadata": {},
   "outputs": [
    {
     "name": "stdout",
     "output_type": "stream",
     "text": [
      "144\n"
     ]
    }
   ],
   "source": [
    "# there are more sequences than Proteins - maybe there are some missing proteins? Check for this\n",
    "print(evidence['Proteins'].isnull().sum()) # after a manual check these seem to be all reverse sequences"
   ]
  },
  {
   "cell_type": "code",
   "execution_count": 9,
   "id": "1fd944aa",
   "metadata": {},
   "outputs": [
    {
     "data": {
      "text/plain": [
       "count    103479.000000\n",
       "mean          0.110660\n",
       "std           0.332321\n",
       "min           0.000000\n",
       "25%           0.000000\n",
       "50%           0.000000\n",
       "75%           0.000000\n",
       "max           2.000000\n",
       "Name: Missed cleavages, dtype: float64"
      ]
     },
     "execution_count": 9,
     "metadata": {},
     "output_type": "execute_result"
    }
   ],
   "source": [
    "# check missed cleavages\n",
    "evidence['Missed cleavages'].describe(include=['category'])"
   ]
  },
  {
   "cell_type": "markdown",
   "id": "8f31a062",
   "metadata": {},
   "source": [
    "### 2. Clean dataset"
   ]
  },
  {
   "cell_type": "markdown",
   "id": "c23261ab",
   "metadata": {},
   "source": [
    "#### Remove contaminants, 'reverse' sequences and empty protein IDs"
   ]
  },
  {
   "cell_type": "code",
   "execution_count": 10,
   "id": "f1b1b6ab",
   "metadata": {},
   "outputs": [
    {
     "name": "stdout",
     "output_type": "stream",
     "text": [
      "2731\n"
     ]
    }
   ],
   "source": [
    "# check number of contaminant peptides\n",
    "print(len(evidence.loc[evidence['Potential contaminant'] == '+']))"
   ]
  },
  {
   "cell_type": "code",
   "execution_count": 11,
   "id": "e4764337",
   "metadata": {},
   "outputs": [
    {
     "data": {
      "text/plain": [
       "(100748, 92)"
      ]
     },
     "execution_count": 11,
     "metadata": {},
     "output_type": "execute_result"
    }
   ],
   "source": [
    "# remove contaminant peptides\n",
    "evidence_cleaned = evidence.loc[evidence['Potential contaminant'] != '+']\n",
    "evidence_cleaned.shape"
   ]
  },
  {
   "cell_type": "code",
   "execution_count": 12,
   "id": "03fda628",
   "metadata": {},
   "outputs": [
    {
     "name": "stdout",
     "output_type": "stream",
     "text": [
      "0\n"
     ]
    }
   ],
   "source": [
    "# check number of contaminant peptides after removing\n",
    "print(len(evidence_cleaned.loc[evidence_cleaned['Potential contaminant'] == '+']))"
   ]
  },
  {
   "cell_type": "code",
   "execution_count": 13,
   "id": "831ab81f",
   "metadata": {},
   "outputs": [
    {
     "name": "stdout",
     "output_type": "stream",
     "text": [
      "144\n"
     ]
    }
   ],
   "source": [
    "# check number of 'reverse' sequences before removing contaminants\n",
    "print(len(evidence.loc[evidence['Reverse'] == '+']))"
   ]
  },
  {
   "cell_type": "code",
   "execution_count": 14,
   "id": "60610933",
   "metadata": {},
   "outputs": [
    {
     "name": "stdout",
     "output_type": "stream",
     "text": [
      "138\n"
     ]
    }
   ],
   "source": [
    "# check number of 'reverse' sequences after removing contaminants\n",
    "print(len(evidence_cleaned.loc[evidence_cleaned['Reverse'] == '+']))"
   ]
  },
  {
   "cell_type": "code",
   "execution_count": 15,
   "id": "246c44b5",
   "metadata": {
    "scrolled": true
   },
   "outputs": [
    {
     "data": {
      "text/plain": [
       "(100610, 92)"
      ]
     },
     "execution_count": 15,
     "metadata": {},
     "output_type": "execute_result"
    }
   ],
   "source": [
    "# remove 'reverse' sequences\n",
    "evidence_cleaned = evidence_cleaned.loc[evidence_cleaned['Reverse'] != '+']\n",
    "evidence_cleaned.shape"
   ]
  },
  {
   "cell_type": "code",
   "execution_count": 16,
   "id": "e5fe6ec7",
   "metadata": {},
   "outputs": [
    {
     "name": "stdout",
     "output_type": "stream",
     "text": [
      "0\n"
     ]
    }
   ],
   "source": [
    "# check number of 'reverse' sequences after removing them\n",
    "print(len(evidence_cleaned.loc[evidence_cleaned['Reverse'] == '+']))"
   ]
  },
  {
   "cell_type": "code",
   "execution_count": 17,
   "id": "f1548807",
   "metadata": {},
   "outputs": [
    {
     "data": {
      "text/plain": [
       "count     100610\n",
       "unique      5709\n",
       "top       Q09666\n",
       "freq         837\n",
       "Name: Leading razor protein, dtype: object"
      ]
     },
     "execution_count": 17,
     "metadata": {},
     "output_type": "execute_result"
    }
   ],
   "source": [
    "# check for number of proteins\n",
    "evidence_cleaned['Leading razor protein'].describe()"
   ]
  },
  {
   "cell_type": "code",
   "execution_count": 18,
   "id": "4840b097",
   "metadata": {
    "scrolled": true
   },
   "outputs": [
    {
     "data": {
      "text/plain": [
       "count                      100610\n",
       "unique                      45362\n",
       "top       LCYVALDFEQEMATAASSSSLEK\n",
       "freq                          124\n",
       "Name: Sequence, dtype: object"
      ]
     },
     "execution_count": 18,
     "metadata": {},
     "output_type": "execute_result"
    }
   ],
   "source": [
    "# check for number of peptides\n",
    "evidence_cleaned['Sequence'].describe()"
   ]
  },
  {
   "cell_type": "markdown",
   "id": "bab3fddf",
   "metadata": {},
   "source": [
    "#### Keep only peptides with 0 missed cleavages."
   ]
  },
  {
   "cell_type": "code",
   "execution_count": 19,
   "id": "d67bbbb2",
   "metadata": {},
   "outputs": [
    {
     "name": "stdout",
     "output_type": "stream",
     "text": [
      "90134\n"
     ]
    }
   ],
   "source": [
    "# check number of 0 missed cleavages\n",
    "print(len(evidence_cleaned.loc[evidence_cleaned['Missed cleavages'] == 0]))"
   ]
  },
  {
   "cell_type": "code",
   "execution_count": 20,
   "id": "09385334",
   "metadata": {},
   "outputs": [
    {
     "name": "stdout",
     "output_type": "stream",
     "text": [
      "9873\n"
     ]
    }
   ],
   "source": [
    "# check number of 1 missed cleavages\n",
    "print(len(evidence_cleaned.loc[evidence_cleaned['Missed cleavages'] == 1]))"
   ]
  },
  {
   "cell_type": "code",
   "execution_count": 21,
   "id": "95b6ffdb",
   "metadata": {},
   "outputs": [
    {
     "name": "stdout",
     "output_type": "stream",
     "text": [
      "603\n"
     ]
    }
   ],
   "source": [
    "# check number of 2 missed cleavages\n",
    "print(len(evidence_cleaned.loc[evidence_cleaned['Missed cleavages'] == 2]))"
   ]
  },
  {
   "cell_type": "code",
   "execution_count": 22,
   "id": "7accb24c",
   "metadata": {},
   "outputs": [
    {
     "name": "stdout",
     "output_type": "stream",
     "text": [
      "0\n"
     ]
    }
   ],
   "source": [
    "# check number of 3 missed cleavages (should be 0)\n",
    "print(len(evidence.loc[evidence['Missed cleavages'] == 3]))"
   ]
  },
  {
   "cell_type": "code",
   "execution_count": 23,
   "id": "1b4d79e9",
   "metadata": {},
   "outputs": [],
   "source": [
    "# keep only peptides with 0 missed cleavages\n",
    "evidence_cleaned = evidence_cleaned.loc[(evidence_cleaned['Missed cleavages'] == 0)]"
   ]
  },
  {
   "cell_type": "code",
   "execution_count": 24,
   "id": "4e40f5b9",
   "metadata": {},
   "outputs": [
    {
     "data": {
      "text/plain": [
       "count    90134.0\n",
       "mean         0.0\n",
       "std          0.0\n",
       "min          0.0\n",
       "25%          0.0\n",
       "50%          0.0\n",
       "75%          0.0\n",
       "max          0.0\n",
       "Name: Missed cleavages, dtype: float64"
      ]
     },
     "execution_count": 24,
     "metadata": {},
     "output_type": "execute_result"
    }
   ],
   "source": [
    "# check for any missed cleavages\n",
    "evidence_cleaned['Missed cleavages'].describe()"
   ]
  },
  {
   "cell_type": "code",
   "execution_count": 25,
   "id": "b0a7253b",
   "metadata": {},
   "outputs": [
    {
     "name": "stdout",
     "output_type": "stream",
     "text": [
      "0\n"
     ]
    }
   ],
   "source": [
    "# check number of missed cleavages after removing them\n",
    "print(len(evidence_cleaned.loc[evidence_cleaned['Missed cleavages'] != 0]))"
   ]
  },
  {
   "cell_type": "code",
   "execution_count": 26,
   "id": "27dfd9e4",
   "metadata": {},
   "outputs": [
    {
     "data": {
      "text/plain": [
       "(90134, 92)"
      ]
     },
     "execution_count": 26,
     "metadata": {},
     "output_type": "execute_result"
    }
   ],
   "source": [
    "evidence_cleaned.shape"
   ]
  },
  {
   "cell_type": "markdown",
   "id": "70dd5544",
   "metadata": {},
   "source": [
    "#### Verification: check total number of missing values for each feature to determine any further rows for removal"
   ]
  },
  {
   "cell_type": "code",
   "execution_count": 27,
   "id": "653278dd",
   "metadata": {
    "scrolled": true
   },
   "outputs": [
    {
     "name": "stdout",
     "output_type": "stream",
     "text": [
      "Sequence                           0\n",
      "Length                             0\n",
      "Modifications                      0\n",
      "Modified sequence                  0\n",
      "Oxidation (M) Probabilities    84999\n",
      "                               ...  \n",
      "Mod. peptide ID                    0\n",
      "MS/MS IDs                          0\n",
      "Best MS/MS                         0\n",
      "Oxidation (M) site IDs         85029\n",
      "Taxonomy IDs                       0\n",
      "Length: 92, dtype: int64\n"
     ]
    }
   ],
   "source": [
    "print(evidence_cleaned.isnull().sum())\n",
    "# No missing proteins or sequences, so no need to remove any further rows. Features that do have missing data are expected."
   ]
  },
  {
   "cell_type": "markdown",
   "id": "b8766b61",
   "metadata": {},
   "source": [
    "#### Verification: check for any potential co-eluting contaminants and reverse sequences in 'Proteins' and 'leading razor protein' columns"
   ]
  },
  {
   "cell_type": "code",
   "execution_count": 28,
   "id": "2d039625",
   "metadata": {},
   "outputs": [
    {
     "data": {
      "text/plain": [
       "87"
      ]
     },
     "execution_count": 28,
     "metadata": {},
     "output_type": "execute_result"
    }
   ],
   "source": [
    "# check for any potential co-eluting contaminants in 'Proteins' column\n",
    "len(evidence_cleaned[evidence_cleaned['Proteins'].str.contains(\"CON__\", na=False)])"
   ]
  },
  {
   "cell_type": "code",
   "execution_count": 29,
   "id": "19b5d799",
   "metadata": {},
   "outputs": [
    {
     "data": {
      "text/plain": [
       "(90047, 92)"
      ]
     },
     "execution_count": 29,
     "metadata": {},
     "output_type": "execute_result"
    }
   ],
   "source": [
    "# remove potential co-eluting contaminants in 'Proteins' column\n",
    "evidence_cleaned = evidence_cleaned[~evidence_cleaned['Proteins'].str.contains(\"CON__\", na=False)]\n",
    "evidence_cleaned.shape"
   ]
  },
  {
   "cell_type": "code",
   "execution_count": 30,
   "id": "76f6ca71",
   "metadata": {},
   "outputs": [
    {
     "data": {
      "text/plain": [
       "0"
      ]
     },
     "execution_count": 30,
     "metadata": {},
     "output_type": "execute_result"
    }
   ],
   "source": [
    "# verify all contaminants have been removed in 'Proteins' column\n",
    "len(evidence_cleaned[evidence_cleaned[\"Proteins\"].str.contains(\"CON__\")])"
   ]
  },
  {
   "cell_type": "code",
   "execution_count": 31,
   "id": "c6540196",
   "metadata": {},
   "outputs": [
    {
     "data": {
      "text/plain": [
       "0"
      ]
     },
     "execution_count": 31,
     "metadata": {},
     "output_type": "execute_result"
    }
   ],
   "source": [
    "# check for any potential co-eluting contaminants in 'Leading razor protein' column\n",
    "len(evidence_cleaned[evidence_cleaned['Leading razor protein'].str.contains(\"CON__\", na=False)])"
   ]
  },
  {
   "cell_type": "code",
   "execution_count": 32,
   "id": "d45aaaed",
   "metadata": {},
   "outputs": [
    {
     "data": {
      "text/plain": [
       "0"
      ]
     },
     "execution_count": 32,
     "metadata": {},
     "output_type": "execute_result"
    }
   ],
   "source": [
    "# check for any potential co-eluting reverse sequences in 'Proteins' column\n",
    "len(evidence_cleaned[evidence_cleaned['Proteins'].str.contains(\"REV__\", na=False)])"
   ]
  },
  {
   "cell_type": "code",
   "execution_count": 33,
   "id": "c30bfdac",
   "metadata": {
    "scrolled": true
   },
   "outputs": [
    {
     "data": {
      "text/plain": [
       "0"
      ]
     },
     "execution_count": 33,
     "metadata": {},
     "output_type": "execute_result"
    }
   ],
   "source": [
    "# check for any potential co-eluting reverse sequences in 'Leading razor protein' column\n",
    "len(evidence_cleaned[evidence_cleaned['Leading razor protein'].str.contains(\"REV__\", na=False)])"
   ]
  },
  {
   "cell_type": "code",
   "execution_count": 34,
   "id": "73fb94d0",
   "metadata": {},
   "outputs": [
    {
     "data": {
      "text/plain": [
       "(90047, 92)"
      ]
     },
     "execution_count": 34,
     "metadata": {},
     "output_type": "execute_result"
    }
   ],
   "source": [
    "evidence_cleaned.shape"
   ]
  },
  {
   "cell_type": "code",
   "execution_count": 35,
   "id": "d5ced6a0",
   "metadata": {},
   "outputs": [
    {
     "data": {
      "text/plain": [
       "6665"
      ]
     },
     "execution_count": 35,
     "metadata": {},
     "output_type": "execute_result"
    }
   ],
   "source": [
    "# check how many identified peptides map to more than one protein (i.e. ambiguous protein groups)\n",
    "len(evidence_cleaned[evidence_cleaned['Proteins'].str.contains(\";\")])"
   ]
  },
  {
   "cell_type": "code",
   "execution_count": 36,
   "id": "ff0bc983",
   "metadata": {},
   "outputs": [
    {
     "data": {
      "text/plain": [
       "(83382, 92)"
      ]
     },
     "execution_count": 36,
     "metadata": {},
     "output_type": "execute_result"
    }
   ],
   "source": [
    "# keep only rows that don't contain multiple proteins in \"Proteins\" column\n",
    "evidence_cleaned = evidence_cleaned[~evidence_cleaned['Proteins'].str.contains(\";\", na=False)]\n",
    "evidence_cleaned.shape"
   ]
  },
  {
   "cell_type": "code",
   "execution_count": 37,
   "id": "3faf92a9",
   "metadata": {},
   "outputs": [
    {
     "data": {
      "text/plain": [
       "0"
      ]
     },
     "execution_count": 37,
     "metadata": {},
     "output_type": "execute_result"
    }
   ],
   "source": [
    "# verify these protein groups were removed\n",
    "len(evidence_cleaned[evidence_cleaned['Proteins'].str.contains(\";\")])"
   ]
  },
  {
   "cell_type": "code",
   "execution_count": 38,
   "id": "7a95a4d6",
   "metadata": {},
   "outputs": [],
   "source": [
    "# export cleaned dataset as TSV\n",
    "evidence_cleaned.to_csv(\"../data/evidence_cleaned.tsv\", sep='\\t', index=False)"
   ]
  },
  {
   "cell_type": "markdown",
   "id": "645a94ee",
   "metadata": {},
   "source": [
    "### 3. Reformat dataset columns for ML training"
   ]
  },
  {
   "cell_type": "code",
   "execution_count": 39,
   "id": "97c2657d",
   "metadata": {
    "scrolled": true
   },
   "outputs": [
    {
     "data": {
      "text/html": [
       "<div>\n",
       "<style scoped>\n",
       "    .dataframe tbody tr th:only-of-type {\n",
       "        vertical-align: middle;\n",
       "    }\n",
       "\n",
       "    .dataframe tbody tr th {\n",
       "        vertical-align: top;\n",
       "    }\n",
       "\n",
       "    .dataframe thead th {\n",
       "        text-align: right;\n",
       "    }\n",
       "</style>\n",
       "<table border=\"1\" class=\"dataframe\">\n",
       "  <thead>\n",
       "    <tr style=\"text-align: right;\">\n",
       "      <th></th>\n",
       "      <th>Proteins</th>\n",
       "      <th>Sequence</th>\n",
       "      <th>PEP</th>\n",
       "    </tr>\n",
       "  </thead>\n",
       "  <tbody>\n",
       "    <tr>\n",
       "      <th>0</th>\n",
       "      <td>Q96JP5</td>\n",
       "      <td>AAAAAAAAAVSR</td>\n",
       "      <td>1.018400e-03</td>\n",
       "    </tr>\n",
       "    <tr>\n",
       "      <th>1</th>\n",
       "      <td>Q9NQS7</td>\n",
       "      <td>AAAAAAAATMALAAPSSPTPESPTMLTK</td>\n",
       "      <td>1.095700e-06</td>\n",
       "    </tr>\n",
       "    <tr>\n",
       "      <th>2</th>\n",
       "      <td>O75822</td>\n",
       "      <td>AAAAAAAGDSDSWDADAFSVEDPVR</td>\n",
       "      <td>1.015900e-11</td>\n",
       "    </tr>\n",
       "    <tr>\n",
       "      <th>3</th>\n",
       "      <td>O75822</td>\n",
       "      <td>AAAAAAAGDSDSWDADAFSVEDPVR</td>\n",
       "      <td>3.576300e-46</td>\n",
       "    </tr>\n",
       "    <tr>\n",
       "      <th>7</th>\n",
       "      <td>P36578</td>\n",
       "      <td>AAAAAAALQAK</td>\n",
       "      <td>3.165400e-03</td>\n",
       "    </tr>\n",
       "  </tbody>\n",
       "</table>\n",
       "</div>"
      ],
      "text/plain": [
       "  Proteins                      Sequence           PEP\n",
       "0   Q96JP5                  AAAAAAAAAVSR  1.018400e-03\n",
       "1   Q9NQS7  AAAAAAAATMALAAPSSPTPESPTMLTK  1.095700e-06\n",
       "2   O75822     AAAAAAAGDSDSWDADAFSVEDPVR  1.015900e-11\n",
       "3   O75822     AAAAAAAGDSDSWDADAFSVEDPVR  3.576300e-46\n",
       "7   P36578                   AAAAAAALQAK  3.165400e-03"
      ]
     },
     "execution_count": 39,
     "metadata": {},
     "output_type": "execute_result"
    }
   ],
   "source": [
    "# extract protein and peptide sequence from evidence_cleaned\n",
    "# make the \"leading razor groups\" column as the protein column\n",
    "detected_peptides = evidence_cleaned[['Proteins', 'Sequence', 'PEP']]\n",
    "detected_peptides.head()"
   ]
  },
  {
   "cell_type": "markdown",
   "id": "88219134",
   "metadata": {},
   "source": [
    "#### Verification: final check on dimensions after formatting, and if expected number of proteins and peptides are present"
   ]
  },
  {
   "cell_type": "code",
   "execution_count": 40,
   "id": "78386164",
   "metadata": {},
   "outputs": [
    {
     "data": {
      "text/plain": [
       "(83382, 3)"
      ]
     },
     "execution_count": 40,
     "metadata": {},
     "output_type": "execute_result"
    }
   ],
   "source": [
    "# check dimensions\n",
    "detected_peptides.shape"
   ]
  },
  {
   "cell_type": "code",
   "execution_count": 41,
   "id": "cd457ddc",
   "metadata": {},
   "outputs": [
    {
     "data": {
      "text/html": [
       "<div>\n",
       "<style scoped>\n",
       "    .dataframe tbody tr th:only-of-type {\n",
       "        vertical-align: middle;\n",
       "    }\n",
       "\n",
       "    .dataframe tbody tr th {\n",
       "        vertical-align: top;\n",
       "    }\n",
       "\n",
       "    .dataframe thead th {\n",
       "        text-align: right;\n",
       "    }\n",
       "</style>\n",
       "<table border=\"1\" class=\"dataframe\">\n",
       "  <thead>\n",
       "    <tr style=\"text-align: right;\">\n",
       "      <th></th>\n",
       "      <th>Protein</th>\n",
       "      <th>Peptide</th>\n",
       "      <th>PEP</th>\n",
       "    </tr>\n",
       "  </thead>\n",
       "  <tbody>\n",
       "    <tr>\n",
       "      <th>0</th>\n",
       "      <td>Q96JP5</td>\n",
       "      <td>AAAAAAAAAVSR</td>\n",
       "      <td>1.018400e-03</td>\n",
       "    </tr>\n",
       "    <tr>\n",
       "      <th>1</th>\n",
       "      <td>Q9NQS7</td>\n",
       "      <td>AAAAAAAATMALAAPSSPTPESPTMLTK</td>\n",
       "      <td>1.095700e-06</td>\n",
       "    </tr>\n",
       "    <tr>\n",
       "      <th>2</th>\n",
       "      <td>O75822</td>\n",
       "      <td>AAAAAAAGDSDSWDADAFSVEDPVR</td>\n",
       "      <td>1.015900e-11</td>\n",
       "    </tr>\n",
       "    <tr>\n",
       "      <th>3</th>\n",
       "      <td>O75822</td>\n",
       "      <td>AAAAAAAGDSDSWDADAFSVEDPVR</td>\n",
       "      <td>3.576300e-46</td>\n",
       "    </tr>\n",
       "    <tr>\n",
       "      <th>7</th>\n",
       "      <td>P36578</td>\n",
       "      <td>AAAAAAALQAK</td>\n",
       "      <td>3.165400e-03</td>\n",
       "    </tr>\n",
       "  </tbody>\n",
       "</table>\n",
       "</div>"
      ],
      "text/plain": [
       "  Protein                       Peptide           PEP\n",
       "0  Q96JP5                  AAAAAAAAAVSR  1.018400e-03\n",
       "1  Q9NQS7  AAAAAAAATMALAAPSSPTPESPTMLTK  1.095700e-06\n",
       "2  O75822     AAAAAAAGDSDSWDADAFSVEDPVR  1.015900e-11\n",
       "3  O75822     AAAAAAAGDSDSWDADAFSVEDPVR  3.576300e-46\n",
       "7  P36578                   AAAAAAALQAK  3.165400e-03"
      ]
     },
     "execution_count": 41,
     "metadata": {},
     "output_type": "execute_result"
    }
   ],
   "source": [
    "# rename columns\n",
    "detected_peptides = detected_peptides.rename(columns={\"Proteins\": \"Protein\", \"Sequence\": \"Peptide\"})\n",
    "detected_peptides.head()"
   ]
  },
  {
   "cell_type": "markdown",
   "id": "59e03d52",
   "metadata": {},
   "source": [
    "### 4. Export reformatted peptide dataset as TSV"
   ]
  },
  {
   "cell_type": "code",
   "execution_count": 42,
   "id": "96fa7f90",
   "metadata": {},
   "outputs": [],
   "source": [
    "detected_peptides.to_csv(\"../data/detected_peptides.tsv\", sep='\\t', index=False)"
   ]
  }
 ],
 "metadata": {
  "kernelspec": {
   "display_name": "Python 3",
   "language": "python",
   "name": "python3"
  },
  "language_info": {
   "codemirror_mode": {
    "name": "ipython",
    "version": 3
   },
   "file_extension": ".py",
   "mimetype": "text/x-python",
   "name": "python",
   "nbconvert_exporter": "python",
   "pygments_lexer": "ipython3",
   "version": "3.8.3"
  }
 },
 "nbformat": 4,
 "nbformat_minor": 5
}
