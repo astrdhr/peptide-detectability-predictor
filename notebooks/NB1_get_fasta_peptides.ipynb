{
 "cells": [
  {
   "cell_type": "markdown",
   "id": "f3a1e55d",
   "metadata": {},
   "source": [
    "# Get FASTA (i.e. total theoretical) peptides\n",
    "    Author: Anima Sutradhar\n",
    "    Project: Peptide detectability prediction to improve protein identification in mass spectrometry using machine learning."
   ]
  },
  {
   "cell_type": "markdown",
   "id": "6b4240f7",
   "metadata": {},
   "source": [
    "## Notebook summary:\n",
    "1. Import UniProtKB/SwissProt FASTA file (Homo sapiens proteome).\n",
    "2. Save FASTA file as TSV and reformat.\n",
    "3. Create in silico tryptic digest code.\n",
    "4. Perform in silico tryptic digest (with 0 missed cleavages) on reformatted UniProtKB/SwissProt protein sequences.\n",
    "5. Reformat digested peptide sequences.\n",
    "6. Check for total undigested proteins and remove.\n",
    "7. Export digested peptide dataset as TSV."
   ]
  },
  {
   "cell_type": "code",
   "execution_count": 1,
   "id": "5ef2628a",
   "metadata": {},
   "outputs": [],
   "source": [
    "# import libraries\n",
    "import numpy as np\n",
    "import pandas as pd\n",
    "import re\n",
    "from Bio import SeqIO\n",
    "import csv"
   ]
  },
  {
   "cell_type": "markdown",
   "id": "fccd118c",
   "metadata": {},
   "source": [
    "### 1. Import UniProtKB/SwissProt FASTA file (Homo sapiens proteome)"
   ]
  },
  {
   "cell_type": "code",
   "execution_count": 2,
   "id": "8c0fa8de",
   "metadata": {
    "scrolled": false
   },
   "outputs": [
    {
     "data": {
      "text/html": [
       "<div>\n",
       "<style scoped>\n",
       "    .dataframe tbody tr th:only-of-type {\n",
       "        vertical-align: middle;\n",
       "    }\n",
       "\n",
       "    .dataframe tbody tr th {\n",
       "        vertical-align: top;\n",
       "    }\n",
       "\n",
       "    .dataframe thead th {\n",
       "        text-align: right;\n",
       "    }\n",
       "</style>\n",
       "<table border=\"1\" class=\"dataframe\">\n",
       "  <thead>\n",
       "    <tr style=\"text-align: right;\">\n",
       "      <th></th>\n",
       "      <th>0</th>\n",
       "    </tr>\n",
       "  </thead>\n",
       "  <tbody>\n",
       "    <tr>\n",
       "      <th>0</th>\n",
       "      <td>&gt;sp|Q66K14|TBC9B_HUMAN TBC1 domain family memb...</td>\n",
       "    </tr>\n",
       "    <tr>\n",
       "      <th>1</th>\n",
       "      <td>MWLSPEEVLVANALWVTERANPFFVLQRRRGHGRGGGLTGLLVGTL...</td>\n",
       "    </tr>\n",
       "    <tr>\n",
       "      <th>2</th>\n",
       "      <td>ILHQTQDSQVYWTVACGSSRKEITKHWEWLENNLLQTLSIFDSEED...</td>\n",
       "    </tr>\n",
       "    <tr>\n",
       "      <th>3</th>\n",
       "      <td>EENKNLQPQGDEDPGKFKEAELKMRKQFGMPEGEKLVNYYSCSYWK...</td>\n",
       "    </tr>\n",
       "    <tr>\n",
       "      <th>4</th>\n",
       "      <td>HLCFYSFLLGKEVSLVVQWVDITRLEKNATLLFPESIRVDTRDQEL...</td>\n",
       "    </tr>\n",
       "  </tbody>\n",
       "</table>\n",
       "</div>"
      ],
      "text/plain": [
       "                                                   0\n",
       "0  >sp|Q66K14|TBC9B_HUMAN TBC1 domain family memb...\n",
       "1  MWLSPEEVLVANALWVTERANPFFVLQRRRGHGRGGGLTGLLVGTL...\n",
       "2  ILHQTQDSQVYWTVACGSSRKEITKHWEWLENNLLQTLSIFDSEED...\n",
       "3  EENKNLQPQGDEDPGKFKEAELKMRKQFGMPEGEKLVNYYSCSYWK...\n",
       "4  HLCFYSFLLGKEVSLVVQWVDITRLEKNATLLFPESIRVDTRDQEL..."
      ]
     },
     "execution_count": 2,
     "metadata": {},
     "output_type": "execute_result"
    }
   ],
   "source": [
    "fasta = pd.read_table('../data/uniprot-swissprot-human.fasta', header=None)\n",
    "fasta.head()"
   ]
  },
  {
   "cell_type": "code",
   "execution_count": 3,
   "id": "b4a35667",
   "metadata": {},
   "outputs": [
    {
     "data": {
      "text/plain": [
       "(219719, 1)"
      ]
     },
     "execution_count": 3,
     "metadata": {},
     "output_type": "execute_result"
    }
   ],
   "source": [
    "# check dimensions\n",
    "fasta.shape"
   ]
  },
  {
   "cell_type": "markdown",
   "id": "979a2a80",
   "metadata": {},
   "source": [
    "#### Verification: check number of protein sequences in FASTA file (using BioPython)"
   ]
  },
  {
   "cell_type": "code",
   "execution_count": 4,
   "id": "caafca03",
   "metadata": {},
   "outputs": [
    {
     "name": "stdout",
     "output_type": "stream",
     "text": [
      "Total sequences: 20380\n"
     ]
    }
   ],
   "source": [
    "records = list(SeqIO.parse('../data/uniprot-swissprot-human.fasta', 'fasta'))\n",
    "print(\"Total sequences: %i\" % len(records))"
   ]
  },
  {
   "cell_type": "markdown",
   "id": "22f88611",
   "metadata": {},
   "source": [
    "### 2. Save FASTA file as TSV and reformat"
   ]
  },
  {
   "cell_type": "code",
   "execution_count": 5,
   "id": "d5efa633",
   "metadata": {},
   "outputs": [],
   "source": [
    "with open('../data/fasta.tsv', 'w', newline='') as tsvfile:\n",
    "    writer = csv.writer(tsvfile, delimiter='\\t')\n",
    "    tsvfile.write(\"Sequence\\tFasta headers\\n\")\n",
    "    for record in SeqIO.parse(\"../data/uniprot-swissprot-human.fasta\", \"fasta\"):\n",
    "        writer.writerow([record.seq, record.id])"
   ]
  },
  {
   "cell_type": "code",
   "execution_count": 6,
   "id": "215694ec",
   "metadata": {
    "scrolled": false
   },
   "outputs": [
    {
     "data": {
      "text/html": [
       "<div>\n",
       "<style scoped>\n",
       "    .dataframe tbody tr th:only-of-type {\n",
       "        vertical-align: middle;\n",
       "    }\n",
       "\n",
       "    .dataframe tbody tr th {\n",
       "        vertical-align: top;\n",
       "    }\n",
       "\n",
       "    .dataframe thead th {\n",
       "        text-align: right;\n",
       "    }\n",
       "</style>\n",
       "<table border=\"1\" class=\"dataframe\">\n",
       "  <thead>\n",
       "    <tr style=\"text-align: right;\">\n",
       "      <th></th>\n",
       "      <th>Sequence</th>\n",
       "      <th>Fasta headers</th>\n",
       "    </tr>\n",
       "  </thead>\n",
       "  <tbody>\n",
       "    <tr>\n",
       "      <th>0</th>\n",
       "      <td>MWLSPEEVLVANALWVTERANPFFVLQRRRGHGRGGGLTGLLVGTL...</td>\n",
       "      <td>sp|Q66K14|TBC9B_HUMAN</td>\n",
       "    </tr>\n",
       "    <tr>\n",
       "      <th>1</th>\n",
       "      <td>MEFTASPKPQLSSRANAFSIAALMSSGGSKEKEATENTIKPLEQFV...</td>\n",
       "      <td>sp|Q9UMR3|TBX20_HUMAN</td>\n",
       "    </tr>\n",
       "    <tr>\n",
       "      <th>2</th>\n",
       "      <td>MAPVRRSAKWRPGGIEARGEGVSTVGYRNKNVRQKTWRPNHPQAFV...</td>\n",
       "      <td>sp|Q9P031|TAP26_HUMAN</td>\n",
       "    </tr>\n",
       "    <tr>\n",
       "      <th>3</th>\n",
       "      <td>MRECISIHVGQAGVQIGNACWELYCLEHGIQPDGQMPSDKTIGGGD...</td>\n",
       "      <td>sp|Q6PEY2|TBA3E_HUMAN</td>\n",
       "    </tr>\n",
       "    <tr>\n",
       "      <th>4</th>\n",
       "      <td>MSRPRKRLAGTSGSDKGLSGKRTKTENSGEALAKVEDSNPQKTSAT...</td>\n",
       "      <td>sp|Q9P016|THYN1_HUMAN</td>\n",
       "    </tr>\n",
       "  </tbody>\n",
       "</table>\n",
       "</div>"
      ],
      "text/plain": [
       "                                            Sequence          Fasta headers\n",
       "0  MWLSPEEVLVANALWVTERANPFFVLQRRRGHGRGGGLTGLLVGTL...  sp|Q66K14|TBC9B_HUMAN\n",
       "1  MEFTASPKPQLSSRANAFSIAALMSSGGSKEKEATENTIKPLEQFV...  sp|Q9UMR3|TBX20_HUMAN\n",
       "2  MAPVRRSAKWRPGGIEARGEGVSTVGYRNKNVRQKTWRPNHPQAFV...  sp|Q9P031|TAP26_HUMAN\n",
       "3  MRECISIHVGQAGVQIGNACWELYCLEHGIQPDGQMPSDKTIGGGD...  sp|Q6PEY2|TBA3E_HUMAN\n",
       "4  MSRPRKRLAGTSGSDKGLSGKRTKTENSGEALAKVEDSNPQKTSAT...  sp|Q9P016|THYN1_HUMAN"
      ]
     },
     "execution_count": 6,
     "metadata": {},
     "output_type": "execute_result"
    }
   ],
   "source": [
    "fasta_proteins = pd.read_table('../data/fasta.tsv')\n",
    "fasta_proteins.head()"
   ]
  },
  {
   "cell_type": "code",
   "execution_count": 7,
   "id": "411e4758",
   "metadata": {},
   "outputs": [
    {
     "data": {
      "text/plain": [
       "(20380, 2)"
      ]
     },
     "execution_count": 7,
     "metadata": {},
     "output_type": "execute_result"
    }
   ],
   "source": [
    "# verification: check dimensions before formatting\n",
    "fasta_proteins.shape"
   ]
  },
  {
   "cell_type": "code",
   "execution_count": 8,
   "id": "4c24ce22",
   "metadata": {
    "scrolled": false
   },
   "outputs": [
    {
     "data": {
      "text/html": [
       "<div>\n",
       "<style scoped>\n",
       "    .dataframe tbody tr th:only-of-type {\n",
       "        vertical-align: middle;\n",
       "    }\n",
       "\n",
       "    .dataframe tbody tr th {\n",
       "        vertical-align: top;\n",
       "    }\n",
       "\n",
       "    .dataframe thead th {\n",
       "        text-align: right;\n",
       "    }\n",
       "</style>\n",
       "<table border=\"1\" class=\"dataframe\">\n",
       "  <thead>\n",
       "    <tr style=\"text-align: right;\">\n",
       "      <th></th>\n",
       "      <th>Protein</th>\n",
       "      <th>Sequence</th>\n",
       "    </tr>\n",
       "  </thead>\n",
       "  <tbody>\n",
       "    <tr>\n",
       "      <th>0</th>\n",
       "      <td>Q66K14</td>\n",
       "      <td>MWLSPEEVLVANALWVTERANPFFVLQRRRGHGRGGGLTGLLVGTL...</td>\n",
       "    </tr>\n",
       "    <tr>\n",
       "      <th>1</th>\n",
       "      <td>Q9UMR3</td>\n",
       "      <td>MEFTASPKPQLSSRANAFSIAALMSSGGSKEKEATENTIKPLEQFV...</td>\n",
       "    </tr>\n",
       "    <tr>\n",
       "      <th>2</th>\n",
       "      <td>Q9P031</td>\n",
       "      <td>MAPVRRSAKWRPGGIEARGEGVSTVGYRNKNVRQKTWRPNHPQAFV...</td>\n",
       "    </tr>\n",
       "    <tr>\n",
       "      <th>3</th>\n",
       "      <td>Q6PEY2</td>\n",
       "      <td>MRECISIHVGQAGVQIGNACWELYCLEHGIQPDGQMPSDKTIGGGD...</td>\n",
       "    </tr>\n",
       "    <tr>\n",
       "      <th>4</th>\n",
       "      <td>Q9P016</td>\n",
       "      <td>MSRPRKRLAGTSGSDKGLSGKRTKTENSGEALAKVEDSNPQKTSAT...</td>\n",
       "    </tr>\n",
       "  </tbody>\n",
       "</table>\n",
       "</div>"
      ],
      "text/plain": [
       "  Protein                                           Sequence\n",
       "0  Q66K14  MWLSPEEVLVANALWVTERANPFFVLQRRRGHGRGGGLTGLLVGTL...\n",
       "1  Q9UMR3  MEFTASPKPQLSSRANAFSIAALMSSGGSKEKEATENTIKPLEQFV...\n",
       "2  Q9P031  MAPVRRSAKWRPGGIEARGEGVSTVGYRNKNVRQKTWRPNHPQAFV...\n",
       "3  Q6PEY2  MRECISIHVGQAGVQIGNACWELYCLEHGIQPDGQMPSDKTIGGGD...\n",
       "4  Q9P016  MSRPRKRLAGTSGSDKGLSGKRTKTENSGEALAKVEDSNPQKTSAT..."
      ]
     },
     "execution_count": 8,
     "metadata": {},
     "output_type": "execute_result"
    }
   ],
   "source": [
    "# extract protein IDs from FASTA headers, reorder columns\n",
    "fasta_proteins['Protein'] = fasta_proteins['Fasta headers'].str.split('|').str[1]\n",
    "fasta_proteins.drop(['Fasta headers'], axis=1)\n",
    "reorder_col = ['Protein', 'Sequence']\n",
    "fasta_proteins = fasta_proteins.reindex(columns=reorder_col)\n",
    "fasta_proteins.head()"
   ]
  },
  {
   "cell_type": "code",
   "execution_count": 9,
   "id": "e8435296",
   "metadata": {},
   "outputs": [
    {
     "data": {
      "text/plain": [
       "(20380, 2)"
      ]
     },
     "execution_count": 9,
     "metadata": {},
     "output_type": "execute_result"
    }
   ],
   "source": [
    "fasta_proteins.shape"
   ]
  },
  {
   "cell_type": "code",
   "execution_count": 10,
   "id": "a6b60f18",
   "metadata": {},
   "outputs": [],
   "source": [
    "fasta_proteins.to_csv(\"../data/fasta_proteins.tsv\", sep='\\t', index=False)"
   ]
  },
  {
   "cell_type": "markdown",
   "id": "5e5e6505",
   "metadata": {},
   "source": [
    "### 3. Create in silico tryptic digest code"
   ]
  },
  {
   "cell_type": "code",
   "execution_count": 11,
   "id": "d8dfadb2",
   "metadata": {},
   "outputs": [],
   "source": [
    "# This code was kindly provided by Esteban Gea on 20/04/2021. I have adapted the regex pattern to\n",
    "# perform a strict tryptic digest and moved the count variable to allow for the correct number of\n",
    "# missed cleavages. Values for 'misCleavage', 'min_peptide_length' and 'max_peptide_length' have\n",
    "# been modified to match MaxQuant settings used for this experiment.\n",
    "\n",
    "def digest(seq, returnStart):\n",
    "    \"\"\"Perform tryptic digest given a protein sequence. Returns the digested peptide sequences\n",
    "    (assuming 0 missed cleavages).\n",
    "    :param:\n",
    "        seq -- protein sequence.\n",
    "        returnStart -- return sequence position of the digested peptide: 0 for TRUE, 1 for FALSE.\n",
    "    :return: digested peptides, along with their sequence position (if specified).\n",
    "    \"\"\"\n",
    "    \n",
    "    pattern = \"(.(?:(?<![KR](?!P)).)*)\"\n",
    "    frags = list(filter(None, re.findall(pattern, seq)))\n",
    "    misCleavage = 0\n",
    "    min_peptide_length = 7\n",
    "    max_peptide_length = 51\n",
    "    peptides = []\n",
    "\n",
    "    for i in range(0, len(frags)):\n",
    "        count = 0\n",
    "        if i == 0:\n",
    "            start = 0\n",
    "        else:\n",
    "            start = len(\"\".join(frags[:i]))\n",
    "\n",
    "        if (len(frags[i]) >= min_peptide_length) & (len(frags[i]) <= max_peptide_length):\n",
    "            if returnStart:\n",
    "                peptides.append({\"sequence\": frags[i], \"start\": start})\n",
    "            else:\n",
    "                peptides.append(frags[i])\n",
    "\n",
    "        if i != len(frags) - 1:\n",
    "            for j in range(i + 1, len(frags)):\n",
    "                if count < misCleavage:\n",
    "                    count = count + 1\n",
    "                    pep = \"\".join(frags[i:j + 1])\n",
    "                    if (len(pep) >= min_peptide_length) & (len(pep) <= max_peptide_length):\n",
    "                        if returnStart:\n",
    "                            peptides.append({\"sequence\": pep, \"start\": start})\n",
    "                        else:\n",
    "                            peptides.append(pep)\n",
    "                    elif len(pep) > 40:\n",
    "                        break\n",
    "                else:\n",
    "                    break\n",
    "\n",
    "    return peptides"
   ]
  },
  {
   "cell_type": "markdown",
   "id": "a4a99832",
   "metadata": {},
   "source": [
    "#### Verification of in silico tryptic digest code"
   ]
  },
  {
   "cell_type": "code",
   "execution_count": 12,
   "id": "e7776b1c",
   "metadata": {},
   "outputs": [
    {
     "data": {
      "text/plain": [
       "['AAAAAAAAAVSR', 'SSPSARPPDVPGQQPQAAKP']"
      ]
     },
     "execution_count": 12,
     "metadata": {},
     "output_type": "execute_result"
    }
   ],
   "source": [
    "# check tryptic digest regex code works correctly (cleaves at K/R but not before P).\n",
    "# check missed cleavages in code works correctly (KKKK+ and RRRR+ in peptide sequences should not exist).\n",
    "\n",
    "digest(\"AAAAAAAAAVSRRRKAEYPRRRRRSSPSARPPDVPGQQPQAAKP\", 0)\n",
    "# expected result: total 2 sequences when miscleavage = 0"
   ]
  },
  {
   "cell_type": "markdown",
   "id": "843c651a",
   "metadata": {},
   "source": [
    "### 4. Perform in silico tryptic digest on reformatted UniProtKB/SwissProt protein sequences"
   ]
  },
  {
   "cell_type": "code",
   "execution_count": 13,
   "id": "1aa183e5",
   "metadata": {},
   "outputs": [
    {
     "data": {
      "text/html": [
       "<div>\n",
       "<style scoped>\n",
       "    .dataframe tbody tr th:only-of-type {\n",
       "        vertical-align: middle;\n",
       "    }\n",
       "\n",
       "    .dataframe tbody tr th {\n",
       "        vertical-align: top;\n",
       "    }\n",
       "\n",
       "    .dataframe thead th {\n",
       "        text-align: right;\n",
       "    }\n",
       "</style>\n",
       "<table border=\"1\" class=\"dataframe\">\n",
       "  <thead>\n",
       "    <tr style=\"text-align: right;\">\n",
       "      <th></th>\n",
       "      <th>Protein</th>\n",
       "      <th>Sequence</th>\n",
       "    </tr>\n",
       "  </thead>\n",
       "  <tbody>\n",
       "    <tr>\n",
       "      <th>0</th>\n",
       "      <td>Q66K14</td>\n",
       "      <td>MWLSPEEVLVANALWVTERANPFFVLQRRRGHGRGGGLTGLLVGTL...</td>\n",
       "    </tr>\n",
       "    <tr>\n",
       "      <th>1</th>\n",
       "      <td>Q9UMR3</td>\n",
       "      <td>MEFTASPKPQLSSRANAFSIAALMSSGGSKEKEATENTIKPLEQFV...</td>\n",
       "    </tr>\n",
       "    <tr>\n",
       "      <th>2</th>\n",
       "      <td>Q9P031</td>\n",
       "      <td>MAPVRRSAKWRPGGIEARGEGVSTVGYRNKNVRQKTWRPNHPQAFV...</td>\n",
       "    </tr>\n",
       "    <tr>\n",
       "      <th>3</th>\n",
       "      <td>Q6PEY2</td>\n",
       "      <td>MRECISIHVGQAGVQIGNACWELYCLEHGIQPDGQMPSDKTIGGGD...</td>\n",
       "    </tr>\n",
       "    <tr>\n",
       "      <th>4</th>\n",
       "      <td>Q9P016</td>\n",
       "      <td>MSRPRKRLAGTSGSDKGLSGKRTKTENSGEALAKVEDSNPQKTSAT...</td>\n",
       "    </tr>\n",
       "  </tbody>\n",
       "</table>\n",
       "</div>"
      ],
      "text/plain": [
       "  Protein                                           Sequence\n",
       "0  Q66K14  MWLSPEEVLVANALWVTERANPFFVLQRRRGHGRGGGLTGLLVGTL...\n",
       "1  Q9UMR3  MEFTASPKPQLSSRANAFSIAALMSSGGSKEKEATENTIKPLEQFV...\n",
       "2  Q9P031  MAPVRRSAKWRPGGIEARGEGVSTVGYRNKNVRQKTWRPNHPQAFV...\n",
       "3  Q6PEY2  MRECISIHVGQAGVQIGNACWELYCLEHGIQPDGQMPSDKTIGGGD...\n",
       "4  Q9P016  MSRPRKRLAGTSGSDKGLSGKRTKTENSGEALAKVEDSNPQKTSAT..."
      ]
     },
     "execution_count": 13,
     "metadata": {},
     "output_type": "execute_result"
    }
   ],
   "source": [
    "fasta_proteins = pd.read_table('../data/fasta_proteins.tsv', header=0)\n",
    "fasta_proteins.head()"
   ]
  },
  {
   "cell_type": "code",
   "execution_count": 14,
   "id": "44961278",
   "metadata": {
    "scrolled": true
   },
   "outputs": [
    {
     "data": {
      "text/html": [
       "<div>\n",
       "<style scoped>\n",
       "    .dataframe tbody tr th:only-of-type {\n",
       "        vertical-align: middle;\n",
       "    }\n",
       "\n",
       "    .dataframe tbody tr th {\n",
       "        vertical-align: top;\n",
       "    }\n",
       "\n",
       "    .dataframe thead th {\n",
       "        text-align: right;\n",
       "    }\n",
       "</style>\n",
       "<table border=\"1\" class=\"dataframe\">\n",
       "  <thead>\n",
       "    <tr style=\"text-align: right;\">\n",
       "      <th></th>\n",
       "      <th>Protein</th>\n",
       "      <th>Sequence</th>\n",
       "      <th>Peptide</th>\n",
       "    </tr>\n",
       "  </thead>\n",
       "  <tbody>\n",
       "    <tr>\n",
       "      <th>0</th>\n",
       "      <td>Q66K14</td>\n",
       "      <td>MWLSPEEVLVANALWVTERANPFFVLQRRRGHGRGGGLTGLLVGTL...</td>\n",
       "      <td>[MWLSPEEVLVANALWVTER, ANPFFVLQR, GGGLTGLLVGTLD...</td>\n",
       "    </tr>\n",
       "    <tr>\n",
       "      <th>1</th>\n",
       "      <td>Q9UMR3</td>\n",
       "      <td>MEFTASPKPQLSSRANAFSIAALMSSGGSKEKEATENTIKPLEQFV...</td>\n",
       "      <td>[MEFTASPKPQLSSR, ANAFSIAALMSSGGSK, EATENTIKPLE...</td>\n",
       "    </tr>\n",
       "    <tr>\n",
       "      <th>2</th>\n",
       "      <td>Q9P031</td>\n",
       "      <td>MAPVRRSAKWRPGGIEARGEGVSTVGYRNKNVRQKTWRPNHPQAFV...</td>\n",
       "      <td>[WRPGGIEAR, GEGVSTVGYR, TWRPNHPQAFVGSVR, EGQGF...</td>\n",
       "    </tr>\n",
       "    <tr>\n",
       "      <th>3</th>\n",
       "      <td>Q6PEY2</td>\n",
       "      <td>MRECISIHVGQAGVQIGNACWELYCLEHGIQPDGQMPSDKTIGGGD...</td>\n",
       "      <td>[ECISIHVGQAGVQIGNACWELYCLEHGIQPDGQMPSDK, TIGGG...</td>\n",
       "    </tr>\n",
       "    <tr>\n",
       "      <th>4</th>\n",
       "      <td>Q9P016</td>\n",
       "      <td>MSRPRKRLAGTSGSDKGLSGKRTKTENSGEALAKVEDSNPQKTSAT...</td>\n",
       "      <td>[LAGTSGSDK, TENSGEALAK, VEDSNPQK, NLSSHWLMK, F...</td>\n",
       "    </tr>\n",
       "  </tbody>\n",
       "</table>\n",
       "</div>"
      ],
      "text/plain": [
       "  Protein                                           Sequence  \\\n",
       "0  Q66K14  MWLSPEEVLVANALWVTERANPFFVLQRRRGHGRGGGLTGLLVGTL...   \n",
       "1  Q9UMR3  MEFTASPKPQLSSRANAFSIAALMSSGGSKEKEATENTIKPLEQFV...   \n",
       "2  Q9P031  MAPVRRSAKWRPGGIEARGEGVSTVGYRNKNVRQKTWRPNHPQAFV...   \n",
       "3  Q6PEY2  MRECISIHVGQAGVQIGNACWELYCLEHGIQPDGQMPSDKTIGGGD...   \n",
       "4  Q9P016  MSRPRKRLAGTSGSDKGLSGKRTKTENSGEALAKVEDSNPQKTSAT...   \n",
       "\n",
       "                                             Peptide  \n",
       "0  [MWLSPEEVLVANALWVTER, ANPFFVLQR, GGGLTGLLVGTLD...  \n",
       "1  [MEFTASPKPQLSSR, ANAFSIAALMSSGGSK, EATENTIKPLE...  \n",
       "2  [WRPGGIEAR, GEGVSTVGYR, TWRPNHPQAFVGSVR, EGQGF...  \n",
       "3  [ECISIHVGQAGVQIGNACWELYCLEHGIQPDGQMPSDK, TIGGG...  \n",
       "4  [LAGTSGSDK, TENSGEALAK, VEDSNPQK, NLSSHWLMK, F...  "
      ]
     },
     "execution_count": 14,
     "metadata": {},
     "output_type": "execute_result"
    }
   ],
   "source": [
    "fasta_peptides = fasta_proteins\n",
    "fasta_peptides['Peptide'] = fasta_peptides.apply(lambda row : digest(row['Sequence'], 0), axis = 1)\n",
    "fasta_peptides.head()"
   ]
  },
  {
   "cell_type": "markdown",
   "id": "4199b2cc",
   "metadata": {},
   "source": [
    "#### Verification: check if expected number of proteins are present following digest"
   ]
  },
  {
   "cell_type": "code",
   "execution_count": 15,
   "id": "f933367b",
   "metadata": {},
   "outputs": [
    {
     "data": {
      "text/plain": [
       "(20380, 3)"
      ]
     },
     "execution_count": 15,
     "metadata": {},
     "output_type": "execute_result"
    }
   ],
   "source": [
    "fasta_peptides.shape"
   ]
  },
  {
   "cell_type": "markdown",
   "id": "52257729",
   "metadata": {},
   "source": [
    "### 5. Reformat digested peptide sequences"
   ]
  },
  {
   "cell_type": "code",
   "execution_count": 16,
   "id": "a552b48b",
   "metadata": {
    "scrolled": false
   },
   "outputs": [
    {
     "data": {
      "text/html": [
       "<div>\n",
       "<style scoped>\n",
       "    .dataframe tbody tr th:only-of-type {\n",
       "        vertical-align: middle;\n",
       "    }\n",
       "\n",
       "    .dataframe tbody tr th {\n",
       "        vertical-align: top;\n",
       "    }\n",
       "\n",
       "    .dataframe thead th {\n",
       "        text-align: right;\n",
       "    }\n",
       "</style>\n",
       "<table border=\"1\" class=\"dataframe\">\n",
       "  <thead>\n",
       "    <tr style=\"text-align: right;\">\n",
       "      <th></th>\n",
       "      <th>Protein</th>\n",
       "      <th>Sequence</th>\n",
       "      <th>Peptide</th>\n",
       "    </tr>\n",
       "  </thead>\n",
       "  <tbody>\n",
       "    <tr>\n",
       "      <th>0</th>\n",
       "      <td>Q66K14</td>\n",
       "      <td>MWLSPEEVLVANALWVTERANPFFVLQRRRGHGRGGGLTGLLVGTL...</td>\n",
       "      <td>MWLSPEEVLVANALWVTER</td>\n",
       "    </tr>\n",
       "    <tr>\n",
       "      <th>0</th>\n",
       "      <td>Q66K14</td>\n",
       "      <td>MWLSPEEVLVANALWVTERANPFFVLQRRRGHGRGGGLTGLLVGTL...</td>\n",
       "      <td>ANPFFVLQR</td>\n",
       "    </tr>\n",
       "    <tr>\n",
       "      <th>0</th>\n",
       "      <td>Q66K14</td>\n",
       "      <td>MWLSPEEVLVANALWVTERANPFFVLQRRRGHGRGGGLTGLLVGTL...</td>\n",
       "      <td>GGGLTGLLVGTLDVVLDSSAR</td>\n",
       "    </tr>\n",
       "    <tr>\n",
       "      <th>0</th>\n",
       "      <td>Q66K14</td>\n",
       "      <td>MWLSPEEVLVANALWVTERANPFFVLQRRRGHGRGGGLTGLLVGTL...</td>\n",
       "      <td>ILHQTQDSQVYWTVACGSSR</td>\n",
       "    </tr>\n",
       "    <tr>\n",
       "      <th>0</th>\n",
       "      <td>Q66K14</td>\n",
       "      <td>MWLSPEEVLVANALWVTERANPFFVLQRRRGHGRGGGLTGLLVGTL...</td>\n",
       "      <td>HWEWLENNLLQTLSIFDSEEDITTFVK</td>\n",
       "    </tr>\n",
       "  </tbody>\n",
       "</table>\n",
       "</div>"
      ],
      "text/plain": [
       "  Protein                                           Sequence  \\\n",
       "0  Q66K14  MWLSPEEVLVANALWVTERANPFFVLQRRRGHGRGGGLTGLLVGTL...   \n",
       "0  Q66K14  MWLSPEEVLVANALWVTERANPFFVLQRRRGHGRGGGLTGLLVGTL...   \n",
       "0  Q66K14  MWLSPEEVLVANALWVTERANPFFVLQRRRGHGRGGGLTGLLVGTL...   \n",
       "0  Q66K14  MWLSPEEVLVANALWVTERANPFFVLQRRRGHGRGGGLTGLLVGTL...   \n",
       "0  Q66K14  MWLSPEEVLVANALWVTERANPFFVLQRRRGHGRGGGLTGLLVGTL...   \n",
       "\n",
       "                       Peptide  \n",
       "0          MWLSPEEVLVANALWVTER  \n",
       "0                    ANPFFVLQR  \n",
       "0        GGGLTGLLVGTLDVVLDSSAR  \n",
       "0         ILHQTQDSQVYWTVACGSSR  \n",
       "0  HWEWLENNLLQTLSIFDSEEDITTFVK  "
      ]
     },
     "execution_count": 16,
     "metadata": {},
     "output_type": "execute_result"
    }
   ],
   "source": [
    "# explode list contents into separate rows (one sequence per row)\n",
    "fasta_peptides = fasta_peptides.explode('Peptide')\n",
    "fasta_peptides.head()"
   ]
  },
  {
   "cell_type": "code",
   "execution_count": 17,
   "id": "dd8d88fc",
   "metadata": {},
   "outputs": [
    {
     "data": {
      "text/html": [
       "<div>\n",
       "<style scoped>\n",
       "    .dataframe tbody tr th:only-of-type {\n",
       "        vertical-align: middle;\n",
       "    }\n",
       "\n",
       "    .dataframe tbody tr th {\n",
       "        vertical-align: top;\n",
       "    }\n",
       "\n",
       "    .dataframe thead th {\n",
       "        text-align: right;\n",
       "    }\n",
       "</style>\n",
       "<table border=\"1\" class=\"dataframe\">\n",
       "  <thead>\n",
       "    <tr style=\"text-align: right;\">\n",
       "      <th></th>\n",
       "      <th>Protein</th>\n",
       "      <th>Sequence</th>\n",
       "      <th>Peptide</th>\n",
       "      <th>Length</th>\n",
       "    </tr>\n",
       "  </thead>\n",
       "  <tbody>\n",
       "    <tr>\n",
       "      <th>0</th>\n",
       "      <td>Q66K14</td>\n",
       "      <td>MWLSPEEVLVANALWVTERANPFFVLQRRRGHGRGGGLTGLLVGTL...</td>\n",
       "      <td>MWLSPEEVLVANALWVTER</td>\n",
       "      <td>1250</td>\n",
       "    </tr>\n",
       "    <tr>\n",
       "      <th>0</th>\n",
       "      <td>Q66K14</td>\n",
       "      <td>MWLSPEEVLVANALWVTERANPFFVLQRRRGHGRGGGLTGLLVGTL...</td>\n",
       "      <td>ANPFFVLQR</td>\n",
       "      <td>1250</td>\n",
       "    </tr>\n",
       "    <tr>\n",
       "      <th>0</th>\n",
       "      <td>Q66K14</td>\n",
       "      <td>MWLSPEEVLVANALWVTERANPFFVLQRRRGHGRGGGLTGLLVGTL...</td>\n",
       "      <td>GGGLTGLLVGTLDVVLDSSAR</td>\n",
       "      <td>1250</td>\n",
       "    </tr>\n",
       "    <tr>\n",
       "      <th>0</th>\n",
       "      <td>Q66K14</td>\n",
       "      <td>MWLSPEEVLVANALWVTERANPFFVLQRRRGHGRGGGLTGLLVGTL...</td>\n",
       "      <td>ILHQTQDSQVYWTVACGSSR</td>\n",
       "      <td>1250</td>\n",
       "    </tr>\n",
       "    <tr>\n",
       "      <th>0</th>\n",
       "      <td>Q66K14</td>\n",
       "      <td>MWLSPEEVLVANALWVTERANPFFVLQRRRGHGRGGGLTGLLVGTL...</td>\n",
       "      <td>HWEWLENNLLQTLSIFDSEEDITTFVK</td>\n",
       "      <td>1250</td>\n",
       "    </tr>\n",
       "    <tr>\n",
       "      <th>...</th>\n",
       "      <td>...</td>\n",
       "      <td>...</td>\n",
       "      <td>...</td>\n",
       "      <td>...</td>\n",
       "    </tr>\n",
       "    <tr>\n",
       "      <th>20379</th>\n",
       "      <td>P16234</td>\n",
       "      <td>MGTSHPAFLVLGCLLTGLSLILCQLSLPSILPNENEKVVQLNSSFS...</td>\n",
       "      <td>VDSDNAYIGVTYK</td>\n",
       "      <td>1089</td>\n",
       "    </tr>\n",
       "    <tr>\n",
       "      <th>20379</th>\n",
       "      <td>P16234</td>\n",
       "      <td>MGTSHPAFLVLGCLLTGLSLILCQLSLPSILPNENEKVVQLNSSFS...</td>\n",
       "      <td>DWEGGLDEQR</td>\n",
       "      <td>1089</td>\n",
       "    </tr>\n",
       "    <tr>\n",
       "      <th>20379</th>\n",
       "      <td>P16234</td>\n",
       "      <td>MGTSHPAFLVLGCLLTGLSLILCQLSLPSILPNENEKVVQLNSSFS...</td>\n",
       "      <td>LSADSGYIIPLPDIDPVPEEEDLGK</td>\n",
       "      <td>1089</td>\n",
       "    </tr>\n",
       "    <tr>\n",
       "      <th>20379</th>\n",
       "      <td>P16234</td>\n",
       "      <td>MGTSHPAFLVLGCLLTGLSLILCQLSLPSILPNENEKVVQLNSSFS...</td>\n",
       "      <td>HSSQTSEESAIETGSSSSTFIK</td>\n",
       "      <td>1089</td>\n",
       "    </tr>\n",
       "    <tr>\n",
       "      <th>20379</th>\n",
       "      <td>P16234</td>\n",
       "      <td>MGTSHPAFLVLGCLLTGLSLILCQLSLPSILPNENEKVVQLNSSFS...</td>\n",
       "      <td>EDETIEDIDMMDDIGIDSSDLVEDSFL</td>\n",
       "      <td>1089</td>\n",
       "    </tr>\n",
       "  </tbody>\n",
       "</table>\n",
       "<p>556288 rows × 4 columns</p>\n",
       "</div>"
      ],
      "text/plain": [
       "      Protein                                           Sequence  \\\n",
       "0      Q66K14  MWLSPEEVLVANALWVTERANPFFVLQRRRGHGRGGGLTGLLVGTL...   \n",
       "0      Q66K14  MWLSPEEVLVANALWVTERANPFFVLQRRRGHGRGGGLTGLLVGTL...   \n",
       "0      Q66K14  MWLSPEEVLVANALWVTERANPFFVLQRRRGHGRGGGLTGLLVGTL...   \n",
       "0      Q66K14  MWLSPEEVLVANALWVTERANPFFVLQRRRGHGRGGGLTGLLVGTL...   \n",
       "0      Q66K14  MWLSPEEVLVANALWVTERANPFFVLQRRRGHGRGGGLTGLLVGTL...   \n",
       "...       ...                                                ...   \n",
       "20379  P16234  MGTSHPAFLVLGCLLTGLSLILCQLSLPSILPNENEKVVQLNSSFS...   \n",
       "20379  P16234  MGTSHPAFLVLGCLLTGLSLILCQLSLPSILPNENEKVVQLNSSFS...   \n",
       "20379  P16234  MGTSHPAFLVLGCLLTGLSLILCQLSLPSILPNENEKVVQLNSSFS...   \n",
       "20379  P16234  MGTSHPAFLVLGCLLTGLSLILCQLSLPSILPNENEKVVQLNSSFS...   \n",
       "20379  P16234  MGTSHPAFLVLGCLLTGLSLILCQLSLPSILPNENEKVVQLNSSFS...   \n",
       "\n",
       "                           Peptide  Length  \n",
       "0              MWLSPEEVLVANALWVTER    1250  \n",
       "0                        ANPFFVLQR    1250  \n",
       "0            GGGLTGLLVGTLDVVLDSSAR    1250  \n",
       "0             ILHQTQDSQVYWTVACGSSR    1250  \n",
       "0      HWEWLENNLLQTLSIFDSEEDITTFVK    1250  \n",
       "...                            ...     ...  \n",
       "20379                VDSDNAYIGVTYK    1089  \n",
       "20379                   DWEGGLDEQR    1089  \n",
       "20379    LSADSGYIIPLPDIDPVPEEEDLGK    1089  \n",
       "20379       HSSQTSEESAIETGSSSSTFIK    1089  \n",
       "20379  EDETIEDIDMMDDIGIDSSDLVEDSFL    1089  \n",
       "\n",
       "[556288 rows x 4 columns]"
      ]
     },
     "execution_count": 17,
     "metadata": {},
     "output_type": "execute_result"
    }
   ],
   "source": [
    "# get sequence length for each protein, add values to a \"Length\" column\n",
    "# this is to calculate protein quantitation metrics later on\n",
    "fasta_peptides[\"Length\"] = fasta_peptides[\"Sequence\"].str.len()\n",
    "fasta_peptides"
   ]
  },
  {
   "cell_type": "code",
   "execution_count": 18,
   "id": "fb8302a1",
   "metadata": {
    "scrolled": false
   },
   "outputs": [
    {
     "data": {
      "text/html": [
       "<div>\n",
       "<style scoped>\n",
       "    .dataframe tbody tr th:only-of-type {\n",
       "        vertical-align: middle;\n",
       "    }\n",
       "\n",
       "    .dataframe tbody tr th {\n",
       "        vertical-align: top;\n",
       "    }\n",
       "\n",
       "    .dataframe thead th {\n",
       "        text-align: right;\n",
       "    }\n",
       "</style>\n",
       "<table border=\"1\" class=\"dataframe\">\n",
       "  <thead>\n",
       "    <tr style=\"text-align: right;\">\n",
       "      <th></th>\n",
       "      <th>Protein</th>\n",
       "      <th>Peptide</th>\n",
       "      <th>Length</th>\n",
       "    </tr>\n",
       "  </thead>\n",
       "  <tbody>\n",
       "    <tr>\n",
       "      <th>0</th>\n",
       "      <td>Q66K14</td>\n",
       "      <td>MWLSPEEVLVANALWVTER</td>\n",
       "      <td>1250</td>\n",
       "    </tr>\n",
       "    <tr>\n",
       "      <th>0</th>\n",
       "      <td>Q66K14</td>\n",
       "      <td>ANPFFVLQR</td>\n",
       "      <td>1250</td>\n",
       "    </tr>\n",
       "    <tr>\n",
       "      <th>0</th>\n",
       "      <td>Q66K14</td>\n",
       "      <td>GGGLTGLLVGTLDVVLDSSAR</td>\n",
       "      <td>1250</td>\n",
       "    </tr>\n",
       "    <tr>\n",
       "      <th>0</th>\n",
       "      <td>Q66K14</td>\n",
       "      <td>ILHQTQDSQVYWTVACGSSR</td>\n",
       "      <td>1250</td>\n",
       "    </tr>\n",
       "    <tr>\n",
       "      <th>0</th>\n",
       "      <td>Q66K14</td>\n",
       "      <td>HWEWLENNLLQTLSIFDSEEDITTFVK</td>\n",
       "      <td>1250</td>\n",
       "    </tr>\n",
       "  </tbody>\n",
       "</table>\n",
       "</div>"
      ],
      "text/plain": [
       "  Protein                      Peptide  Length\n",
       "0  Q66K14          MWLSPEEVLVANALWVTER    1250\n",
       "0  Q66K14                    ANPFFVLQR    1250\n",
       "0  Q66K14        GGGLTGLLVGTLDVVLDSSAR    1250\n",
       "0  Q66K14         ILHQTQDSQVYWTVACGSSR    1250\n",
       "0  Q66K14  HWEWLENNLLQTLSIFDSEEDITTFVK    1250"
      ]
     },
     "execution_count": 18,
     "metadata": {},
     "output_type": "execute_result"
    }
   ],
   "source": [
    "# remove sequence column\n",
    "fasta_peptides = fasta_peptides.drop(['Sequence'], axis=1)\n",
    "fasta_peptides.head()"
   ]
  },
  {
   "cell_type": "markdown",
   "id": "a45f5d05",
   "metadata": {},
   "source": [
    "#### Verification: check if expected number of peptides are present following reformat"
   ]
  },
  {
   "cell_type": "code",
   "execution_count": 19,
   "id": "4e860b12",
   "metadata": {},
   "outputs": [
    {
     "data": {
      "text/plain": [
       "(556288, 3)"
      ]
     },
     "execution_count": 19,
     "metadata": {},
     "output_type": "execute_result"
    }
   ],
   "source": [
    "fasta_peptides.shape"
   ]
  },
  {
   "cell_type": "markdown",
   "id": "bb65a8dc",
   "metadata": {},
   "source": [
    "#### Verification: check missed cleavages in code works correctly on FASTA sequence"
   ]
  },
  {
   "cell_type": "code",
   "execution_count": 20,
   "id": "16ce63cc",
   "metadata": {},
   "outputs": [
    {
     "data": {
      "text/plain": [
       "0"
      ]
     },
     "execution_count": 20,
     "metadata": {},
     "output_type": "execute_result"
    }
   ],
   "source": [
    "# KKKK+ should not exist in peptide sequences\n",
    "len(fasta_peptides[fasta_peptides['Peptide'].str.contains(\"KKKK\", na=False)])"
   ]
  },
  {
   "cell_type": "code",
   "execution_count": 21,
   "id": "e728ca1f",
   "metadata": {},
   "outputs": [
    {
     "data": {
      "text/plain": [
       "0"
      ]
     },
     "execution_count": 21,
     "metadata": {},
     "output_type": "execute_result"
    }
   ],
   "source": [
    "# should not allow peptides with \"KKK\"\n",
    "len(fasta_peptides[fasta_peptides['Peptide'].str.contains(\"KKK\", na=False)])"
   ]
  },
  {
   "cell_type": "code",
   "execution_count": 22,
   "id": "2375c7b7",
   "metadata": {},
   "outputs": [
    {
     "data": {
      "text/plain": [
       "0"
      ]
     },
     "execution_count": 22,
     "metadata": {},
     "output_type": "execute_result"
    }
   ],
   "source": [
    "# should not allow peptides with \"KK\"\n",
    "len(fasta_peptides[fasta_peptides['Peptide'].str.contains(\"KK\", na=False)])"
   ]
  },
  {
   "cell_type": "code",
   "execution_count": 23,
   "id": "2b185956",
   "metadata": {},
   "outputs": [
    {
     "data": {
      "text/plain": [
       "0"
      ]
     },
     "execution_count": 23,
     "metadata": {},
     "output_type": "execute_result"
    }
   ],
   "source": [
    "# RRRR+ should not exist in peptide sequences\n",
    "len(fasta_peptides[fasta_peptides['Peptide'].str.contains(\"RRRR\", na=False)])"
   ]
  },
  {
   "cell_type": "code",
   "execution_count": 24,
   "id": "52740bed",
   "metadata": {},
   "outputs": [
    {
     "data": {
      "text/plain": [
       "0"
      ]
     },
     "execution_count": 24,
     "metadata": {},
     "output_type": "execute_result"
    }
   ],
   "source": [
    "# should not allow peptides with \"RRR\"\n",
    "len(fasta_peptides[fasta_peptides['Peptide'].str.contains(\"RRR\", na=False)])"
   ]
  },
  {
   "cell_type": "markdown",
   "id": "ad8ebed8",
   "metadata": {},
   "source": [
    "### 6. Check for total undigested proteins and remove"
   ]
  },
  {
   "cell_type": "code",
   "execution_count": 25,
   "id": "e8a0e1a7",
   "metadata": {},
   "outputs": [],
   "source": [
    "# export as tsv\n",
    "fasta_peptides.to_csv(\"../data/fasta_peptides.tsv\", sep='\\t', index=False)"
   ]
  },
  {
   "cell_type": "code",
   "execution_count": 26,
   "id": "29ea1bba",
   "metadata": {},
   "outputs": [
    {
     "data": {
      "text/plain": [
       "(556288, 3)"
      ]
     },
     "execution_count": 26,
     "metadata": {},
     "output_type": "execute_result"
    }
   ],
   "source": [
    "peptides = pd.read_table('../data/fasta_peptides.tsv')\n",
    "peptides.shape"
   ]
  },
  {
   "cell_type": "code",
   "execution_count": 30,
   "id": "3b8600cc",
   "metadata": {},
   "outputs": [
    {
     "name": "stdout",
     "output_type": "stream",
     "text": [
      "26\n"
     ]
    }
   ],
   "source": [
    "# print total number of missing values in fasta peptides dataset\n",
    "print(peptides.isnull().sum().sum())\n",
    "\n",
    "# these are proteins that were unable to be digested by trypsin because they lack the target amino acids."
   ]
  },
  {
   "cell_type": "code",
   "execution_count": 31,
   "id": "f9fd7d1b",
   "metadata": {},
   "outputs": [
    {
     "name": "stdout",
     "output_type": "stream",
     "text": [
      "Protein     0\n",
      "Peptide    26\n",
      "Length      0\n",
      "dtype: int64\n"
     ]
    }
   ],
   "source": [
    "# print total number of missing values for each feature\n",
    "print(peptides.isnull().sum())"
   ]
  },
  {
   "cell_type": "code",
   "execution_count": 32,
   "id": "d0c73125",
   "metadata": {},
   "outputs": [
    {
     "data": {
      "text/html": [
       "<div>\n",
       "<style scoped>\n",
       "    .dataframe tbody tr th:only-of-type {\n",
       "        vertical-align: middle;\n",
       "    }\n",
       "\n",
       "    .dataframe tbody tr th {\n",
       "        vertical-align: top;\n",
       "    }\n",
       "\n",
       "    .dataframe thead th {\n",
       "        text-align: right;\n",
       "    }\n",
       "</style>\n",
       "<table border=\"1\" class=\"dataframe\">\n",
       "  <thead>\n",
       "    <tr style=\"text-align: right;\">\n",
       "      <th></th>\n",
       "      <th>Protein</th>\n",
       "      <th>Peptide</th>\n",
       "      <th>Length</th>\n",
       "    </tr>\n",
       "  </thead>\n",
       "  <tbody>\n",
       "    <tr>\n",
       "      <th>19803</th>\n",
       "      <td>Q9BY19</td>\n",
       "      <td>NaN</td>\n",
       "      <td>250</td>\n",
       "    </tr>\n",
       "    <tr>\n",
       "      <th>28630</th>\n",
       "      <td>P0DPI4</td>\n",
       "      <td>NaN</td>\n",
       "      <td>4</td>\n",
       "    </tr>\n",
       "    <tr>\n",
       "      <th>41993</th>\n",
       "      <td>A0A075B706</td>\n",
       "      <td>NaN</td>\n",
       "      <td>16</td>\n",
       "    </tr>\n",
       "    <tr>\n",
       "      <th>87250</th>\n",
       "      <td>Q07326</td>\n",
       "      <td>NaN</td>\n",
       "      <td>219</td>\n",
       "    </tr>\n",
       "    <tr>\n",
       "      <th>109962</th>\n",
       "      <td>C9JFL3</td>\n",
       "      <td>NaN</td>\n",
       "      <td>82</td>\n",
       "    </tr>\n",
       "    <tr>\n",
       "      <th>126874</th>\n",
       "      <td>P62945</td>\n",
       "      <td>NaN</td>\n",
       "      <td>25</td>\n",
       "    </tr>\n",
       "    <tr>\n",
       "      <th>138406</th>\n",
       "      <td>Q6UWW9</td>\n",
       "      <td>NaN</td>\n",
       "      <td>146</td>\n",
       "    </tr>\n",
       "    <tr>\n",
       "      <th>151659</th>\n",
       "      <td>Q3MUY2</td>\n",
       "      <td>NaN</td>\n",
       "      <td>71</td>\n",
       "    </tr>\n",
       "    <tr>\n",
       "      <th>153292</th>\n",
       "      <td>P60329</td>\n",
       "      <td>NaN</td>\n",
       "      <td>112</td>\n",
       "    </tr>\n",
       "    <tr>\n",
       "      <th>175060</th>\n",
       "      <td>O95424</td>\n",
       "      <td>NaN</td>\n",
       "      <td>95</td>\n",
       "    </tr>\n",
       "    <tr>\n",
       "      <th>185368</th>\n",
       "      <td>P04280</td>\n",
       "      <td>NaN</td>\n",
       "      <td>392</td>\n",
       "    </tr>\n",
       "    <tr>\n",
       "      <th>193000</th>\n",
       "      <td>A4D0T7</td>\n",
       "      <td>NaN</td>\n",
       "      <td>59</td>\n",
       "    </tr>\n",
       "    <tr>\n",
       "      <th>202594</th>\n",
       "      <td>P0DPR3</td>\n",
       "      <td>NaN</td>\n",
       "      <td>2</td>\n",
       "    </tr>\n",
       "    <tr>\n",
       "      <th>226195</th>\n",
       "      <td>P60331</td>\n",
       "      <td>NaN</td>\n",
       "      <td>282</td>\n",
       "    </tr>\n",
       "    <tr>\n",
       "      <th>255767</th>\n",
       "      <td>P09430</td>\n",
       "      <td>NaN</td>\n",
       "      <td>55</td>\n",
       "    </tr>\n",
       "    <tr>\n",
       "      <th>261703</th>\n",
       "      <td>P60896</td>\n",
       "      <td>NaN</td>\n",
       "      <td>70</td>\n",
       "    </tr>\n",
       "    <tr>\n",
       "      <th>275214</th>\n",
       "      <td>Q9BZ97</td>\n",
       "      <td>NaN</td>\n",
       "      <td>58</td>\n",
       "    </tr>\n",
       "    <tr>\n",
       "      <th>352084</th>\n",
       "      <td>P0DOY5</td>\n",
       "      <td>NaN</td>\n",
       "      <td>5</td>\n",
       "    </tr>\n",
       "    <tr>\n",
       "      <th>369069</th>\n",
       "      <td>P04553</td>\n",
       "      <td>NaN</td>\n",
       "      <td>51</td>\n",
       "    </tr>\n",
       "    <tr>\n",
       "      <th>384648</th>\n",
       "      <td>Q9HC47</td>\n",
       "      <td>NaN</td>\n",
       "      <td>74</td>\n",
       "    </tr>\n",
       "    <tr>\n",
       "      <th>399329</th>\n",
       "      <td>P0C5Y4</td>\n",
       "      <td>NaN</td>\n",
       "      <td>121</td>\n",
       "    </tr>\n",
       "    <tr>\n",
       "      <th>452425</th>\n",
       "      <td>Q156A1</td>\n",
       "      <td>NaN</td>\n",
       "      <td>80</td>\n",
       "    </tr>\n",
       "    <tr>\n",
       "      <th>472221</th>\n",
       "      <td>P31358</td>\n",
       "      <td>NaN</td>\n",
       "      <td>61</td>\n",
       "    </tr>\n",
       "    <tr>\n",
       "      <th>487919</th>\n",
       "      <td>Q9BYP8</td>\n",
       "      <td>NaN</td>\n",
       "      <td>105</td>\n",
       "    </tr>\n",
       "    <tr>\n",
       "      <th>487926</th>\n",
       "      <td>P59991</td>\n",
       "      <td>NaN</td>\n",
       "      <td>146</td>\n",
       "    </tr>\n",
       "    <tr>\n",
       "      <th>492583</th>\n",
       "      <td>Q3LI58</td>\n",
       "      <td>NaN</td>\n",
       "      <td>79</td>\n",
       "    </tr>\n",
       "  </tbody>\n",
       "</table>\n",
       "</div>"
      ],
      "text/plain": [
       "           Protein Peptide  Length\n",
       "19803       Q9BY19     NaN     250\n",
       "28630       P0DPI4     NaN       4\n",
       "41993   A0A075B706     NaN      16\n",
       "87250       Q07326     NaN     219\n",
       "109962      C9JFL3     NaN      82\n",
       "126874      P62945     NaN      25\n",
       "138406      Q6UWW9     NaN     146\n",
       "151659      Q3MUY2     NaN      71\n",
       "153292      P60329     NaN     112\n",
       "175060      O95424     NaN      95\n",
       "185368      P04280     NaN     392\n",
       "193000      A4D0T7     NaN      59\n",
       "202594      P0DPR3     NaN       2\n",
       "226195      P60331     NaN     282\n",
       "255767      P09430     NaN      55\n",
       "261703      P60896     NaN      70\n",
       "275214      Q9BZ97     NaN      58\n",
       "352084      P0DOY5     NaN       5\n",
       "369069      P04553     NaN      51\n",
       "384648      Q9HC47     NaN      74\n",
       "399329      P0C5Y4     NaN     121\n",
       "452425      Q156A1     NaN      80\n",
       "472221      P31358     NaN      61\n",
       "487919      Q9BYP8     NaN     105\n",
       "487926      P59991     NaN     146\n",
       "492583      Q3LI58     NaN      79"
      ]
     },
     "execution_count": 32,
     "metadata": {},
     "output_type": "execute_result"
    }
   ],
   "source": [
    "# print all rows with missing values to view in more detail\n",
    "peptides[peptides.isnull().any(axis=1)]"
   ]
  },
  {
   "cell_type": "code",
   "execution_count": 33,
   "id": "79585543",
   "metadata": {},
   "outputs": [
    {
     "data": {
      "text/html": [
       "<div>\n",
       "<style scoped>\n",
       "    .dataframe tbody tr th:only-of-type {\n",
       "        vertical-align: middle;\n",
       "    }\n",
       "\n",
       "    .dataframe tbody tr th {\n",
       "        vertical-align: top;\n",
       "    }\n",
       "\n",
       "    .dataframe thead th {\n",
       "        text-align: right;\n",
       "    }\n",
       "</style>\n",
       "<table border=\"1\" class=\"dataframe\">\n",
       "  <thead>\n",
       "    <tr style=\"text-align: right;\">\n",
       "      <th></th>\n",
       "      <th>Protein</th>\n",
       "      <th>Sequence</th>\n",
       "    </tr>\n",
       "  </thead>\n",
       "  <tbody>\n",
       "    <tr>\n",
       "      <th>0</th>\n",
       "      <td>Q66K14</td>\n",
       "      <td>MWLSPEEVLVANALWVTERANPFFVLQRRRGHGRGGGLTGLLVGTL...</td>\n",
       "    </tr>\n",
       "    <tr>\n",
       "      <th>1</th>\n",
       "      <td>Q9UMR3</td>\n",
       "      <td>MEFTASPKPQLSSRANAFSIAALMSSGGSKEKEATENTIKPLEQFV...</td>\n",
       "    </tr>\n",
       "    <tr>\n",
       "      <th>2</th>\n",
       "      <td>Q9P031</td>\n",
       "      <td>MAPVRRSAKWRPGGIEARGEGVSTVGYRNKNVRQKTWRPNHPQAFV...</td>\n",
       "    </tr>\n",
       "    <tr>\n",
       "      <th>3</th>\n",
       "      <td>Q6PEY2</td>\n",
       "      <td>MRECISIHVGQAGVQIGNACWELYCLEHGIQPDGQMPSDKTIGGGD...</td>\n",
       "    </tr>\n",
       "    <tr>\n",
       "      <th>4</th>\n",
       "      <td>Q9P016</td>\n",
       "      <td>MSRPRKRLAGTSGSDKGLSGKRTKTENSGEALAKVEDSNPQKTSAT...</td>\n",
       "    </tr>\n",
       "  </tbody>\n",
       "</table>\n",
       "</div>"
      ],
      "text/plain": [
       "  Protein                                           Sequence\n",
       "0  Q66K14  MWLSPEEVLVANALWVTERANPFFVLQRRRGHGRGGGLTGLLVGTL...\n",
       "1  Q9UMR3  MEFTASPKPQLSSRANAFSIAALMSSGGSKEKEATENTIKPLEQFV...\n",
       "2  Q9P031  MAPVRRSAKWRPGGIEARGEGVSTVGYRNKNVRQKTWRPNHPQAFV...\n",
       "3  Q6PEY2  MRECISIHVGQAGVQIGNACWELYCLEHGIQPDGQMPSDKTIGGGD...\n",
       "4  Q9P016  MSRPRKRLAGTSGSDKGLSGKRTKTENSGEALAKVEDSNPQKTSAT..."
      ]
     },
     "execution_count": 33,
     "metadata": {},
     "output_type": "execute_result"
    }
   ],
   "source": [
    "# check if these NaN proteins were correctly undigested\n",
    "\n",
    "# load dataset\n",
    "proteins = pd.read_table('../data/fasta_proteins.tsv', header=0)\n",
    "proteins.head()"
   ]
  },
  {
   "cell_type": "code",
   "execution_count": 34,
   "id": "6042fafd",
   "metadata": {},
   "outputs": [],
   "source": [
    "# display max column contents\n",
    "pd.set_option('display.max_colwidth', None)"
   ]
  },
  {
   "cell_type": "code",
   "execution_count": 35,
   "id": "571e295f",
   "metadata": {
    "scrolled": true
   },
   "outputs": [
    {
     "data": {
      "text/html": [
       "<div>\n",
       "<style scoped>\n",
       "    .dataframe tbody tr th:only-of-type {\n",
       "        vertical-align: middle;\n",
       "    }\n",
       "\n",
       "    .dataframe tbody tr th {\n",
       "        vertical-align: top;\n",
       "    }\n",
       "\n",
       "    .dataframe thead th {\n",
       "        text-align: right;\n",
       "    }\n",
       "</style>\n",
       "<table border=\"1\" class=\"dataframe\">\n",
       "  <thead>\n",
       "    <tr style=\"text-align: right;\">\n",
       "      <th></th>\n",
       "      <th>Protein</th>\n",
       "      <th>Sequence</th>\n",
       "    </tr>\n",
       "  </thead>\n",
       "  <tbody>\n",
       "    <tr>\n",
       "      <th>18097</th>\n",
       "      <td>Q3LI58</td>\n",
       "      <td>MCCNYYGNSCGYGSGCGCGYGSGSGCGCGYGTGYGCGYGCGFGSHYGCGYGTGYGCGYGSGSGYCGYRPFCFRRCYSSC</td>\n",
       "    </tr>\n",
       "  </tbody>\n",
       "</table>\n",
       "</div>"
      ],
      "text/plain": [
       "      Protein  \\\n",
       "18097  Q3LI58   \n",
       "\n",
       "                                                                              Sequence  \n",
       "18097  MCCNYYGNSCGYGSGCGCGYGSGSGCGCGYGTGYGCGYGCGFGSHYGCGYGTGYGCGYGSGSGYCGYRPFCFRRCYSSC  "
      ]
     },
     "execution_count": 35,
     "metadata": {},
     "output_type": "execute_result"
    }
   ],
   "source": [
    "# check if these NaN proteins were correctly undigested\n",
    "proteins[proteins['Protein'].str.contains(\"Q3LI58\")]"
   ]
  },
  {
   "cell_type": "code",
   "execution_count": 36,
   "id": "71c74ac2",
   "metadata": {
    "scrolled": false
   },
   "outputs": [
    {
     "data": {
      "text/plain": [
       "Protein                                                                                                                                                                                                                                                         Q9BY19\n",
       "Sequence    MNSMTSAVPVANSVLVVAPHNGYPVTPGIMSHVPLYPNSQPQVHLVPGNPPSLVSNVNGQPVQKALKEGKTLGAIQIIIGLAHIGLGSIMATVLVGEYLSISFYGGFPFWGGLWFIISGSLSVAAENQPYSYCLLSGSLGLNIVSAICSAVGVILFITDLSIPHPYAYPDYYPYAWGVNPGMAISGVLLVFCLLEFGIACASSHFGCQLVCCQSSNVSVIYPNIYAANPVITPEPVTSPPSYSSEIQANK\n",
       "Name: 696, dtype: object"
      ]
     },
     "execution_count": 36,
     "metadata": {},
     "output_type": "execute_result"
    }
   ],
   "source": [
    "proteins.loc[696]"
   ]
  },
  {
   "cell_type": "code",
   "execution_count": 39,
   "id": "b27c173d",
   "metadata": {},
   "outputs": [
    {
     "data": {
      "text/html": [
       "<div>\n",
       "<style scoped>\n",
       "    .dataframe tbody tr th:only-of-type {\n",
       "        vertical-align: middle;\n",
       "    }\n",
       "\n",
       "    .dataframe tbody tr th {\n",
       "        vertical-align: top;\n",
       "    }\n",
       "\n",
       "    .dataframe thead th {\n",
       "        text-align: right;\n",
       "    }\n",
       "</style>\n",
       "<table border=\"1\" class=\"dataframe\">\n",
       "  <thead>\n",
       "    <tr style=\"text-align: right;\">\n",
       "      <th></th>\n",
       "      <th>Protein</th>\n",
       "      <th>Peptide</th>\n",
       "      <th>Length</th>\n",
       "    </tr>\n",
       "  </thead>\n",
       "  <tbody>\n",
       "    <tr>\n",
       "      <th>count</th>\n",
       "      <td>556262</td>\n",
       "      <td>556262</td>\n",
       "      <td>556262.000000</td>\n",
       "    </tr>\n",
       "    <tr>\n",
       "      <th>unique</th>\n",
       "      <td>20354</td>\n",
       "      <td>526936</td>\n",
       "      <td>NaN</td>\n",
       "    </tr>\n",
       "    <tr>\n",
       "      <th>top</th>\n",
       "      <td>Q8WZ42</td>\n",
       "      <td>IHTGEKPYK</td>\n",
       "      <td>NaN</td>\n",
       "    </tr>\n",
       "    <tr>\n",
       "      <th>freq</th>\n",
       "      <td>1839</td>\n",
       "      <td>362</td>\n",
       "      <td>NaN</td>\n",
       "    </tr>\n",
       "    <tr>\n",
       "      <th>mean</th>\n",
       "      <td>NaN</td>\n",
       "      <td>NaN</td>\n",
       "      <td>1202.077699</td>\n",
       "    </tr>\n",
       "    <tr>\n",
       "      <th>std</th>\n",
       "      <td>NaN</td>\n",
       "      <td>NaN</td>\n",
       "      <td>2229.114067</td>\n",
       "    </tr>\n",
       "    <tr>\n",
       "      <th>min</th>\n",
       "      <td>NaN</td>\n",
       "      <td>NaN</td>\n",
       "      <td>12.000000</td>\n",
       "    </tr>\n",
       "    <tr>\n",
       "      <th>25%</th>\n",
       "      <td>NaN</td>\n",
       "      <td>NaN</td>\n",
       "      <td>451.000000</td>\n",
       "    </tr>\n",
       "    <tr>\n",
       "      <th>50%</th>\n",
       "      <td>NaN</td>\n",
       "      <td>NaN</td>\n",
       "      <td>736.000000</td>\n",
       "    </tr>\n",
       "    <tr>\n",
       "      <th>75%</th>\n",
       "      <td>NaN</td>\n",
       "      <td>NaN</td>\n",
       "      <td>1278.000000</td>\n",
       "    </tr>\n",
       "    <tr>\n",
       "      <th>max</th>\n",
       "      <td>NaN</td>\n",
       "      <td>NaN</td>\n",
       "      <td>34350.000000</td>\n",
       "    </tr>\n",
       "  </tbody>\n",
       "</table>\n",
       "</div>"
      ],
      "text/plain": [
       "       Protein    Peptide         Length\n",
       "count   556262     556262  556262.000000\n",
       "unique   20354     526936            NaN\n",
       "top     Q8WZ42  IHTGEKPYK            NaN\n",
       "freq      1839        362            NaN\n",
       "mean       NaN        NaN    1202.077699\n",
       "std        NaN        NaN    2229.114067\n",
       "min        NaN        NaN      12.000000\n",
       "25%        NaN        NaN     451.000000\n",
       "50%        NaN        NaN     736.000000\n",
       "75%        NaN        NaN    1278.000000\n",
       "max        NaN        NaN   34350.000000"
      ]
     },
     "execution_count": 39,
     "metadata": {},
     "output_type": "execute_result"
    }
   ],
   "source": [
    "# remove undigested proteins (i.e. 'Peptides' with NaN values)\n",
    "all_digested_proteins = peptides\n",
    "all_digested_proteins.dropna(subset = [\"Peptide\"], inplace=True)\n",
    "all_digested_proteins.describe(include=\"all\")"
   ]
  },
  {
   "cell_type": "markdown",
   "id": "7215e0df",
   "metadata": {},
   "source": [
    "### 7. Export digested peptide dataset as TSV"
   ]
  },
  {
   "cell_type": "code",
   "execution_count": 41,
   "id": "11f39816",
   "metadata": {},
   "outputs": [],
   "source": [
    "# export as tsv\n",
    "all_digested_proteins.to_csv(\"../data/fasta_peptides.tsv\", sep='\\t', index=False)"
   ]
  },
  {
   "cell_type": "code",
   "execution_count": 42,
   "id": "2e84d73a",
   "metadata": {},
   "outputs": [
    {
     "data": {
      "text/plain": [
       "(556262, 3)"
      ]
     },
     "execution_count": 42,
     "metadata": {},
     "output_type": "execute_result"
    }
   ],
   "source": [
    "# final check on dimensions\n",
    "all_digested_proteins.shape"
   ]
  }
 ],
 "metadata": {
  "kernelspec": {
   "display_name": "Python 3",
   "language": "python",
   "name": "python3"
  },
  "language_info": {
   "codemirror_mode": {
    "name": "ipython",
    "version": 3
   },
   "file_extension": ".py",
   "mimetype": "text/x-python",
   "name": "python",
   "nbconvert_exporter": "python",
   "pygments_lexer": "ipython3",
   "version": "3.8.3"
  }
 },
 "nbformat": 4,
 "nbformat_minor": 5
}
