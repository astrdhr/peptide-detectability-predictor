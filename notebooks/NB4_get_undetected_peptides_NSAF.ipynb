{
 "cells": [
  {
   "cell_type": "markdown",
   "id": "a058806e",
   "metadata": {},
   "source": [
    "# Get undetected peptides (and calculate NSAF)\n",
    "    Author: Anima Sutradhar\n",
    "    Project: Peptide detectability prediction to improve protein identification in mass spectrometry using machine learning."
   ]
  },
  {
   "cell_type": "markdown",
   "id": "4179defa",
   "metadata": {},
   "source": [
    "## Notebook summary:\n",
    "1. Import fasta_peptides and detected_peptides datasets.\n",
    "2. Dataset cleaning.\n",
    "    - Sort detected peptides by PEP score.\n",
    "    - Remove duplicates in both datasets.\n",
    "    - Only keep proteins in fasta_peptides that are also present in detected_peptides - let this be expected_peptides.\n",
    "3. Get undetected peptides.\n",
    "    - Remove all rows in expected_peptides that are also present in detected_peptides.\n",
    "4. Export new data frame with undetected peptides as TSV.\n",
    "    - Check dimensions."
   ]
  },
  {
   "cell_type": "code",
   "execution_count": 1,
   "id": "d7625c97",
   "metadata": {},
   "outputs": [],
   "source": [
    "# import libraries\n",
    "import numpy as np\n",
    "import pandas as pd\n",
    "import csv\n",
    "\n",
    "# set display options\n",
    "#pd.set_option(\"display.max_rows\", None, \"display.max_columns\", None)"
   ]
  },
  {
   "cell_type": "markdown",
   "id": "d5d07104",
   "metadata": {},
   "source": [
    "# 1. Import fasta_peptides and detected_peptides datasets"
   ]
  },
  {
   "cell_type": "code",
   "execution_count": 2,
   "id": "9fa416f5",
   "metadata": {},
   "outputs": [],
   "source": [
    "# import datasets\n",
    "fasta_peptides = pd.read_table('../data/fasta_peptides.tsv')\n",
    "detected_peptides = pd.read_table('../data/detected_peptides_NSAF.tsv')"
   ]
  },
  {
   "cell_type": "code",
   "execution_count": 3,
   "id": "df4b7c3d",
   "metadata": {},
   "outputs": [
    {
     "data": {
      "text/plain": [
       "(556262, 3)"
      ]
     },
     "execution_count": 3,
     "metadata": {},
     "output_type": "execute_result"
    }
   ],
   "source": [
    "fasta_peptides.shape"
   ]
  },
  {
   "cell_type": "code",
   "execution_count": 4,
   "id": "d5d480c7",
   "metadata": {},
   "outputs": [
    {
     "data": {
      "text/plain": [
       "(37847, 6)"
      ]
     },
     "execution_count": 4,
     "metadata": {},
     "output_type": "execute_result"
    }
   ],
   "source": [
    "detected_peptides.shape"
   ]
  },
  {
   "cell_type": "markdown",
   "id": "88c0a4b5",
   "metadata": {},
   "source": [
    "# 2. Dataset cleaning"
   ]
  },
  {
   "cell_type": "markdown",
   "id": "8339ee3f",
   "metadata": {},
   "source": [
    "### get expected peptides before removing duplicates"
   ]
  },
  {
   "cell_type": "code",
   "execution_count": 5,
   "id": "e97a01c8",
   "metadata": {},
   "outputs": [
    {
     "data": {
      "text/plain": [
       "0"
      ]
     },
     "execution_count": 5,
     "metadata": {},
     "output_type": "execute_result"
    }
   ],
   "source": [
    "# initial check on how many total proteins in detected_peptides are not in fasta_peptides (should be 0)\n",
    "len(detected_peptides[~detected_peptides[\"Protein\"].isin(fasta_peptides[\"Protein\"])])"
   ]
  },
  {
   "cell_type": "code",
   "execution_count": 6,
   "id": "36c13e79",
   "metadata": {},
   "outputs": [
    {
     "data": {
      "text/plain": [
       "591"
      ]
     },
     "execution_count": 6,
     "metadata": {},
     "output_type": "execute_result"
    }
   ],
   "source": [
    "# initial check on how many total peptides (i.e. PSMs) in detected_peptides are not in fasta_peptides (should be 0)\n",
    "len(detected_peptides[~detected_peptides[\"Peptide\"].isin(fasta_peptides[\"Peptide\"])])\n",
    "# NB: These sequences are actually there, they appear to be start of the sequences\n",
    "# i.e. all these sequences start with Methionine in the fasta peptides."
   ]
  },
  {
   "cell_type": "code",
   "execution_count": 7,
   "id": "de5b3e63",
   "metadata": {},
   "outputs": [
    {
     "data": {
      "text/plain": [
       "376072"
      ]
     },
     "execution_count": 7,
     "metadata": {},
     "output_type": "execute_result"
    }
   ],
   "source": [
    "# initial check on how many total proteins and peptides in fasta_peptides are not in detected_peptides\n",
    "len(fasta_peptides[~fasta_peptides[\"Protein\"].isin(detected_peptides[\"Protein\"])])"
   ]
  },
  {
   "cell_type": "code",
   "execution_count": 8,
   "id": "69bfdefa",
   "metadata": {},
   "outputs": [
    {
     "data": {
      "text/plain": [
       "37847"
      ]
     },
     "execution_count": 8,
     "metadata": {},
     "output_type": "execute_result"
    }
   ],
   "source": [
    "# check how many protein+peptide in detected_peptides are present in fasta_peptides (should be 37,847)\n",
    "len(detected_peptides.set_index(['Protein', 'Peptide']).index.isin(fasta_peptides.set_index(['Protein', 'Peptide']).index))"
   ]
  },
  {
   "cell_type": "code",
   "execution_count": 12,
   "id": "a1cfc5a0",
   "metadata": {},
   "outputs": [
    {
     "data": {
      "text/plain": [
       "556262"
      ]
     },
     "execution_count": 12,
     "metadata": {},
     "output_type": "execute_result"
    }
   ],
   "source": [
    "len(fasta_peptides['Protein'])"
   ]
  },
  {
   "cell_type": "markdown",
   "id": "e1186b43",
   "metadata": {},
   "source": [
    "### Only keep proteins in fasta_peptides that are present in detected_peptides - let this be expected_peptides"
   ]
  },
  {
   "cell_type": "code",
   "execution_count": 18,
   "id": "48b53c27",
   "metadata": {},
   "outputs": [
    {
     "data": {
      "text/html": [
       "<div>\n",
       "<style scoped>\n",
       "    .dataframe tbody tr th:only-of-type {\n",
       "        vertical-align: middle;\n",
       "    }\n",
       "\n",
       "    .dataframe tbody tr th {\n",
       "        vertical-align: top;\n",
       "    }\n",
       "\n",
       "    .dataframe thead th {\n",
       "        text-align: right;\n",
       "    }\n",
       "</style>\n",
       "<table border=\"1\" class=\"dataframe\">\n",
       "  <thead>\n",
       "    <tr style=\"text-align: right;\">\n",
       "      <th></th>\n",
       "      <th>Protein</th>\n",
       "      <th>Peptide</th>\n",
       "      <th>PEP</th>\n",
       "      <th>Protein_length</th>\n",
       "      <th>PSM_per_protein</th>\n",
       "      <th>Quantification</th>\n",
       "    </tr>\n",
       "  </thead>\n",
       "  <tbody>\n",
       "    <tr>\n",
       "      <th>count</th>\n",
       "      <td>37847</td>\n",
       "      <td>37847</td>\n",
       "      <td>3.784700e+04</td>\n",
       "      <td>37847.000000</td>\n",
       "      <td>37847.000000</td>\n",
       "      <td>37847.000000</td>\n",
       "    </tr>\n",
       "    <tr>\n",
       "      <th>unique</th>\n",
       "      <td>5586</td>\n",
       "      <td>37847</td>\n",
       "      <td>NaN</td>\n",
       "      <td>NaN</td>\n",
       "      <td>NaN</td>\n",
       "      <td>NaN</td>\n",
       "    </tr>\n",
       "    <tr>\n",
       "      <th>top</th>\n",
       "      <td>Q09666</td>\n",
       "      <td>EDLMGLAIGTHGSNIQQAR</td>\n",
       "      <td>NaN</td>\n",
       "      <td>NaN</td>\n",
       "      <td>NaN</td>\n",
       "      <td>NaN</td>\n",
       "    </tr>\n",
       "    <tr>\n",
       "      <th>freq</th>\n",
       "      <td>218</td>\n",
       "      <td>1</td>\n",
       "      <td>NaN</td>\n",
       "      <td>NaN</td>\n",
       "      <td>NaN</td>\n",
       "      <td>NaN</td>\n",
       "    </tr>\n",
       "    <tr>\n",
       "      <th>mean</th>\n",
       "      <td>NaN</td>\n",
       "      <td>NaN</td>\n",
       "      <td>6.334102e-03</td>\n",
       "      <td>949.842999</td>\n",
       "      <td>50.190610</td>\n",
       "      <td>0.058560</td>\n",
       "    </tr>\n",
       "    <tr>\n",
       "      <th>std</th>\n",
       "      <td>NaN</td>\n",
       "      <td>NaN</td>\n",
       "      <td>1.691212e-02</td>\n",
       "      <td>1100.798112</td>\n",
       "      <td>89.729124</td>\n",
       "      <td>0.064425</td>\n",
       "    </tr>\n",
       "    <tr>\n",
       "      <th>min</th>\n",
       "      <td>NaN</td>\n",
       "      <td>NaN</td>\n",
       "      <td>1.236400e-275</td>\n",
       "      <td>44.000000</td>\n",
       "      <td>1.000000</td>\n",
       "      <td>0.000197</td>\n",
       "    </tr>\n",
       "    <tr>\n",
       "      <th>25%</th>\n",
       "      <td>NaN</td>\n",
       "      <td>NaN</td>\n",
       "      <td>2.224950e-09</td>\n",
       "      <td>389.000000</td>\n",
       "      <td>10.000000</td>\n",
       "      <td>0.016499</td>\n",
       "    </tr>\n",
       "    <tr>\n",
       "      <th>50%</th>\n",
       "      <td>NaN</td>\n",
       "      <td>NaN</td>\n",
       "      <td>1.186800e-04</td>\n",
       "      <td>631.000000</td>\n",
       "      <td>23.000000</td>\n",
       "      <td>0.038095</td>\n",
       "    </tr>\n",
       "    <tr>\n",
       "      <th>75%</th>\n",
       "      <td>NaN</td>\n",
       "      <td>NaN</td>\n",
       "      <td>3.245600e-03</td>\n",
       "      <td>1054.000000</td>\n",
       "      <td>52.000000</td>\n",
       "      <td>0.080217</td>\n",
       "    </tr>\n",
       "    <tr>\n",
       "      <th>max</th>\n",
       "      <td>NaN</td>\n",
       "      <td>NaN</td>\n",
       "      <td>1.113500e-01</td>\n",
       "      <td>34350.000000</td>\n",
       "      <td>752.000000</td>\n",
       "      <td>0.873786</td>\n",
       "    </tr>\n",
       "  </tbody>\n",
       "</table>\n",
       "</div>"
      ],
      "text/plain": [
       "       Protein              Peptide            PEP  Protein_length  \\\n",
       "count    37847                37847   3.784700e+04    37847.000000   \n",
       "unique    5586                37847            NaN             NaN   \n",
       "top     Q09666  EDLMGLAIGTHGSNIQQAR            NaN             NaN   \n",
       "freq       218                    1            NaN             NaN   \n",
       "mean       NaN                  NaN   6.334102e-03      949.842999   \n",
       "std        NaN                  NaN   1.691212e-02     1100.798112   \n",
       "min        NaN                  NaN  1.236400e-275       44.000000   \n",
       "25%        NaN                  NaN   2.224950e-09      389.000000   \n",
       "50%        NaN                  NaN   1.186800e-04      631.000000   \n",
       "75%        NaN                  NaN   3.245600e-03     1054.000000   \n",
       "max        NaN                  NaN   1.113500e-01    34350.000000   \n",
       "\n",
       "        PSM_per_protein  Quantification  \n",
       "count      37847.000000    37847.000000  \n",
       "unique              NaN             NaN  \n",
       "top                 NaN             NaN  \n",
       "freq                NaN             NaN  \n",
       "mean          50.190610        0.058560  \n",
       "std           89.729124        0.064425  \n",
       "min            1.000000        0.000197  \n",
       "25%           10.000000        0.016499  \n",
       "50%           23.000000        0.038095  \n",
       "75%           52.000000        0.080217  \n",
       "max          752.000000        0.873786  "
      ]
     },
     "execution_count": 18,
     "metadata": {},
     "output_type": "execute_result"
    }
   ],
   "source": [
    "detected_peptides.describe(include='all')"
   ]
  },
  {
   "cell_type": "code",
   "execution_count": 17,
   "id": "cf06b82f",
   "metadata": {},
   "outputs": [
    {
     "data": {
      "text/plain": [
       "37847"
      ]
     },
     "execution_count": 17,
     "metadata": {},
     "output_type": "execute_result"
    }
   ],
   "source": [
    "# initial check on how many total proteins and peptides in detected_peptides are in fasta_peptides \n",
    "# (should be 37,847 if after removing duplicate peptides)\n",
    "len(detected_peptides[detected_peptides[\"Protein\"].isin(fasta_peptides[\"Protein\"])])"
   ]
  },
  {
   "cell_type": "code",
   "execution_count": 23,
   "id": "aded7e1d",
   "metadata": {},
   "outputs": [
    {
     "data": {
      "text/plain": [
       "180190"
      ]
     },
     "execution_count": 23,
     "metadata": {},
     "output_type": "execute_result"
    }
   ],
   "source": [
    "# initial check on how many total proteins in fasta_peptides are in detected_peptides\n",
    "len(fasta_peptides[fasta_peptides[\"Protein\"].isin(detected_peptides[\"Protein\"])])"
   ]
  },
  {
   "cell_type": "code",
   "execution_count": 24,
   "id": "5ffd8601",
   "metadata": {},
   "outputs": [
    {
     "data": {
      "text/html": [
       "<div>\n",
       "<style scoped>\n",
       "    .dataframe tbody tr th:only-of-type {\n",
       "        vertical-align: middle;\n",
       "    }\n",
       "\n",
       "    .dataframe tbody tr th {\n",
       "        vertical-align: top;\n",
       "    }\n",
       "\n",
       "    .dataframe thead th {\n",
       "        text-align: right;\n",
       "    }\n",
       "</style>\n",
       "<table border=\"1\" class=\"dataframe\">\n",
       "  <thead>\n",
       "    <tr style=\"text-align: right;\">\n",
       "      <th></th>\n",
       "      <th>Protein</th>\n",
       "      <th>Peptide</th>\n",
       "      <th>Length</th>\n",
       "    </tr>\n",
       "  </thead>\n",
       "  <tbody>\n",
       "    <tr>\n",
       "      <th>count</th>\n",
       "      <td>180190</td>\n",
       "      <td>180190</td>\n",
       "      <td>180190.000000</td>\n",
       "    </tr>\n",
       "    <tr>\n",
       "      <th>unique</th>\n",
       "      <td>5586</td>\n",
       "      <td>177030</td>\n",
       "      <td>NaN</td>\n",
       "    </tr>\n",
       "    <tr>\n",
       "      <th>top</th>\n",
       "      <td>Q8WZ42</td>\n",
       "      <td>FSMPGFK</td>\n",
       "      <td>NaN</td>\n",
       "    </tr>\n",
       "    <tr>\n",
       "      <th>freq</th>\n",
       "      <td>1839</td>\n",
       "      <td>18</td>\n",
       "      <td>NaN</td>\n",
       "    </tr>\n",
       "    <tr>\n",
       "      <th>mean</th>\n",
       "      <td>NaN</td>\n",
       "      <td>NaN</td>\n",
       "      <td>1543.838176</td>\n",
       "    </tr>\n",
       "    <tr>\n",
       "      <th>std</th>\n",
       "      <td>NaN</td>\n",
       "      <td>NaN</td>\n",
       "      <td>3543.990225</td>\n",
       "    </tr>\n",
       "    <tr>\n",
       "      <th>min</th>\n",
       "      <td>NaN</td>\n",
       "      <td>NaN</td>\n",
       "      <td>44.000000</td>\n",
       "    </tr>\n",
       "    <tr>\n",
       "      <th>25%</th>\n",
       "      <td>NaN</td>\n",
       "      <td>NaN</td>\n",
       "      <td>491.000000</td>\n",
       "    </tr>\n",
       "    <tr>\n",
       "      <th>50%</th>\n",
       "      <td>NaN</td>\n",
       "      <td>NaN</td>\n",
       "      <td>824.000000</td>\n",
       "    </tr>\n",
       "    <tr>\n",
       "      <th>75%</th>\n",
       "      <td>NaN</td>\n",
       "      <td>NaN</td>\n",
       "      <td>1445.000000</td>\n",
       "    </tr>\n",
       "    <tr>\n",
       "      <th>max</th>\n",
       "      <td>NaN</td>\n",
       "      <td>NaN</td>\n",
       "      <td>34350.000000</td>\n",
       "    </tr>\n",
       "  </tbody>\n",
       "</table>\n",
       "</div>"
      ],
      "text/plain": [
       "       Protein  Peptide         Length\n",
       "count   180190   180190  180190.000000\n",
       "unique    5586   177030            NaN\n",
       "top     Q8WZ42  FSMPGFK            NaN\n",
       "freq      1839       18            NaN\n",
       "mean       NaN      NaN    1543.838176\n",
       "std        NaN      NaN    3543.990225\n",
       "min        NaN      NaN      44.000000\n",
       "25%        NaN      NaN     491.000000\n",
       "50%        NaN      NaN     824.000000\n",
       "75%        NaN      NaN    1445.000000\n",
       "max        NaN      NaN   34350.000000"
      ]
     },
     "execution_count": 24,
     "metadata": {},
     "output_type": "execute_result"
    }
   ],
   "source": [
    "# remove proteins in fasta_peptides not present in detected_peptides - let this be expected_peptides\n",
    "expected_peptides = fasta_peptides[fasta_peptides[\"Protein\"].isin(detected_peptides[\"Protein\"])]\n",
    "expected_peptides.describe(include=\"all\")"
   ]
  },
  {
   "cell_type": "markdown",
   "id": "9694bdae",
   "metadata": {},
   "source": [
    "# 2. Get undetected peptides"
   ]
  },
  {
   "cell_type": "code",
   "execution_count": 25,
   "id": "3c5f88a2",
   "metadata": {},
   "outputs": [
    {
     "data": {
      "text/html": [
       "<div>\n",
       "<style scoped>\n",
       "    .dataframe tbody tr th:only-of-type {\n",
       "        vertical-align: middle;\n",
       "    }\n",
       "\n",
       "    .dataframe tbody tr th {\n",
       "        vertical-align: top;\n",
       "    }\n",
       "\n",
       "    .dataframe thead th {\n",
       "        text-align: right;\n",
       "    }\n",
       "</style>\n",
       "<table border=\"1\" class=\"dataframe\">\n",
       "  <thead>\n",
       "    <tr style=\"text-align: right;\">\n",
       "      <th></th>\n",
       "      <th>Protein_x</th>\n",
       "      <th>Peptide</th>\n",
       "      <th>Length</th>\n",
       "      <th>Protein_y</th>\n",
       "      <th>PEP</th>\n",
       "      <th>Protein_length</th>\n",
       "      <th>PSM_per_protein</th>\n",
       "      <th>Quantification</th>\n",
       "      <th>_merge</th>\n",
       "    </tr>\n",
       "  </thead>\n",
       "  <tbody>\n",
       "    <tr>\n",
       "      <th>0</th>\n",
       "      <td>Q66K14</td>\n",
       "      <td>MWLSPEEVLVANALWVTER</td>\n",
       "      <td>1250</td>\n",
       "      <td>NaN</td>\n",
       "      <td>NaN</td>\n",
       "      <td>NaN</td>\n",
       "      <td>NaN</td>\n",
       "      <td>NaN</td>\n",
       "      <td>left_only</td>\n",
       "    </tr>\n",
       "    <tr>\n",
       "      <th>1</th>\n",
       "      <td>Q66K14</td>\n",
       "      <td>ANPFFVLQR</td>\n",
       "      <td>1250</td>\n",
       "      <td>NaN</td>\n",
       "      <td>NaN</td>\n",
       "      <td>NaN</td>\n",
       "      <td>NaN</td>\n",
       "      <td>NaN</td>\n",
       "      <td>left_only</td>\n",
       "    </tr>\n",
       "    <tr>\n",
       "      <th>2</th>\n",
       "      <td>Q66K14</td>\n",
       "      <td>GGGLTGLLVGTLDVVLDSSAR</td>\n",
       "      <td>1250</td>\n",
       "      <td>NaN</td>\n",
       "      <td>NaN</td>\n",
       "      <td>NaN</td>\n",
       "      <td>NaN</td>\n",
       "      <td>NaN</td>\n",
       "      <td>left_only</td>\n",
       "    </tr>\n",
       "    <tr>\n",
       "      <th>3</th>\n",
       "      <td>Q66K14</td>\n",
       "      <td>ILHQTQDSQVYWTVACGSSR</td>\n",
       "      <td>1250</td>\n",
       "      <td>NaN</td>\n",
       "      <td>NaN</td>\n",
       "      <td>NaN</td>\n",
       "      <td>NaN</td>\n",
       "      <td>NaN</td>\n",
       "      <td>left_only</td>\n",
       "    </tr>\n",
       "    <tr>\n",
       "      <th>4</th>\n",
       "      <td>Q66K14</td>\n",
       "      <td>HWEWLENNLLQTLSIFDSEEDITTFVK</td>\n",
       "      <td>1250</td>\n",
       "      <td>NaN</td>\n",
       "      <td>NaN</td>\n",
       "      <td>NaN</td>\n",
       "      <td>NaN</td>\n",
       "      <td>NaN</td>\n",
       "      <td>left_only</td>\n",
       "    </tr>\n",
       "    <tr>\n",
       "      <th>...</th>\n",
       "      <td>...</td>\n",
       "      <td>...</td>\n",
       "      <td>...</td>\n",
       "      <td>...</td>\n",
       "      <td>...</td>\n",
       "      <td>...</td>\n",
       "      <td>...</td>\n",
       "      <td>...</td>\n",
       "      <td>...</td>\n",
       "    </tr>\n",
       "    <tr>\n",
       "      <th>180185</th>\n",
       "      <td>Q8WTT2</td>\n",
       "      <td>HYHPIVQR</td>\n",
       "      <td>800</td>\n",
       "      <td>NaN</td>\n",
       "      <td>NaN</td>\n",
       "      <td>NaN</td>\n",
       "      <td>NaN</td>\n",
       "      <td>NaN</td>\n",
       "      <td>left_only</td>\n",
       "    </tr>\n",
       "    <tr>\n",
       "      <th>180186</th>\n",
       "      <td>Q8WTT2</td>\n",
       "      <td>FAAHLIAGAPSEGSGALKPELSR</td>\n",
       "      <td>800</td>\n",
       "      <td>NaN</td>\n",
       "      <td>NaN</td>\n",
       "      <td>NaN</td>\n",
       "      <td>NaN</td>\n",
       "      <td>NaN</td>\n",
       "      <td>left_only</td>\n",
       "    </tr>\n",
       "    <tr>\n",
       "      <th>180187</th>\n",
       "      <td>Q8WTT2</td>\n",
       "      <td>SATELFEAYSMAEMTFNPPVESSNPK</td>\n",
       "      <td>800</td>\n",
       "      <td>NaN</td>\n",
       "      <td>NaN</td>\n",
       "      <td>NaN</td>\n",
       "      <td>NaN</td>\n",
       "      <td>NaN</td>\n",
       "      <td>left_only</td>\n",
       "    </tr>\n",
       "    <tr>\n",
       "      <th>180188</th>\n",
       "      <td>Q8WTT2</td>\n",
       "      <td>FLQGDSFLNEDLNQLIK</td>\n",
       "      <td>800</td>\n",
       "      <td>Q8WTT2</td>\n",
       "      <td>7.947000e-43</td>\n",
       "      <td>800.0</td>\n",
       "      <td>22.0</td>\n",
       "      <td>0.0275</td>\n",
       "      <td>both</td>\n",
       "    </tr>\n",
       "    <tr>\n",
       "      <th>180189</th>\n",
       "      <td>Q8WTT2</td>\n",
       "      <td>YSSEVATESPLDFTK</td>\n",
       "      <td>800</td>\n",
       "      <td>Q8WTT2</td>\n",
       "      <td>1.216200e-05</td>\n",
       "      <td>800.0</td>\n",
       "      <td>22.0</td>\n",
       "      <td>0.0275</td>\n",
       "      <td>both</td>\n",
       "    </tr>\n",
       "  </tbody>\n",
       "</table>\n",
       "<p>180190 rows × 9 columns</p>\n",
       "</div>"
      ],
      "text/plain": [
       "       Protein_x                      Peptide  Length Protein_y           PEP  \\\n",
       "0         Q66K14          MWLSPEEVLVANALWVTER    1250       NaN           NaN   \n",
       "1         Q66K14                    ANPFFVLQR    1250       NaN           NaN   \n",
       "2         Q66K14        GGGLTGLLVGTLDVVLDSSAR    1250       NaN           NaN   \n",
       "3         Q66K14         ILHQTQDSQVYWTVACGSSR    1250       NaN           NaN   \n",
       "4         Q66K14  HWEWLENNLLQTLSIFDSEEDITTFVK    1250       NaN           NaN   \n",
       "...          ...                          ...     ...       ...           ...   \n",
       "180185    Q8WTT2                     HYHPIVQR     800       NaN           NaN   \n",
       "180186    Q8WTT2      FAAHLIAGAPSEGSGALKPELSR     800       NaN           NaN   \n",
       "180187    Q8WTT2   SATELFEAYSMAEMTFNPPVESSNPK     800       NaN           NaN   \n",
       "180188    Q8WTT2            FLQGDSFLNEDLNQLIK     800    Q8WTT2  7.947000e-43   \n",
       "180189    Q8WTT2              YSSEVATESPLDFTK     800    Q8WTT2  1.216200e-05   \n",
       "\n",
       "        Protein_length  PSM_per_protein  Quantification     _merge  \n",
       "0                  NaN              NaN             NaN  left_only  \n",
       "1                  NaN              NaN             NaN  left_only  \n",
       "2                  NaN              NaN             NaN  left_only  \n",
       "3                  NaN              NaN             NaN  left_only  \n",
       "4                  NaN              NaN             NaN  left_only  \n",
       "...                ...              ...             ...        ...  \n",
       "180185             NaN              NaN             NaN  left_only  \n",
       "180186             NaN              NaN             NaN  left_only  \n",
       "180187             NaN              NaN             NaN  left_only  \n",
       "180188           800.0             22.0          0.0275       both  \n",
       "180189           800.0             22.0          0.0275       both  \n",
       "\n",
       "[180190 rows x 9 columns]"
      ]
     },
     "execution_count": 25,
     "metadata": {},
     "output_type": "execute_result"
    }
   ],
   "source": [
    "# initial check on undetected peptides\n",
    "undetected_peptides = pd.merge(expected_peptides, detected_peptides, \n",
    "                               on=[\"Peptide\"], \n",
    "                               how='left', indicator=True)\n",
    "undetected_peptides"
   ]
  },
  {
   "cell_type": "code",
   "execution_count": 26,
   "id": "8968564b",
   "metadata": {},
   "outputs": [
    {
     "data": {
      "text/plain": [
       "142713"
      ]
     },
     "execution_count": 26,
     "metadata": {},
     "output_type": "execute_result"
    }
   ],
   "source": [
    "# find peptides/PSMs present only in undetected_peptides\n",
    "len(undetected_peptides[undetected_peptides['_merge'].str.contains(\"left_only\", na=False)])"
   ]
  },
  {
   "cell_type": "code",
   "execution_count": 27,
   "id": "b76bb3fd",
   "metadata": {},
   "outputs": [
    {
     "data": {
      "text/plain": [
       "142713"
      ]
     },
     "execution_count": 27,
     "metadata": {},
     "output_type": "execute_result"
    }
   ],
   "source": [
    "# find number of undetected using isin\n",
    "len(expected_peptides[~expected_peptides[\"Peptide\"].isin(detected_peptides[\"Peptide\"])])"
   ]
  },
  {
   "cell_type": "code",
   "execution_count": 28,
   "id": "25bcf167",
   "metadata": {},
   "outputs": [
    {
     "data": {
      "text/plain": [
       "(142713, 3)"
      ]
     },
     "execution_count": 28,
     "metadata": {},
     "output_type": "execute_result"
    }
   ],
   "source": [
    "undetected_peptides = expected_peptides[~expected_peptides[\"Peptide\"].isin(detected_peptides[\"Peptide\"])]\n",
    "undetected_peptides.shape"
   ]
  },
  {
   "cell_type": "code",
   "execution_count": 29,
   "id": "973b908b",
   "metadata": {},
   "outputs": [
    {
     "data": {
      "text/html": [
       "<div>\n",
       "<style scoped>\n",
       "    .dataframe tbody tr th:only-of-type {\n",
       "        vertical-align: middle;\n",
       "    }\n",
       "\n",
       "    .dataframe tbody tr th {\n",
       "        vertical-align: top;\n",
       "    }\n",
       "\n",
       "    .dataframe thead th {\n",
       "        text-align: right;\n",
       "    }\n",
       "</style>\n",
       "<table border=\"1\" class=\"dataframe\">\n",
       "  <thead>\n",
       "    <tr style=\"text-align: right;\">\n",
       "      <th></th>\n",
       "      <th>Protein</th>\n",
       "      <th>Peptide</th>\n",
       "      <th>Length</th>\n",
       "    </tr>\n",
       "  </thead>\n",
       "  <tbody>\n",
       "    <tr>\n",
       "      <th>count</th>\n",
       "      <td>142713</td>\n",
       "      <td>142713</td>\n",
       "      <td>142713.000000</td>\n",
       "    </tr>\n",
       "    <tr>\n",
       "      <th>unique</th>\n",
       "      <td>5559</td>\n",
       "      <td>139774</td>\n",
       "      <td>NaN</td>\n",
       "    </tr>\n",
       "    <tr>\n",
       "      <th>top</th>\n",
       "      <td>Q8WZ42</td>\n",
       "      <td>LQIWDTAGQER</td>\n",
       "      <td>NaN</td>\n",
       "    </tr>\n",
       "    <tr>\n",
       "      <th>freq</th>\n",
       "      <td>1834</td>\n",
       "      <td>12</td>\n",
       "      <td>NaN</td>\n",
       "    </tr>\n",
       "    <tr>\n",
       "      <th>mean</th>\n",
       "      <td>NaN</td>\n",
       "      <td>NaN</td>\n",
       "      <td>1691.574405</td>\n",
       "    </tr>\n",
       "    <tr>\n",
       "      <th>std</th>\n",
       "      <td>NaN</td>\n",
       "      <td>NaN</td>\n",
       "      <td>3924.710088</td>\n",
       "    </tr>\n",
       "    <tr>\n",
       "      <th>min</th>\n",
       "      <td>NaN</td>\n",
       "      <td>NaN</td>\n",
       "      <td>44.000000</td>\n",
       "    </tr>\n",
       "    <tr>\n",
       "      <th>25%</th>\n",
       "      <td>NaN</td>\n",
       "      <td>NaN</td>\n",
       "      <td>524.000000</td>\n",
       "    </tr>\n",
       "    <tr>\n",
       "      <th>50%</th>\n",
       "      <td>NaN</td>\n",
       "      <td>NaN</td>\n",
       "      <td>881.000000</td>\n",
       "    </tr>\n",
       "    <tr>\n",
       "      <th>75%</th>\n",
       "      <td>NaN</td>\n",
       "      <td>NaN</td>\n",
       "      <td>1573.000000</td>\n",
       "    </tr>\n",
       "    <tr>\n",
       "      <th>max</th>\n",
       "      <td>NaN</td>\n",
       "      <td>NaN</td>\n",
       "      <td>34350.000000</td>\n",
       "    </tr>\n",
       "  </tbody>\n",
       "</table>\n",
       "</div>"
      ],
      "text/plain": [
       "       Protein      Peptide         Length\n",
       "count   142713       142713  142713.000000\n",
       "unique    5559       139774            NaN\n",
       "top     Q8WZ42  LQIWDTAGQER            NaN\n",
       "freq      1834           12            NaN\n",
       "mean       NaN          NaN    1691.574405\n",
       "std        NaN          NaN    3924.710088\n",
       "min        NaN          NaN      44.000000\n",
       "25%        NaN          NaN     524.000000\n",
       "50%        NaN          NaN     881.000000\n",
       "75%        NaN          NaN    1573.000000\n",
       "max        NaN          NaN   34350.000000"
      ]
     },
     "execution_count": 29,
     "metadata": {},
     "output_type": "execute_result"
    }
   ],
   "source": [
    "undetected_peptides.describe(include=\"all\")"
   ]
  },
  {
   "cell_type": "code",
   "execution_count": 30,
   "id": "3bc97cc9",
   "metadata": {},
   "outputs": [
    {
     "data": {
      "text/plain": [
       "5"
      ]
     },
     "execution_count": 30,
     "metadata": {},
     "output_type": "execute_result"
    }
   ],
   "source": [
    "# remove any peptides containing 'U' (selenocysteine) amino acids\n",
    "# this is so that we can map peptide amino acids correctly when calculating AAIndex1 properties\n",
    "len(undetected_peptides[undetected_peptides['Peptide'].str.contains(\"U\", na=False)])"
   ]
  },
  {
   "cell_type": "code",
   "execution_count": 31,
   "id": "448a5e5f",
   "metadata": {},
   "outputs": [
    {
     "data": {
      "text/html": [
       "<div>\n",
       "<style scoped>\n",
       "    .dataframe tbody tr th:only-of-type {\n",
       "        vertical-align: middle;\n",
       "    }\n",
       "\n",
       "    .dataframe tbody tr th {\n",
       "        vertical-align: top;\n",
       "    }\n",
       "\n",
       "    .dataframe thead th {\n",
       "        text-align: right;\n",
       "    }\n",
       "</style>\n",
       "<table border=\"1\" class=\"dataframe\">\n",
       "  <thead>\n",
       "    <tr style=\"text-align: right;\">\n",
       "      <th></th>\n",
       "      <th>Protein</th>\n",
       "      <th>Peptide</th>\n",
       "      <th>Length</th>\n",
       "    </tr>\n",
       "  </thead>\n",
       "  <tbody>\n",
       "    <tr>\n",
       "      <th>39764</th>\n",
       "      <td>Q9NNW7</td>\n",
       "      <td>SGLDPTVTGCUG</td>\n",
       "      <td>524</td>\n",
       "    </tr>\n",
       "    <tr>\n",
       "      <th>209476</th>\n",
       "      <td>Q16881</td>\n",
       "      <td>SGASILQAGCUG</td>\n",
       "      <td>649</td>\n",
       "    </tr>\n",
       "    <tr>\n",
       "      <th>260100</th>\n",
       "      <td>O60613</td>\n",
       "      <td>LYAGAILEVCGUK</td>\n",
       "      <td>165</td>\n",
       "    </tr>\n",
       "    <tr>\n",
       "      <th>331630</th>\n",
       "      <td>Q9C0D9</td>\n",
       "      <td>KPNSDULGMEEK</td>\n",
       "      <td>397</td>\n",
       "    </tr>\n",
       "    <tr>\n",
       "      <th>348199</th>\n",
       "      <td>P36969</td>\n",
       "      <td>GFVCIVTNVASQUGK</td>\n",
       "      <td>197</td>\n",
       "    </tr>\n",
       "  </tbody>\n",
       "</table>\n",
       "</div>"
      ],
      "text/plain": [
       "       Protein          Peptide  Length\n",
       "39764   Q9NNW7     SGLDPTVTGCUG     524\n",
       "209476  Q16881     SGASILQAGCUG     649\n",
       "260100  O60613    LYAGAILEVCGUK     165\n",
       "331630  Q9C0D9     KPNSDULGMEEK     397\n",
       "348199  P36969  GFVCIVTNVASQUGK     197"
      ]
     },
     "execution_count": 31,
     "metadata": {},
     "output_type": "execute_result"
    }
   ],
   "source": [
    "undetected_peptides[undetected_peptides['Peptide'].str.contains(\"U\", na=False)]"
   ]
  },
  {
   "cell_type": "code",
   "execution_count": 32,
   "id": "7d68c1d7",
   "metadata": {},
   "outputs": [
    {
     "data": {
      "text/plain": [
       "(142713, 3)"
      ]
     },
     "execution_count": 32,
     "metadata": {},
     "output_type": "execute_result"
    }
   ],
   "source": [
    "undetected_peptides.shape"
   ]
  },
  {
   "cell_type": "code",
   "execution_count": 33,
   "id": "007d09f7",
   "metadata": {},
   "outputs": [
    {
     "data": {
      "text/plain": [
       "142708"
      ]
     },
     "execution_count": 33,
     "metadata": {},
     "output_type": "execute_result"
    }
   ],
   "source": [
    "len(undetected_peptides[~undetected_peptides['Peptide'].str.contains(\"U\", na=False)])"
   ]
  },
  {
   "cell_type": "code",
   "execution_count": 34,
   "id": "4c5e2c3f",
   "metadata": {},
   "outputs": [
    {
     "data": {
      "text/plain": [
       "(142708, 3)"
      ]
     },
     "execution_count": 34,
     "metadata": {},
     "output_type": "execute_result"
    }
   ],
   "source": [
    "undetected_peptides = undetected_peptides[~undetected_peptides['Peptide'].str.contains(\"U\", na=False)]\n",
    "undetected_peptides.shape"
   ]
  },
  {
   "cell_type": "markdown",
   "id": "1a199f5b",
   "metadata": {},
   "source": [
    "# Calculate spectral counting (NSAF) for undetected_peptides"
   ]
  },
  {
   "cell_type": "code",
   "execution_count": 36,
   "id": "3561f8d0",
   "metadata": {
    "scrolled": true
   },
   "outputs": [
    {
     "name": "stdout",
     "output_type": "stream",
     "text": [
      "0\n"
     ]
    }
   ],
   "source": [
    "# check for any intersection between detected and undetected (should be 0)\n",
    "print(len(set(detected_peptides[\"Peptide\"]).intersection(set(undetected_peptides[\"Peptide\"]))))"
   ]
  },
  {
   "cell_type": "code",
   "execution_count": 38,
   "id": "3da35785",
   "metadata": {},
   "outputs": [],
   "source": [
    "# create dictionary from detected_peptides, with protein keys and associated NSAF values\n",
    "detected_peptides_nsaf_dict = dict(zip(detected_peptides.Protein, detected_peptides.Quantification))"
   ]
  },
  {
   "cell_type": "code",
   "execution_count": 39,
   "id": "ebaca436",
   "metadata": {},
   "outputs": [
    {
     "data": {
      "text/html": [
       "<div>\n",
       "<style scoped>\n",
       "    .dataframe tbody tr th:only-of-type {\n",
       "        vertical-align: middle;\n",
       "    }\n",
       "\n",
       "    .dataframe tbody tr th {\n",
       "        vertical-align: top;\n",
       "    }\n",
       "\n",
       "    .dataframe thead th {\n",
       "        text-align: right;\n",
       "    }\n",
       "</style>\n",
       "<table border=\"1\" class=\"dataframe\">\n",
       "  <thead>\n",
       "    <tr style=\"text-align: right;\">\n",
       "      <th></th>\n",
       "      <th>Protein</th>\n",
       "      <th>Peptide</th>\n",
       "      <th>Length</th>\n",
       "      <th>Quantification</th>\n",
       "    </tr>\n",
       "  </thead>\n",
       "  <tbody>\n",
       "    <tr>\n",
       "      <th>0</th>\n",
       "      <td>Q66K14</td>\n",
       "      <td>MWLSPEEVLVANALWVTER</td>\n",
       "      <td>1250</td>\n",
       "      <td>0.0016</td>\n",
       "    </tr>\n",
       "    <tr>\n",
       "      <th>1</th>\n",
       "      <td>Q66K14</td>\n",
       "      <td>ANPFFVLQR</td>\n",
       "      <td>1250</td>\n",
       "      <td>0.0016</td>\n",
       "    </tr>\n",
       "    <tr>\n",
       "      <th>2</th>\n",
       "      <td>Q66K14</td>\n",
       "      <td>GGGLTGLLVGTLDVVLDSSAR</td>\n",
       "      <td>1250</td>\n",
       "      <td>0.0016</td>\n",
       "    </tr>\n",
       "    <tr>\n",
       "      <th>3</th>\n",
       "      <td>Q66K14</td>\n",
       "      <td>ILHQTQDSQVYWTVACGSSR</td>\n",
       "      <td>1250</td>\n",
       "      <td>0.0016</td>\n",
       "    </tr>\n",
       "    <tr>\n",
       "      <th>4</th>\n",
       "      <td>Q66K14</td>\n",
       "      <td>HWEWLENNLLQTLSIFDSEEDITTFVK</td>\n",
       "      <td>1250</td>\n",
       "      <td>0.0016</td>\n",
       "    </tr>\n",
       "    <tr>\n",
       "      <th>...</th>\n",
       "      <td>...</td>\n",
       "      <td>...</td>\n",
       "      <td>...</td>\n",
       "      <td>...</td>\n",
       "    </tr>\n",
       "    <tr>\n",
       "      <th>556024</th>\n",
       "      <td>Q8WTT2</td>\n",
       "      <td>ILMHTFPK</td>\n",
       "      <td>800</td>\n",
       "      <td>0.0275</td>\n",
       "    </tr>\n",
       "    <tr>\n",
       "      <th>556025</th>\n",
       "      <td>Q8WTT2</td>\n",
       "      <td>TDLLLDSESQGSGVFLPELDEPEYCNAQNTALWELHALR</td>\n",
       "      <td>800</td>\n",
       "      <td>0.0275</td>\n",
       "    </tr>\n",
       "    <tr>\n",
       "      <th>556026</th>\n",
       "      <td>Q8WTT2</td>\n",
       "      <td>HYHPIVQR</td>\n",
       "      <td>800</td>\n",
       "      <td>0.0275</td>\n",
       "    </tr>\n",
       "    <tr>\n",
       "      <th>556027</th>\n",
       "      <td>Q8WTT2</td>\n",
       "      <td>FAAHLIAGAPSEGSGALKPELSR</td>\n",
       "      <td>800</td>\n",
       "      <td>0.0275</td>\n",
       "    </tr>\n",
       "    <tr>\n",
       "      <th>556028</th>\n",
       "      <td>Q8WTT2</td>\n",
       "      <td>SATELFEAYSMAEMTFNPPVESSNPK</td>\n",
       "      <td>800</td>\n",
       "      <td>0.0275</td>\n",
       "    </tr>\n",
       "  </tbody>\n",
       "</table>\n",
       "<p>142708 rows × 4 columns</p>\n",
       "</div>"
      ],
      "text/plain": [
       "       Protein                                  Peptide  Length  \\\n",
       "0       Q66K14                      MWLSPEEVLVANALWVTER    1250   \n",
       "1       Q66K14                                ANPFFVLQR    1250   \n",
       "2       Q66K14                    GGGLTGLLVGTLDVVLDSSAR    1250   \n",
       "3       Q66K14                     ILHQTQDSQVYWTVACGSSR    1250   \n",
       "4       Q66K14              HWEWLENNLLQTLSIFDSEEDITTFVK    1250   \n",
       "...        ...                                      ...     ...   \n",
       "556024  Q8WTT2                                 ILMHTFPK     800   \n",
       "556025  Q8WTT2  TDLLLDSESQGSGVFLPELDEPEYCNAQNTALWELHALR     800   \n",
       "556026  Q8WTT2                                 HYHPIVQR     800   \n",
       "556027  Q8WTT2                  FAAHLIAGAPSEGSGALKPELSR     800   \n",
       "556028  Q8WTT2               SATELFEAYSMAEMTFNPPVESSNPK     800   \n",
       "\n",
       "        Quantification  \n",
       "0               0.0016  \n",
       "1               0.0016  \n",
       "2               0.0016  \n",
       "3               0.0016  \n",
       "4               0.0016  \n",
       "...                ...  \n",
       "556024          0.0275  \n",
       "556025          0.0275  \n",
       "556026          0.0275  \n",
       "556027          0.0275  \n",
       "556028          0.0275  \n",
       "\n",
       "[142708 rows x 4 columns]"
      ]
     },
     "execution_count": 39,
     "metadata": {},
     "output_type": "execute_result"
    }
   ],
   "source": [
    "# map protein NSAF quantitation values to each protein in undetected_peptides\n",
    "undetected_peptides['Quantification'] = undetected_peptides['Protein'].map(detected_peptides_nsaf_dict)\n",
    "undetected_peptides"
   ]
  },
  {
   "cell_type": "code",
   "execution_count": 40,
   "id": "78448b0b",
   "metadata": {},
   "outputs": [
    {
     "data": {
      "text/plain": [
       "Protein           0\n",
       "Peptide           0\n",
       "Length            0\n",
       "Quantification    0\n",
       "dtype: int64"
      ]
     },
     "execution_count": 40,
     "metadata": {},
     "output_type": "execute_result"
    }
   ],
   "source": [
    "# check for any NaN values\n",
    "undetected_peptides.isnull().sum()"
   ]
  },
  {
   "cell_type": "code",
   "execution_count": 43,
   "id": "84222a2c",
   "metadata": {},
   "outputs": [
    {
     "name": "stdout",
     "output_type": "stream",
     "text": [
      "(142708, 4)\n",
      "(37847, 6)\n"
     ]
    }
   ],
   "source": [
    "print(undetected_peptides.shape)\n",
    "print(detected_peptides.shape)"
   ]
  },
  {
   "cell_type": "code",
   "execution_count": 57,
   "id": "4f7f04f3",
   "metadata": {},
   "outputs": [
    {
     "data": {
      "text/html": [
       "<div>\n",
       "<style scoped>\n",
       "    .dataframe tbody tr th:only-of-type {\n",
       "        vertical-align: middle;\n",
       "    }\n",
       "\n",
       "    .dataframe tbody tr th {\n",
       "        vertical-align: top;\n",
       "    }\n",
       "\n",
       "    .dataframe thead th {\n",
       "        text-align: right;\n",
       "    }\n",
       "</style>\n",
       "<table border=\"1\" class=\"dataframe\">\n",
       "  <thead>\n",
       "    <tr style=\"text-align: right;\">\n",
       "      <th></th>\n",
       "      <th>Protein</th>\n",
       "      <th>Peptide</th>\n",
       "      <th>Length</th>\n",
       "      <th>Quantification</th>\n",
       "    </tr>\n",
       "  </thead>\n",
       "  <tbody>\n",
       "    <tr>\n",
       "      <th>count</th>\n",
       "      <td>142708</td>\n",
       "      <td>142708</td>\n",
       "      <td>142708.000000</td>\n",
       "      <td>142708.000000</td>\n",
       "    </tr>\n",
       "    <tr>\n",
       "      <th>unique</th>\n",
       "      <td>5559</td>\n",
       "      <td>139769</td>\n",
       "      <td>NaN</td>\n",
       "      <td>NaN</td>\n",
       "    </tr>\n",
       "    <tr>\n",
       "      <th>top</th>\n",
       "      <td>Q8WZ42</td>\n",
       "      <td>LQIWDTAGQER</td>\n",
       "      <td>NaN</td>\n",
       "      <td>NaN</td>\n",
       "    </tr>\n",
       "    <tr>\n",
       "      <th>freq</th>\n",
       "      <td>1834</td>\n",
       "      <td>12</td>\n",
       "      <td>NaN</td>\n",
       "      <td>NaN</td>\n",
       "    </tr>\n",
       "    <tr>\n",
       "      <th>mean</th>\n",
       "      <td>NaN</td>\n",
       "      <td>NaN</td>\n",
       "      <td>1691.620133</td>\n",
       "      <td>0.015974</td>\n",
       "    </tr>\n",
       "    <tr>\n",
       "      <th>std</th>\n",
       "      <td>NaN</td>\n",
       "      <td>NaN</td>\n",
       "      <td>3924.771084</td>\n",
       "      <td>0.027578</td>\n",
       "    </tr>\n",
       "    <tr>\n",
       "      <th>min</th>\n",
       "      <td>NaN</td>\n",
       "      <td>NaN</td>\n",
       "      <td>44.000000</td>\n",
       "      <td>0.000197</td>\n",
       "    </tr>\n",
       "    <tr>\n",
       "      <th>25%</th>\n",
       "      <td>NaN</td>\n",
       "      <td>NaN</td>\n",
       "      <td>524.000000</td>\n",
       "      <td>0.002360</td>\n",
       "    </tr>\n",
       "    <tr>\n",
       "      <th>50%</th>\n",
       "      <td>NaN</td>\n",
       "      <td>NaN</td>\n",
       "      <td>881.500000</td>\n",
       "      <td>0.006579</td>\n",
       "    </tr>\n",
       "    <tr>\n",
       "      <th>75%</th>\n",
       "      <td>NaN</td>\n",
       "      <td>NaN</td>\n",
       "      <td>1573.000000</td>\n",
       "      <td>0.017437</td>\n",
       "    </tr>\n",
       "    <tr>\n",
       "      <th>max</th>\n",
       "      <td>NaN</td>\n",
       "      <td>NaN</td>\n",
       "      <td>34350.000000</td>\n",
       "      <td>0.755224</td>\n",
       "    </tr>\n",
       "  </tbody>\n",
       "</table>\n",
       "</div>"
      ],
      "text/plain": [
       "       Protein      Peptide         Length  Quantification\n",
       "count   142708       142708  142708.000000   142708.000000\n",
       "unique    5559       139769            NaN             NaN\n",
       "top     Q8WZ42  LQIWDTAGQER            NaN             NaN\n",
       "freq      1834           12            NaN             NaN\n",
       "mean       NaN          NaN    1691.620133        0.015974\n",
       "std        NaN          NaN    3924.771084        0.027578\n",
       "min        NaN          NaN      44.000000        0.000197\n",
       "25%        NaN          NaN     524.000000        0.002360\n",
       "50%        NaN          NaN     881.500000        0.006579\n",
       "75%        NaN          NaN    1573.000000        0.017437\n",
       "max        NaN          NaN   34350.000000        0.755224"
      ]
     },
     "execution_count": 57,
     "metadata": {},
     "output_type": "execute_result"
    }
   ],
   "source": [
    "undetected_peptides.describe(include='all')"
   ]
  },
  {
   "cell_type": "code",
   "execution_count": 44,
   "id": "16e78fa8",
   "metadata": {},
   "outputs": [
    {
     "data": {
      "text/plain": [
       "(137658, 4)"
      ]
     },
     "execution_count": 44,
     "metadata": {},
     "output_type": "execute_result"
    }
   ],
   "source": [
    "# remove any peptides in undetected_peptides that map to more than one different protein\n",
    "undetected_peptides_clean = undetected_peptides.groupby('Peptide').filter(lambda x: x['Protein'].nunique() == 1)\n",
    "undetected_peptides_clean.shape"
   ]
  },
  {
   "cell_type": "code",
   "execution_count": 48,
   "id": "272363d6",
   "metadata": {},
   "outputs": [
    {
     "data": {
      "text/html": [
       "<div>\n",
       "<style scoped>\n",
       "    .dataframe tbody tr th:only-of-type {\n",
       "        vertical-align: middle;\n",
       "    }\n",
       "\n",
       "    .dataframe tbody tr th {\n",
       "        vertical-align: top;\n",
       "    }\n",
       "\n",
       "    .dataframe thead th {\n",
       "        text-align: right;\n",
       "    }\n",
       "</style>\n",
       "<table border=\"1\" class=\"dataframe\">\n",
       "  <thead>\n",
       "    <tr style=\"text-align: right;\">\n",
       "      <th></th>\n",
       "      <th>Protein</th>\n",
       "      <th>Peptide</th>\n",
       "      <th>Length</th>\n",
       "      <th>Quantification</th>\n",
       "    </tr>\n",
       "  </thead>\n",
       "  <tbody>\n",
       "    <tr>\n",
       "      <th>count</th>\n",
       "      <td>137431</td>\n",
       "      <td>137431</td>\n",
       "      <td>137431.000000</td>\n",
       "      <td>137431.000000</td>\n",
       "    </tr>\n",
       "    <tr>\n",
       "      <th>unique</th>\n",
       "      <td>5535</td>\n",
       "      <td>137431</td>\n",
       "      <td>NaN</td>\n",
       "      <td>NaN</td>\n",
       "    </tr>\n",
       "    <tr>\n",
       "      <th>top</th>\n",
       "      <td>Q8WZ42</td>\n",
       "      <td>LRPGEER</td>\n",
       "      <td>NaN</td>\n",
       "      <td>NaN</td>\n",
       "    </tr>\n",
       "    <tr>\n",
       "      <th>freq</th>\n",
       "      <td>1811</td>\n",
       "      <td>1</td>\n",
       "      <td>NaN</td>\n",
       "      <td>NaN</td>\n",
       "    </tr>\n",
       "    <tr>\n",
       "      <th>mean</th>\n",
       "      <td>NaN</td>\n",
       "      <td>NaN</td>\n",
       "      <td>1708.801915</td>\n",
       "      <td>0.015396</td>\n",
       "    </tr>\n",
       "    <tr>\n",
       "      <th>std</th>\n",
       "      <td>NaN</td>\n",
       "      <td>NaN</td>\n",
       "      <td>3968.937471</td>\n",
       "      <td>0.026096</td>\n",
       "    </tr>\n",
       "    <tr>\n",
       "      <th>min</th>\n",
       "      <td>NaN</td>\n",
       "      <td>NaN</td>\n",
       "      <td>44.000000</td>\n",
       "      <td>0.000197</td>\n",
       "    </tr>\n",
       "    <tr>\n",
       "      <th>25%</th>\n",
       "      <td>NaN</td>\n",
       "      <td>NaN</td>\n",
       "      <td>530.000000</td>\n",
       "      <td>0.002345</td>\n",
       "    </tr>\n",
       "    <tr>\n",
       "      <th>50%</th>\n",
       "      <td>NaN</td>\n",
       "      <td>NaN</td>\n",
       "      <td>890.000000</td>\n",
       "      <td>0.006440</td>\n",
       "    </tr>\n",
       "    <tr>\n",
       "      <th>75%</th>\n",
       "      <td>NaN</td>\n",
       "      <td>NaN</td>\n",
       "      <td>1577.000000</td>\n",
       "      <td>0.017153</td>\n",
       "    </tr>\n",
       "    <tr>\n",
       "      <th>max</th>\n",
       "      <td>NaN</td>\n",
       "      <td>NaN</td>\n",
       "      <td>34350.000000</td>\n",
       "      <td>0.755224</td>\n",
       "    </tr>\n",
       "  </tbody>\n",
       "</table>\n",
       "</div>"
      ],
      "text/plain": [
       "       Protein  Peptide         Length  Quantification\n",
       "count   137431   137431  137431.000000   137431.000000\n",
       "unique    5535   137431            NaN             NaN\n",
       "top     Q8WZ42  LRPGEER            NaN             NaN\n",
       "freq      1811        1            NaN             NaN\n",
       "mean       NaN      NaN    1708.801915        0.015396\n",
       "std        NaN      NaN    3968.937471        0.026096\n",
       "min        NaN      NaN      44.000000        0.000197\n",
       "25%        NaN      NaN     530.000000        0.002345\n",
       "50%        NaN      NaN     890.000000        0.006440\n",
       "75%        NaN      NaN    1577.000000        0.017153\n",
       "max        NaN      NaN   34350.000000        0.755224"
      ]
     },
     "execution_count": 48,
     "metadata": {},
     "output_type": "execute_result"
    }
   ],
   "source": [
    "undetected_peptides_clean.describe(include='all')"
   ]
  },
  {
   "cell_type": "code",
   "execution_count": 46,
   "id": "bece9870",
   "metadata": {},
   "outputs": [
    {
     "data": {
      "text/html": [
       "<div>\n",
       "<style scoped>\n",
       "    .dataframe tbody tr th:only-of-type {\n",
       "        vertical-align: middle;\n",
       "    }\n",
       "\n",
       "    .dataframe tbody tr th {\n",
       "        vertical-align: top;\n",
       "    }\n",
       "\n",
       "    .dataframe thead th {\n",
       "        text-align: right;\n",
       "    }\n",
       "</style>\n",
       "<table border=\"1\" class=\"dataframe\">\n",
       "  <thead>\n",
       "    <tr style=\"text-align: right;\">\n",
       "      <th></th>\n",
       "      <th>Protein</th>\n",
       "      <th>Peptide</th>\n",
       "      <th>Length</th>\n",
       "      <th>Quantification</th>\n",
       "    </tr>\n",
       "  </thead>\n",
       "  <tbody>\n",
       "    <tr>\n",
       "      <th>count</th>\n",
       "      <td>137431</td>\n",
       "      <td>137431</td>\n",
       "      <td>137431.000000</td>\n",
       "      <td>137431.000000</td>\n",
       "    </tr>\n",
       "    <tr>\n",
       "      <th>unique</th>\n",
       "      <td>5535</td>\n",
       "      <td>137431</td>\n",
       "      <td>NaN</td>\n",
       "      <td>NaN</td>\n",
       "    </tr>\n",
       "    <tr>\n",
       "      <th>top</th>\n",
       "      <td>Q8WZ42</td>\n",
       "      <td>LRPGEER</td>\n",
       "      <td>NaN</td>\n",
       "      <td>NaN</td>\n",
       "    </tr>\n",
       "    <tr>\n",
       "      <th>freq</th>\n",
       "      <td>1811</td>\n",
       "      <td>1</td>\n",
       "      <td>NaN</td>\n",
       "      <td>NaN</td>\n",
       "    </tr>\n",
       "    <tr>\n",
       "      <th>mean</th>\n",
       "      <td>NaN</td>\n",
       "      <td>NaN</td>\n",
       "      <td>1708.801915</td>\n",
       "      <td>0.015396</td>\n",
       "    </tr>\n",
       "    <tr>\n",
       "      <th>std</th>\n",
       "      <td>NaN</td>\n",
       "      <td>NaN</td>\n",
       "      <td>3968.937471</td>\n",
       "      <td>0.026096</td>\n",
       "    </tr>\n",
       "    <tr>\n",
       "      <th>min</th>\n",
       "      <td>NaN</td>\n",
       "      <td>NaN</td>\n",
       "      <td>44.000000</td>\n",
       "      <td>0.000197</td>\n",
       "    </tr>\n",
       "    <tr>\n",
       "      <th>25%</th>\n",
       "      <td>NaN</td>\n",
       "      <td>NaN</td>\n",
       "      <td>530.000000</td>\n",
       "      <td>0.002345</td>\n",
       "    </tr>\n",
       "    <tr>\n",
       "      <th>50%</th>\n",
       "      <td>NaN</td>\n",
       "      <td>NaN</td>\n",
       "      <td>890.000000</td>\n",
       "      <td>0.006440</td>\n",
       "    </tr>\n",
       "    <tr>\n",
       "      <th>75%</th>\n",
       "      <td>NaN</td>\n",
       "      <td>NaN</td>\n",
       "      <td>1577.000000</td>\n",
       "      <td>0.017153</td>\n",
       "    </tr>\n",
       "    <tr>\n",
       "      <th>max</th>\n",
       "      <td>NaN</td>\n",
       "      <td>NaN</td>\n",
       "      <td>34350.000000</td>\n",
       "      <td>0.755224</td>\n",
       "    </tr>\n",
       "  </tbody>\n",
       "</table>\n",
       "</div>"
      ],
      "text/plain": [
       "       Protein  Peptide         Length  Quantification\n",
       "count   137431   137431  137431.000000   137431.000000\n",
       "unique    5535   137431            NaN             NaN\n",
       "top     Q8WZ42  LRPGEER            NaN             NaN\n",
       "freq      1811        1            NaN             NaN\n",
       "mean       NaN      NaN    1708.801915        0.015396\n",
       "std        NaN      NaN    3968.937471        0.026096\n",
       "min        NaN      NaN      44.000000        0.000197\n",
       "25%        NaN      NaN     530.000000        0.002345\n",
       "50%        NaN      NaN     890.000000        0.006440\n",
       "75%        NaN      NaN    1577.000000        0.017153\n",
       "max        NaN      NaN   34350.000000        0.755224"
      ]
     },
     "execution_count": 46,
     "metadata": {},
     "output_type": "execute_result"
    }
   ],
   "source": [
    "# drop duplicate peptides (i.e. if a peptide sequence that matches to same protein occurs twice or more), keep first occurrence\n",
    "undetected_peptides_clean = undetected_peptides_clean.drop_duplicates(subset = ['Peptide', 'Protein'], \n",
    "                                                                      keep = \"first\").reset_index(drop = True)\n",
    "undetected_peptides_clean.describe(include=\"all\")"
   ]
  },
  {
   "cell_type": "code",
   "execution_count": 50,
   "id": "ea833e99",
   "metadata": {},
   "outputs": [
    {
     "data": {
      "text/plain": [
       "243"
      ]
     },
     "execution_count": 50,
     "metadata": {},
     "output_type": "execute_result"
    }
   ],
   "source": [
    "# check how many detected proteins are not in undetected\n",
    "len(detected_peptides[~detected_peptides[\"Protein\"].isin(undetected_peptides_clean[\"Protein\"])])"
   ]
  },
  {
   "cell_type": "code",
   "execution_count": 65,
   "id": "b5933d80",
   "metadata": {},
   "outputs": [
    {
     "data": {
      "text/html": [
       "<div>\n",
       "<style scoped>\n",
       "    .dataframe tbody tr th:only-of-type {\n",
       "        vertical-align: middle;\n",
       "    }\n",
       "\n",
       "    .dataframe tbody tr th {\n",
       "        vertical-align: top;\n",
       "    }\n",
       "\n",
       "    .dataframe thead th {\n",
       "        text-align: right;\n",
       "    }\n",
       "</style>\n",
       "<table border=\"1\" class=\"dataframe\">\n",
       "  <thead>\n",
       "    <tr style=\"text-align: right;\">\n",
       "      <th></th>\n",
       "      <th>Protein</th>\n",
       "      <th>Peptide</th>\n",
       "      <th>PEP</th>\n",
       "      <th>Protein_length</th>\n",
       "      <th>PSM_per_protein</th>\n",
       "      <th>Quantification</th>\n",
       "    </tr>\n",
       "  </thead>\n",
       "  <tbody>\n",
       "    <tr>\n",
       "      <th>1</th>\n",
       "      <td>P63167</td>\n",
       "      <td>NADMSEEMQQDSVECATQALEK</td>\n",
       "      <td>1.264600e-275</td>\n",
       "      <td>89</td>\n",
       "      <td>13</td>\n",
       "      <td>0.146067</td>\n",
       "    </tr>\n",
       "    <tr>\n",
       "      <th>57</th>\n",
       "      <td>P31946</td>\n",
       "      <td>QTTVSNSQQAYQEAFEISK</td>\n",
       "      <td>5.570500e-170</td>\n",
       "      <td>246</td>\n",
       "      <td>38</td>\n",
       "      <td>0.154472</td>\n",
       "    </tr>\n",
       "    <tr>\n",
       "      <th>135</th>\n",
       "      <td>P08708</td>\n",
       "      <td>DNYVPEVSALDQEIIEVDPDTK</td>\n",
       "      <td>3.984200e-132</td>\n",
       "      <td>135</td>\n",
       "      <td>20</td>\n",
       "      <td>0.148148</td>\n",
       "    </tr>\n",
       "    <tr>\n",
       "      <th>156</th>\n",
       "      <td>P63104</td>\n",
       "      <td>GIVDQSQQAYQEAFEISK</td>\n",
       "      <td>9.758100e-131</td>\n",
       "      <td>245</td>\n",
       "      <td>86</td>\n",
       "      <td>0.351020</td>\n",
       "    </tr>\n",
       "    <tr>\n",
       "      <th>162</th>\n",
       "      <td>P31946</td>\n",
       "      <td>TAFDEAIAELDTLNEESYK</td>\n",
       "      <td>1.913200e-129</td>\n",
       "      <td>246</td>\n",
       "      <td>38</td>\n",
       "      <td>0.154472</td>\n",
       "    </tr>\n",
       "    <tr>\n",
       "      <th>...</th>\n",
       "      <td>...</td>\n",
       "      <td>...</td>\n",
       "      <td>...</td>\n",
       "      <td>...</td>\n",
       "      <td>...</td>\n",
       "      <td>...</td>\n",
       "    </tr>\n",
       "    <tr>\n",
       "      <th>36593</th>\n",
       "      <td>P31946</td>\n",
       "      <td>IEAELQDICNDVLELLDK</td>\n",
       "      <td>5.935900e-02</td>\n",
       "      <td>246</td>\n",
       "      <td>38</td>\n",
       "      <td>0.154472</td>\n",
       "    </tr>\n",
       "    <tr>\n",
       "      <th>36640</th>\n",
       "      <td>P62875</td>\n",
       "      <td>LLNYAPLEK</td>\n",
       "      <td>6.082500e-02</td>\n",
       "      <td>67</td>\n",
       "      <td>5</td>\n",
       "      <td>0.074627</td>\n",
       "    </tr>\n",
       "    <tr>\n",
       "      <th>36706</th>\n",
       "      <td>P63220</td>\n",
       "      <td>ADGIVSK</td>\n",
       "      <td>6.305900e-02</td>\n",
       "      <td>83</td>\n",
       "      <td>17</td>\n",
       "      <td>0.204819</td>\n",
       "    </tr>\n",
       "    <tr>\n",
       "      <th>36744</th>\n",
       "      <td>O75347</td>\n",
       "      <td>MMIPDCQR</td>\n",
       "      <td>6.408300e-02</td>\n",
       "      <td>108</td>\n",
       "      <td>12</td>\n",
       "      <td>0.111111</td>\n",
       "    </tr>\n",
       "    <tr>\n",
       "      <th>37412</th>\n",
       "      <td>P84098</td>\n",
       "      <td>KPVTVHSR</td>\n",
       "      <td>9.003000e-02</td>\n",
       "      <td>196</td>\n",
       "      <td>16</td>\n",
       "      <td>0.081633</td>\n",
       "    </tr>\n",
       "  </tbody>\n",
       "</table>\n",
       "<p>243 rows × 6 columns</p>\n",
       "</div>"
      ],
      "text/plain": [
       "      Protein                 Peptide            PEP  Protein_length  \\\n",
       "1      P63167  NADMSEEMQQDSVECATQALEK  1.264600e-275              89   \n",
       "57     P31946     QTTVSNSQQAYQEAFEISK  5.570500e-170             246   \n",
       "135    P08708  DNYVPEVSALDQEIIEVDPDTK  3.984200e-132             135   \n",
       "156    P63104      GIVDQSQQAYQEAFEISK  9.758100e-131             245   \n",
       "162    P31946     TAFDEAIAELDTLNEESYK  1.913200e-129             246   \n",
       "...       ...                     ...            ...             ...   \n",
       "36593  P31946      IEAELQDICNDVLELLDK   5.935900e-02             246   \n",
       "36640  P62875               LLNYAPLEK   6.082500e-02              67   \n",
       "36706  P63220                 ADGIVSK   6.305900e-02              83   \n",
       "36744  O75347                MMIPDCQR   6.408300e-02             108   \n",
       "37412  P84098                KPVTVHSR   9.003000e-02             196   \n",
       "\n",
       "       PSM_per_protein  Quantification  \n",
       "1                   13        0.146067  \n",
       "57                  38        0.154472  \n",
       "135                 20        0.148148  \n",
       "156                 86        0.351020  \n",
       "162                 38        0.154472  \n",
       "...                ...             ...  \n",
       "36593               38        0.154472  \n",
       "36640                5        0.074627  \n",
       "36706               17        0.204819  \n",
       "36744               12        0.111111  \n",
       "37412               16        0.081633  \n",
       "\n",
       "[243 rows x 6 columns]"
      ]
     },
     "execution_count": 65,
     "metadata": {},
     "output_type": "execute_result"
    }
   ],
   "source": [
    "detected_peptides[~detected_peptides[\"Protein\"].isin(undetected_peptides_clean[\"Protein\"])]"
   ]
  },
  {
   "cell_type": "code",
   "execution_count": 51,
   "id": "b02de8d5",
   "metadata": {},
   "outputs": [
    {
     "data": {
      "text/plain": [
       "37847"
      ]
     },
     "execution_count": 51,
     "metadata": {},
     "output_type": "execute_result"
    }
   ],
   "source": [
    "# initial check on how many total proteins and PSMs in detected_peptides are in fasta_peptides\n",
    "len(detected_peptides[detected_peptides[\"Protein\"].isin(fasta_peptides[\"Protein\"])])"
   ]
  },
  {
   "cell_type": "code",
   "execution_count": 67,
   "id": "b19160fb",
   "metadata": {},
   "outputs": [
    {
     "data": {
      "text/plain": [
       "(137431, 4)"
      ]
     },
     "execution_count": 67,
     "metadata": {},
     "output_type": "execute_result"
    }
   ],
   "source": [
    "undetected_peptides_clean.shape"
   ]
  },
  {
   "cell_type": "markdown",
   "id": "c1bf96d7",
   "metadata": {},
   "source": [
    "# 3. Export new data frame with undetected peptides as TSV"
   ]
  },
  {
   "cell_type": "code",
   "execution_count": 66,
   "id": "61648bc1",
   "metadata": {},
   "outputs": [],
   "source": [
    "# export undetected peptides to TSV\n",
    "undetected_peptides_clean.to_csv(\"../data/undetected_peptides_NSAF.tsv\", sep='\\t', index=False)"
   ]
  }
 ],
 "metadata": {
  "kernelspec": {
   "display_name": "Python 3",
   "language": "python",
   "name": "python3"
  },
  "language_info": {
   "codemirror_mode": {
    "name": "ipython",
    "version": 3
   },
   "file_extension": ".py",
   "mimetype": "text/x-python",
   "name": "python",
   "nbconvert_exporter": "python",
   "pygments_lexer": "ipython3",
   "version": "3.8.3"
  }
 },
 "nbformat": 4,
 "nbformat_minor": 5
}
