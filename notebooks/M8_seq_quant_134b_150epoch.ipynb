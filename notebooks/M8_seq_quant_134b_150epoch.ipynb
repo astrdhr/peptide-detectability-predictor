{
 "cells": [
  {
   "cell_type": "code",
   "execution_count": 1,
   "id": "63a02e12-486a-4678-9fc3-618381cd039d",
   "metadata": {},
   "outputs": [],
   "source": [
    "# import libraries\n",
    "import numpy as np\n",
    "import pandas as pd\n",
    "import tensorflow as tf\n",
    "from tensorflow import keras\n",
    "from tensorflow.keras import layers\n",
    "import sklearn.model_selection\n",
    "from sklearn.utils import shuffle\n",
    "#from sklearn.metrics import confusion_matrix, ConfusionMatrixDisplay\n",
    "from tensorflow.keras.models import Sequential\n",
    "from tensorflow.keras.layers import Dense\n",
    "from tensorflow.keras.layers import LSTM\n",
    "from tensorflow.keras.layers import Embedding\n",
    "import math\n",
    "from tensorflow.keras.models import load_model\n",
    "from tensorflow.keras.models import model_from_json\n",
    "import re\n",
    "from transformers import TokenAndPositionEmbedding, TransformerBlock\n",
    "import time"
   ]
  },
  {
   "cell_type": "code",
   "execution_count": 2,
   "id": "fd70e717-bd34-4353-9439-e2cb276f5758",
   "metadata": {},
   "outputs": [],
   "source": [
    "# import detected and undetected datasets\n",
    "detected_peptides = pd.read_table('../data/detected_peptides_all_aaindex1.tsv')\n",
    "undetected_peptides = pd.read_table('../data/undetected_peptides_all_aaindex1.tsv')"
   ]
  },
  {
   "cell_type": "code",
   "execution_count": 3,
   "id": "5318a505-1a2d-4cc0-8baf-38d7aad3ecb4",
   "metadata": {},
   "outputs": [
    {
     "name": "stdout",
     "output_type": "stream",
     "text": [
      "(37837, 571)\n",
      "(134282, 571)\n"
     ]
    }
   ],
   "source": [
    "# keep detected and undetected peptides less than or equal to 40 aa AND greater than or equal to 7 aa in length\n",
    "detected_peptides = detected_peptides.loc[(detected_peptides[\"Peptide\"].str.len()>=7) & \n",
    "                                          (detected_peptides[\"Peptide\"].str.len()<=40)].reset_index(drop=True)\n",
    "\n",
    "undetected_peptides = undetected_peptides.loc[(undetected_peptides[\"Peptide\"].str.len()>=7) & \n",
    "                                              (undetected_peptides[\"Peptide\"].str.len()<=40)].reset_index(drop=True)\n",
    "\n",
    "print(detected_peptides.shape)\n",
    "print(undetected_peptides.shape)"
   ]
  },
  {
   "cell_type": "code",
   "execution_count": 4,
   "id": "c1262c90-0a8f-4e9e-920e-c1f63aabc6f8",
   "metadata": {},
   "outputs": [
    {
     "data": {
      "text/plain": [
       "0"
      ]
     },
     "execution_count": 4,
     "metadata": {},
     "output_type": "execute_result"
    }
   ],
   "source": [
    "# double check 0 peptides in undetected peptides are present in detected peptides\n",
    "len(undetected_peptides[undetected_peptides[\"Peptide\"].isin(detected_peptides[\"Peptide\"])])"
   ]
  },
  {
   "cell_type": "code",
   "execution_count": 5,
   "id": "e125361f-b30f-4afb-afc0-6881e8ce5b20",
   "metadata": {},
   "outputs": [
    {
     "data": {
      "text/html": [
       "<div>\n",
       "<style scoped>\n",
       "    .dataframe tbody tr th:only-of-type {\n",
       "        vertical-align: middle;\n",
       "    }\n",
       "\n",
       "    .dataframe tbody tr th {\n",
       "        vertical-align: top;\n",
       "    }\n",
       "\n",
       "    .dataframe thead th {\n",
       "        text-align: right;\n",
       "    }\n",
       "</style>\n",
       "<table border=\"1\" class=\"dataframe\">\n",
       "  <thead>\n",
       "    <tr style=\"text-align: right;\">\n",
       "      <th></th>\n",
       "      <th>Protein</th>\n",
       "      <th>Peptide</th>\n",
       "      <th>PEP</th>\n",
       "      <th>Protein_length</th>\n",
       "      <th>Quantification</th>\n",
       "      <th>ANDN920101</th>\n",
       "      <th>ARGP820101</th>\n",
       "      <th>ARGP820102</th>\n",
       "      <th>ARGP820103</th>\n",
       "      <th>BEGF750101</th>\n",
       "      <th>...</th>\n",
       "      <th>KARS160113</th>\n",
       "      <th>KARS160114</th>\n",
       "      <th>KARS160115</th>\n",
       "      <th>KARS160116</th>\n",
       "      <th>KARS160117</th>\n",
       "      <th>KARS160118</th>\n",
       "      <th>KARS160119</th>\n",
       "      <th>KARS160120</th>\n",
       "      <th>KARS160121</th>\n",
       "      <th>KARS160122</th>\n",
       "    </tr>\n",
       "  </thead>\n",
       "  <tbody>\n",
       "    <tr>\n",
       "      <th>0</th>\n",
       "      <td>P35579</td>\n",
       "      <td>DFSALESQLQDTQELLQEENR</td>\n",
       "      <td>1.236400e-275</td>\n",
       "      <td>1960.0</td>\n",
       "      <td>0.204082</td>\n",
       "      <td>92.33</td>\n",
       "      <td>12.36</td>\n",
       "      <td>22.69</td>\n",
       "      <td>21.80</td>\n",
       "      <td>13.17</td>\n",
       "      <td>...</td>\n",
       "      <td>241.0</td>\n",
       "      <td>380.122</td>\n",
       "      <td>270.0</td>\n",
       "      <td>454.0</td>\n",
       "      <td>713.007</td>\n",
       "      <td>133.94</td>\n",
       "      <td>537.463</td>\n",
       "      <td>-4.227</td>\n",
       "      <td>208.869</td>\n",
       "      <td>60.300</td>\n",
       "    </tr>\n",
       "    <tr>\n",
       "      <th>1</th>\n",
       "      <td>P63167</td>\n",
       "      <td>NADMSEEMQQDSVECATQALEK</td>\n",
       "      <td>1.264600e-275</td>\n",
       "      <td>89.0</td>\n",
       "      <td>0.146067</td>\n",
       "      <td>97.11</td>\n",
       "      <td>12.27</td>\n",
       "      <td>20.85</td>\n",
       "      <td>21.58</td>\n",
       "      <td>14.09</td>\n",
       "      <td>...</td>\n",
       "      <td>228.0</td>\n",
       "      <td>375.531</td>\n",
       "      <td>265.0</td>\n",
       "      <td>459.0</td>\n",
       "      <td>684.014</td>\n",
       "      <td>147.94</td>\n",
       "      <td>545.660</td>\n",
       "      <td>-4.406</td>\n",
       "      <td>216.602</td>\n",
       "      <td>61.570</td>\n",
       "    </tr>\n",
       "    <tr>\n",
       "      <th>2</th>\n",
       "      <td>P02545</td>\n",
       "      <td>ASASGSGAQVGGPISSGSSASSVTVTR</td>\n",
       "      <td>3.009900e-251</td>\n",
       "      <td>664.0</td>\n",
       "      <td>0.195783</td>\n",
       "      <td>115.44</td>\n",
       "      <td>12.07</td>\n",
       "      <td>23.95</td>\n",
       "      <td>25.26</td>\n",
       "      <td>13.99</td>\n",
       "      <td>...</td>\n",
       "      <td>168.0</td>\n",
       "      <td>297.981</td>\n",
       "      <td>194.0</td>\n",
       "      <td>390.0</td>\n",
       "      <td>545.021</td>\n",
       "      <td>159.77</td>\n",
       "      <td>482.653</td>\n",
       "      <td>-10.095</td>\n",
       "      <td>207.270</td>\n",
       "      <td>105.422</td>\n",
       "    </tr>\n",
       "    <tr>\n",
       "      <th>3</th>\n",
       "      <td>Q14257</td>\n",
       "      <td>LSEEEILENPDLFLTSEATDYGR</td>\n",
       "      <td>8.585900e-249</td>\n",
       "      <td>317.0</td>\n",
       "      <td>0.069401</td>\n",
       "      <td>100.45</td>\n",
       "      <td>19.00</td>\n",
       "      <td>23.85</td>\n",
       "      <td>24.63</td>\n",
       "      <td>14.16</td>\n",
       "      <td>...</td>\n",
       "      <td>254.0</td>\n",
       "      <td>387.734</td>\n",
       "      <td>277.0</td>\n",
       "      <td>472.0</td>\n",
       "      <td>741.007</td>\n",
       "      <td>141.73</td>\n",
       "      <td>562.782</td>\n",
       "      <td>-11.055</td>\n",
       "      <td>223.858</td>\n",
       "      <td>77.698</td>\n",
       "    </tr>\n",
       "    <tr>\n",
       "      <th>4</th>\n",
       "      <td>P10809</td>\n",
       "      <td>IMQSSSEVGYDAMAGDFVNMVEK</td>\n",
       "      <td>3.154100e-248</td>\n",
       "      <td>573.0</td>\n",
       "      <td>0.335079</td>\n",
       "      <td>100.34</td>\n",
       "      <td>18.20</td>\n",
       "      <td>22.63</td>\n",
       "      <td>25.14</td>\n",
       "      <td>14.71</td>\n",
       "      <td>...</td>\n",
       "      <td>236.0</td>\n",
       "      <td>375.687</td>\n",
       "      <td>259.0</td>\n",
       "      <td>469.0</td>\n",
       "      <td>687.028</td>\n",
       "      <td>147.42</td>\n",
       "      <td>537.126</td>\n",
       "      <td>-2.780</td>\n",
       "      <td>219.424</td>\n",
       "      <td>66.769</td>\n",
       "    </tr>\n",
       "  </tbody>\n",
       "</table>\n",
       "<p>5 rows × 571 columns</p>\n",
       "</div>"
      ],
      "text/plain": [
       "  Protein                      Peptide            PEP  Protein_length  \\\n",
       "0  P35579        DFSALESQLQDTQELLQEENR  1.236400e-275          1960.0   \n",
       "1  P63167       NADMSEEMQQDSVECATQALEK  1.264600e-275            89.0   \n",
       "2  P02545  ASASGSGAQVGGPISSGSSASSVTVTR  3.009900e-251           664.0   \n",
       "3  Q14257      LSEEEILENPDLFLTSEATDYGR  8.585900e-249           317.0   \n",
       "4  P10809      IMQSSSEVGYDAMAGDFVNMVEK  3.154100e-248           573.0   \n",
       "\n",
       "   Quantification  ANDN920101  ARGP820101  ARGP820102  ARGP820103  BEGF750101  \\\n",
       "0        0.204082       92.33       12.36       22.69       21.80       13.17   \n",
       "1        0.146067       97.11       12.27       20.85       21.58       14.09   \n",
       "2        0.195783      115.44       12.07       23.95       25.26       13.99   \n",
       "3        0.069401      100.45       19.00       23.85       24.63       14.16   \n",
       "4        0.335079      100.34       18.20       22.63       25.14       14.71   \n",
       "\n",
       "   ...  KARS160113  KARS160114  KARS160115  KARS160116  KARS160117  \\\n",
       "0  ...       241.0     380.122       270.0       454.0     713.007   \n",
       "1  ...       228.0     375.531       265.0       459.0     684.014   \n",
       "2  ...       168.0     297.981       194.0       390.0     545.021   \n",
       "3  ...       254.0     387.734       277.0       472.0     741.007   \n",
       "4  ...       236.0     375.687       259.0       469.0     687.028   \n",
       "\n",
       "   KARS160118  KARS160119  KARS160120  KARS160121  KARS160122  \n",
       "0      133.94     537.463      -4.227     208.869      60.300  \n",
       "1      147.94     545.660      -4.406     216.602      61.570  \n",
       "2      159.77     482.653     -10.095     207.270     105.422  \n",
       "3      141.73     562.782     -11.055     223.858      77.698  \n",
       "4      147.42     537.126      -2.780     219.424      66.769  \n",
       "\n",
       "[5 rows x 571 columns]"
      ]
     },
     "execution_count": 5,
     "metadata": {},
     "output_type": "execute_result"
    }
   ],
   "source": [
    "detected_peptides.head()"
   ]
  },
  {
   "cell_type": "code",
   "execution_count": 6,
   "id": "64482e66-4dde-4e86-928a-f0ae5c1c9eba",
   "metadata": {},
   "outputs": [
    {
     "name": "stdout",
     "output_type": "stream",
     "text": [
      "(37837, 568)\n",
      "(134282, 568)\n"
     ]
    }
   ],
   "source": [
    "# drop unnecessary columns\n",
    "detected_peptides = detected_peptides.drop(['Protein', 'PEP', 'Protein_length'], axis=1)\n",
    "undetected_peptides = undetected_peptides.drop(['Protein', 'PEP', 'Protein_length'], axis=1)\n",
    "\n",
    "print(detected_peptides.shape)\n",
    "print(undetected_peptides.shape)"
   ]
  },
  {
   "cell_type": "code",
   "execution_count": 7,
   "id": "42c4b7d7-f438-406c-8818-e0b289e6c7fd",
   "metadata": {},
   "outputs": [
    {
     "data": {
      "text/html": [
       "<div>\n",
       "<style scoped>\n",
       "    .dataframe tbody tr th:only-of-type {\n",
       "        vertical-align: middle;\n",
       "    }\n",
       "\n",
       "    .dataframe tbody tr th {\n",
       "        vertical-align: top;\n",
       "    }\n",
       "\n",
       "    .dataframe thead th {\n",
       "        text-align: right;\n",
       "    }\n",
       "</style>\n",
       "<table border=\"1\" class=\"dataframe\">\n",
       "  <thead>\n",
       "    <tr style=\"text-align: right;\">\n",
       "      <th></th>\n",
       "      <th>Peptide</th>\n",
       "      <th>Quantification</th>\n",
       "      <th>ANDN920101</th>\n",
       "      <th>ARGP820101</th>\n",
       "      <th>ARGP820102</th>\n",
       "      <th>ARGP820103</th>\n",
       "      <th>BEGF750101</th>\n",
       "      <th>BEGF750102</th>\n",
       "      <th>BEGF750103</th>\n",
       "      <th>BHAR880101</th>\n",
       "      <th>...</th>\n",
       "      <th>KARS160113</th>\n",
       "      <th>KARS160114</th>\n",
       "      <th>KARS160115</th>\n",
       "      <th>KARS160116</th>\n",
       "      <th>KARS160117</th>\n",
       "      <th>KARS160118</th>\n",
       "      <th>KARS160119</th>\n",
       "      <th>KARS160120</th>\n",
       "      <th>KARS160121</th>\n",
       "      <th>KARS160122</th>\n",
       "    </tr>\n",
       "  </thead>\n",
       "  <tbody>\n",
       "    <tr>\n",
       "      <th>0</th>\n",
       "      <td>DFSALESQLQDTQELLQEENR</td>\n",
       "      <td>0.204082</td>\n",
       "      <td>92.33</td>\n",
       "      <td>12.36</td>\n",
       "      <td>22.69</td>\n",
       "      <td>21.80</td>\n",
       "      <td>13.17</td>\n",
       "      <td>14.65</td>\n",
       "      <td>13.88</td>\n",
       "      <td>9.563</td>\n",
       "      <td>...</td>\n",
       "      <td>241.0</td>\n",
       "      <td>380.122</td>\n",
       "      <td>270.0</td>\n",
       "      <td>454.0</td>\n",
       "      <td>713.007</td>\n",
       "      <td>133.94</td>\n",
       "      <td>537.463</td>\n",
       "      <td>-4.227</td>\n",
       "      <td>208.869</td>\n",
       "      <td>60.300</td>\n",
       "    </tr>\n",
       "    <tr>\n",
       "      <th>1</th>\n",
       "      <td>NADMSEEMQQDSVECATQALEK</td>\n",
       "      <td>0.146067</td>\n",
       "      <td>97.11</td>\n",
       "      <td>12.27</td>\n",
       "      <td>20.85</td>\n",
       "      <td>21.58</td>\n",
       "      <td>14.09</td>\n",
       "      <td>15.42</td>\n",
       "      <td>14.26</td>\n",
       "      <td>9.634</td>\n",
       "      <td>...</td>\n",
       "      <td>228.0</td>\n",
       "      <td>375.531</td>\n",
       "      <td>265.0</td>\n",
       "      <td>459.0</td>\n",
       "      <td>684.014</td>\n",
       "      <td>147.94</td>\n",
       "      <td>545.660</td>\n",
       "      <td>-4.406</td>\n",
       "      <td>216.602</td>\n",
       "      <td>61.570</td>\n",
       "    </tr>\n",
       "    <tr>\n",
       "      <th>2</th>\n",
       "      <td>ASASGSGAQVGGPISSGSSASSVTVTR</td>\n",
       "      <td>0.195783</td>\n",
       "      <td>115.44</td>\n",
       "      <td>12.07</td>\n",
       "      <td>23.95</td>\n",
       "      <td>25.26</td>\n",
       "      <td>13.99</td>\n",
       "      <td>18.85</td>\n",
       "      <td>19.32</td>\n",
       "      <td>12.750</td>\n",
       "      <td>...</td>\n",
       "      <td>168.0</td>\n",
       "      <td>297.981</td>\n",
       "      <td>194.0</td>\n",
       "      <td>390.0</td>\n",
       "      <td>545.021</td>\n",
       "      <td>159.77</td>\n",
       "      <td>482.653</td>\n",
       "      <td>-10.095</td>\n",
       "      <td>207.270</td>\n",
       "      <td>105.422</td>\n",
       "    </tr>\n",
       "    <tr>\n",
       "      <th>3</th>\n",
       "      <td>LSEEEILENPDLFLTSEATDYGR</td>\n",
       "      <td>0.069401</td>\n",
       "      <td>100.45</td>\n",
       "      <td>19.00</td>\n",
       "      <td>23.85</td>\n",
       "      <td>24.63</td>\n",
       "      <td>14.16</td>\n",
       "      <td>16.16</td>\n",
       "      <td>15.75</td>\n",
       "      <td>10.467</td>\n",
       "      <td>...</td>\n",
       "      <td>254.0</td>\n",
       "      <td>387.734</td>\n",
       "      <td>277.0</td>\n",
       "      <td>472.0</td>\n",
       "      <td>741.007</td>\n",
       "      <td>141.73</td>\n",
       "      <td>562.782</td>\n",
       "      <td>-11.055</td>\n",
       "      <td>223.858</td>\n",
       "      <td>77.698</td>\n",
       "    </tr>\n",
       "    <tr>\n",
       "      <th>4</th>\n",
       "      <td>IMQSSSEVGYDAMAGDFVNMVEK</td>\n",
       "      <td>0.335079</td>\n",
       "      <td>100.34</td>\n",
       "      <td>18.20</td>\n",
       "      <td>22.63</td>\n",
       "      <td>25.14</td>\n",
       "      <td>14.71</td>\n",
       "      <td>17.38</td>\n",
       "      <td>15.33</td>\n",
       "      <td>10.000</td>\n",
       "      <td>...</td>\n",
       "      <td>236.0</td>\n",
       "      <td>375.687</td>\n",
       "      <td>259.0</td>\n",
       "      <td>469.0</td>\n",
       "      <td>687.028</td>\n",
       "      <td>147.42</td>\n",
       "      <td>537.126</td>\n",
       "      <td>-2.780</td>\n",
       "      <td>219.424</td>\n",
       "      <td>66.769</td>\n",
       "    </tr>\n",
       "  </tbody>\n",
       "</table>\n",
       "<p>5 rows × 568 columns</p>\n",
       "</div>"
      ],
      "text/plain": [
       "                       Peptide  Quantification  ANDN920101  ARGP820101  \\\n",
       "0        DFSALESQLQDTQELLQEENR        0.204082       92.33       12.36   \n",
       "1       NADMSEEMQQDSVECATQALEK        0.146067       97.11       12.27   \n",
       "2  ASASGSGAQVGGPISSGSSASSVTVTR        0.195783      115.44       12.07   \n",
       "3      LSEEEILENPDLFLTSEATDYGR        0.069401      100.45       19.00   \n",
       "4      IMQSSSEVGYDAMAGDFVNMVEK        0.335079      100.34       18.20   \n",
       "\n",
       "   ARGP820102  ARGP820103  BEGF750101  BEGF750102  BEGF750103  BHAR880101  \\\n",
       "0       22.69       21.80       13.17       14.65       13.88       9.563   \n",
       "1       20.85       21.58       14.09       15.42       14.26       9.634   \n",
       "2       23.95       25.26       13.99       18.85       19.32      12.750   \n",
       "3       23.85       24.63       14.16       16.16       15.75      10.467   \n",
       "4       22.63       25.14       14.71       17.38       15.33      10.000   \n",
       "\n",
       "   ...  KARS160113  KARS160114  KARS160115  KARS160116  KARS160117  \\\n",
       "0  ...       241.0     380.122       270.0       454.0     713.007   \n",
       "1  ...       228.0     375.531       265.0       459.0     684.014   \n",
       "2  ...       168.0     297.981       194.0       390.0     545.021   \n",
       "3  ...       254.0     387.734       277.0       472.0     741.007   \n",
       "4  ...       236.0     375.687       259.0       469.0     687.028   \n",
       "\n",
       "   KARS160118  KARS160119  KARS160120  KARS160121  KARS160122  \n",
       "0      133.94     537.463      -4.227     208.869      60.300  \n",
       "1      147.94     545.660      -4.406     216.602      61.570  \n",
       "2      159.77     482.653     -10.095     207.270     105.422  \n",
       "3      141.73     562.782     -11.055     223.858      77.698  \n",
       "4      147.42     537.126      -2.780     219.424      66.769  \n",
       "\n",
       "[5 rows x 568 columns]"
      ]
     },
     "execution_count": 7,
     "metadata": {},
     "output_type": "execute_result"
    }
   ],
   "source": [
    "detected_peptides.head()"
   ]
  },
  {
   "cell_type": "code",
   "execution_count": 8,
   "id": "061e432f-28fe-4aae-81f0-2fcddfe04ed1",
   "metadata": {},
   "outputs": [
    {
     "name": "stdout",
     "output_type": "stream",
     "text": [
      "(37837, 569)\n",
      "(134282, 569)\n"
     ]
    }
   ],
   "source": [
    "# add detectability column\n",
    "detected_peptides.insert(loc=1, column='Detectability', value=1)\n",
    "undetected_peptides.insert(loc=1, column='Detectability', value=0)\n",
    "\n",
    "print(detected_peptides.shape)\n",
    "print(undetected_peptides.shape)"
   ]
  },
  {
   "cell_type": "code",
   "execution_count": 9,
   "id": "833ffed3-5311-427f-a882-817da2d46046",
   "metadata": {},
   "outputs": [
    {
     "data": {
      "text/html": [
       "<div>\n",
       "<style scoped>\n",
       "    .dataframe tbody tr th:only-of-type {\n",
       "        vertical-align: middle;\n",
       "    }\n",
       "\n",
       "    .dataframe tbody tr th {\n",
       "        vertical-align: top;\n",
       "    }\n",
       "\n",
       "    .dataframe thead th {\n",
       "        text-align: right;\n",
       "    }\n",
       "</style>\n",
       "<table border=\"1\" class=\"dataframe\">\n",
       "  <thead>\n",
       "    <tr style=\"text-align: right;\">\n",
       "      <th></th>\n",
       "      <th>Peptide</th>\n",
       "      <th>Detectability</th>\n",
       "      <th>Quantification</th>\n",
       "      <th>ANDN920101</th>\n",
       "      <th>ARGP820101</th>\n",
       "      <th>ARGP820102</th>\n",
       "      <th>ARGP820103</th>\n",
       "      <th>BEGF750101</th>\n",
       "      <th>BEGF750102</th>\n",
       "      <th>BEGF750103</th>\n",
       "      <th>...</th>\n",
       "      <th>KARS160113</th>\n",
       "      <th>KARS160114</th>\n",
       "      <th>KARS160115</th>\n",
       "      <th>KARS160116</th>\n",
       "      <th>KARS160117</th>\n",
       "      <th>KARS160118</th>\n",
       "      <th>KARS160119</th>\n",
       "      <th>KARS160120</th>\n",
       "      <th>KARS160121</th>\n",
       "      <th>KARS160122</th>\n",
       "    </tr>\n",
       "  </thead>\n",
       "  <tbody>\n",
       "    <tr>\n",
       "      <th>0</th>\n",
       "      <td>DFSALESQLQDTQELLQEENR</td>\n",
       "      <td>1</td>\n",
       "      <td>0.204082</td>\n",
       "      <td>92.33</td>\n",
       "      <td>12.36</td>\n",
       "      <td>22.69</td>\n",
       "      <td>21.80</td>\n",
       "      <td>13.17</td>\n",
       "      <td>14.65</td>\n",
       "      <td>13.88</td>\n",
       "      <td>...</td>\n",
       "      <td>241.0</td>\n",
       "      <td>380.122</td>\n",
       "      <td>270.0</td>\n",
       "      <td>454.0</td>\n",
       "      <td>713.007</td>\n",
       "      <td>133.94</td>\n",
       "      <td>537.463</td>\n",
       "      <td>-4.227</td>\n",
       "      <td>208.869</td>\n",
       "      <td>60.300</td>\n",
       "    </tr>\n",
       "    <tr>\n",
       "      <th>1</th>\n",
       "      <td>NADMSEEMQQDSVECATQALEK</td>\n",
       "      <td>1</td>\n",
       "      <td>0.146067</td>\n",
       "      <td>97.11</td>\n",
       "      <td>12.27</td>\n",
       "      <td>20.85</td>\n",
       "      <td>21.58</td>\n",
       "      <td>14.09</td>\n",
       "      <td>15.42</td>\n",
       "      <td>14.26</td>\n",
       "      <td>...</td>\n",
       "      <td>228.0</td>\n",
       "      <td>375.531</td>\n",
       "      <td>265.0</td>\n",
       "      <td>459.0</td>\n",
       "      <td>684.014</td>\n",
       "      <td>147.94</td>\n",
       "      <td>545.660</td>\n",
       "      <td>-4.406</td>\n",
       "      <td>216.602</td>\n",
       "      <td>61.570</td>\n",
       "    </tr>\n",
       "    <tr>\n",
       "      <th>2</th>\n",
       "      <td>ASASGSGAQVGGPISSGSSASSVTVTR</td>\n",
       "      <td>1</td>\n",
       "      <td>0.195783</td>\n",
       "      <td>115.44</td>\n",
       "      <td>12.07</td>\n",
       "      <td>23.95</td>\n",
       "      <td>25.26</td>\n",
       "      <td>13.99</td>\n",
       "      <td>18.85</td>\n",
       "      <td>19.32</td>\n",
       "      <td>...</td>\n",
       "      <td>168.0</td>\n",
       "      <td>297.981</td>\n",
       "      <td>194.0</td>\n",
       "      <td>390.0</td>\n",
       "      <td>545.021</td>\n",
       "      <td>159.77</td>\n",
       "      <td>482.653</td>\n",
       "      <td>-10.095</td>\n",
       "      <td>207.270</td>\n",
       "      <td>105.422</td>\n",
       "    </tr>\n",
       "    <tr>\n",
       "      <th>3</th>\n",
       "      <td>LSEEEILENPDLFLTSEATDYGR</td>\n",
       "      <td>1</td>\n",
       "      <td>0.069401</td>\n",
       "      <td>100.45</td>\n",
       "      <td>19.00</td>\n",
       "      <td>23.85</td>\n",
       "      <td>24.63</td>\n",
       "      <td>14.16</td>\n",
       "      <td>16.16</td>\n",
       "      <td>15.75</td>\n",
       "      <td>...</td>\n",
       "      <td>254.0</td>\n",
       "      <td>387.734</td>\n",
       "      <td>277.0</td>\n",
       "      <td>472.0</td>\n",
       "      <td>741.007</td>\n",
       "      <td>141.73</td>\n",
       "      <td>562.782</td>\n",
       "      <td>-11.055</td>\n",
       "      <td>223.858</td>\n",
       "      <td>77.698</td>\n",
       "    </tr>\n",
       "    <tr>\n",
       "      <th>4</th>\n",
       "      <td>IMQSSSEVGYDAMAGDFVNMVEK</td>\n",
       "      <td>1</td>\n",
       "      <td>0.335079</td>\n",
       "      <td>100.34</td>\n",
       "      <td>18.20</td>\n",
       "      <td>22.63</td>\n",
       "      <td>25.14</td>\n",
       "      <td>14.71</td>\n",
       "      <td>17.38</td>\n",
       "      <td>15.33</td>\n",
       "      <td>...</td>\n",
       "      <td>236.0</td>\n",
       "      <td>375.687</td>\n",
       "      <td>259.0</td>\n",
       "      <td>469.0</td>\n",
       "      <td>687.028</td>\n",
       "      <td>147.42</td>\n",
       "      <td>537.126</td>\n",
       "      <td>-2.780</td>\n",
       "      <td>219.424</td>\n",
       "      <td>66.769</td>\n",
       "    </tr>\n",
       "  </tbody>\n",
       "</table>\n",
       "<p>5 rows × 569 columns</p>\n",
       "</div>"
      ],
      "text/plain": [
       "                       Peptide  Detectability  Quantification  ANDN920101  \\\n",
       "0        DFSALESQLQDTQELLQEENR              1        0.204082       92.33   \n",
       "1       NADMSEEMQQDSVECATQALEK              1        0.146067       97.11   \n",
       "2  ASASGSGAQVGGPISSGSSASSVTVTR              1        0.195783      115.44   \n",
       "3      LSEEEILENPDLFLTSEATDYGR              1        0.069401      100.45   \n",
       "4      IMQSSSEVGYDAMAGDFVNMVEK              1        0.335079      100.34   \n",
       "\n",
       "   ARGP820101  ARGP820102  ARGP820103  BEGF750101  BEGF750102  BEGF750103  \\\n",
       "0       12.36       22.69       21.80       13.17       14.65       13.88   \n",
       "1       12.27       20.85       21.58       14.09       15.42       14.26   \n",
       "2       12.07       23.95       25.26       13.99       18.85       19.32   \n",
       "3       19.00       23.85       24.63       14.16       16.16       15.75   \n",
       "4       18.20       22.63       25.14       14.71       17.38       15.33   \n",
       "\n",
       "   ...  KARS160113  KARS160114  KARS160115  KARS160116  KARS160117  \\\n",
       "0  ...       241.0     380.122       270.0       454.0     713.007   \n",
       "1  ...       228.0     375.531       265.0       459.0     684.014   \n",
       "2  ...       168.0     297.981       194.0       390.0     545.021   \n",
       "3  ...       254.0     387.734       277.0       472.0     741.007   \n",
       "4  ...       236.0     375.687       259.0       469.0     687.028   \n",
       "\n",
       "   KARS160118  KARS160119  KARS160120  KARS160121  KARS160122  \n",
       "0      133.94     537.463      -4.227     208.869      60.300  \n",
       "1      147.94     545.660      -4.406     216.602      61.570  \n",
       "2      159.77     482.653     -10.095     207.270     105.422  \n",
       "3      141.73     562.782     -11.055     223.858      77.698  \n",
       "4      147.42     537.126      -2.780     219.424      66.769  \n",
       "\n",
       "[5 rows x 569 columns]"
      ]
     },
     "execution_count": 9,
     "metadata": {},
     "output_type": "execute_result"
    }
   ],
   "source": [
    "detected_peptides.head()"
   ]
  },
  {
   "cell_type": "code",
   "execution_count": 10,
   "id": "9f0cb86b-3a22-493c-87fb-0ad4ae6a15e1",
   "metadata": {},
   "outputs": [
    {
     "name": "stdout",
     "output_type": "stream",
     "text": [
      "(37837, 569)\n",
      "(37837, 569)\n"
     ]
    }
   ],
   "source": [
    "# take random sample of undetected_peptides, with equal number of rows to detected_peptides\n",
    "# random_state is used for reproducibility\n",
    "undetected_peptides_balanced = undetected_peptides.sample(n=detected_peptides.shape[0], \n",
    "                                                         random_state=42).reset_index(drop=True)\n",
    "print(detected_peptides.shape)\n",
    "print(undetected_peptides_balanced.shape)"
   ]
  },
  {
   "cell_type": "code",
   "execution_count": 11,
   "id": "08e816a9-b97f-4b77-a58c-0cf8591ac29c",
   "metadata": {},
   "outputs": [
    {
     "data": {
      "text/html": [
       "<div>\n",
       "<style scoped>\n",
       "    .dataframe tbody tr th:only-of-type {\n",
       "        vertical-align: middle;\n",
       "    }\n",
       "\n",
       "    .dataframe tbody tr th {\n",
       "        vertical-align: top;\n",
       "    }\n",
       "\n",
       "    .dataframe thead th {\n",
       "        text-align: right;\n",
       "    }\n",
       "</style>\n",
       "<table border=\"1\" class=\"dataframe\">\n",
       "  <thead>\n",
       "    <tr style=\"text-align: right;\">\n",
       "      <th></th>\n",
       "      <th>Peptide</th>\n",
       "      <th>Detectability</th>\n",
       "      <th>Quantification</th>\n",
       "      <th>ANDN920101</th>\n",
       "      <th>ARGP820101</th>\n",
       "      <th>ARGP820102</th>\n",
       "      <th>ARGP820103</th>\n",
       "      <th>BEGF750101</th>\n",
       "      <th>BEGF750102</th>\n",
       "      <th>BEGF750103</th>\n",
       "      <th>...</th>\n",
       "      <th>KARS160113</th>\n",
       "      <th>KARS160114</th>\n",
       "      <th>KARS160115</th>\n",
       "      <th>KARS160116</th>\n",
       "      <th>KARS160117</th>\n",
       "      <th>KARS160118</th>\n",
       "      <th>KARS160119</th>\n",
       "      <th>KARS160120</th>\n",
       "      <th>KARS160121</th>\n",
       "      <th>KARS160122</th>\n",
       "    </tr>\n",
       "  </thead>\n",
       "  <tbody>\n",
       "    <tr>\n",
       "      <th>0</th>\n",
       "      <td>IWRPPMYQR</td>\n",
       "      <td>0</td>\n",
       "      <td>0.001679</td>\n",
       "      <td>39.78</td>\n",
       "      <td>13.03</td>\n",
       "      <td>7.92</td>\n",
       "      <td>9.32</td>\n",
       "      <td>4.50</td>\n",
       "      <td>6.82</td>\n",
       "      <td>7.08</td>\n",
       "      <td>...</td>\n",
       "      <td>146.0</td>\n",
       "      <td>206.135</td>\n",
       "      <td>147.0</td>\n",
       "      <td>250.0</td>\n",
       "      <td>371.000</td>\n",
       "      <td>54.387</td>\n",
       "      <td>236.732</td>\n",
       "      <td>-2.390</td>\n",
       "      <td>104.006</td>\n",
       "      <td>43.921</td>\n",
       "    </tr>\n",
       "    <tr>\n",
       "      <th>1</th>\n",
       "      <td>NGTHLDAGALTTTFEELHFEIKPHDDCTVEQIYEILK</td>\n",
       "      <td>0</td>\n",
       "      <td>0.043841</td>\n",
       "      <td>161.34</td>\n",
       "      <td>32.57</td>\n",
       "      <td>35.55</td>\n",
       "      <td>37.03</td>\n",
       "      <td>22.43</td>\n",
       "      <td>27.78</td>\n",
       "      <td>24.66</td>\n",
       "      <td>...</td>\n",
       "      <td>395.0</td>\n",
       "      <td>613.817</td>\n",
       "      <td>449.0</td>\n",
       "      <td>741.0</td>\n",
       "      <td>1200.014</td>\n",
       "      <td>220.840</td>\n",
       "      <td>893.243</td>\n",
       "      <td>-32.578</td>\n",
       "      <td>356.324</td>\n",
       "      <td>112.647</td>\n",
       "    </tr>\n",
       "    <tr>\n",
       "      <th>2</th>\n",
       "      <td>MAEESER</td>\n",
       "      <td>0</td>\n",
       "      <td>0.005042</td>\n",
       "      <td>30.62</td>\n",
       "      <td>3.85</td>\n",
       "      <td>5.35</td>\n",
       "      <td>6.47</td>\n",
       "      <td>5.06</td>\n",
       "      <td>4.67</td>\n",
       "      <td>4.28</td>\n",
       "      <td>...</td>\n",
       "      <td>85.0</td>\n",
       "      <td>140.974</td>\n",
       "      <td>94.0</td>\n",
       "      <td>176.0</td>\n",
       "      <td>239.000</td>\n",
       "      <td>46.340</td>\n",
       "      <td>172.880</td>\n",
       "      <td>0.000</td>\n",
       "      <td>70.935</td>\n",
       "      <td>18.322</td>\n",
       "    </tr>\n",
       "    <tr>\n",
       "      <th>3</th>\n",
       "      <td>AVGGAMR</td>\n",
       "      <td>0</td>\n",
       "      <td>0.024155</td>\n",
       "      <td>29.49</td>\n",
       "      <td>4.46</td>\n",
       "      <td>7.29</td>\n",
       "      <td>8.91</td>\n",
       "      <td>5.04</td>\n",
       "      <td>5.52</td>\n",
       "      <td>4.53</td>\n",
       "      <td>...</td>\n",
       "      <td>57.0</td>\n",
       "      <td>88.144</td>\n",
       "      <td>58.0</td>\n",
       "      <td>108.0</td>\n",
       "      <td>147.007</td>\n",
       "      <td>38.000</td>\n",
       "      <td>116.687</td>\n",
       "      <td>0.000</td>\n",
       "      <td>52.267</td>\n",
       "      <td>12.856</td>\n",
       "    </tr>\n",
       "    <tr>\n",
       "      <th>4</th>\n",
       "      <td>NIVHNYSEAEIK</td>\n",
       "      <td>0</td>\n",
       "      <td>0.003472</td>\n",
       "      <td>52.37</td>\n",
       "      <td>11.12</td>\n",
       "      <td>7.57</td>\n",
       "      <td>8.97</td>\n",
       "      <td>7.43</td>\n",
       "      <td>8.67</td>\n",
       "      <td>7.66</td>\n",
       "      <td>...</td>\n",
       "      <td>135.0</td>\n",
       "      <td>211.410</td>\n",
       "      <td>156.0</td>\n",
       "      <td>266.0</td>\n",
       "      <td>404.021</td>\n",
       "      <td>74.960</td>\n",
       "      <td>293.794</td>\n",
       "      <td>-6.155</td>\n",
       "      <td>116.990</td>\n",
       "      <td>32.966</td>\n",
       "    </tr>\n",
       "    <tr>\n",
       "      <th>...</th>\n",
       "      <td>...</td>\n",
       "      <td>...</td>\n",
       "      <td>...</td>\n",
       "      <td>...</td>\n",
       "      <td>...</td>\n",
       "      <td>...</td>\n",
       "      <td>...</td>\n",
       "      <td>...</td>\n",
       "      <td>...</td>\n",
       "      <td>...</td>\n",
       "      <td>...</td>\n",
       "      <td>...</td>\n",
       "      <td>...</td>\n",
       "      <td>...</td>\n",
       "      <td>...</td>\n",
       "      <td>...</td>\n",
       "      <td>...</td>\n",
       "      <td>...</td>\n",
       "      <td>...</td>\n",
       "      <td>...</td>\n",
       "      <td>...</td>\n",
       "    </tr>\n",
       "    <tr>\n",
       "      <th>37832</th>\n",
       "      <td>CGTVGSR</td>\n",
       "      <td>0</td>\n",
       "      <td>0.003530</td>\n",
       "      <td>29.77</td>\n",
       "      <td>3.23</td>\n",
       "      <td>5.96</td>\n",
       "      <td>5.78</td>\n",
       "      <td>2.89</td>\n",
       "      <td>5.03</td>\n",
       "      <td>5.58</td>\n",
       "      <td>...</td>\n",
       "      <td>45.0</td>\n",
       "      <td>91.344</td>\n",
       "      <td>56.0</td>\n",
       "      <td>118.0</td>\n",
       "      <td>160.007</td>\n",
       "      <td>40.060</td>\n",
       "      <td>133.162</td>\n",
       "      <td>-4.227</td>\n",
       "      <td>55.667</td>\n",
       "      <td>28.200</td>\n",
       "    </tr>\n",
       "    <tr>\n",
       "      <th>37833</th>\n",
       "      <td>ALVIAPLFGIAQVVYFLGIAESLLGLLQDPQA</td>\n",
       "      <td>0</td>\n",
       "      <td>0.006192</td>\n",
       "      <td>136.01</td>\n",
       "      <td>35.39</td>\n",
       "      <td>46.69</td>\n",
       "      <td>47.57</td>\n",
       "      <td>22.30</td>\n",
       "      <td>25.29</td>\n",
       "      <td>18.79</td>\n",
       "      <td>...</td>\n",
       "      <td>315.0</td>\n",
       "      <td>440.511</td>\n",
       "      <td>330.0</td>\n",
       "      <td>512.0</td>\n",
       "      <td>866.021</td>\n",
       "      <td>189.020</td>\n",
       "      <td>693.766</td>\n",
       "      <td>-5.883</td>\n",
       "      <td>284.956</td>\n",
       "      <td>95.899</td>\n",
       "    </tr>\n",
       "    <tr>\n",
       "      <th>37834</th>\n",
       "      <td>YQEDFNPLVR</td>\n",
       "      <td>0</td>\n",
       "      <td>0.016867</td>\n",
       "      <td>44.37</td>\n",
       "      <td>10.29</td>\n",
       "      <td>8.73</td>\n",
       "      <td>9.14</td>\n",
       "      <td>5.40</td>\n",
       "      <td>7.36</td>\n",
       "      <td>7.19</td>\n",
       "      <td>...</td>\n",
       "      <td>133.0</td>\n",
       "      <td>195.641</td>\n",
       "      <td>143.0</td>\n",
       "      <td>232.0</td>\n",
       "      <td>373.014</td>\n",
       "      <td>61.790</td>\n",
       "      <td>264.513</td>\n",
       "      <td>-0.960</td>\n",
       "      <td>107.056</td>\n",
       "      <td>38.578</td>\n",
       "    </tr>\n",
       "    <tr>\n",
       "      <th>37835</th>\n",
       "      <td>EESELQR</td>\n",
       "      <td>0</td>\n",
       "      <td>0.000984</td>\n",
       "      <td>30.29</td>\n",
       "      <td>3.59</td>\n",
       "      <td>5.45</td>\n",
       "      <td>5.39</td>\n",
       "      <td>4.50</td>\n",
       "      <td>4.47</td>\n",
       "      <td>4.44</td>\n",
       "      <td>...</td>\n",
       "      <td>85.0</td>\n",
       "      <td>144.541</td>\n",
       "      <td>97.0</td>\n",
       "      <td>178.0</td>\n",
       "      <td>256.000</td>\n",
       "      <td>44.840</td>\n",
       "      <td>182.388</td>\n",
       "      <td>0.000</td>\n",
       "      <td>71.435</td>\n",
       "      <td>20.628</td>\n",
       "    </tr>\n",
       "    <tr>\n",
       "      <th>37836</th>\n",
       "      <td>NSGPQGPR</td>\n",
       "      <td>0</td>\n",
       "      <td>0.001342</td>\n",
       "      <td>34.82</td>\n",
       "      <td>4.75</td>\n",
       "      <td>4.62</td>\n",
       "      <td>4.80</td>\n",
       "      <td>2.48</td>\n",
       "      <td>4.94</td>\n",
       "      <td>7.17</td>\n",
       "      <td>...</td>\n",
       "      <td>75.0</td>\n",
       "      <td>113.441</td>\n",
       "      <td>83.0</td>\n",
       "      <td>138.0</td>\n",
       "      <td>201.007</td>\n",
       "      <td>44.430</td>\n",
       "      <td>160.882</td>\n",
       "      <td>0.000</td>\n",
       "      <td>70.834</td>\n",
       "      <td>39.049</td>\n",
       "    </tr>\n",
       "  </tbody>\n",
       "</table>\n",
       "<p>37837 rows × 569 columns</p>\n",
       "</div>"
      ],
      "text/plain": [
       "                                     Peptide  Detectability  Quantification  \\\n",
       "0                                  IWRPPMYQR              0        0.001679   \n",
       "1      NGTHLDAGALTTTFEELHFEIKPHDDCTVEQIYEILK              0        0.043841   \n",
       "2                                    MAEESER              0        0.005042   \n",
       "3                                    AVGGAMR              0        0.024155   \n",
       "4                               NIVHNYSEAEIK              0        0.003472   \n",
       "...                                      ...            ...             ...   \n",
       "37832                                CGTVGSR              0        0.003530   \n",
       "37833       ALVIAPLFGIAQVVYFLGIAESLLGLLQDPQA              0        0.006192   \n",
       "37834                             YQEDFNPLVR              0        0.016867   \n",
       "37835                                EESELQR              0        0.000984   \n",
       "37836                               NSGPQGPR              0        0.001342   \n",
       "\n",
       "       ANDN920101  ARGP820101  ARGP820102  ARGP820103  BEGF750101  BEGF750102  \\\n",
       "0           39.78       13.03        7.92        9.32        4.50        6.82   \n",
       "1          161.34       32.57       35.55       37.03       22.43       27.78   \n",
       "2           30.62        3.85        5.35        6.47        5.06        4.67   \n",
       "3           29.49        4.46        7.29        8.91        5.04        5.52   \n",
       "4           52.37       11.12        7.57        8.97        7.43        8.67   \n",
       "...           ...         ...         ...         ...         ...         ...   \n",
       "37832       29.77        3.23        5.96        5.78        2.89        5.03   \n",
       "37833      136.01       35.39       46.69       47.57       22.30       25.29   \n",
       "37834       44.37       10.29        8.73        9.14        5.40        7.36   \n",
       "37835       30.29        3.59        5.45        5.39        4.50        4.47   \n",
       "37836       34.82        4.75        4.62        4.80        2.48        4.94   \n",
       "\n",
       "       BEGF750103  ...  KARS160113  KARS160114  KARS160115  KARS160116  \\\n",
       "0            7.08  ...       146.0     206.135       147.0       250.0   \n",
       "1           24.66  ...       395.0     613.817       449.0       741.0   \n",
       "2            4.28  ...        85.0     140.974        94.0       176.0   \n",
       "3            4.53  ...        57.0      88.144        58.0       108.0   \n",
       "4            7.66  ...       135.0     211.410       156.0       266.0   \n",
       "...           ...  ...         ...         ...         ...         ...   \n",
       "37832        5.58  ...        45.0      91.344        56.0       118.0   \n",
       "37833       18.79  ...       315.0     440.511       330.0       512.0   \n",
       "37834        7.19  ...       133.0     195.641       143.0       232.0   \n",
       "37835        4.44  ...        85.0     144.541        97.0       178.0   \n",
       "37836        7.17  ...        75.0     113.441        83.0       138.0   \n",
       "\n",
       "       KARS160117  KARS160118  KARS160119  KARS160120  KARS160121  KARS160122  \n",
       "0         371.000      54.387     236.732      -2.390     104.006      43.921  \n",
       "1        1200.014     220.840     893.243     -32.578     356.324     112.647  \n",
       "2         239.000      46.340     172.880       0.000      70.935      18.322  \n",
       "3         147.007      38.000     116.687       0.000      52.267      12.856  \n",
       "4         404.021      74.960     293.794      -6.155     116.990      32.966  \n",
       "...           ...         ...         ...         ...         ...         ...  \n",
       "37832     160.007      40.060     133.162      -4.227      55.667      28.200  \n",
       "37833     866.021     189.020     693.766      -5.883     284.956      95.899  \n",
       "37834     373.014      61.790     264.513      -0.960     107.056      38.578  \n",
       "37835     256.000      44.840     182.388       0.000      71.435      20.628  \n",
       "37836     201.007      44.430     160.882       0.000      70.834      39.049  \n",
       "\n",
       "[37837 rows x 569 columns]"
      ]
     },
     "execution_count": 11,
     "metadata": {},
     "output_type": "execute_result"
    }
   ],
   "source": [
    "undetected_peptides_balanced"
   ]
  },
  {
   "cell_type": "code",
   "execution_count": 12,
   "id": "85400e1c-568d-4c09-90ea-5aa40d3c06d0",
   "metadata": {},
   "outputs": [
    {
     "data": {
      "text/plain": [
       "(96445, 569)"
      ]
     },
     "execution_count": 12,
     "metadata": {},
     "output_type": "execute_result"
    }
   ],
   "source": [
    "unused_undetected = undetected_peptides[~undetected_peptides[\"Peptide\"].isin\n",
    "                                        (undetected_peptides_balanced[\"Peptide\"])]\n",
    "unused_undetected.shape"
   ]
  },
  {
   "cell_type": "markdown",
   "id": "30f39da9-f71a-43e3-89ac-c34ab5cf4293",
   "metadata": {},
   "source": [
    "# Create training, validation and test sets"
   ]
  },
  {
   "cell_type": "markdown",
   "id": "e2c8c908-dfc2-4101-8676-91a92f32aeee",
   "metadata": {},
   "source": [
    "## Split into train and test sets"
   ]
  },
  {
   "cell_type": "code",
   "execution_count": 13,
   "id": "c7cfde27-05b8-4178-bd1f-4b17c3c48322",
   "metadata": {},
   "outputs": [],
   "source": [
    "# detected peptides\n",
    "X_trainP, X_testP, y_trainP, y_testP = sklearn.model_selection.train_test_split(\n",
    "    detected_peptides, detected_peptides['Detectability'], test_size=0.3, random_state=1)"
   ]
  },
  {
   "cell_type": "code",
   "execution_count": 14,
   "id": "b220628b-12f8-4b80-a354-398ce077b321",
   "metadata": {},
   "outputs": [],
   "source": [
    "# undetected peptides\n",
    "X_trainN, X_testN, y_trainN, y_testN = sklearn.model_selection.train_test_split(\n",
    "    undetected_peptides_balanced, undetected_peptides_balanced['Detectability'], test_size=0.3, random_state=1)"
   ]
  },
  {
   "cell_type": "code",
   "execution_count": 15,
   "id": "d1f8f965-1451-4afb-8e43-97a69a288969",
   "metadata": {},
   "outputs": [
    {
     "name": "stdout",
     "output_type": "stream",
     "text": [
      "(26485, 569)\n",
      "(11352, 569)\n",
      "\n",
      "(26485, 569)\n",
      "(11352, 569)\n"
     ]
    }
   ],
   "source": [
    "print(X_trainP.shape)\n",
    "print(X_testP.shape)\n",
    "print('')\n",
    "print(X_trainN.shape)\n",
    "print(X_testN.shape)"
   ]
  },
  {
   "cell_type": "markdown",
   "id": "276d5d61-ed13-4e40-8d44-6695b8cec870",
   "metadata": {},
   "source": [
    "## split training into train and validation sets"
   ]
  },
  {
   "cell_type": "code",
   "execution_count": 16,
   "id": "6f0c7fa9-5ec4-4e38-8a2e-bd563684ee6a",
   "metadata": {},
   "outputs": [],
   "source": [
    "# detected peptides\n",
    "X_trainP, X_valP, y_trainP, y_valP = sklearn.model_selection.train_test_split(\n",
    "    X_trainP, y_trainP, test_size=0.25, random_state=1)"
   ]
  },
  {
   "cell_type": "code",
   "execution_count": 17,
   "id": "0d0489c7-4f7f-46e6-a2ea-9ed3ac868d73",
   "metadata": {},
   "outputs": [],
   "source": [
    "# undetected peptides\n",
    "X_trainN, X_valN, y_trainN, y_valN = sklearn.model_selection.train_test_split(\n",
    "    X_trainN, y_trainN, test_size=0.25, random_state=1)"
   ]
  },
  {
   "cell_type": "code",
   "execution_count": 18,
   "id": "004b49a7-8018-47da-a2e0-3a1c3657b5e2",
   "metadata": {},
   "outputs": [
    {
     "name": "stdout",
     "output_type": "stream",
     "text": [
      "(19863, 569)\n",
      "(6622, 569)\n",
      "\n",
      "(19863, 569)\n",
      "(6622, 569)\n"
     ]
    }
   ],
   "source": [
    "print(X_trainP.shape)\n",
    "print(X_valP.shape)\n",
    "print('')\n",
    "print(X_trainN.shape)\n",
    "print(X_valN.shape)"
   ]
  },
  {
   "cell_type": "markdown",
   "id": "854382be-114f-4975-ad3d-ffa8f2570315",
   "metadata": {},
   "source": [
    "## create final training and validation sets"
   ]
  },
  {
   "cell_type": "code",
   "execution_count": 19,
   "id": "2df4b089-a724-41ee-8079-e5f402c854ec",
   "metadata": {},
   "outputs": [],
   "source": [
    "# create final training and validation sets\n",
    "X_train = pd.concat([X_trainP, X_trainN])\n",
    "X_val = pd.concat([X_valP] + [X_valN])\n",
    "y_train = pd.concat([pd.Series(y_trainP)] + [pd.Series(y_trainN)])\n",
    "y_val = pd.concat([pd.Series(y_valP)] + [pd.Series(y_valN)])"
   ]
  },
  {
   "cell_type": "code",
   "execution_count": 20,
   "id": "2c4ae028-6ddf-4d51-8d1d-f0cd6808b729",
   "metadata": {},
   "outputs": [
    {
     "name": "stdout",
     "output_type": "stream",
     "text": [
      "(39726, 569)\n",
      "(13244, 569)\n",
      "\n",
      "(39726,)\n",
      "(13244,)\n"
     ]
    }
   ],
   "source": [
    "print(X_train.shape)\n",
    "print(X_val.shape)\n",
    "print('')\n",
    "print(y_train.shape)\n",
    "print(y_val.shape)"
   ]
  },
  {
   "cell_type": "code",
   "execution_count": 21,
   "id": "382b1264-7d73-4c2c-9a8f-aeaf33fc59bd",
   "metadata": {},
   "outputs": [
    {
     "name": "stdout",
     "output_type": "stream",
     "text": [
      "0\n"
     ]
    }
   ],
   "source": [
    "# check validation set is not in train\n",
    "print(len(X_val[X_val[\"Peptide\"].isin(X_train[\"Peptide\"])]))"
   ]
  },
  {
   "cell_type": "markdown",
   "id": "82b1cca4-6a3e-4000-a4fd-80107e2d3143",
   "metadata": {},
   "source": [
    "## create final test set"
   ]
  },
  {
   "cell_type": "code",
   "execution_count": 22,
   "id": "8a948487-f5e5-4362-a194-812df94f538a",
   "metadata": {},
   "outputs": [
    {
     "name": "stdout",
     "output_type": "stream",
     "text": [
      "(22704, 569)\n",
      "(22704,)\n"
     ]
    }
   ],
   "source": [
    "# create final test set\n",
    "X_test = pd.concat([X_testP, X_testN])\n",
    "y_test = pd.concat([pd.Series(y_testP)] + [pd.Series(y_testN)])\n",
    "print(X_test.shape)\n",
    "print(y_test.shape)"
   ]
  },
  {
   "cell_type": "code",
   "execution_count": 23,
   "id": "7c4042a6-eead-45cd-ab07-7aba052b1e6c",
   "metadata": {},
   "outputs": [
    {
     "name": "stdout",
     "output_type": "stream",
     "text": [
      "0\n",
      "0\n"
     ]
    }
   ],
   "source": [
    "# check test is not in train or validation\n",
    "print(len(X_test[X_test[\"Peptide\"].isin(X_val[\"Peptide\"])]))\n",
    "print(len(X_test[X_test[\"Peptide\"].isin(X_train[\"Peptide\"])]))"
   ]
  },
  {
   "cell_type": "markdown",
   "id": "36ffc511-7f8c-4d91-ba07-7b0aea04abb1",
   "metadata": {},
   "source": [
    "## Pre-processing of train, validation and test sets"
   ]
  },
  {
   "cell_type": "code",
   "execution_count": 24,
   "id": "3060d03b-a47b-4be4-8886-3888cc869b19",
   "metadata": {},
   "outputs": [],
   "source": [
    "# integer-encode peptides\n",
    "maxLength = 40\n",
    "\n",
    "aaDict = {\"-\": 0, \"A\": 1, \"R\": 2, \"N\": 3, \"D\": 4, \"C\": 5, \"Q\": 6, \"E\": 7, \"G\": 8, \"H\": 9, \"I\": 10, \"L\": 11, \n",
    "          \"K\": 12, \"M\": 13, \"F\": 14, \"P\": 15, \"S\": 16, \"T\": 17, \"W\": 18, \"Y\": 19, \"V\": 20, \"U\": 21}\n",
    "\n",
    "def convertPeptide(peptide, maxLength):\n",
    "    j = 0\n",
    "    hotPeptide = []\n",
    "    for aa in peptide:\n",
    "        hotPeptide.append(aaDict[aa])\n",
    "        j = j + 1\n",
    "    for k in range(maxLength - j):\n",
    "        hotPeptide.append(0)\n",
    "\n",
    "    return np.array(hotPeptide)"
   ]
  },
  {
   "cell_type": "markdown",
   "id": "b8beb4b6-0a1d-4227-92d8-97fe64d01b40",
   "metadata": {},
   "source": [
    "### Separate out each feature"
   ]
  },
  {
   "cell_type": "code",
   "execution_count": 25,
   "id": "e5197886-277b-46e1-a73d-2d7f87b48233",
   "metadata": {},
   "outputs": [],
   "source": [
    "# training set\n",
    "X_train = shuffle(X_train, random_state=1).reset_index(drop=True)\n",
    "y_train = shuffle(y_train, random_state=1).reset_index(drop=True)\n",
    "\n",
    "X_train_peptide = X_train['Peptide'].apply(convertPeptide, args=(maxLength,))\n",
    "X_train_nsaf = X_train['Quantification']\n",
    "X_train_aaindex1 = X_train.iloc[:, 3:]"
   ]
  },
  {
   "cell_type": "code",
   "execution_count": 26,
   "id": "0a830ead-f84a-4c11-8fea-c2b64ab39e69",
   "metadata": {},
   "outputs": [],
   "source": [
    "# validation set\n",
    "X_val = shuffle(X_val, random_state=1).reset_index(drop=True)\n",
    "y_val = shuffle(y_val, random_state=1).reset_index(drop=True)\n",
    "\n",
    "X_val_peptide = X_val['Peptide'].apply(convertPeptide, args=(maxLength,))\n",
    "X_val_nsaf = X_val['Quantification']\n",
    "X_val_aaindex1 = X_val.iloc[:, 3:]"
   ]
  },
  {
   "cell_type": "code",
   "execution_count": 27,
   "id": "6b85e5cf-9ee0-4f15-80fb-66a4b24c1425",
   "metadata": {},
   "outputs": [],
   "source": [
    "# test set\n",
    "X_test = shuffle(X_test, random_state=1).reset_index(drop=True)\n",
    "y_test = shuffle(y_test, random_state=1).reset_index(drop=True)\n",
    "\n",
    "X_test_peptide = X_test['Peptide'].apply(convertPeptide, args=(maxLength,))\n",
    "X_test_nsaf = X_test['Quantification']\n",
    "X_test_aaindex1 = X_test.iloc[:, 3:]"
   ]
  },
  {
   "cell_type": "code",
   "execution_count": 28,
   "id": "5d62df59-5176-43c1-b24c-79834444d5d5",
   "metadata": {},
   "outputs": [
    {
     "data": {
      "text/plain": [
       "array([[ 43.14 ,   9.01 ,  14.93 , ...,  -1.139,  84.023,  24.31 ],\n",
       "       [ 39.62 ,   5.64 ,   8.09 , ...,  -6.047,  86.368,  33.68 ],\n",
       "       [ 29.98 ,   7.38 ,   8.19 , ...,  -7.509,  62.2  ,  22.946],\n",
       "       ...,\n",
       "       [ 56.43 ,  11.46 ,  14.49 , ...,  -3.554, 121.601,  38.449],\n",
       "       [ 47.4  ,  12.79 ,  12.67 , ...,  -2.601, 105.922,  44.107],\n",
       "       [ 99.06 ,  20.5  ,  22.84 , ...,  -2.694, 212.29 ,  79.143]])"
      ]
     },
     "execution_count": 28,
     "metadata": {},
     "output_type": "execute_result"
    }
   ],
   "source": [
    "np.asarray(X_test_aaindex1)"
   ]
  },
  {
   "cell_type": "code",
   "execution_count": 29,
   "id": "d0ef77b3-0a87-44c8-b3b0-4409eee43e78",
   "metadata": {},
   "outputs": [
    {
     "data": {
      "text/plain": [
       "(22704, 566)"
      ]
     },
     "execution_count": 29,
     "metadata": {},
     "output_type": "execute_result"
    }
   ],
   "source": [
    "np.asarray(X_test_aaindex1).shape"
   ]
  },
  {
   "cell_type": "markdown",
   "id": "37d669f9-9395-4666-b619-6a897831c124",
   "metadata": {},
   "source": [
    "## Further preprocessing"
   ]
  },
  {
   "cell_type": "code",
   "execution_count": 30,
   "id": "1c945a73-1392-4edb-b671-395bb3948b28",
   "metadata": {},
   "outputs": [],
   "source": [
    "# convert to arrays\n",
    "X_train_peptide = np.array(X_train_peptide.to_list())\n",
    "X_val_peptide = np.array(X_val_peptide.to_list())\n",
    "X_test_peptide = np.array(X_test_peptide.to_list())"
   ]
  },
  {
   "cell_type": "code",
   "execution_count": 31,
   "id": "9f3f1c9d-bfd9-4125-8b0b-98105847c48b",
   "metadata": {},
   "outputs": [
    {
     "data": {
      "text/plain": [
       "(22704, 40)"
      ]
     },
     "execution_count": 31,
     "metadata": {},
     "output_type": "execute_result"
    }
   ],
   "source": [
    "X_test_peptide.shape"
   ]
  },
  {
   "cell_type": "markdown",
   "id": "61d4e59e-0b8d-401d-a860-c3b7782a713c",
   "metadata": {},
   "source": [
    "# Build model (Keras)"
   ]
  },
  {
   "cell_type": "code",
   "execution_count": 32,
   "id": "3ba2f40e-829b-49ee-af2f-6a40c51b693d",
   "metadata": {},
   "outputs": [
    {
     "name": "stdout",
     "output_type": "stream",
     "text": [
      "Model: \"model\"\n",
      "__________________________________________________________________________________________________\n",
      "Layer (type)                    Output Shape         Param #     Connected to                     \n",
      "==================================================================================================\n",
      "input_1 (InputLayer)            [(None, 40)]         0                                            \n",
      "__________________________________________________________________________________________________\n",
      "token_and_position_embedding (T (None, 40, 32)       1952        input_1[0][0]                    \n",
      "__________________________________________________________________________________________________\n",
      "transformer_block (TransformerB (None, 40, 32)       6464        token_and_position_embedding[0][0\n",
      "__________________________________________________________________________________________________\n",
      "global_average_pooling1d (Globa (None, 32)           0           transformer_block[0][0]          \n",
      "__________________________________________________________________________________________________\n",
      "aux_output (Dense)              (None, 1)            33          global_average_pooling1d[0][0]   \n",
      "__________________________________________________________________________________________________\n",
      "aux_input (InputLayer)          [(None, 1)]          0                                            \n",
      "__________________________________________________________________________________________________\n",
      "concatenate (Concatenate)       (None, 2)            0           aux_output[0][0]                 \n",
      "                                                                 aux_input[0][0]                  \n",
      "__________________________________________________________________________________________________\n",
      "dense_6 (Dense)                 (None, 64)           192         concatenate[0][0]                \n",
      "__________________________________________________________________________________________________\n",
      "dense_7 (Dense)                 (None, 64)           4160        dense_6[0][0]                    \n",
      "__________________________________________________________________________________________________\n",
      "dense_8 (Dense)                 (None, 64)           4160        dense_7[0][0]                    \n",
      "__________________________________________________________________________________________________\n",
      "main_output (Dense)             (None, 1)            65          dense_8[0][0]                    \n",
      "==================================================================================================\n",
      "Total params: 17,026\n",
      "Trainable params: 17,026\n",
      "Non-trainable params: 0\n",
      "__________________________________________________________________________________________________\n",
      "None\n"
     ]
    }
   ],
   "source": [
    "embed_dim = 32  # Embedding size for each token\n",
    "num_heads = 2  # Number of attention heads\n",
    "ff_dim = 32  # Hidden layer size in feed forward network inside transformer\n",
    "\n",
    "main_input = tf.keras.layers.Input(shape=(40,))\n",
    "# embed each peptide into a 40-dimensional vector\n",
    "embedding_layer = TokenAndPositionEmbedding(40, 21, embed_dim)\n",
    "x = embedding_layer(main_input)\n",
    "transformer_block = TransformerBlock(embed_dim, num_heads, ff_dim)\n",
    "x = transformer_block(x)\n",
    "lstm_out = tf.keras.layers.GlobalAveragePooling1D()(x)\n",
    "auxiliary_output = tf.keras.layers.Dense(1, activation='sigmoid', name='aux_output')(lstm_out)\n",
    "\n",
    "auxiliary_input = tf.keras.layers.Input(shape=(1,), name='aux_input')\n",
    "\n",
    "x = tf.keras.layers.concatenate([auxiliary_output, auxiliary_input])\n",
    "\n",
    "x = tf.keras.layers.Dense(64, activation='relu')(x)\n",
    "x = tf.keras.layers.Dense(64, activation='relu')(x)\n",
    "x = tf.keras.layers.Dense(64, activation='relu')(x)\n",
    "\n",
    "main_output = tf.keras.layers.Dense(1, activation='sigmoid', name='main_output')(x)\n",
    "\n",
    "model = tf.keras.Model(inputs=[main_input, auxiliary_input], outputs=[main_output, auxiliary_output])\n",
    "\n",
    "optimiser = tf.keras.optimizers.Adam(learning_rate=0.0001, beta_1=0.9, beta_2=0.999, epsilon=None, decay=0.0, amsgrad=False)\n",
    "\n",
    "model.compile(loss='binary_crossentropy', optimizer=optimiser, metrics=['accuracy'], loss_weights=[1., 0.2])\n",
    "\n",
    "print(model.summary())"
   ]
  },
  {
   "cell_type": "code",
   "execution_count": 33,
   "id": "9bf6afb4-c06e-49b3-a78e-a0e708763070",
   "metadata": {},
   "outputs": [],
   "source": [
    "#keras.utils.plot_model(model, \"seq_quant_model.png\", show_shapes=True)"
   ]
  },
  {
   "cell_type": "markdown",
   "id": "4c71a532-41ee-432c-85c4-ed8f015ec881",
   "metadata": {},
   "source": [
    "## Train model"
   ]
  },
  {
   "cell_type": "code",
   "execution_count": 34,
   "id": "dc121cec-1b78-47c0-beb6-7c1fcfa0cdbd",
   "metadata": {
    "scrolled": true,
    "tags": []
   },
   "outputs": [
    {
     "name": "stdout",
     "output_type": "stream",
     "text": [
      "Epoch 1/150\n",
      "297/297 - 7s - loss: 0.8203 - main_output_loss: 0.6859 - aux_output_loss: 0.6720 - main_output_accuracy: 0.5823 - aux_output_accuracy: 0.5722 - val_loss: 0.8023 - val_main_output_loss: 0.6718 - val_aux_output_loss: 0.6525 - val_main_output_accuracy: 0.7314 - val_aux_output_accuracy: 0.6166\n",
      "Epoch 2/150\n",
      "297/297 - 5s - loss: 0.7576 - main_output_loss: 0.6286 - aux_output_loss: 0.6453 - main_output_accuracy: 0.7274 - aux_output_accuracy: 0.6233 - val_loss: 0.6957 - val_main_output_loss: 0.5695 - val_aux_output_loss: 0.6310 - val_main_output_accuracy: 0.7308 - val_aux_output_accuracy: 0.6433\n",
      "Epoch 3/150\n",
      "297/297 - 5s - loss: 0.6659 - main_output_loss: 0.5391 - aux_output_loss: 0.6340 - main_output_accuracy: 0.7348 - aux_output_accuracy: 0.6359 - val_loss: 0.6339 - val_main_output_loss: 0.5093 - val_aux_output_loss: 0.6232 - val_main_output_accuracy: 0.7572 - val_aux_output_accuracy: 0.6534\n",
      "Epoch 4/150\n",
      "297/297 - 5s - loss: 0.6293 - main_output_loss: 0.5036 - aux_output_loss: 0.6287 - main_output_accuracy: 0.7566 - aux_output_accuracy: 0.6431 - val_loss: 0.6136 - val_main_output_loss: 0.4894 - val_aux_output_loss: 0.6212 - val_main_output_accuracy: 0.7683 - val_aux_output_accuracy: 0.6552\n",
      "Epoch 5/150\n",
      "297/297 - 5s - loss: 0.6151 - main_output_loss: 0.4897 - aux_output_loss: 0.6271 - main_output_accuracy: 0.7656 - aux_output_accuracy: 0.6447 - val_loss: 0.6036 - val_main_output_loss: 0.4800 - val_aux_output_loss: 0.6184 - val_main_output_accuracy: 0.7721 - val_aux_output_accuracy: 0.6549\n",
      "Epoch 6/150\n",
      "297/297 - 5s - loss: 0.6063 - main_output_loss: 0.4814 - aux_output_loss: 0.6245 - main_output_accuracy: 0.7704 - aux_output_accuracy: 0.6461 - val_loss: 0.5969 - val_main_output_loss: 0.4733 - val_aux_output_loss: 0.6178 - val_main_output_accuracy: 0.7828 - val_aux_output_accuracy: 0.6594\n",
      "Epoch 7/150\n",
      "297/297 - 5s - loss: 0.5987 - main_output_loss: 0.4744 - aux_output_loss: 0.6216 - main_output_accuracy: 0.7756 - aux_output_accuracy: 0.6501 - val_loss: 0.5889 - val_main_output_loss: 0.4660 - val_aux_output_loss: 0.6144 - val_main_output_accuracy: 0.7838 - val_aux_output_accuracy: 0.6555\n",
      "Epoch 8/150\n",
      "297/297 - 5s - loss: 0.5908 - main_output_loss: 0.4670 - aux_output_loss: 0.6188 - main_output_accuracy: 0.7795 - aux_output_accuracy: 0.6528 - val_loss: 0.5876 - val_main_output_loss: 0.4652 - val_aux_output_loss: 0.6118 - val_main_output_accuracy: 0.7754 - val_aux_output_accuracy: 0.6593\n",
      "Epoch 9/150\n",
      "297/297 - 5s - loss: 0.5871 - main_output_loss: 0.4636 - aux_output_loss: 0.6175 - main_output_accuracy: 0.7817 - aux_output_accuracy: 0.6526 - val_loss: 0.5804 - val_main_output_loss: 0.4582 - val_aux_output_loss: 0.6113 - val_main_output_accuracy: 0.7940 - val_aux_output_accuracy: 0.6655\n",
      "Epoch 10/150\n",
      "297/297 - 5s - loss: 0.5814 - main_output_loss: 0.4585 - aux_output_loss: 0.6148 - main_output_accuracy: 0.7862 - aux_output_accuracy: 0.6550 - val_loss: 0.5769 - val_main_output_loss: 0.4553 - val_aux_output_loss: 0.6079 - val_main_output_accuracy: 0.7845 - val_aux_output_accuracy: 0.6599\n",
      "Epoch 11/150\n",
      "297/297 - 5s - loss: 0.5772 - main_output_loss: 0.4546 - aux_output_loss: 0.6127 - main_output_accuracy: 0.7885 - aux_output_accuracy: 0.6564 - val_loss: 0.5686 - val_main_output_loss: 0.4480 - val_aux_output_loss: 0.6033 - val_main_output_accuracy: 0.7953 - val_aux_output_accuracy: 0.6649\n",
      "Epoch 12/150\n",
      "297/297 - 5s - loss: 0.5745 - main_output_loss: 0.4524 - aux_output_loss: 0.6107 - main_output_accuracy: 0.7898 - aux_output_accuracy: 0.6579 - val_loss: 0.5647 - val_main_output_loss: 0.4442 - val_aux_output_loss: 0.6023 - val_main_output_accuracy: 0.7974 - val_aux_output_accuracy: 0.6682\n",
      "Epoch 13/150\n",
      "297/297 - 5s - loss: 0.5694 - main_output_loss: 0.4478 - aux_output_loss: 0.6080 - main_output_accuracy: 0.7916 - aux_output_accuracy: 0.6618 - val_loss: 0.5614 - val_main_output_loss: 0.4413 - val_aux_output_loss: 0.6005 - val_main_output_accuracy: 0.8017 - val_aux_output_accuracy: 0.6731\n",
      "Epoch 14/150\n",
      "297/297 - 5s - loss: 0.5659 - main_output_loss: 0.4446 - aux_output_loss: 0.6061 - main_output_accuracy: 0.7936 - aux_output_accuracy: 0.6620 - val_loss: 0.5621 - val_main_output_loss: 0.4424 - val_aux_output_loss: 0.5989 - val_main_output_accuracy: 0.8001 - val_aux_output_accuracy: 0.6749\n",
      "Epoch 15/150\n",
      "297/297 - 5s - loss: 0.5604 - main_output_loss: 0.4397 - aux_output_loss: 0.6034 - main_output_accuracy: 0.7972 - aux_output_accuracy: 0.6664 - val_loss: 0.5606 - val_main_output_loss: 0.4410 - val_aux_output_loss: 0.5977 - val_main_output_accuracy: 0.7998 - val_aux_output_accuracy: 0.6764\n",
      "Epoch 16/150\n",
      "297/297 - 5s - loss: 0.5578 - main_output_loss: 0.4374 - aux_output_loss: 0.6023 - main_output_accuracy: 0.7969 - aux_output_accuracy: 0.6665 - val_loss: 0.5493 - val_main_output_loss: 0.4304 - val_aux_output_loss: 0.5941 - val_main_output_accuracy: 0.8030 - val_aux_output_accuracy: 0.6769\n",
      "Epoch 17/150\n",
      "297/297 - 5s - loss: 0.5545 - main_output_loss: 0.4344 - aux_output_loss: 0.6003 - main_output_accuracy: 0.8000 - aux_output_accuracy: 0.6685 - val_loss: 0.5467 - val_main_output_loss: 0.4279 - val_aux_output_loss: 0.5938 - val_main_output_accuracy: 0.8051 - val_aux_output_accuracy: 0.6740\n",
      "Epoch 18/150\n",
      "297/297 - 5s - loss: 0.5524 - main_output_loss: 0.4326 - aux_output_loss: 0.5993 - main_output_accuracy: 0.7997 - aux_output_accuracy: 0.6686 - val_loss: 0.5528 - val_main_output_loss: 0.4337 - val_aux_output_loss: 0.5951 - val_main_output_accuracy: 0.8019 - val_aux_output_accuracy: 0.6762\n",
      "Epoch 19/150\n",
      "297/297 - 5s - loss: 0.5500 - main_output_loss: 0.4305 - aux_output_loss: 0.5979 - main_output_accuracy: 0.8020 - aux_output_accuracy: 0.6685 - val_loss: 0.5448 - val_main_output_loss: 0.4262 - val_aux_output_loss: 0.5931 - val_main_output_accuracy: 0.8059 - val_aux_output_accuracy: 0.6754\n",
      "Epoch 20/150\n",
      "297/297 - 5s - loss: 0.5496 - main_output_loss: 0.4303 - aux_output_loss: 0.5966 - main_output_accuracy: 0.7999 - aux_output_accuracy: 0.6713 - val_loss: 0.5432 - val_main_output_loss: 0.4248 - val_aux_output_loss: 0.5922 - val_main_output_accuracy: 0.8058 - val_aux_output_accuracy: 0.6742\n",
      "Epoch 21/150\n",
      "297/297 - 5s - loss: 0.5474 - main_output_loss: 0.4282 - aux_output_loss: 0.5961 - main_output_accuracy: 0.8018 - aux_output_accuracy: 0.6696 - val_loss: 0.5410 - val_main_output_loss: 0.4231 - val_aux_output_loss: 0.5895 - val_main_output_accuracy: 0.8055 - val_aux_output_accuracy: 0.6768\n",
      "Epoch 22/150\n",
      "297/297 - 5s - loss: 0.5459 - main_output_loss: 0.4269 - aux_output_loss: 0.5951 - main_output_accuracy: 0.8035 - aux_output_accuracy: 0.6724 - val_loss: 0.5419 - val_main_output_loss: 0.4237 - val_aux_output_loss: 0.5912 - val_main_output_accuracy: 0.8060 - val_aux_output_accuracy: 0.6725\n",
      "Epoch 23/150\n",
      "297/297 - 5s - loss: 0.5460 - main_output_loss: 0.4270 - aux_output_loss: 0.5949 - main_output_accuracy: 0.8024 - aux_output_accuracy: 0.6711 - val_loss: 0.5393 - val_main_output_loss: 0.4217 - val_aux_output_loss: 0.5879 - val_main_output_accuracy: 0.8050 - val_aux_output_accuracy: 0.6765\n",
      "Epoch 24/150\n",
      "297/297 - 5s - loss: 0.5445 - main_output_loss: 0.4258 - aux_output_loss: 0.5936 - main_output_accuracy: 0.8025 - aux_output_accuracy: 0.6726 - val_loss: 0.5443 - val_main_output_loss: 0.4266 - val_aux_output_loss: 0.5884 - val_main_output_accuracy: 0.8044 - val_aux_output_accuracy: 0.6802\n",
      "Epoch 25/150\n",
      "297/297 - 5s - loss: 0.5424 - main_output_loss: 0.4239 - aux_output_loss: 0.5924 - main_output_accuracy: 0.8035 - aux_output_accuracy: 0.6740 - val_loss: 0.5365 - val_main_output_loss: 0.4193 - val_aux_output_loss: 0.5862 - val_main_output_accuracy: 0.8084 - val_aux_output_accuracy: 0.6757\n",
      "Epoch 26/150\n",
      "297/297 - 5s - loss: 0.5425 - main_output_loss: 0.4239 - aux_output_loss: 0.5929 - main_output_accuracy: 0.8030 - aux_output_accuracy: 0.6729 - val_loss: 0.5402 - val_main_output_loss: 0.4224 - val_aux_output_loss: 0.5886 - val_main_output_accuracy: 0.8047 - val_aux_output_accuracy: 0.6791\n",
      "Epoch 27/150\n",
      "297/297 - 5s - loss: 0.5408 - main_output_loss: 0.4225 - aux_output_loss: 0.5917 - main_output_accuracy: 0.8044 - aux_output_accuracy: 0.6741 - val_loss: 0.5370 - val_main_output_loss: 0.4197 - val_aux_output_loss: 0.5867 - val_main_output_accuracy: 0.8066 - val_aux_output_accuracy: 0.6802\n",
      "Epoch 28/150\n",
      "297/297 - 5s - loss: 0.5409 - main_output_loss: 0.4226 - aux_output_loss: 0.5915 - main_output_accuracy: 0.8049 - aux_output_accuracy: 0.6720 - val_loss: 0.5373 - val_main_output_loss: 0.4201 - val_aux_output_loss: 0.5862 - val_main_output_accuracy: 0.8078 - val_aux_output_accuracy: 0.6735\n",
      "Epoch 29/150\n",
      "297/297 - 5s - loss: 0.5411 - main_output_loss: 0.4229 - aux_output_loss: 0.5912 - main_output_accuracy: 0.8050 - aux_output_accuracy: 0.6730 - val_loss: 0.5379 - val_main_output_loss: 0.4206 - val_aux_output_loss: 0.5864 - val_main_output_accuracy: 0.8054 - val_aux_output_accuracy: 0.6770\n",
      "Epoch 30/150\n",
      "297/297 - 5s - loss: 0.5407 - main_output_loss: 0.4225 - aux_output_loss: 0.5911 - main_output_accuracy: 0.8040 - aux_output_accuracy: 0.6721 - val_loss: 0.5348 - val_main_output_loss: 0.4177 - val_aux_output_loss: 0.5852 - val_main_output_accuracy: 0.8075 - val_aux_output_accuracy: 0.6759\n",
      "Epoch 31/150\n",
      "297/297 - 5s - loss: 0.5399 - main_output_loss: 0.4217 - aux_output_loss: 0.5906 - main_output_accuracy: 0.8044 - aux_output_accuracy: 0.6720 - val_loss: 0.5348 - val_main_output_loss: 0.4180 - val_aux_output_loss: 0.5842 - val_main_output_accuracy: 0.8082 - val_aux_output_accuracy: 0.6805\n",
      "Epoch 32/150\n",
      "297/297 - 5s - loss: 0.5385 - main_output_loss: 0.4206 - aux_output_loss: 0.5899 - main_output_accuracy: 0.8051 - aux_output_accuracy: 0.6728 - val_loss: 0.5342 - val_main_output_loss: 0.4176 - val_aux_output_loss: 0.5831 - val_main_output_accuracy: 0.8070 - val_aux_output_accuracy: 0.6792\n",
      "Epoch 33/150\n",
      "297/297 - 5s - loss: 0.5382 - main_output_loss: 0.4203 - aux_output_loss: 0.5896 - main_output_accuracy: 0.8042 - aux_output_accuracy: 0.6738 - val_loss: 0.5347 - val_main_output_loss: 0.4175 - val_aux_output_loss: 0.5856 - val_main_output_accuracy: 0.8086 - val_aux_output_accuracy: 0.6749\n",
      "Epoch 34/150\n",
      "297/297 - 5s - loss: 0.5378 - main_output_loss: 0.4200 - aux_output_loss: 0.5892 - main_output_accuracy: 0.8050 - aux_output_accuracy: 0.6731 - val_loss: 0.5353 - val_main_output_loss: 0.4182 - val_aux_output_loss: 0.5859 - val_main_output_accuracy: 0.8063 - val_aux_output_accuracy: 0.6797\n",
      "Epoch 35/150\n",
      "297/297 - 5s - loss: 0.5391 - main_output_loss: 0.4211 - aux_output_loss: 0.5900 - main_output_accuracy: 0.8036 - aux_output_accuracy: 0.6727 - val_loss: 0.5365 - val_main_output_loss: 0.4192 - val_aux_output_loss: 0.5867 - val_main_output_accuracy: 0.8072 - val_aux_output_accuracy: 0.6764\n",
      "Epoch 36/150\n",
      "297/297 - 5s - loss: 0.5376 - main_output_loss: 0.4199 - aux_output_loss: 0.5887 - main_output_accuracy: 0.8056 - aux_output_accuracy: 0.6741 - val_loss: 0.5383 - val_main_output_loss: 0.4208 - val_aux_output_loss: 0.5874 - val_main_output_accuracy: 0.8064 - val_aux_output_accuracy: 0.6726\n",
      "Epoch 37/150\n",
      "297/297 - 5s - loss: 0.5384 - main_output_loss: 0.4206 - aux_output_loss: 0.5892 - main_output_accuracy: 0.8040 - aux_output_accuracy: 0.6731 - val_loss: 0.5323 - val_main_output_loss: 0.4155 - val_aux_output_loss: 0.5840 - val_main_output_accuracy: 0.8098 - val_aux_output_accuracy: 0.6759\n",
      "Epoch 38/150\n",
      "297/297 - 5s - loss: 0.5362 - main_output_loss: 0.4186 - aux_output_loss: 0.5882 - main_output_accuracy: 0.8050 - aux_output_accuracy: 0.6736 - val_loss: 0.5323 - val_main_output_loss: 0.4158 - val_aux_output_loss: 0.5823 - val_main_output_accuracy: 0.8066 - val_aux_output_accuracy: 0.6830\n",
      "Epoch 39/150\n",
      "297/297 - 5s - loss: 0.5351 - main_output_loss: 0.4176 - aux_output_loss: 0.5877 - main_output_accuracy: 0.8063 - aux_output_accuracy: 0.6732 - val_loss: 0.5321 - val_main_output_loss: 0.4160 - val_aux_output_loss: 0.5806 - val_main_output_accuracy: 0.8071 - val_aux_output_accuracy: 0.6808\n",
      "Epoch 40/150\n",
      "297/297 - 5s - loss: 0.5358 - main_output_loss: 0.4182 - aux_output_loss: 0.5879 - main_output_accuracy: 0.8072 - aux_output_accuracy: 0.6747 - val_loss: 0.5322 - val_main_output_loss: 0.4161 - val_aux_output_loss: 0.5805 - val_main_output_accuracy: 0.8069 - val_aux_output_accuracy: 0.6817\n",
      "Epoch 41/150\n",
      "297/297 - 5s - loss: 0.5362 - main_output_loss: 0.4187 - aux_output_loss: 0.5873 - main_output_accuracy: 0.8049 - aux_output_accuracy: 0.6755 - val_loss: 0.5334 - val_main_output_loss: 0.4170 - val_aux_output_loss: 0.5820 - val_main_output_accuracy: 0.8072 - val_aux_output_accuracy: 0.6820\n",
      "Epoch 42/150\n",
      "297/297 - 5s - loss: 0.5352 - main_output_loss: 0.4177 - aux_output_loss: 0.5873 - main_output_accuracy: 0.8060 - aux_output_accuracy: 0.6753 - val_loss: 0.5312 - val_main_output_loss: 0.4151 - val_aux_output_loss: 0.5805 - val_main_output_accuracy: 0.8081 - val_aux_output_accuracy: 0.6819\n",
      "Epoch 43/150\n",
      "297/297 - 5s - loss: 0.5338 - main_output_loss: 0.4165 - aux_output_loss: 0.5868 - main_output_accuracy: 0.8070 - aux_output_accuracy: 0.6748 - val_loss: 0.5359 - val_main_output_loss: 0.4195 - val_aux_output_loss: 0.5821 - val_main_output_accuracy: 0.8067 - val_aux_output_accuracy: 0.6785\n",
      "Epoch 44/150\n",
      "297/297 - 5s - loss: 0.5338 - main_output_loss: 0.4164 - aux_output_loss: 0.5870 - main_output_accuracy: 0.8083 - aux_output_accuracy: 0.6747 - val_loss: 0.5302 - val_main_output_loss: 0.4141 - val_aux_output_loss: 0.5806 - val_main_output_accuracy: 0.8076 - val_aux_output_accuracy: 0.6808\n",
      "Epoch 45/150\n",
      "297/297 - 5s - loss: 0.5334 - main_output_loss: 0.4161 - aux_output_loss: 0.5865 - main_output_accuracy: 0.8082 - aux_output_accuracy: 0.6756 - val_loss: 0.5318 - val_main_output_loss: 0.4150 - val_aux_output_loss: 0.5840 - val_main_output_accuracy: 0.8100 - val_aux_output_accuracy: 0.6746\n",
      "Epoch 46/150\n",
      "297/297 - 5s - loss: 0.5337 - main_output_loss: 0.4164 - aux_output_loss: 0.5869 - main_output_accuracy: 0.8070 - aux_output_accuracy: 0.6743 - val_loss: 0.5298 - val_main_output_loss: 0.4134 - val_aux_output_loss: 0.5817 - val_main_output_accuracy: 0.8081 - val_aux_output_accuracy: 0.6796\n",
      "Epoch 47/150\n",
      "297/297 - 5s - loss: 0.5325 - main_output_loss: 0.4153 - aux_output_loss: 0.5860 - main_output_accuracy: 0.8086 - aux_output_accuracy: 0.6752 - val_loss: 0.5317 - val_main_output_loss: 0.4155 - val_aux_output_loss: 0.5811 - val_main_output_accuracy: 0.8064 - val_aux_output_accuracy: 0.6808\n",
      "Epoch 48/150\n",
      "297/297 - 5s - loss: 0.5318 - main_output_loss: 0.4147 - aux_output_loss: 0.5855 - main_output_accuracy: 0.8084 - aux_output_accuracy: 0.6769 - val_loss: 0.5324 - val_main_output_loss: 0.4164 - val_aux_output_loss: 0.5797 - val_main_output_accuracy: 0.8074 - val_aux_output_accuracy: 0.6817\n",
      "Epoch 49/150\n",
      "297/297 - 5s - loss: 0.5323 - main_output_loss: 0.4152 - aux_output_loss: 0.5859 - main_output_accuracy: 0.8070 - aux_output_accuracy: 0.6763 - val_loss: 0.5303 - val_main_output_loss: 0.4141 - val_aux_output_loss: 0.5812 - val_main_output_accuracy: 0.8063 - val_aux_output_accuracy: 0.6827\n",
      "Epoch 50/150\n",
      "297/297 - 5s - loss: 0.5309 - main_output_loss: 0.4139 - aux_output_loss: 0.5852 - main_output_accuracy: 0.8092 - aux_output_accuracy: 0.6756 - val_loss: 0.5289 - val_main_output_loss: 0.4127 - val_aux_output_loss: 0.5811 - val_main_output_accuracy: 0.8105 - val_aux_output_accuracy: 0.6794\n",
      "Epoch 51/150\n",
      "297/297 - 5s - loss: 0.5321 - main_output_loss: 0.4150 - aux_output_loss: 0.5856 - main_output_accuracy: 0.8070 - aux_output_accuracy: 0.6761 - val_loss: 0.5288 - val_main_output_loss: 0.4128 - val_aux_output_loss: 0.5801 - val_main_output_accuracy: 0.8100 - val_aux_output_accuracy: 0.6810\n",
      "Epoch 52/150\n",
      "297/297 - 5s - loss: 0.5316 - main_output_loss: 0.4145 - aux_output_loss: 0.5855 - main_output_accuracy: 0.8073 - aux_output_accuracy: 0.6763 - val_loss: 0.5307 - val_main_output_loss: 0.4141 - val_aux_output_loss: 0.5828 - val_main_output_accuracy: 0.8060 - val_aux_output_accuracy: 0.6812\n",
      "Epoch 53/150\n",
      "297/297 - 5s - loss: 0.5296 - main_output_loss: 0.4127 - aux_output_loss: 0.5844 - main_output_accuracy: 0.8088 - aux_output_accuracy: 0.6775 - val_loss: 0.5312 - val_main_output_loss: 0.4144 - val_aux_output_loss: 0.5839 - val_main_output_accuracy: 0.8085 - val_aux_output_accuracy: 0.6753\n",
      "Epoch 54/150\n",
      "297/297 - 5s - loss: 0.5311 - main_output_loss: 0.4141 - aux_output_loss: 0.5851 - main_output_accuracy: 0.8089 - aux_output_accuracy: 0.6764 - val_loss: 0.5264 - val_main_output_loss: 0.4105 - val_aux_output_loss: 0.5797 - val_main_output_accuracy: 0.8088 - val_aux_output_accuracy: 0.6828\n",
      "Epoch 55/150\n",
      "297/297 - 5s - loss: 0.5280 - main_output_loss: 0.4113 - aux_output_loss: 0.5835 - main_output_accuracy: 0.8096 - aux_output_accuracy: 0.6770 - val_loss: 0.5260 - val_main_output_loss: 0.4105 - val_aux_output_loss: 0.5776 - val_main_output_accuracy: 0.8086 - val_aux_output_accuracy: 0.6851\n",
      "Epoch 56/150\n",
      "297/297 - 5s - loss: 0.5283 - main_output_loss: 0.4116 - aux_output_loss: 0.5834 - main_output_accuracy: 0.8083 - aux_output_accuracy: 0.6783 - val_loss: 0.5252 - val_main_output_loss: 0.4098 - val_aux_output_loss: 0.5769 - val_main_output_accuracy: 0.8105 - val_aux_output_accuracy: 0.6844\n",
      "Epoch 57/150\n",
      "297/297 - 5s - loss: 0.5286 - main_output_loss: 0.4119 - aux_output_loss: 0.5838 - main_output_accuracy: 0.8095 - aux_output_accuracy: 0.6782 - val_loss: 0.5240 - val_main_output_loss: 0.4087 - val_aux_output_loss: 0.5765 - val_main_output_accuracy: 0.8109 - val_aux_output_accuracy: 0.6873\n",
      "Epoch 58/150\n",
      "297/297 - 5s - loss: 0.5274 - main_output_loss: 0.4107 - aux_output_loss: 0.5834 - main_output_accuracy: 0.8087 - aux_output_accuracy: 0.6807 - val_loss: 0.5300 - val_main_output_loss: 0.4142 - val_aux_output_loss: 0.5790 - val_main_output_accuracy: 0.8087 - val_aux_output_accuracy: 0.6849\n",
      "Epoch 59/150\n",
      "297/297 - 5s - loss: 0.5278 - main_output_loss: 0.4111 - aux_output_loss: 0.5835 - main_output_accuracy: 0.8085 - aux_output_accuracy: 0.6775 - val_loss: 0.5259 - val_main_output_loss: 0.4107 - val_aux_output_loss: 0.5760 - val_main_output_accuracy: 0.8107 - val_aux_output_accuracy: 0.6856\n",
      "Epoch 60/150\n",
      "297/297 - 5s - loss: 0.5267 - main_output_loss: 0.4100 - aux_output_loss: 0.5833 - main_output_accuracy: 0.8107 - aux_output_accuracy: 0.6784 - val_loss: 0.5230 - val_main_output_loss: 0.4074 - val_aux_output_loss: 0.5783 - val_main_output_accuracy: 0.8121 - val_aux_output_accuracy: 0.6826\n",
      "Epoch 61/150\n",
      "297/297 - 5s - loss: 0.5258 - main_output_loss: 0.4091 - aux_output_loss: 0.5832 - main_output_accuracy: 0.8111 - aux_output_accuracy: 0.6786 - val_loss: 0.5333 - val_main_output_loss: 0.4176 - val_aux_output_loss: 0.5784 - val_main_output_accuracy: 0.8063 - val_aux_output_accuracy: 0.6832\n",
      "Epoch 62/150\n",
      "297/297 - 5s - loss: 0.5263 - main_output_loss: 0.4096 - aux_output_loss: 0.5834 - main_output_accuracy: 0.8094 - aux_output_accuracy: 0.6790 - val_loss: 0.5222 - val_main_output_loss: 0.4071 - val_aux_output_loss: 0.5755 - val_main_output_accuracy: 0.8117 - val_aux_output_accuracy: 0.6884\n",
      "Epoch 63/150\n",
      "297/297 - 5s - loss: 0.5260 - main_output_loss: 0.4094 - aux_output_loss: 0.5829 - main_output_accuracy: 0.8101 - aux_output_accuracy: 0.6786 - val_loss: 0.5203 - val_main_output_loss: 0.4052 - val_aux_output_loss: 0.5753 - val_main_output_accuracy: 0.8128 - val_aux_output_accuracy: 0.6876\n",
      "Epoch 64/150\n",
      "297/297 - 5s - loss: 0.5243 - main_output_loss: 0.4079 - aux_output_loss: 0.5820 - main_output_accuracy: 0.8121 - aux_output_accuracy: 0.6806 - val_loss: 0.5212 - val_main_output_loss: 0.4061 - val_aux_output_loss: 0.5758 - val_main_output_accuracy: 0.8142 - val_aux_output_accuracy: 0.6891\n",
      "Epoch 65/150\n",
      "297/297 - 5s - loss: 0.5230 - main_output_loss: 0.4068 - aux_output_loss: 0.5810 - main_output_accuracy: 0.8129 - aux_output_accuracy: 0.6813 - val_loss: 0.5215 - val_main_output_loss: 0.4063 - val_aux_output_loss: 0.5762 - val_main_output_accuracy: 0.8113 - val_aux_output_accuracy: 0.6872\n",
      "Epoch 66/150\n",
      "297/297 - 5s - loss: 0.5218 - main_output_loss: 0.4055 - aux_output_loss: 0.5812 - main_output_accuracy: 0.8121 - aux_output_accuracy: 0.6823 - val_loss: 0.5272 - val_main_output_loss: 0.4113 - val_aux_output_loss: 0.5796 - val_main_output_accuracy: 0.8107 - val_aux_output_accuracy: 0.6876\n",
      "Epoch 67/150\n",
      "297/297 - 5s - loss: 0.5231 - main_output_loss: 0.4068 - aux_output_loss: 0.5817 - main_output_accuracy: 0.8123 - aux_output_accuracy: 0.6804 - val_loss: 0.5184 - val_main_output_loss: 0.4034 - val_aux_output_loss: 0.5750 - val_main_output_accuracy: 0.8137 - val_aux_output_accuracy: 0.6892\n",
      "Epoch 68/150\n",
      "297/297 - 5s - loss: 0.5211 - main_output_loss: 0.4051 - aux_output_loss: 0.5801 - main_output_accuracy: 0.8122 - aux_output_accuracy: 0.6833 - val_loss: 0.5215 - val_main_output_loss: 0.4059 - val_aux_output_loss: 0.5777 - val_main_output_accuracy: 0.8117 - val_aux_output_accuracy: 0.6883\n",
      "Epoch 69/150\n",
      "297/297 - 5s - loss: 0.5218 - main_output_loss: 0.4057 - aux_output_loss: 0.5805 - main_output_accuracy: 0.8129 - aux_output_accuracy: 0.6822 - val_loss: 0.5180 - val_main_output_loss: 0.4029 - val_aux_output_loss: 0.5758 - val_main_output_accuracy: 0.8146 - val_aux_output_accuracy: 0.6887\n",
      "Epoch 70/150\n",
      "297/297 - 5s - loss: 0.5197 - main_output_loss: 0.4037 - aux_output_loss: 0.5800 - main_output_accuracy: 0.8142 - aux_output_accuracy: 0.6820 - val_loss: 0.5186 - val_main_output_loss: 0.4031 - val_aux_output_loss: 0.5775 - val_main_output_accuracy: 0.8139 - val_aux_output_accuracy: 0.6910\n",
      "Epoch 71/150\n",
      "297/297 - 5s - loss: 0.5197 - main_output_loss: 0.4035 - aux_output_loss: 0.5806 - main_output_accuracy: 0.8137 - aux_output_accuracy: 0.6821 - val_loss: 0.5189 - val_main_output_loss: 0.4039 - val_aux_output_loss: 0.5749 - val_main_output_accuracy: 0.8137 - val_aux_output_accuracy: 0.6921\n",
      "Epoch 72/150\n",
      "297/297 - 5s - loss: 0.5198 - main_output_loss: 0.4038 - aux_output_loss: 0.5797 - main_output_accuracy: 0.8129 - aux_output_accuracy: 0.6829 - val_loss: 0.5220 - val_main_output_loss: 0.4064 - val_aux_output_loss: 0.5780 - val_main_output_accuracy: 0.8137 - val_aux_output_accuracy: 0.6861\n",
      "Epoch 73/150\n",
      "297/297 - 5s - loss: 0.5196 - main_output_loss: 0.4037 - aux_output_loss: 0.5794 - main_output_accuracy: 0.8144 - aux_output_accuracy: 0.6836 - val_loss: 0.5226 - val_main_output_loss: 0.4066 - val_aux_output_loss: 0.5802 - val_main_output_accuracy: 0.8131 - val_aux_output_accuracy: 0.6854\n",
      "Epoch 74/150\n",
      "297/297 - 5s - loss: 0.5193 - main_output_loss: 0.4032 - aux_output_loss: 0.5801 - main_output_accuracy: 0.8134 - aux_output_accuracy: 0.6829 - val_loss: 0.5155 - val_main_output_loss: 0.4005 - val_aux_output_loss: 0.5749 - val_main_output_accuracy: 0.8158 - val_aux_output_accuracy: 0.6898\n",
      "Epoch 75/150\n",
      "297/297 - 5s - loss: 0.5179 - main_output_loss: 0.4021 - aux_output_loss: 0.5790 - main_output_accuracy: 0.8134 - aux_output_accuracy: 0.6849 - val_loss: 0.5181 - val_main_output_loss: 0.4032 - val_aux_output_loss: 0.5745 - val_main_output_accuracy: 0.8142 - val_aux_output_accuracy: 0.6901\n",
      "Epoch 76/150\n",
      "297/297 - 5s - loss: 0.5178 - main_output_loss: 0.4019 - aux_output_loss: 0.5793 - main_output_accuracy: 0.8151 - aux_output_accuracy: 0.6848 - val_loss: 0.5155 - val_main_output_loss: 0.4013 - val_aux_output_loss: 0.5710 - val_main_output_accuracy: 0.8160 - val_aux_output_accuracy: 0.6903\n",
      "Epoch 77/150\n",
      "297/297 - 5s - loss: 0.5186 - main_output_loss: 0.4028 - aux_output_loss: 0.5790 - main_output_accuracy: 0.8148 - aux_output_accuracy: 0.6840 - val_loss: 0.5159 - val_main_output_loss: 0.4011 - val_aux_output_loss: 0.5744 - val_main_output_accuracy: 0.8167 - val_aux_output_accuracy: 0.6891\n",
      "Epoch 78/150\n",
      "297/297 - 5s - loss: 0.5174 - main_output_loss: 0.4016 - aux_output_loss: 0.5787 - main_output_accuracy: 0.8146 - aux_output_accuracy: 0.6850 - val_loss: 0.5186 - val_main_output_loss: 0.4039 - val_aux_output_loss: 0.5737 - val_main_output_accuracy: 0.8160 - val_aux_output_accuracy: 0.6929\n",
      "Epoch 79/150\n",
      "297/297 - 5s - loss: 0.5169 - main_output_loss: 0.4013 - aux_output_loss: 0.5782 - main_output_accuracy: 0.8154 - aux_output_accuracy: 0.6856 - val_loss: 0.5147 - val_main_output_loss: 0.4005 - val_aux_output_loss: 0.5709 - val_main_output_accuracy: 0.8162 - val_aux_output_accuracy: 0.6895\n",
      "Epoch 80/150\n",
      "297/297 - 5s - loss: 0.5162 - main_output_loss: 0.4007 - aux_output_loss: 0.5778 - main_output_accuracy: 0.8149 - aux_output_accuracy: 0.6864 - val_loss: 0.5175 - val_main_output_loss: 0.4029 - val_aux_output_loss: 0.5730 - val_main_output_accuracy: 0.8153 - val_aux_output_accuracy: 0.6880\n",
      "Epoch 81/150\n",
      "297/297 - 5s - loss: 0.5160 - main_output_loss: 0.4004 - aux_output_loss: 0.5780 - main_output_accuracy: 0.8151 - aux_output_accuracy: 0.6860 - val_loss: 0.5163 - val_main_output_loss: 0.4014 - val_aux_output_loss: 0.5746 - val_main_output_accuracy: 0.8152 - val_aux_output_accuracy: 0.6890\n",
      "Epoch 82/150\n",
      "297/297 - 5s - loss: 0.5146 - main_output_loss: 0.3992 - aux_output_loss: 0.5771 - main_output_accuracy: 0.8152 - aux_output_accuracy: 0.6869 - val_loss: 0.5190 - val_main_output_loss: 0.4031 - val_aux_output_loss: 0.5793 - val_main_output_accuracy: 0.8140 - val_aux_output_accuracy: 0.6867\n",
      "Epoch 83/150\n",
      "297/297 - 5s - loss: 0.5154 - main_output_loss: 0.3997 - aux_output_loss: 0.5784 - main_output_accuracy: 0.8152 - aux_output_accuracy: 0.6850 - val_loss: 0.5128 - val_main_output_loss: 0.3985 - val_aux_output_loss: 0.5714 - val_main_output_accuracy: 0.8186 - val_aux_output_accuracy: 0.6922\n",
      "Epoch 84/150\n",
      "297/297 - 5s - loss: 0.5163 - main_output_loss: 0.4007 - aux_output_loss: 0.5778 - main_output_accuracy: 0.8136 - aux_output_accuracy: 0.6863 - val_loss: 0.5137 - val_main_output_loss: 0.3988 - val_aux_output_loss: 0.5745 - val_main_output_accuracy: 0.8155 - val_aux_output_accuracy: 0.6907\n",
      "Epoch 85/150\n",
      "297/297 - 5s - loss: 0.5146 - main_output_loss: 0.3992 - aux_output_loss: 0.5774 - main_output_accuracy: 0.8157 - aux_output_accuracy: 0.6853 - val_loss: 0.5196 - val_main_output_loss: 0.4045 - val_aux_output_loss: 0.5754 - val_main_output_accuracy: 0.8153 - val_aux_output_accuracy: 0.6894\n",
      "Epoch 86/150\n",
      "297/297 - 5s - loss: 0.5143 - main_output_loss: 0.3989 - aux_output_loss: 0.5769 - main_output_accuracy: 0.8160 - aux_output_accuracy: 0.6869 - val_loss: 0.5140 - val_main_output_loss: 0.3995 - val_aux_output_loss: 0.5724 - val_main_output_accuracy: 0.8162 - val_aux_output_accuracy: 0.6921\n",
      "Epoch 87/150\n",
      "297/297 - 5s - loss: 0.5134 - main_output_loss: 0.3981 - aux_output_loss: 0.5763 - main_output_accuracy: 0.8165 - aux_output_accuracy: 0.6868 - val_loss: 0.5194 - val_main_output_loss: 0.4043 - val_aux_output_loss: 0.5755 - val_main_output_accuracy: 0.8151 - val_aux_output_accuracy: 0.6879\n",
      "Epoch 88/150\n",
      "297/297 - 5s - loss: 0.5143 - main_output_loss: 0.3988 - aux_output_loss: 0.5772 - main_output_accuracy: 0.8162 - aux_output_accuracy: 0.6878 - val_loss: 0.5145 - val_main_output_loss: 0.3995 - val_aux_output_loss: 0.5749 - val_main_output_accuracy: 0.8158 - val_aux_output_accuracy: 0.6885\n",
      "Epoch 89/150\n",
      "297/297 - 5s - loss: 0.5123 - main_output_loss: 0.3970 - aux_output_loss: 0.5764 - main_output_accuracy: 0.8157 - aux_output_accuracy: 0.6876 - val_loss: 0.5181 - val_main_output_loss: 0.4030 - val_aux_output_loss: 0.5755 - val_main_output_accuracy: 0.8131 - val_aux_output_accuracy: 0.6904\n",
      "Epoch 90/150\n",
      "297/297 - 5s - loss: 0.5117 - main_output_loss: 0.3965 - aux_output_loss: 0.5758 - main_output_accuracy: 0.8171 - aux_output_accuracy: 0.6875 - val_loss: 0.5147 - val_main_output_loss: 0.4009 - val_aux_output_loss: 0.5688 - val_main_output_accuracy: 0.8176 - val_aux_output_accuracy: 0.6936\n",
      "Epoch 91/150\n",
      "297/297 - 5s - loss: 0.5125 - main_output_loss: 0.3973 - aux_output_loss: 0.5759 - main_output_accuracy: 0.8165 - aux_output_accuracy: 0.6870 - val_loss: 0.5122 - val_main_output_loss: 0.3982 - val_aux_output_loss: 0.5701 - val_main_output_accuracy: 0.8170 - val_aux_output_accuracy: 0.6925\n",
      "Epoch 92/150\n",
      "297/297 - 5s - loss: 0.5120 - main_output_loss: 0.3969 - aux_output_loss: 0.5752 - main_output_accuracy: 0.8160 - aux_output_accuracy: 0.6888 - val_loss: 0.5143 - val_main_output_loss: 0.4000 - val_aux_output_loss: 0.5719 - val_main_output_accuracy: 0.8180 - val_aux_output_accuracy: 0.6918\n",
      "Epoch 93/150\n",
      "297/297 - 5s - loss: 0.5112 - main_output_loss: 0.3960 - aux_output_loss: 0.5755 - main_output_accuracy: 0.8159 - aux_output_accuracy: 0.6876 - val_loss: 0.5160 - val_main_output_loss: 0.4015 - val_aux_output_loss: 0.5724 - val_main_output_accuracy: 0.8178 - val_aux_output_accuracy: 0.6926\n",
      "Epoch 94/150\n",
      "297/297 - 5s - loss: 0.5114 - main_output_loss: 0.3964 - aux_output_loss: 0.5752 - main_output_accuracy: 0.8165 - aux_output_accuracy: 0.6892 - val_loss: 0.5136 - val_main_output_loss: 0.3990 - val_aux_output_loss: 0.5728 - val_main_output_accuracy: 0.8171 - val_aux_output_accuracy: 0.6937\n",
      "Epoch 95/150\n",
      "297/297 - 5s - loss: 0.5108 - main_output_loss: 0.3959 - aux_output_loss: 0.5745 - main_output_accuracy: 0.8177 - aux_output_accuracy: 0.6891 - val_loss: 0.5109 - val_main_output_loss: 0.3963 - val_aux_output_loss: 0.5732 - val_main_output_accuracy: 0.8186 - val_aux_output_accuracy: 0.6925\n",
      "Epoch 96/150\n",
      "297/297 - 5s - loss: 0.5110 - main_output_loss: 0.3960 - aux_output_loss: 0.5751 - main_output_accuracy: 0.8168 - aux_output_accuracy: 0.6878 - val_loss: 0.5119 - val_main_output_loss: 0.3975 - val_aux_output_loss: 0.5718 - val_main_output_accuracy: 0.8181 - val_aux_output_accuracy: 0.6927\n",
      "Epoch 97/150\n",
      "297/297 - 5s - loss: 0.5109 - main_output_loss: 0.3959 - aux_output_loss: 0.5750 - main_output_accuracy: 0.8170 - aux_output_accuracy: 0.6894 - val_loss: 0.5112 - val_main_output_loss: 0.3966 - val_aux_output_loss: 0.5728 - val_main_output_accuracy: 0.8180 - val_aux_output_accuracy: 0.6933\n",
      "Epoch 98/150\n",
      "297/297 - 5s - loss: 0.5090 - main_output_loss: 0.3941 - aux_output_loss: 0.5747 - main_output_accuracy: 0.8177 - aux_output_accuracy: 0.6881 - val_loss: 0.5130 - val_main_output_loss: 0.3987 - val_aux_output_loss: 0.5715 - val_main_output_accuracy: 0.8183 - val_aux_output_accuracy: 0.6929\n",
      "Epoch 99/150\n",
      "297/297 - 5s - loss: 0.5102 - main_output_loss: 0.3952 - aux_output_loss: 0.5747 - main_output_accuracy: 0.8185 - aux_output_accuracy: 0.6893 - val_loss: 0.5109 - val_main_output_loss: 0.3966 - val_aux_output_loss: 0.5716 - val_main_output_accuracy: 0.8177 - val_aux_output_accuracy: 0.6955\n",
      "Epoch 100/150\n",
      "297/297 - 5s - loss: 0.5101 - main_output_loss: 0.3951 - aux_output_loss: 0.5751 - main_output_accuracy: 0.8187 - aux_output_accuracy: 0.6883 - val_loss: 0.5112 - val_main_output_loss: 0.3975 - val_aux_output_loss: 0.5686 - val_main_output_accuracy: 0.8183 - val_aux_output_accuracy: 0.6935\n",
      "Epoch 101/150\n",
      "297/297 - 5s - loss: 0.5081 - main_output_loss: 0.3933 - aux_output_loss: 0.5737 - main_output_accuracy: 0.8183 - aux_output_accuracy: 0.6892 - val_loss: 0.5098 - val_main_output_loss: 0.3959 - val_aux_output_loss: 0.5699 - val_main_output_accuracy: 0.8180 - val_aux_output_accuracy: 0.6928\n",
      "Epoch 102/150\n",
      "297/297 - 5s - loss: 0.5084 - main_output_loss: 0.3936 - aux_output_loss: 0.5738 - main_output_accuracy: 0.8187 - aux_output_accuracy: 0.6896 - val_loss: 0.5146 - val_main_output_loss: 0.4001 - val_aux_output_loss: 0.5728 - val_main_output_accuracy: 0.8188 - val_aux_output_accuracy: 0.6933\n",
      "Epoch 103/150\n",
      "297/297 - 5s - loss: 0.5087 - main_output_loss: 0.3939 - aux_output_loss: 0.5743 - main_output_accuracy: 0.8181 - aux_output_accuracy: 0.6890 - val_loss: 0.5144 - val_main_output_loss: 0.3994 - val_aux_output_loss: 0.5750 - val_main_output_accuracy: 0.8160 - val_aux_output_accuracy: 0.6916\n",
      "Epoch 104/150\n",
      "297/297 - 5s - loss: 0.5075 - main_output_loss: 0.3928 - aux_output_loss: 0.5734 - main_output_accuracy: 0.8196 - aux_output_accuracy: 0.6906 - val_loss: 0.5084 - val_main_output_loss: 0.3943 - val_aux_output_loss: 0.5707 - val_main_output_accuracy: 0.8211 - val_aux_output_accuracy: 0.6948\n",
      "Epoch 105/150\n",
      "297/297 - 5s - loss: 0.5071 - main_output_loss: 0.3924 - aux_output_loss: 0.5737 - main_output_accuracy: 0.8189 - aux_output_accuracy: 0.6903 - val_loss: 0.5150 - val_main_output_loss: 0.4000 - val_aux_output_loss: 0.5748 - val_main_output_accuracy: 0.8163 - val_aux_output_accuracy: 0.6934\n",
      "Epoch 106/150\n",
      "297/297 - 5s - loss: 0.5067 - main_output_loss: 0.3920 - aux_output_loss: 0.5735 - main_output_accuracy: 0.8211 - aux_output_accuracy: 0.6897 - val_loss: 0.5085 - val_main_output_loss: 0.3946 - val_aux_output_loss: 0.5692 - val_main_output_accuracy: 0.8205 - val_aux_output_accuracy: 0.6944\n",
      "Epoch 107/150\n",
      "297/297 - 5s - loss: 0.5077 - main_output_loss: 0.3930 - aux_output_loss: 0.5734 - main_output_accuracy: 0.8186 - aux_output_accuracy: 0.6892 - val_loss: 0.5109 - val_main_output_loss: 0.3966 - val_aux_output_loss: 0.5713 - val_main_output_accuracy: 0.8186 - val_aux_output_accuracy: 0.6925\n",
      "Epoch 108/150\n",
      "297/297 - 5s - loss: 0.5065 - main_output_loss: 0.3919 - aux_output_loss: 0.5730 - main_output_accuracy: 0.8189 - aux_output_accuracy: 0.6908 - val_loss: 0.5132 - val_main_output_loss: 0.3990 - val_aux_output_loss: 0.5706 - val_main_output_accuracy: 0.8195 - val_aux_output_accuracy: 0.6947\n",
      "Epoch 109/150\n",
      "297/297 - 5s - loss: 0.5055 - main_output_loss: 0.3910 - aux_output_loss: 0.5726 - main_output_accuracy: 0.8212 - aux_output_accuracy: 0.6907 - val_loss: 0.5087 - val_main_output_loss: 0.3945 - val_aux_output_loss: 0.5710 - val_main_output_accuracy: 0.8208 - val_aux_output_accuracy: 0.6944\n",
      "Epoch 110/150\n",
      "297/297 - 5s - loss: 0.5052 - main_output_loss: 0.3908 - aux_output_loss: 0.5719 - main_output_accuracy: 0.8209 - aux_output_accuracy: 0.6917 - val_loss: 0.5081 - val_main_output_loss: 0.3941 - val_aux_output_loss: 0.5702 - val_main_output_accuracy: 0.8212 - val_aux_output_accuracy: 0.6962\n",
      "Epoch 111/150\n",
      "297/297 - 5s - loss: 0.5038 - main_output_loss: 0.3895 - aux_output_loss: 0.5717 - main_output_accuracy: 0.8222 - aux_output_accuracy: 0.6916 - val_loss: 0.5091 - val_main_output_loss: 0.3953 - val_aux_output_loss: 0.5691 - val_main_output_accuracy: 0.8202 - val_aux_output_accuracy: 0.6969\n",
      "Epoch 112/150\n",
      "297/297 - 5s - loss: 0.5039 - main_output_loss: 0.3895 - aux_output_loss: 0.5718 - main_output_accuracy: 0.8214 - aux_output_accuracy: 0.6919 - val_loss: 0.5082 - val_main_output_loss: 0.3940 - val_aux_output_loss: 0.5712 - val_main_output_accuracy: 0.8214 - val_aux_output_accuracy: 0.6951\n",
      "Epoch 113/150\n",
      "297/297 - 5s - loss: 0.5027 - main_output_loss: 0.3885 - aux_output_loss: 0.5711 - main_output_accuracy: 0.8215 - aux_output_accuracy: 0.6926 - val_loss: 0.5228 - val_main_output_loss: 0.4072 - val_aux_output_loss: 0.5780 - val_main_output_accuracy: 0.8124 - val_aux_output_accuracy: 0.6908\n",
      "Epoch 114/150\n",
      "297/297 - 5s - loss: 0.5034 - main_output_loss: 0.3891 - aux_output_loss: 0.5716 - main_output_accuracy: 0.8222 - aux_output_accuracy: 0.6911 - val_loss: 0.5051 - val_main_output_loss: 0.3912 - val_aux_output_loss: 0.5692 - val_main_output_accuracy: 0.8223 - val_aux_output_accuracy: 0.6952\n",
      "Epoch 115/150\n",
      "297/297 - 5s - loss: 0.5021 - main_output_loss: 0.3879 - aux_output_loss: 0.5709 - main_output_accuracy: 0.8227 - aux_output_accuracy: 0.6935 - val_loss: 0.5109 - val_main_output_loss: 0.3970 - val_aux_output_loss: 0.5692 - val_main_output_accuracy: 0.8192 - val_aux_output_accuracy: 0.6934\n",
      "Epoch 116/150\n",
      "297/297 - 5s - loss: 0.5031 - main_output_loss: 0.3888 - aux_output_loss: 0.5713 - main_output_accuracy: 0.8213 - aux_output_accuracy: 0.6925 - val_loss: 0.5092 - val_main_output_loss: 0.3958 - val_aux_output_loss: 0.5669 - val_main_output_accuracy: 0.8189 - val_aux_output_accuracy: 0.6931\n",
      "Epoch 117/150\n",
      "297/297 - 5s - loss: 0.5035 - main_output_loss: 0.3893 - aux_output_loss: 0.5712 - main_output_accuracy: 0.8211 - aux_output_accuracy: 0.6906 - val_loss: 0.5026 - val_main_output_loss: 0.3894 - val_aux_output_loss: 0.5660 - val_main_output_accuracy: 0.8234 - val_aux_output_accuracy: 0.6972\n",
      "Epoch 118/150\n",
      "297/297 - 5s - loss: 0.5027 - main_output_loss: 0.3885 - aux_output_loss: 0.5707 - main_output_accuracy: 0.8228 - aux_output_accuracy: 0.6934 - val_loss: 0.5068 - val_main_output_loss: 0.3927 - val_aux_output_loss: 0.5706 - val_main_output_accuracy: 0.8217 - val_aux_output_accuracy: 0.6950\n",
      "Epoch 119/150\n",
      "297/297 - 5s - loss: 0.5010 - main_output_loss: 0.3871 - aux_output_loss: 0.5700 - main_output_accuracy: 0.8226 - aux_output_accuracy: 0.6935 - val_loss: 0.5040 - val_main_output_loss: 0.3902 - val_aux_output_loss: 0.5691 - val_main_output_accuracy: 0.8250 - val_aux_output_accuracy: 0.6956\n",
      "Epoch 120/150\n",
      "297/297 - 5s - loss: 0.5021 - main_output_loss: 0.3881 - aux_output_loss: 0.5704 - main_output_accuracy: 0.8214 - aux_output_accuracy: 0.6916 - val_loss: 0.5026 - val_main_output_loss: 0.3893 - val_aux_output_loss: 0.5668 - val_main_output_accuracy: 0.8235 - val_aux_output_accuracy: 0.6979\n",
      "Epoch 121/150\n",
      "297/297 - 5s - loss: 0.5015 - main_output_loss: 0.3875 - aux_output_loss: 0.5700 - main_output_accuracy: 0.8237 - aux_output_accuracy: 0.6933 - val_loss: 0.5043 - val_main_output_loss: 0.3911 - val_aux_output_loss: 0.5660 - val_main_output_accuracy: 0.8213 - val_aux_output_accuracy: 0.6984\n",
      "Epoch 122/150\n",
      "297/297 - 5s - loss: 0.5024 - main_output_loss: 0.3883 - aux_output_loss: 0.5702 - main_output_accuracy: 0.8237 - aux_output_accuracy: 0.6931 - val_loss: 0.5044 - val_main_output_loss: 0.3910 - val_aux_output_loss: 0.5671 - val_main_output_accuracy: 0.8254 - val_aux_output_accuracy: 0.6967\n",
      "Epoch 123/150\n",
      "297/297 - 5s - loss: 0.5005 - main_output_loss: 0.3866 - aux_output_loss: 0.5693 - main_output_accuracy: 0.8235 - aux_output_accuracy: 0.6928 - val_loss: 0.5038 - val_main_output_loss: 0.3901 - val_aux_output_loss: 0.5688 - val_main_output_accuracy: 0.8223 - val_aux_output_accuracy: 0.6958\n",
      "Epoch 124/150\n",
      "297/297 - 5s - loss: 0.5007 - main_output_loss: 0.3869 - aux_output_loss: 0.5691 - main_output_accuracy: 0.8236 - aux_output_accuracy: 0.6929 - val_loss: 0.5038 - val_main_output_loss: 0.3898 - val_aux_output_loss: 0.5698 - val_main_output_accuracy: 0.8235 - val_aux_output_accuracy: 0.6948\n",
      "Epoch 125/150\n",
      "297/297 - 5s - loss: 0.4992 - main_output_loss: 0.3855 - aux_output_loss: 0.5685 - main_output_accuracy: 0.8245 - aux_output_accuracy: 0.6965 - val_loss: 0.5114 - val_main_output_loss: 0.3969 - val_aux_output_loss: 0.5727 - val_main_output_accuracy: 0.8173 - val_aux_output_accuracy: 0.6939\n",
      "Epoch 126/150\n",
      "297/297 - 5s - loss: 0.4996 - main_output_loss: 0.3858 - aux_output_loss: 0.5689 - main_output_accuracy: 0.8238 - aux_output_accuracy: 0.6914 - val_loss: 0.5081 - val_main_output_loss: 0.3947 - val_aux_output_loss: 0.5674 - val_main_output_accuracy: 0.8229 - val_aux_output_accuracy: 0.6955\n",
      "Epoch 127/150\n",
      "297/297 - 5s - loss: 0.4999 - main_output_loss: 0.3862 - aux_output_loss: 0.5686 - main_output_accuracy: 0.8227 - aux_output_accuracy: 0.6929 - val_loss: 0.5063 - val_main_output_loss: 0.3923 - val_aux_output_loss: 0.5700 - val_main_output_accuracy: 0.8230 - val_aux_output_accuracy: 0.6937\n",
      "Epoch 128/150\n",
      "297/297 - 5s - loss: 0.4999 - main_output_loss: 0.3861 - aux_output_loss: 0.5690 - main_output_accuracy: 0.8240 - aux_output_accuracy: 0.6926 - val_loss: 0.5027 - val_main_output_loss: 0.3895 - val_aux_output_loss: 0.5658 - val_main_output_accuracy: 0.8248 - val_aux_output_accuracy: 0.6970\n",
      "Epoch 129/150\n",
      "297/297 - 5s - loss: 0.4988 - main_output_loss: 0.3852 - aux_output_loss: 0.5681 - main_output_accuracy: 0.8246 - aux_output_accuracy: 0.6945 - val_loss: 0.5000 - val_main_output_loss: 0.3870 - val_aux_output_loss: 0.5647 - val_main_output_accuracy: 0.8252 - val_aux_output_accuracy: 0.6992\n",
      "Epoch 130/150\n",
      "297/297 - 5s - loss: 0.4987 - main_output_loss: 0.3851 - aux_output_loss: 0.5680 - main_output_accuracy: 0.8247 - aux_output_accuracy: 0.6953 - val_loss: 0.5076 - val_main_output_loss: 0.3936 - val_aux_output_loss: 0.5698 - val_main_output_accuracy: 0.8207 - val_aux_output_accuracy: 0.6969\n",
      "Epoch 131/150\n",
      "297/297 - 5s - loss: 0.4981 - main_output_loss: 0.3846 - aux_output_loss: 0.5675 - main_output_accuracy: 0.8237 - aux_output_accuracy: 0.6960 - val_loss: 0.5007 - val_main_output_loss: 0.3873 - val_aux_output_loss: 0.5669 - val_main_output_accuracy: 0.8235 - val_aux_output_accuracy: 0.6952\n",
      "Epoch 132/150\n",
      "297/297 - 5s - loss: 0.4984 - main_output_loss: 0.3847 - aux_output_loss: 0.5682 - main_output_accuracy: 0.8244 - aux_output_accuracy: 0.6945 - val_loss: 0.5018 - val_main_output_loss: 0.3883 - val_aux_output_loss: 0.5677 - val_main_output_accuracy: 0.8246 - val_aux_output_accuracy: 0.6953\n",
      "Epoch 133/150\n",
      "297/297 - 5s - loss: 0.4981 - main_output_loss: 0.3846 - aux_output_loss: 0.5675 - main_output_accuracy: 0.8243 - aux_output_accuracy: 0.6941 - val_loss: 0.5082 - val_main_output_loss: 0.3948 - val_aux_output_loss: 0.5669 - val_main_output_accuracy: 0.8204 - val_aux_output_accuracy: 0.6925\n",
      "Epoch 134/150\n",
      "297/297 - 5s - loss: 0.4979 - main_output_loss: 0.3844 - aux_output_loss: 0.5676 - main_output_accuracy: 0.8251 - aux_output_accuracy: 0.6953 - val_loss: 0.5013 - val_main_output_loss: 0.3879 - val_aux_output_loss: 0.5669 - val_main_output_accuracy: 0.8249 - val_aux_output_accuracy: 0.6960\n",
      "Epoch 135/150\n",
      "297/297 - 5s - loss: 0.4978 - main_output_loss: 0.3844 - aux_output_loss: 0.5670 - main_output_accuracy: 0.8252 - aux_output_accuracy: 0.6951 - val_loss: 0.5066 - val_main_output_loss: 0.3935 - val_aux_output_loss: 0.5655 - val_main_output_accuracy: 0.8220 - val_aux_output_accuracy: 0.6951\n",
      "Epoch 136/150\n",
      "297/297 - 5s - loss: 0.4976 - main_output_loss: 0.3842 - aux_output_loss: 0.5666 - main_output_accuracy: 0.8251 - aux_output_accuracy: 0.6954 - val_loss: 0.5049 - val_main_output_loss: 0.3917 - val_aux_output_loss: 0.5659 - val_main_output_accuracy: 0.8217 - val_aux_output_accuracy: 0.6980\n",
      "Epoch 137/150\n",
      "297/297 - 5s - loss: 0.4966 - main_output_loss: 0.3833 - aux_output_loss: 0.5666 - main_output_accuracy: 0.8250 - aux_output_accuracy: 0.6940 - val_loss: 0.5037 - val_main_output_loss: 0.3908 - val_aux_output_loss: 0.5647 - val_main_output_accuracy: 0.8237 - val_aux_output_accuracy: 0.6975\n",
      "Epoch 138/150\n",
      "297/297 - 5s - loss: 0.4978 - main_output_loss: 0.3844 - aux_output_loss: 0.5671 - main_output_accuracy: 0.8235 - aux_output_accuracy: 0.6951 - val_loss: 0.4998 - val_main_output_loss: 0.3873 - val_aux_output_loss: 0.5623 - val_main_output_accuracy: 0.8261 - val_aux_output_accuracy: 0.7005\n",
      "Epoch 139/150\n",
      "297/297 - 5s - loss: 0.4954 - main_output_loss: 0.3822 - aux_output_loss: 0.5659 - main_output_accuracy: 0.8263 - aux_output_accuracy: 0.6963 - val_loss: 0.5002 - val_main_output_loss: 0.3875 - val_aux_output_loss: 0.5635 - val_main_output_accuracy: 0.8260 - val_aux_output_accuracy: 0.6978\n",
      "Epoch 140/150\n",
      "297/297 - 5s - loss: 0.4969 - main_output_loss: 0.3836 - aux_output_loss: 0.5666 - main_output_accuracy: 0.8256 - aux_output_accuracy: 0.6945 - val_loss: 0.5004 - val_main_output_loss: 0.3873 - val_aux_output_loss: 0.5656 - val_main_output_accuracy: 0.8265 - val_aux_output_accuracy: 0.6965\n",
      "Epoch 141/150\n",
      "297/297 - 5s - loss: 0.4964 - main_output_loss: 0.3831 - aux_output_loss: 0.5667 - main_output_accuracy: 0.8262 - aux_output_accuracy: 0.6943 - val_loss: 0.4998 - val_main_output_loss: 0.3869 - val_aux_output_loss: 0.5644 - val_main_output_accuracy: 0.8258 - val_aux_output_accuracy: 0.6965\n",
      "Epoch 142/150\n",
      "297/297 - 5s - loss: 0.4968 - main_output_loss: 0.3834 - aux_output_loss: 0.5667 - main_output_accuracy: 0.8251 - aux_output_accuracy: 0.6966 - val_loss: 0.4987 - val_main_output_loss: 0.3861 - val_aux_output_loss: 0.5626 - val_main_output_accuracy: 0.8249 - val_aux_output_accuracy: 0.6988\n",
      "Epoch 143/150\n",
      "297/297 - 5s - loss: 0.4974 - main_output_loss: 0.3841 - aux_output_loss: 0.5664 - main_output_accuracy: 0.8245 - aux_output_accuracy: 0.6955 - val_loss: 0.5026 - val_main_output_loss: 0.3888 - val_aux_output_loss: 0.5686 - val_main_output_accuracy: 0.8244 - val_aux_output_accuracy: 0.6967\n",
      "Epoch 144/150\n",
      "297/297 - 5s - loss: 0.4969 - main_output_loss: 0.3836 - aux_output_loss: 0.5662 - main_output_accuracy: 0.8255 - aux_output_accuracy: 0.6951 - val_loss: 0.5055 - val_main_output_loss: 0.3920 - val_aux_output_loss: 0.5672 - val_main_output_accuracy: 0.8232 - val_aux_output_accuracy: 0.6962\n",
      "Epoch 145/150\n",
      "297/297 - 5s - loss: 0.4962 - main_output_loss: 0.3830 - aux_output_loss: 0.5660 - main_output_accuracy: 0.8247 - aux_output_accuracy: 0.6946 - val_loss: 0.4994 - val_main_output_loss: 0.3871 - val_aux_output_loss: 0.5619 - val_main_output_accuracy: 0.8249 - val_aux_output_accuracy: 0.6989\n",
      "Epoch 146/150\n",
      "297/297 - 5s - loss: 0.4956 - main_output_loss: 0.3825 - aux_output_loss: 0.5656 - main_output_accuracy: 0.8250 - aux_output_accuracy: 0.6971 - val_loss: 0.5016 - val_main_output_loss: 0.3888 - val_aux_output_loss: 0.5641 - val_main_output_accuracy: 0.8242 - val_aux_output_accuracy: 0.6958\n",
      "Epoch 147/150\n",
      "297/297 - 5s - loss: 0.4974 - main_output_loss: 0.3841 - aux_output_loss: 0.5666 - main_output_accuracy: 0.8245 - aux_output_accuracy: 0.6956 - val_loss: 0.5003 - val_main_output_loss: 0.3876 - val_aux_output_loss: 0.5637 - val_main_output_accuracy: 0.8252 - val_aux_output_accuracy: 0.6952\n",
      "Epoch 148/150\n",
      "297/297 - 5s - loss: 0.4947 - main_output_loss: 0.3816 - aux_output_loss: 0.5655 - main_output_accuracy: 0.8261 - aux_output_accuracy: 0.6973 - val_loss: 0.4985 - val_main_output_loss: 0.3861 - val_aux_output_loss: 0.5622 - val_main_output_accuracy: 0.8266 - val_aux_output_accuracy: 0.6994\n",
      "Epoch 149/150\n",
      "297/297 - 5s - loss: 0.4956 - main_output_loss: 0.3825 - aux_output_loss: 0.5654 - main_output_accuracy: 0.8260 - aux_output_accuracy: 0.6983 - val_loss: 0.4996 - val_main_output_loss: 0.3871 - val_aux_output_loss: 0.5623 - val_main_output_accuracy: 0.8257 - val_aux_output_accuracy: 0.7016\n",
      "Epoch 150/150\n",
      "297/297 - 5s - loss: 0.4946 - main_output_loss: 0.3816 - aux_output_loss: 0.5648 - main_output_accuracy: 0.8263 - aux_output_accuracy: 0.6972 - val_loss: 0.4978 - val_main_output_loss: 0.3852 - val_aux_output_loss: 0.5630 - val_main_output_accuracy: 0.8263 - val_aux_output_accuracy: 0.6988\n",
      "\n",
      "Time taken for model to run:  752.511843919754\n"
     ]
    }
   ],
   "source": [
    "start_time = time.time()\n",
    "\n",
    "history = model.fit([np.asanyarray(X_train_peptide), np.asanyarray(X_train_nsaf)], \n",
    "                    [np.asanyarray(y_train), np.asanyarray(y_train)], \n",
    "                    validation_data = ([np.asarray(X_val_peptide), np.asarray(X_val_nsaf)], \n",
    "                                       [np.asarray(y_val), np.asarray(y_val)]), \n",
    "                    epochs=150, batch_size=134, verbose=2)\n",
    "\n",
    "print(\"\")\n",
    "print(\"Time taken for model to run: \", time.time() - start_time)"
   ]
  },
  {
   "cell_type": "code",
   "execution_count": 35,
   "id": "d6a422c4-16fc-40e1-b302-89840e1d449e",
   "metadata": {
    "tags": []
   },
   "outputs": [],
   "source": [
    "history_dict = history.history\n",
    "history_dict.keys()\n",
    "\n",
    "# save to df\n",
    "df_acc = pd.DataFrame({'Loss': history_dict['loss'], 'main_output_loss': history_dict['main_output_loss'], 'aux_output_loss': history_dict['aux_output_loss'], \n",
    "                      'main_output_accuracy': history_dict['main_output_accuracy'], 'aux_output_accuracy': history_dict['aux_output_accuracy'], \n",
    "                      'val_loss': history_dict['val_loss'], 'val_main_output_loss': history_dict['val_main_output_loss'], 'val_aux_output_loss': history_dict['val_aux_output_loss'],\n",
    "                      'val_main_output_accuracy': history_dict['val_main_output_accuracy'], 'val_aux_output_accuracy': history_dict['val_aux_output_accuracy']})"
   ]
  },
  {
   "cell_type": "code",
   "execution_count": 65,
   "id": "66dc796a-44e7-49aa-b1a2-cace9a6b9f00",
   "metadata": {},
   "outputs": [],
   "source": [
    "df_acc.to_csv('final_data/M2_seq_nsaf_train_134batch_150epoch.tsv', sep='\\t', index=False)"
   ]
  },
  {
   "cell_type": "code",
   "execution_count": 66,
   "id": "5a079965-19c1-461d-aefc-e370ec9a3d26",
   "metadata": {},
   "outputs": [
    {
     "data": {
      "image/png": "[encoded data removed]",
      "text/plain": [
       "<Figure size 432x288 with 1 Axes>"
      ]
     },
     "metadata": {
      "needs_background": "light"
     },
     "output_type": "display_data"
    }
   ],
   "source": [
    "# plot training and validation loss\n",
    "import matplotlib.pyplot as plt\n",
    "\n",
    "train_loss = history_dict['main_output_loss']\n",
    "val_loss = history_dict['val_main_output_loss']\n",
    "\n",
    "acc = history_dict['main_output_accuracy']\n",
    "epochs = range(1, len(acc) + 1)\n",
    "\n",
    "plt.plot(epochs, train_loss, 'r', label='Training loss')\n",
    "plt.plot(epochs, val_loss, 'b', label='Validation loss')\n",
    "plt.title('Training and validation loss (Sequence + NSAF)')\n",
    "plt.xlabel('Epochs')\n",
    "plt.ylabel('Loss')\n",
    "plt.legend()\n",
    "plt.savefig('final_figures/M2_seq_nsaf_train_val_loss_134b_150ep', dpi=400)\n",
    "plt.show()"
   ]
  },
  {
   "cell_type": "code",
   "execution_count": 67,
   "id": "aa20e7d7-b628-42f7-9fe8-311718e910f1",
   "metadata": {},
   "outputs": [
    {
     "data": {
      "image/png": "[encoded data removed]",
      "text/plain": [
       "<Figure size 432x288 with 1 Axes>"
      ]
     },
     "metadata": {
      "needs_background": "light"
     },
     "output_type": "display_data"
    }
   ],
   "source": [
    "# plot training and validation accuracy\n",
    "plt.clf()\n",
    "train_acc = history_dict['main_output_accuracy']\n",
    "val_acc = history_dict['val_main_output_accuracy']\n",
    "\n",
    "plt.plot(epochs, train_acc, 'r', label='Training acc')\n",
    "plt.plot(epochs, val_acc, 'b', label='Validation acc')\n",
    "plt.title('Training and validation accuracy (Sequence + NSAF)')\n",
    "plt.xlabel('Epochs')\n",
    "plt.ylabel('Accuracy')\n",
    "plt.legend()\n",
    "plt.savefig('final_figures/M2_seq_nsaf_train_val_acc_134b_150ep', dpi=400)\n",
    "plt.show()"
   ]
  },
  {
   "cell_type": "markdown",
   "id": "115c8e1c-4cc1-41c6-a92c-1ed919ab8e7b",
   "metadata": {},
   "source": [
    "## Save model"
   ]
  },
  {
   "cell_type": "code",
   "execution_count": 68,
   "id": "6f1d4097-cd73-41aa-ae57-6c72ebe7ae35",
   "metadata": {},
   "outputs": [
    {
     "name": "stderr",
     "output_type": "stream",
     "text": [
      "WARNING:absl:Found untraced functions such as embedding_layer_call_fn, embedding_layer_call_and_return_conditional_losses, embedding_1_layer_call_fn, embedding_1_layer_call_and_return_conditional_losses, multi_head_self_attention_layer_call_fn while saving (showing 5 of 55). These functions will not be directly callable after loading.\n"
     ]
    },
    {
     "name": "stdout",
     "output_type": "stream",
     "text": [
      "INFO:tensorflow:Assets written to: final_models/M2_seq_nsaf\\assets\n"
     ]
    },
    {
     "name": "stderr",
     "output_type": "stream",
     "text": [
      "INFO:tensorflow:Assets written to: final_models/M2_seq_nsaf\\assets\n"
     ]
    }
   ],
   "source": [
    "history.model.save(\"final_models/M2_seq_nsaf\")"
   ]
  },
  {
   "cell_type": "markdown",
   "id": "b3352d48-26f8-4e85-aa86-8d1a8ac16807",
   "metadata": {},
   "source": [
    "## Model evaluation"
   ]
  },
  {
   "cell_type": "code",
   "execution_count": 73,
   "id": "9ab90636-dd64-48d1-987b-03ffe43ea449",
   "metadata": {},
   "outputs": [
    {
     "name": "stdout",
     "output_type": "stream",
     "text": [
      "1242/1242 [==============================] - 3s 3ms/step - loss: 0.4895 - main_output_loss: 0.3771 - aux_output_loss: 0.5624 - main_output_accuracy: 0.8289 - aux_output_accuracy: 0.6976A: 3s - loss: 0.5070 - main_output_loss: 0.3932 - aux_output_loss: 0.5689 - main_output_accuracy:  - ETA: 1s - loss: 0.4902 - main_output_loss: 0.3777 - aux_output_loss: 0.5627 - main_output_accuracy: 0.8285 - aux\n",
      "main_output_loss: 37.71%\n",
      "main_output_accuracy: 82.89%\n"
     ]
    }
   ],
   "source": [
    "# train set\n",
    "train_results = model.evaluate([np.asarray(X_train_peptide), np.asarray(X_train_nsaf)], \n",
    "                               [np.asarray(y_train),np.asarray(y_train)])\n",
    "\n",
    "print(\"%s: %.2f%%\" % (model.metrics_names[1], train_results[1]*100))\n",
    "print(\"%s: %.2f%%\" % (model.metrics_names[3], train_results[3]*100))"
   ]
  },
  {
   "cell_type": "code",
   "execution_count": 70,
   "id": "9e34dfec-af64-4eeb-8a67-69a0de857a1b",
   "metadata": {},
   "outputs": [
    {
     "name": "stdout",
     "output_type": "stream",
     "text": [
      "414/414 [==============================] - 1s 3ms/step - loss: 0.4978 - main_output_loss: 0.3852 - aux_output_loss: 0.5630 - main_output_accuracy: 0.8263 - aux_output_accuracy: 0.6988\n",
      "main_output_loss: 38.52%\n",
      "main_output_accuracy: 82.63%\n"
     ]
    }
   ],
   "source": [
    "# validation set\n",
    "val_results = model.evaluate([np.asarray(X_val_peptide), np.asarray(X_val_nsaf)], \n",
    "                             [np.asarray(y_val),np.asarray(y_val)])\n",
    "\n",
    "print(\"%s: %.2f%%\" % (model.metrics_names[1], val_results[1]*100))\n",
    "print(\"%s: %.2f%%\" % (model.metrics_names[3], val_results[3]*100))"
   ]
  },
  {
   "cell_type": "code",
   "execution_count": 71,
   "id": "847136eb-35f9-4822-be94-56595e641253",
   "metadata": {},
   "outputs": [
    {
     "name": "stdout",
     "output_type": "stream",
     "text": [
      "710/710 [==============================] - 2s 3ms/step - loss: 0.5023 - main_output_loss: 0.3885 - aux_output_loss: 0.5693 - main_output_accuracy: 0.8228 - aux_output_accuracy: 0.6929\n",
      "main_output_loss: 38.85%\n",
      "main_output_accuracy: 82.28%\n"
     ]
    }
   ],
   "source": [
    "# test set\n",
    "test_results = model.evaluate([np.asarray(X_test_peptide), np.asarray(X_test_nsaf)], \n",
    "                              [np.asarray(y_test),np.asarray(y_test)])\n",
    "\n",
    "print(\"%s: %.2f%%\" % (model.metrics_names[1], test_results[1]*100))\n",
    "print(\"%s: %.2f%%\" % (model.metrics_names[3], test_results[3]*100))"
   ]
  },
  {
   "cell_type": "markdown",
   "id": "fc05c201-959f-4873-8e4a-f1b8853e6110",
   "metadata": {},
   "source": [
    "## Model prediction"
   ]
  },
  {
   "cell_type": "code",
   "execution_count": 74,
   "id": "f0f21407-761d-4648-b8ec-f94326acd886",
   "metadata": {},
   "outputs": [],
   "source": [
    "df = pd.DataFrame({'Peptide': X_test['Peptide'], 'Quantification': X_test_nsaf, 'Detectability': y_test})"
   ]
  },
  {
   "cell_type": "code",
   "execution_count": 75,
   "id": "f5318cb9-9109-4c22-9106-15249c195c00",
   "metadata": {},
   "outputs": [
    {
     "name": "stdout",
     "output_type": "stream",
     "text": [
      "710/710 [==============================] - 2s 3ms/step\n"
     ]
    }
   ],
   "source": [
    "test_predictions = model.predict([np.array([\n",
    "    convertPeptide(pep, maxLength) for pep in df['Peptide']]), np.array(X_test_nsaf)], verbose=1)"
   ]
  },
  {
   "cell_type": "code",
   "execution_count": 54,
   "id": "f806003e-ea9f-42ef-a2e4-85dcdb327769",
   "metadata": {},
   "outputs": [
    {
     "name": "stdout",
     "output_type": "stream",
     "text": [
      "710/710 [==============================] - 2s 3ms/step\n"
     ]
    }
   ],
   "source": [
    "# my_tf_pred = my_model.predict([np.array([\n",
    "#     convertPeptide(pep, maxLength) for pep in df['Peptide']]), np.array(X_test_nsaf)], verbose=1)"
   ]
  },
  {
   "cell_type": "code",
   "execution_count": 76,
   "id": "d0688e6a-66e4-4348-8524-39f1bc1b176a",
   "metadata": {},
   "outputs": [
    {
     "data": {
      "text/html": [
       "<div>\n",
       "<style scoped>\n",
       "    .dataframe tbody tr th:only-of-type {\n",
       "        vertical-align: middle;\n",
       "    }\n",
       "\n",
       "    .dataframe tbody tr th {\n",
       "        vertical-align: top;\n",
       "    }\n",
       "\n",
       "    .dataframe thead th {\n",
       "        text-align: right;\n",
       "    }\n",
       "</style>\n",
       "<table border=\"1\" class=\"dataframe\">\n",
       "  <thead>\n",
       "    <tr style=\"text-align: right;\">\n",
       "      <th></th>\n",
       "      <th>Peptide</th>\n",
       "      <th>Quantification</th>\n",
       "      <th>Detectability</th>\n",
       "      <th>Predictions</th>\n",
       "    </tr>\n",
       "  </thead>\n",
       "  <tbody>\n",
       "    <tr>\n",
       "      <th>0</th>\n",
       "      <td>GYSLASLLAK</td>\n",
       "      <td>0.004118</td>\n",
       "      <td>1</td>\n",
       "      <td>0.437731</td>\n",
       "    </tr>\n",
       "    <tr>\n",
       "      <th>1</th>\n",
       "      <td>LTSSNEINK</td>\n",
       "      <td>0.006294</td>\n",
       "      <td>0</td>\n",
       "      <td>0.187137</td>\n",
       "    </tr>\n",
       "    <tr>\n",
       "      <th>2</th>\n",
       "      <td>ACTIAIR</td>\n",
       "      <td>0.016667</td>\n",
       "      <td>0</td>\n",
       "      <td>0.191955</td>\n",
       "    </tr>\n",
       "    <tr>\n",
       "      <th>3</th>\n",
       "      <td>VGPVPVLVMSLLFIASVFMLHIWGK</td>\n",
       "      <td>0.114583</td>\n",
       "      <td>0</td>\n",
       "      <td>0.060769</td>\n",
       "    </tr>\n",
       "    <tr>\n",
       "      <th>4</th>\n",
       "      <td>TLEEDVDDR</td>\n",
       "      <td>0.009576</td>\n",
       "      <td>0</td>\n",
       "      <td>0.268991</td>\n",
       "    </tr>\n",
       "    <tr>\n",
       "      <th>...</th>\n",
       "      <td>...</td>\n",
       "      <td>...</td>\n",
       "      <td>...</td>\n",
       "      <td>...</td>\n",
       "    </tr>\n",
       "    <tr>\n",
       "      <th>22699</th>\n",
       "      <td>GQITMWDLASGK</td>\n",
       "      <td>0.004202</td>\n",
       "      <td>1</td>\n",
       "      <td>0.372210</td>\n",
       "    </tr>\n",
       "    <tr>\n",
       "      <th>22700</th>\n",
       "      <td>EEDTILVFNVTQLGTEATMR</td>\n",
       "      <td>0.002398</td>\n",
       "      <td>0</td>\n",
       "      <td>0.361954</td>\n",
       "    </tr>\n",
       "    <tr>\n",
       "      <th>22701</th>\n",
       "      <td>LDNVLLDSEGHIK</td>\n",
       "      <td>0.026846</td>\n",
       "      <td>1</td>\n",
       "      <td>0.678900</td>\n",
       "    </tr>\n",
       "    <tr>\n",
       "      <th>22702</th>\n",
       "      <td>GLIPECCAVYR</td>\n",
       "      <td>0.001305</td>\n",
       "      <td>0</td>\n",
       "      <td>0.027286</td>\n",
       "    </tr>\n",
       "    <tr>\n",
       "      <th>22703</th>\n",
       "      <td>LLEVSDDPQVLAVAAHDVGEYVR</td>\n",
       "      <td>0.022774</td>\n",
       "      <td>1</td>\n",
       "      <td>0.861679</td>\n",
       "    </tr>\n",
       "  </tbody>\n",
       "</table>\n",
       "<p>22704 rows × 4 columns</p>\n",
       "</div>"
      ],
      "text/plain": [
       "                         Peptide  Quantification  Detectability  Predictions\n",
       "0                     GYSLASLLAK        0.004118              1     0.437731\n",
       "1                      LTSSNEINK        0.006294              0     0.187137\n",
       "2                        ACTIAIR        0.016667              0     0.191955\n",
       "3      VGPVPVLVMSLLFIASVFMLHIWGK        0.114583              0     0.060769\n",
       "4                      TLEEDVDDR        0.009576              0     0.268991\n",
       "...                          ...             ...            ...          ...\n",
       "22699               GQITMWDLASGK        0.004202              1     0.372210\n",
       "22700       EEDTILVFNVTQLGTEATMR        0.002398              0     0.361954\n",
       "22701              LDNVLLDSEGHIK        0.026846              1     0.678900\n",
       "22702                GLIPECCAVYR        0.001305              0     0.027286\n",
       "22703    LLEVSDDPQVLAVAAHDVGEYVR        0.022774              1     0.861679\n",
       "\n",
       "[22704 rows x 4 columns]"
      ]
     },
     "execution_count": 76,
     "metadata": {},
     "output_type": "execute_result"
    }
   ],
   "source": [
    "df[\"Predictions\"] = test_predictions[0].flatten()\n",
    "df"
   ]
  },
  {
   "cell_type": "code",
   "execution_count": 77,
   "id": "ed12f8c1-4923-487f-a1dc-72b8cf213994",
   "metadata": {},
   "outputs": [],
   "source": [
    "# visualise distribution\n",
    "import seaborn as sns"
   ]
  },
  {
   "cell_type": "code",
   "execution_count": 80,
   "id": "a5c4c792-8d32-47ac-849f-4ceaa36561ca",
   "metadata": {},
   "outputs": [
    {
     "data": {
      "image/png": "[encoded data removed]",
      "text/plain": [
       "<Figure size 720x360 with 1 Axes>"
      ]
     },
     "metadata": {
      "needs_background": "light"
     },
     "output_type": "display_data"
    }
   ],
   "source": [
    "fig, ax = plt.subplots(figsize=(10, 5))\n",
    "sns.histplot(data=df, x=df['Predictions'], hue=df['Detectability'], stat='count', bins=25)\n",
    "ax.set_title('Sequence + NSAF', fontsize=18)\n",
    "ax.set_xlabel('Predictions', fontsize=16)\n",
    "ax.set_ylabel('Count', fontsize=16)\n",
    "plt.setp(ax.get_legend().get_texts(), fontsize=14)\n",
    "plt.setp(ax.get_legend().get_title(), fontsize=14)\n",
    "plt.savefig('final_figures/M2_hist_seq_nsaf_134batch_150epoch.png', dpi=400)"
   ]
  },
  {
   "cell_type": "code",
   "execution_count": 79,
   "id": "b8dc3abc-7822-4fc3-be52-55e5bc5d4aac",
   "metadata": {},
   "outputs": [
    {
     "data": {
      "text/html": [
       "<div>\n",
       "<style scoped>\n",
       "    .dataframe tbody tr th:only-of-type {\n",
       "        vertical-align: middle;\n",
       "    }\n",
       "\n",
       "    .dataframe tbody tr th {\n",
       "        vertical-align: top;\n",
       "    }\n",
       "\n",
       "    .dataframe thead th {\n",
       "        text-align: right;\n",
       "    }\n",
       "</style>\n",
       "<table border=\"1\" class=\"dataframe\">\n",
       "  <thead>\n",
       "    <tr style=\"text-align: right;\">\n",
       "      <th></th>\n",
       "      <th>Peptide</th>\n",
       "      <th>Quantification</th>\n",
       "      <th>Detectability</th>\n",
       "      <th>Predictions</th>\n",
       "      <th>Pred_rounded</th>\n",
       "    </tr>\n",
       "  </thead>\n",
       "  <tbody>\n",
       "    <tr>\n",
       "      <th>0</th>\n",
       "      <td>GYSLASLLAK</td>\n",
       "      <td>0.004118</td>\n",
       "      <td>1</td>\n",
       "      <td>0.437731</td>\n",
       "      <td>0.0</td>\n",
       "    </tr>\n",
       "    <tr>\n",
       "      <th>1</th>\n",
       "      <td>LTSSNEINK</td>\n",
       "      <td>0.006294</td>\n",
       "      <td>0</td>\n",
       "      <td>0.187137</td>\n",
       "      <td>0.0</td>\n",
       "    </tr>\n",
       "    <tr>\n",
       "      <th>2</th>\n",
       "      <td>ACTIAIR</td>\n",
       "      <td>0.016667</td>\n",
       "      <td>0</td>\n",
       "      <td>0.191955</td>\n",
       "      <td>0.0</td>\n",
       "    </tr>\n",
       "    <tr>\n",
       "      <th>3</th>\n",
       "      <td>VGPVPVLVMSLLFIASVFMLHIWGK</td>\n",
       "      <td>0.114583</td>\n",
       "      <td>0</td>\n",
       "      <td>0.060769</td>\n",
       "      <td>0.0</td>\n",
       "    </tr>\n",
       "    <tr>\n",
       "      <th>4</th>\n",
       "      <td>TLEEDVDDR</td>\n",
       "      <td>0.009576</td>\n",
       "      <td>0</td>\n",
       "      <td>0.268991</td>\n",
       "      <td>0.0</td>\n",
       "    </tr>\n",
       "    <tr>\n",
       "      <th>...</th>\n",
       "      <td>...</td>\n",
       "      <td>...</td>\n",
       "      <td>...</td>\n",
       "      <td>...</td>\n",
       "      <td>...</td>\n",
       "    </tr>\n",
       "    <tr>\n",
       "      <th>22699</th>\n",
       "      <td>GQITMWDLASGK</td>\n",
       "      <td>0.004202</td>\n",
       "      <td>1</td>\n",
       "      <td>0.372210</td>\n",
       "      <td>0.0</td>\n",
       "    </tr>\n",
       "    <tr>\n",
       "      <th>22700</th>\n",
       "      <td>EEDTILVFNVTQLGTEATMR</td>\n",
       "      <td>0.002398</td>\n",
       "      <td>0</td>\n",
       "      <td>0.361954</td>\n",
       "      <td>0.0</td>\n",
       "    </tr>\n",
       "    <tr>\n",
       "      <th>22701</th>\n",
       "      <td>LDNVLLDSEGHIK</td>\n",
       "      <td>0.026846</td>\n",
       "      <td>1</td>\n",
       "      <td>0.678900</td>\n",
       "      <td>1.0</td>\n",
       "    </tr>\n",
       "    <tr>\n",
       "      <th>22702</th>\n",
       "      <td>GLIPECCAVYR</td>\n",
       "      <td>0.001305</td>\n",
       "      <td>0</td>\n",
       "      <td>0.027286</td>\n",
       "      <td>0.0</td>\n",
       "    </tr>\n",
       "    <tr>\n",
       "      <th>22703</th>\n",
       "      <td>LLEVSDDPQVLAVAAHDVGEYVR</td>\n",
       "      <td>0.022774</td>\n",
       "      <td>1</td>\n",
       "      <td>0.861679</td>\n",
       "      <td>1.0</td>\n",
       "    </tr>\n",
       "  </tbody>\n",
       "</table>\n",
       "<p>22704 rows × 5 columns</p>\n",
       "</div>"
      ],
      "text/plain": [
       "                         Peptide  Quantification  Detectability  Predictions  \\\n",
       "0                     GYSLASLLAK        0.004118              1     0.437731   \n",
       "1                      LTSSNEINK        0.006294              0     0.187137   \n",
       "2                        ACTIAIR        0.016667              0     0.191955   \n",
       "3      VGPVPVLVMSLLFIASVFMLHIWGK        0.114583              0     0.060769   \n",
       "4                      TLEEDVDDR        0.009576              0     0.268991   \n",
       "...                          ...             ...            ...          ...   \n",
       "22699               GQITMWDLASGK        0.004202              1     0.372210   \n",
       "22700       EEDTILVFNVTQLGTEATMR        0.002398              0     0.361954   \n",
       "22701              LDNVLLDSEGHIK        0.026846              1     0.678900   \n",
       "22702                GLIPECCAVYR        0.001305              0     0.027286   \n",
       "22703    LLEVSDDPQVLAVAAHDVGEYVR        0.022774              1     0.861679   \n",
       "\n",
       "       Pred_rounded  \n",
       "0               0.0  \n",
       "1               0.0  \n",
       "2               0.0  \n",
       "3               0.0  \n",
       "4               0.0  \n",
       "...             ...  \n",
       "22699           0.0  \n",
       "22700           0.0  \n",
       "22701           1.0  \n",
       "22702           0.0  \n",
       "22703           1.0  \n",
       "\n",
       "[22704 rows x 5 columns]"
      ]
     },
     "execution_count": 79,
     "metadata": {},
     "output_type": "execute_result"
    }
   ],
   "source": [
    "df['Pred_rounded'] = round(df['Predictions'])\n",
    "df"
   ]
  },
  {
   "cell_type": "code",
   "execution_count": 81,
   "id": "75c1dcb9-22cb-4207-867d-5b6f9960a582",
   "metadata": {},
   "outputs": [],
   "source": [
    "df.to_csv('final_data/M2_seq_nsaf_pred_134b_150ep.tsv', sep='\\t', index=False)"
   ]
  },
  {
   "cell_type": "code",
   "execution_count": 82,
   "id": "2c5e896b-0b79-4b71-9f8a-bd2f08263b3c",
   "metadata": {},
   "outputs": [
    {
     "data": {
      "text/plain": [
       "array([[9024, 2328],\n",
       "       [1695, 9657]], dtype=int64)"
      ]
     },
     "execution_count": 82,
     "metadata": {},
     "output_type": "execute_result"
    }
   ],
   "source": [
    "confusion_matrix = sklearn.metrics.confusion_matrix(y_test, np.rint(df['Predictions']))\n",
    "confusion_matrix"
   ]
  },
  {
   "cell_type": "code",
   "execution_count": 83,
   "id": "ff4e295c-dc5a-4549-b309-01daabc0d404",
   "metadata": {},
   "outputs": [
    {
     "data": {
      "text/plain": [
       "0.822806553911205"
      ]
     },
     "execution_count": 83,
     "metadata": {},
     "output_type": "execute_result"
    }
   ],
   "source": [
    "# Accuracy\n",
    "from sklearn.metrics import accuracy_score\n",
    "accuracy_score(y_test, np.rint(df['Predictions']))"
   ]
  },
  {
   "cell_type": "code",
   "execution_count": 84,
   "id": "8a06f268-ddae-434a-b25f-c7f209388000",
   "metadata": {},
   "outputs": [
    {
     "data": {
      "text/plain": [
       "0.8506871035940803"
      ]
     },
     "execution_count": 84,
     "metadata": {},
     "output_type": "execute_result"
    }
   ],
   "source": [
    "# Recall\n",
    "from sklearn.metrics import recall_score\n",
    "recall_score(y_test, round(df['Predictions']), average='binary')"
   ]
  },
  {
   "cell_type": "code",
   "execution_count": 85,
   "id": "b97d247c-99f9-4704-9516-d9452baca0a5",
   "metadata": {},
   "outputs": [
    {
     "data": {
      "text/plain": [
       "0.8057571964956195"
      ]
     },
     "execution_count": 85,
     "metadata": {},
     "output_type": "execute_result"
    }
   ],
   "source": [
    "# Precision\n",
    "from sklearn.metrics import precision_score\n",
    "precision_score(y_test, np.rint(df['Predictions']), average='binary')"
   ]
  },
  {
   "cell_type": "code",
   "execution_count": 86,
   "id": "25b7a46b-71d1-4f22-a7d1-e2a7e0c2cd00",
   "metadata": {},
   "outputs": [
    {
     "data": {
      "text/plain": [
       "0.8276128037022753"
      ]
     },
     "execution_count": 86,
     "metadata": {},
     "output_type": "execute_result"
    }
   ],
   "source": [
    "# F1 score\n",
    "from sklearn.metrics import f1_score\n",
    "f1_score(y_test, np.rint(df['Predictions']), average='binary')"
   ]
  },
  {
   "cell_type": "code",
   "execution_count": 87,
   "id": "412aa837-8b8b-457c-8185-dd87756cd4ba",
   "metadata": {},
   "outputs": [
    {
     "data": {
      "text/plain": [
       "0.6466191569963586"
      ]
     },
     "execution_count": 87,
     "metadata": {},
     "output_type": "execute_result"
    }
   ],
   "source": [
    "# MCC (Matthew's correlation coefficient)\n",
    "from sklearn.metrics import matthews_corrcoef\n",
    "matthews_corrcoef(y_test, np.rint(df['Predictions']))"
   ]
  },
  {
   "cell_type": "markdown",
   "id": "e07a145c-4303-4142-abb1-108e69ea6e5a",
   "metadata": {},
   "source": [
    "# How peptide length affects prediction accuracy"
   ]
  },
  {
   "cell_type": "code",
   "execution_count": 99,
   "id": "883cf7e0-f02f-4bb9-ae9b-9e87ae4cc7a7",
   "metadata": {},
   "outputs": [
    {
     "data": {
      "text/html": [
       "<div>\n",
       "<style scoped>\n",
       "    .dataframe tbody tr th:only-of-type {\n",
       "        vertical-align: middle;\n",
       "    }\n",
       "\n",
       "    .dataframe tbody tr th {\n",
       "        vertical-align: top;\n",
       "    }\n",
       "\n",
       "    .dataframe thead th {\n",
       "        text-align: right;\n",
       "    }\n",
       "</style>\n",
       "<table border=\"1\" class=\"dataframe\">\n",
       "  <thead>\n",
       "    <tr style=\"text-align: right;\">\n",
       "      <th></th>\n",
       "      <th>Peptide</th>\n",
       "      <th>Quantification</th>\n",
       "      <th>Detectability</th>\n",
       "      <th>Predictions</th>\n",
       "      <th>Pred_rounded</th>\n",
       "    </tr>\n",
       "  </thead>\n",
       "  <tbody>\n",
       "    <tr>\n",
       "      <th>0</th>\n",
       "      <td>GYSLASLLAK</td>\n",
       "      <td>0.004118</td>\n",
       "      <td>1</td>\n",
       "      <td>0.534469</td>\n",
       "      <td>1.0</td>\n",
       "    </tr>\n",
       "    <tr>\n",
       "      <th>1</th>\n",
       "      <td>LTSSNEINK</td>\n",
       "      <td>0.006294</td>\n",
       "      <td>0</td>\n",
       "      <td>0.181094</td>\n",
       "      <td>0.0</td>\n",
       "    </tr>\n",
       "    <tr>\n",
       "      <th>2</th>\n",
       "      <td>ACTIAIR</td>\n",
       "      <td>0.016667</td>\n",
       "      <td>0</td>\n",
       "      <td>0.184814</td>\n",
       "      <td>0.0</td>\n",
       "    </tr>\n",
       "    <tr>\n",
       "      <th>3</th>\n",
       "      <td>VGPVPVLVMSLLFIASVFMLHIWGK</td>\n",
       "      <td>0.114583</td>\n",
       "      <td>0</td>\n",
       "      <td>0.043682</td>\n",
       "      <td>0.0</td>\n",
       "    </tr>\n",
       "    <tr>\n",
       "      <th>4</th>\n",
       "      <td>TLEEDVDDR</td>\n",
       "      <td>0.009576</td>\n",
       "      <td>0</td>\n",
       "      <td>0.435605</td>\n",
       "      <td>0.0</td>\n",
       "    </tr>\n",
       "    <tr>\n",
       "      <th>...</th>\n",
       "      <td>...</td>\n",
       "      <td>...</td>\n",
       "      <td>...</td>\n",
       "      <td>...</td>\n",
       "      <td>...</td>\n",
       "    </tr>\n",
       "    <tr>\n",
       "      <th>22699</th>\n",
       "      <td>GQITMWDLASGK</td>\n",
       "      <td>0.004202</td>\n",
       "      <td>1</td>\n",
       "      <td>0.259112</td>\n",
       "      <td>0.0</td>\n",
       "    </tr>\n",
       "    <tr>\n",
       "      <th>22700</th>\n",
       "      <td>EEDTILVFNVTQLGTEATMR</td>\n",
       "      <td>0.002398</td>\n",
       "      <td>0</td>\n",
       "      <td>0.189424</td>\n",
       "      <td>0.0</td>\n",
       "    </tr>\n",
       "    <tr>\n",
       "      <th>22701</th>\n",
       "      <td>LDNVLLDSEGHIK</td>\n",
       "      <td>0.026846</td>\n",
       "      <td>1</td>\n",
       "      <td>0.682391</td>\n",
       "      <td>1.0</td>\n",
       "    </tr>\n",
       "    <tr>\n",
       "      <th>22702</th>\n",
       "      <td>GLIPECCAVYR</td>\n",
       "      <td>0.001305</td>\n",
       "      <td>0</td>\n",
       "      <td>0.036850</td>\n",
       "      <td>0.0</td>\n",
       "    </tr>\n",
       "    <tr>\n",
       "      <th>22703</th>\n",
       "      <td>LLEVSDDPQVLAVAAHDVGEYVR</td>\n",
       "      <td>0.022774</td>\n",
       "      <td>1</td>\n",
       "      <td>0.838648</td>\n",
       "      <td>1.0</td>\n",
       "    </tr>\n",
       "  </tbody>\n",
       "</table>\n",
       "<p>22704 rows × 5 columns</p>\n",
       "</div>"
      ],
      "text/plain": [
       "                         Peptide  Quantification  Detectability  Predictions  \\\n",
       "0                     GYSLASLLAK        0.004118              1     0.534469   \n",
       "1                      LTSSNEINK        0.006294              0     0.181094   \n",
       "2                        ACTIAIR        0.016667              0     0.184814   \n",
       "3      VGPVPVLVMSLLFIASVFMLHIWGK        0.114583              0     0.043682   \n",
       "4                      TLEEDVDDR        0.009576              0     0.435605   \n",
       "...                          ...             ...            ...          ...   \n",
       "22699               GQITMWDLASGK        0.004202              1     0.259112   \n",
       "22700       EEDTILVFNVTQLGTEATMR        0.002398              0     0.189424   \n",
       "22701              LDNVLLDSEGHIK        0.026846              1     0.682391   \n",
       "22702                GLIPECCAVYR        0.001305              0     0.036850   \n",
       "22703    LLEVSDDPQVLAVAAHDVGEYVR        0.022774              1     0.838648   \n",
       "\n",
       "       Pred_rounded  \n",
       "0               1.0  \n",
       "1               0.0  \n",
       "2               0.0  \n",
       "3               0.0  \n",
       "4               0.0  \n",
       "...             ...  \n",
       "22699           0.0  \n",
       "22700           0.0  \n",
       "22701           1.0  \n",
       "22702           0.0  \n",
       "22703           1.0  \n",
       "\n",
       "[22704 rows x 5 columns]"
      ]
     },
     "execution_count": 99,
     "metadata": {},
     "output_type": "execute_result"
    }
   ],
   "source": [
    "df"
   ]
  },
  {
   "cell_type": "code",
   "execution_count": 108,
   "id": "9b7a4f2f-35c7-411c-ba5b-666f1a043d64",
   "metadata": {},
   "outputs": [
    {
     "data": {
      "text/plain": [
       "(8965, 5)"
      ]
     },
     "execution_count": 108,
     "metadata": {},
     "output_type": "execute_result"
    }
   ],
   "source": [
    "df.loc[(df[\"Peptide\"].str.len()<=10)].shape"
   ]
  },
  {
   "cell_type": "code",
   "execution_count": 109,
   "id": "a348c73b-58f3-4398-8bdb-7de2e98d85de",
   "metadata": {},
   "outputs": [],
   "source": [
    "df_30 = df.loc[(df[\"Peptide\"].str.len()<=30)].reset_index(drop=True)\n",
    "df_20 = df.loc[(df[\"Peptide\"].str.len()<=20)].reset_index(drop=True)\n",
    "df_10 = df.loc[(df[\"Peptide\"].str.len()<=10)].reset_index(drop=True)"
   ]
  },
  {
   "cell_type": "markdown",
   "id": "aab91bb5-cc44-4b5c-b066-631f08cc605d",
   "metadata": {},
   "source": [
    "## 30 AA"
   ]
  },
  {
   "cell_type": "code",
   "execution_count": 125,
   "id": "0a269e74-e77b-409d-8514-a890572c6650",
   "metadata": {},
   "outputs": [
    {
     "name": "stdout",
     "output_type": "stream",
     "text": [
      "685/685 [==============================] - 2s 2ms/step\n"
     ]
    }
   ],
   "source": [
    "test_predictions_30 = model.predict([np.array([\n",
    "    convertPeptide(pep, maxLength) for pep in df_30['Peptide']]), np.array(df_30['Quantification'])], verbose=1)"
   ]
  },
  {
   "cell_type": "code",
   "execution_count": 126,
   "id": "dc337922-b318-4c35-8127-244912159aa3",
   "metadata": {},
   "outputs": [],
   "source": [
    "df_30[\"Predictions\"] = test_predictions_30[0].flatten()"
   ]
  },
  {
   "cell_type": "code",
   "execution_count": 128,
   "id": "3061c6e2-43cb-4489-b5c2-b5684751a7e7",
   "metadata": {},
   "outputs": [
    {
     "data": {
      "text/plain": [
       "0.8234488426242981"
      ]
     },
     "execution_count": 128,
     "metadata": {},
     "output_type": "execute_result"
    }
   ],
   "source": [
    "# Accuracy\n",
    "accuracy_score(df_30['Detectability'], np.rint(df_30['Predictions']))"
   ]
  },
  {
   "cell_type": "markdown",
   "id": "ed9de632-e464-4b37-ac76-1839412bb9b9",
   "metadata": {},
   "source": [
    "## 20 AA"
   ]
  },
  {
   "cell_type": "code",
   "execution_count": 129,
   "id": "4fb06c32-732e-4c80-a205-bd221184a926",
   "metadata": {},
   "outputs": [
    {
     "name": "stdout",
     "output_type": "stream",
     "text": [
      "600/600 [==============================] - 1s 2ms/step\n"
     ]
    }
   ],
   "source": [
    "test_predictions_20 = model.predict([np.array([\n",
    "    convertPeptide(pep, maxLength) for pep in df_20['Peptide']]), np.array(df_20['Quantification'])], verbose=1)"
   ]
  },
  {
   "cell_type": "code",
   "execution_count": 130,
   "id": "752d5255-714b-43ce-aedf-363b2fdd4a60",
   "metadata": {},
   "outputs": [],
   "source": [
    "df_20[\"Predictions\"] = test_predictions_20[0].flatten()"
   ]
  },
  {
   "cell_type": "code",
   "execution_count": 131,
   "id": "1eec2016-4247-411a-8a87-1ec9e9f48d3e",
   "metadata": {},
   "outputs": [
    {
     "data": {
      "text/plain": [
       "0.8180016687526074"
      ]
     },
     "execution_count": 131,
     "metadata": {},
     "output_type": "execute_result"
    }
   ],
   "source": [
    "# Accuracy\n",
    "from sklearn.metrics import accuracy_score\n",
    "accuracy_score(df_20['Detectability'], np.rint(df_20['Predictions']))"
   ]
  },
  {
   "cell_type": "markdown",
   "id": "171df769-a89c-447a-bf4c-78ecaf231de5",
   "metadata": {},
   "source": [
    "## 10 AA"
   ]
  },
  {
   "cell_type": "code",
   "execution_count": 132,
   "id": "c9005763-f28f-4e9b-996e-45d37c6f64a0",
   "metadata": {},
   "outputs": [
    {
     "name": "stdout",
     "output_type": "stream",
     "text": [
      "281/281 [==============================] - 1s 2ms/step\n"
     ]
    }
   ],
   "source": [
    "test_predictions_10 = model.predict([np.array([\n",
    "    convertPeptide(pep, maxLength) for pep in df_10['Peptide']]), np.array(df_10['Quantification'])], verbose=1)"
   ]
  },
  {
   "cell_type": "code",
   "execution_count": 133,
   "id": "0f365a1d-fc86-40e9-a0fe-af87f09ec5d8",
   "metadata": {},
   "outputs": [],
   "source": [
    "df_10[\"Predictions\"] = test_predictions_10[0].flatten()"
   ]
  },
  {
   "cell_type": "code",
   "execution_count": 134,
   "id": "7887f088-ead5-4356-9b9b-dc623ecbe816",
   "metadata": {},
   "outputs": [
    {
     "data": {
      "text/plain": [
       "0.8126045733407696"
      ]
     },
     "execution_count": 134,
     "metadata": {},
     "output_type": "execute_result"
    }
   ],
   "source": [
    "# Accuracy\n",
    "from sklearn.metrics import accuracy_score\n",
    "accuracy_score(df_10['Detectability'], np.rint(df_10['Predictions']))"
   ]
  }
 ],
 "metadata": {
  "kernelspec": {
   "display_name": "Python 3",
   "language": "python",
   "name": "python3"
  },
  "language_info": {
   "codemirror_mode": {
    "name": "ipython",
    "version": 3
   },
   "file_extension": ".py",
   "mimetype": "text/x-python",
   "name": "python",
   "nbconvert_exporter": "python",
   "pygments_lexer": "ipython3",
   "version": "3.8.8"
  }
 },
 "nbformat": 4,
 "nbformat_minor": 5
}
