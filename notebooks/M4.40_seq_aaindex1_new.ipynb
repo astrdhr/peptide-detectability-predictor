{
 "cells": [
  {
   "cell_type": "code",
   "execution_count": 1,
   "id": "63a02e12-486a-4678-9fc3-618381cd039d",
   "metadata": {},
   "outputs": [],
   "source": [
    "# import libraries\n",
    "import numpy as np\n",
    "import pandas as pd\n",
    "import tensorflow as tf\n",
    "from tensorflow import keras\n",
    "from tensorflow.keras import layers\n",
    "import sklearn.model_selection\n",
    "from sklearn.utils import shuffle\n",
    "#from sklearn.metrics import confusion_matrix, ConfusionMatrixDisplay\n",
    "from tensorflow.keras.models import Sequential\n",
    "from tensorflow.keras.layers import Dense\n",
    "from tensorflow.keras.layers import LSTM\n",
    "from tensorflow.keras.layers import Embedding\n",
    "import math\n",
    "from tensorflow.keras.models import load_model\n",
    "from tensorflow.keras.models import model_from_json\n",
    "import re\n",
    "from transformers import TokenAndPositionEmbedding, TransformerBlock"
   ]
  },
  {
   "cell_type": "code",
   "execution_count": 2,
   "id": "fd70e717-bd34-4353-9439-e2cb276f5758",
   "metadata": {},
   "outputs": [],
   "source": [
    "# import detected and undetected datasets\n",
    "detected_peptides = pd.read_table('../data/detected_peptides_all_aaindex1.tsv')\n",
    "undetected_peptides = pd.read_table('../data/undetected_peptides_all_aaindex1.tsv')"
   ]
  },
  {
   "cell_type": "code",
   "execution_count": 3,
   "id": "5318a505-1a2d-4cc0-8baf-38d7aad3ecb4",
   "metadata": {},
   "outputs": [
    {
     "name": "stdout",
     "output_type": "stream",
     "text": [
      "(37837, 571)\n",
      "(134282, 571)\n"
     ]
    }
   ],
   "source": [
    "# keep detected and undetected peptides less than or equal to 40 aa AND greater than or equal to 7 aa in length\n",
    "detected_peptides = detected_peptides.loc[(detected_peptides[\"Peptide\"].str.len()>=7) & \n",
    "                                          (detected_peptides[\"Peptide\"].str.len()<=40)].reset_index(drop=True)\n",
    "\n",
    "undetected_peptides = undetected_peptides.loc[(undetected_peptides[\"Peptide\"].str.len()>=7) & \n",
    "                                              (undetected_peptides[\"Peptide\"].str.len()<=40)].reset_index(drop=True)\n",
    "\n",
    "print(detected_peptides.shape)\n",
    "print(undetected_peptides.shape)"
   ]
  },
  {
   "cell_type": "code",
   "execution_count": 4,
   "id": "c1262c90-0a8f-4e9e-920e-c1f63aabc6f8",
   "metadata": {},
   "outputs": [
    {
     "data": {
      "text/plain": [
       "0"
      ]
     },
     "execution_count": 4,
     "metadata": {},
     "output_type": "execute_result"
    }
   ],
   "source": [
    "# double check 0 peptides in undetected peptides are present in detected peptides\n",
    "len(undetected_peptides[undetected_peptides[\"Peptide\"].isin(detected_peptides[\"Peptide\"])])"
   ]
  },
  {
   "cell_type": "code",
   "execution_count": 5,
   "id": "e125361f-b30f-4afb-afc0-6881e8ce5b20",
   "metadata": {},
   "outputs": [
    {
     "data": {
      "text/html": [
       "<div>\n",
       "<style scoped>\n",
       "    .dataframe tbody tr th:only-of-type {\n",
       "        vertical-align: middle;\n",
       "    }\n",
       "\n",
       "    .dataframe tbody tr th {\n",
       "        vertical-align: top;\n",
       "    }\n",
       "\n",
       "    .dataframe thead th {\n",
       "        text-align: right;\n",
       "    }\n",
       "</style>\n",
       "<table border=\"1\" class=\"dataframe\">\n",
       "  <thead>\n",
       "    <tr style=\"text-align: right;\">\n",
       "      <th></th>\n",
       "      <th>Protein</th>\n",
       "      <th>Peptide</th>\n",
       "      <th>PEP</th>\n",
       "      <th>Protein_length</th>\n",
       "      <th>Quantification</th>\n",
       "      <th>ANDN920101</th>\n",
       "      <th>ARGP820101</th>\n",
       "      <th>ARGP820102</th>\n",
       "      <th>ARGP820103</th>\n",
       "      <th>BEGF750101</th>\n",
       "      <th>...</th>\n",
       "      <th>KARS160113</th>\n",
       "      <th>KARS160114</th>\n",
       "      <th>KARS160115</th>\n",
       "      <th>KARS160116</th>\n",
       "      <th>KARS160117</th>\n",
       "      <th>KARS160118</th>\n",
       "      <th>KARS160119</th>\n",
       "      <th>KARS160120</th>\n",
       "      <th>KARS160121</th>\n",
       "      <th>KARS160122</th>\n",
       "    </tr>\n",
       "  </thead>\n",
       "  <tbody>\n",
       "    <tr>\n",
       "      <th>0</th>\n",
       "      <td>P35579</td>\n",
       "      <td>DFSALESQLQDTQELLQEENR</td>\n",
       "      <td>1.236400e-275</td>\n",
       "      <td>1960.0</td>\n",
       "      <td>0.204082</td>\n",
       "      <td>92.33</td>\n",
       "      <td>12.36</td>\n",
       "      <td>22.69</td>\n",
       "      <td>21.80</td>\n",
       "      <td>13.17</td>\n",
       "      <td>...</td>\n",
       "      <td>241.0</td>\n",
       "      <td>380.122</td>\n",
       "      <td>270.0</td>\n",
       "      <td>454.0</td>\n",
       "      <td>713.007</td>\n",
       "      <td>133.94</td>\n",
       "      <td>537.463</td>\n",
       "      <td>-4.227</td>\n",
       "      <td>208.869</td>\n",
       "      <td>60.300</td>\n",
       "    </tr>\n",
       "    <tr>\n",
       "      <th>1</th>\n",
       "      <td>P63167</td>\n",
       "      <td>NADMSEEMQQDSVECATQALEK</td>\n",
       "      <td>1.264600e-275</td>\n",
       "      <td>89.0</td>\n",
       "      <td>0.146067</td>\n",
       "      <td>97.11</td>\n",
       "      <td>12.27</td>\n",
       "      <td>20.85</td>\n",
       "      <td>21.58</td>\n",
       "      <td>14.09</td>\n",
       "      <td>...</td>\n",
       "      <td>228.0</td>\n",
       "      <td>375.531</td>\n",
       "      <td>265.0</td>\n",
       "      <td>459.0</td>\n",
       "      <td>684.014</td>\n",
       "      <td>147.94</td>\n",
       "      <td>545.660</td>\n",
       "      <td>-4.406</td>\n",
       "      <td>216.602</td>\n",
       "      <td>61.570</td>\n",
       "    </tr>\n",
       "    <tr>\n",
       "      <th>2</th>\n",
       "      <td>P02545</td>\n",
       "      <td>ASASGSGAQVGGPISSGSSASSVTVTR</td>\n",
       "      <td>3.009900e-251</td>\n",
       "      <td>664.0</td>\n",
       "      <td>0.195783</td>\n",
       "      <td>115.44</td>\n",
       "      <td>12.07</td>\n",
       "      <td>23.95</td>\n",
       "      <td>25.26</td>\n",
       "      <td>13.99</td>\n",
       "      <td>...</td>\n",
       "      <td>168.0</td>\n",
       "      <td>297.981</td>\n",
       "      <td>194.0</td>\n",
       "      <td>390.0</td>\n",
       "      <td>545.021</td>\n",
       "      <td>159.77</td>\n",
       "      <td>482.653</td>\n",
       "      <td>-10.095</td>\n",
       "      <td>207.270</td>\n",
       "      <td>105.422</td>\n",
       "    </tr>\n",
       "    <tr>\n",
       "      <th>3</th>\n",
       "      <td>Q14257</td>\n",
       "      <td>LSEEEILENPDLFLTSEATDYGR</td>\n",
       "      <td>8.585900e-249</td>\n",
       "      <td>317.0</td>\n",
       "      <td>0.069401</td>\n",
       "      <td>100.45</td>\n",
       "      <td>19.00</td>\n",
       "      <td>23.85</td>\n",
       "      <td>24.63</td>\n",
       "      <td>14.16</td>\n",
       "      <td>...</td>\n",
       "      <td>254.0</td>\n",
       "      <td>387.734</td>\n",
       "      <td>277.0</td>\n",
       "      <td>472.0</td>\n",
       "      <td>741.007</td>\n",
       "      <td>141.73</td>\n",
       "      <td>562.782</td>\n",
       "      <td>-11.055</td>\n",
       "      <td>223.858</td>\n",
       "      <td>77.698</td>\n",
       "    </tr>\n",
       "    <tr>\n",
       "      <th>4</th>\n",
       "      <td>P10809</td>\n",
       "      <td>IMQSSSEVGYDAMAGDFVNMVEK</td>\n",
       "      <td>3.154100e-248</td>\n",
       "      <td>573.0</td>\n",
       "      <td>0.335079</td>\n",
       "      <td>100.34</td>\n",
       "      <td>18.20</td>\n",
       "      <td>22.63</td>\n",
       "      <td>25.14</td>\n",
       "      <td>14.71</td>\n",
       "      <td>...</td>\n",
       "      <td>236.0</td>\n",
       "      <td>375.687</td>\n",
       "      <td>259.0</td>\n",
       "      <td>469.0</td>\n",
       "      <td>687.028</td>\n",
       "      <td>147.42</td>\n",
       "      <td>537.126</td>\n",
       "      <td>-2.780</td>\n",
       "      <td>219.424</td>\n",
       "      <td>66.769</td>\n",
       "    </tr>\n",
       "  </tbody>\n",
       "</table>\n",
       "<p>5 rows × 571 columns</p>\n",
       "</div>"
      ],
      "text/plain": [
       "  Protein                      Peptide            PEP  Protein_length  \\\n",
       "0  P35579        DFSALESQLQDTQELLQEENR  1.236400e-275          1960.0   \n",
       "1  P63167       NADMSEEMQQDSVECATQALEK  1.264600e-275            89.0   \n",
       "2  P02545  ASASGSGAQVGGPISSGSSASSVTVTR  3.009900e-251           664.0   \n",
       "3  Q14257      LSEEEILENPDLFLTSEATDYGR  8.585900e-249           317.0   \n",
       "4  P10809      IMQSSSEVGYDAMAGDFVNMVEK  3.154100e-248           573.0   \n",
       "\n",
       "   Quantification  ANDN920101  ARGP820101  ARGP820102  ARGP820103  BEGF750101  \\\n",
       "0        0.204082       92.33       12.36       22.69       21.80       13.17   \n",
       "1        0.146067       97.11       12.27       20.85       21.58       14.09   \n",
       "2        0.195783      115.44       12.07       23.95       25.26       13.99   \n",
       "3        0.069401      100.45       19.00       23.85       24.63       14.16   \n",
       "4        0.335079      100.34       18.20       22.63       25.14       14.71   \n",
       "\n",
       "   ...  KARS160113  KARS160114  KARS160115  KARS160116  KARS160117  \\\n",
       "0  ...       241.0     380.122       270.0       454.0     713.007   \n",
       "1  ...       228.0     375.531       265.0       459.0     684.014   \n",
       "2  ...       168.0     297.981       194.0       390.0     545.021   \n",
       "3  ...       254.0     387.734       277.0       472.0     741.007   \n",
       "4  ...       236.0     375.687       259.0       469.0     687.028   \n",
       "\n",
       "   KARS160118  KARS160119  KARS160120  KARS160121  KARS160122  \n",
       "0      133.94     537.463      -4.227     208.869      60.300  \n",
       "1      147.94     545.660      -4.406     216.602      61.570  \n",
       "2      159.77     482.653     -10.095     207.270     105.422  \n",
       "3      141.73     562.782     -11.055     223.858      77.698  \n",
       "4      147.42     537.126      -2.780     219.424      66.769  \n",
       "\n",
       "[5 rows x 571 columns]"
      ]
     },
     "execution_count": 5,
     "metadata": {},
     "output_type": "execute_result"
    }
   ],
   "source": [
    "detected_peptides.head()"
   ]
  },
  {
   "cell_type": "code",
   "execution_count": 6,
   "id": "64482e66-4dde-4e86-928a-f0ae5c1c9eba",
   "metadata": {},
   "outputs": [
    {
     "name": "stdout",
     "output_type": "stream",
     "text": [
      "(37837, 568)\n",
      "(134282, 568)\n"
     ]
    }
   ],
   "source": [
    "# drop unnecessary columns\n",
    "detected_peptides = detected_peptides.drop(['Protein', 'PEP', 'Protein_length'], axis=1)\n",
    "undetected_peptides = undetected_peptides.drop(['Protein', 'PEP', 'Protein_length'], axis=1)\n",
    "\n",
    "print(detected_peptides.shape)\n",
    "print(undetected_peptides.shape)"
   ]
  },
  {
   "cell_type": "code",
   "execution_count": 7,
   "id": "42c4b7d7-f438-406c-8818-e0b289e6c7fd",
   "metadata": {},
   "outputs": [
    {
     "data": {
      "text/html": [
       "<div>\n",
       "<style scoped>\n",
       "    .dataframe tbody tr th:only-of-type {\n",
       "        vertical-align: middle;\n",
       "    }\n",
       "\n",
       "    .dataframe tbody tr th {\n",
       "        vertical-align: top;\n",
       "    }\n",
       "\n",
       "    .dataframe thead th {\n",
       "        text-align: right;\n",
       "    }\n",
       "</style>\n",
       "<table border=\"1\" class=\"dataframe\">\n",
       "  <thead>\n",
       "    <tr style=\"text-align: right;\">\n",
       "      <th></th>\n",
       "      <th>Peptide</th>\n",
       "      <th>Quantification</th>\n",
       "      <th>ANDN920101</th>\n",
       "      <th>ARGP820101</th>\n",
       "      <th>ARGP820102</th>\n",
       "      <th>ARGP820103</th>\n",
       "      <th>BEGF750101</th>\n",
       "      <th>BEGF750102</th>\n",
       "      <th>BEGF750103</th>\n",
       "      <th>BHAR880101</th>\n",
       "      <th>...</th>\n",
       "      <th>KARS160113</th>\n",
       "      <th>KARS160114</th>\n",
       "      <th>KARS160115</th>\n",
       "      <th>KARS160116</th>\n",
       "      <th>KARS160117</th>\n",
       "      <th>KARS160118</th>\n",
       "      <th>KARS160119</th>\n",
       "      <th>KARS160120</th>\n",
       "      <th>KARS160121</th>\n",
       "      <th>KARS160122</th>\n",
       "    </tr>\n",
       "  </thead>\n",
       "  <tbody>\n",
       "    <tr>\n",
       "      <th>0</th>\n",
       "      <td>DFSALESQLQDTQELLQEENR</td>\n",
       "      <td>0.204082</td>\n",
       "      <td>92.33</td>\n",
       "      <td>12.36</td>\n",
       "      <td>22.69</td>\n",
       "      <td>21.80</td>\n",
       "      <td>13.17</td>\n",
       "      <td>14.65</td>\n",
       "      <td>13.88</td>\n",
       "      <td>9.563</td>\n",
       "      <td>...</td>\n",
       "      <td>241.0</td>\n",
       "      <td>380.122</td>\n",
       "      <td>270.0</td>\n",
       "      <td>454.0</td>\n",
       "      <td>713.007</td>\n",
       "      <td>133.94</td>\n",
       "      <td>537.463</td>\n",
       "      <td>-4.227</td>\n",
       "      <td>208.869</td>\n",
       "      <td>60.300</td>\n",
       "    </tr>\n",
       "    <tr>\n",
       "      <th>1</th>\n",
       "      <td>NADMSEEMQQDSVECATQALEK</td>\n",
       "      <td>0.146067</td>\n",
       "      <td>97.11</td>\n",
       "      <td>12.27</td>\n",
       "      <td>20.85</td>\n",
       "      <td>21.58</td>\n",
       "      <td>14.09</td>\n",
       "      <td>15.42</td>\n",
       "      <td>14.26</td>\n",
       "      <td>9.634</td>\n",
       "      <td>...</td>\n",
       "      <td>228.0</td>\n",
       "      <td>375.531</td>\n",
       "      <td>265.0</td>\n",
       "      <td>459.0</td>\n",
       "      <td>684.014</td>\n",
       "      <td>147.94</td>\n",
       "      <td>545.660</td>\n",
       "      <td>-4.406</td>\n",
       "      <td>216.602</td>\n",
       "      <td>61.570</td>\n",
       "    </tr>\n",
       "    <tr>\n",
       "      <th>2</th>\n",
       "      <td>ASASGSGAQVGGPISSGSSASSVTVTR</td>\n",
       "      <td>0.195783</td>\n",
       "      <td>115.44</td>\n",
       "      <td>12.07</td>\n",
       "      <td>23.95</td>\n",
       "      <td>25.26</td>\n",
       "      <td>13.99</td>\n",
       "      <td>18.85</td>\n",
       "      <td>19.32</td>\n",
       "      <td>12.750</td>\n",
       "      <td>...</td>\n",
       "      <td>168.0</td>\n",
       "      <td>297.981</td>\n",
       "      <td>194.0</td>\n",
       "      <td>390.0</td>\n",
       "      <td>545.021</td>\n",
       "      <td>159.77</td>\n",
       "      <td>482.653</td>\n",
       "      <td>-10.095</td>\n",
       "      <td>207.270</td>\n",
       "      <td>105.422</td>\n",
       "    </tr>\n",
       "    <tr>\n",
       "      <th>3</th>\n",
       "      <td>LSEEEILENPDLFLTSEATDYGR</td>\n",
       "      <td>0.069401</td>\n",
       "      <td>100.45</td>\n",
       "      <td>19.00</td>\n",
       "      <td>23.85</td>\n",
       "      <td>24.63</td>\n",
       "      <td>14.16</td>\n",
       "      <td>16.16</td>\n",
       "      <td>15.75</td>\n",
       "      <td>10.467</td>\n",
       "      <td>...</td>\n",
       "      <td>254.0</td>\n",
       "      <td>387.734</td>\n",
       "      <td>277.0</td>\n",
       "      <td>472.0</td>\n",
       "      <td>741.007</td>\n",
       "      <td>141.73</td>\n",
       "      <td>562.782</td>\n",
       "      <td>-11.055</td>\n",
       "      <td>223.858</td>\n",
       "      <td>77.698</td>\n",
       "    </tr>\n",
       "    <tr>\n",
       "      <th>4</th>\n",
       "      <td>IMQSSSEVGYDAMAGDFVNMVEK</td>\n",
       "      <td>0.335079</td>\n",
       "      <td>100.34</td>\n",
       "      <td>18.20</td>\n",
       "      <td>22.63</td>\n",
       "      <td>25.14</td>\n",
       "      <td>14.71</td>\n",
       "      <td>17.38</td>\n",
       "      <td>15.33</td>\n",
       "      <td>10.000</td>\n",
       "      <td>...</td>\n",
       "      <td>236.0</td>\n",
       "      <td>375.687</td>\n",
       "      <td>259.0</td>\n",
       "      <td>469.0</td>\n",
       "      <td>687.028</td>\n",
       "      <td>147.42</td>\n",
       "      <td>537.126</td>\n",
       "      <td>-2.780</td>\n",
       "      <td>219.424</td>\n",
       "      <td>66.769</td>\n",
       "    </tr>\n",
       "  </tbody>\n",
       "</table>\n",
       "<p>5 rows × 568 columns</p>\n",
       "</div>"
      ],
      "text/plain": [
       "                       Peptide  Quantification  ANDN920101  ARGP820101  \\\n",
       "0        DFSALESQLQDTQELLQEENR        0.204082       92.33       12.36   \n",
       "1       NADMSEEMQQDSVECATQALEK        0.146067       97.11       12.27   \n",
       "2  ASASGSGAQVGGPISSGSSASSVTVTR        0.195783      115.44       12.07   \n",
       "3      LSEEEILENPDLFLTSEATDYGR        0.069401      100.45       19.00   \n",
       "4      IMQSSSEVGYDAMAGDFVNMVEK        0.335079      100.34       18.20   \n",
       "\n",
       "   ARGP820102  ARGP820103  BEGF750101  BEGF750102  BEGF750103  BHAR880101  \\\n",
       "0       22.69       21.80       13.17       14.65       13.88       9.563   \n",
       "1       20.85       21.58       14.09       15.42       14.26       9.634   \n",
       "2       23.95       25.26       13.99       18.85       19.32      12.750   \n",
       "3       23.85       24.63       14.16       16.16       15.75      10.467   \n",
       "4       22.63       25.14       14.71       17.38       15.33      10.000   \n",
       "\n",
       "   ...  KARS160113  KARS160114  KARS160115  KARS160116  KARS160117  \\\n",
       "0  ...       241.0     380.122       270.0       454.0     713.007   \n",
       "1  ...       228.0     375.531       265.0       459.0     684.014   \n",
       "2  ...       168.0     297.981       194.0       390.0     545.021   \n",
       "3  ...       254.0     387.734       277.0       472.0     741.007   \n",
       "4  ...       236.0     375.687       259.0       469.0     687.028   \n",
       "\n",
       "   KARS160118  KARS160119  KARS160120  KARS160121  KARS160122  \n",
       "0      133.94     537.463      -4.227     208.869      60.300  \n",
       "1      147.94     545.660      -4.406     216.602      61.570  \n",
       "2      159.77     482.653     -10.095     207.270     105.422  \n",
       "3      141.73     562.782     -11.055     223.858      77.698  \n",
       "4      147.42     537.126      -2.780     219.424      66.769  \n",
       "\n",
       "[5 rows x 568 columns]"
      ]
     },
     "execution_count": 7,
     "metadata": {},
     "output_type": "execute_result"
    }
   ],
   "source": [
    "detected_peptides.head()"
   ]
  },
  {
   "cell_type": "code",
   "execution_count": 8,
   "id": "061e432f-28fe-4aae-81f0-2fcddfe04ed1",
   "metadata": {},
   "outputs": [
    {
     "name": "stdout",
     "output_type": "stream",
     "text": [
      "(37837, 569)\n",
      "(134282, 569)\n"
     ]
    }
   ],
   "source": [
    "# add detectability column\n",
    "detected_peptides.insert(loc=1, column='Detectability', value=1)\n",
    "undetected_peptides.insert(loc=1, column='Detectability', value=0)\n",
    "\n",
    "print(detected_peptides.shape)\n",
    "print(undetected_peptides.shape)"
   ]
  },
  {
   "cell_type": "code",
   "execution_count": 9,
   "id": "833ffed3-5311-427f-a882-817da2d46046",
   "metadata": {},
   "outputs": [
    {
     "data": {
      "text/html": [
       "<div>\n",
       "<style scoped>\n",
       "    .dataframe tbody tr th:only-of-type {\n",
       "        vertical-align: middle;\n",
       "    }\n",
       "\n",
       "    .dataframe tbody tr th {\n",
       "        vertical-align: top;\n",
       "    }\n",
       "\n",
       "    .dataframe thead th {\n",
       "        text-align: right;\n",
       "    }\n",
       "</style>\n",
       "<table border=\"1\" class=\"dataframe\">\n",
       "  <thead>\n",
       "    <tr style=\"text-align: right;\">\n",
       "      <th></th>\n",
       "      <th>Peptide</th>\n",
       "      <th>Detectability</th>\n",
       "      <th>Quantification</th>\n",
       "      <th>ANDN920101</th>\n",
       "      <th>ARGP820101</th>\n",
       "      <th>ARGP820102</th>\n",
       "      <th>ARGP820103</th>\n",
       "      <th>BEGF750101</th>\n",
       "      <th>BEGF750102</th>\n",
       "      <th>BEGF750103</th>\n",
       "      <th>...</th>\n",
       "      <th>KARS160113</th>\n",
       "      <th>KARS160114</th>\n",
       "      <th>KARS160115</th>\n",
       "      <th>KARS160116</th>\n",
       "      <th>KARS160117</th>\n",
       "      <th>KARS160118</th>\n",
       "      <th>KARS160119</th>\n",
       "      <th>KARS160120</th>\n",
       "      <th>KARS160121</th>\n",
       "      <th>KARS160122</th>\n",
       "    </tr>\n",
       "  </thead>\n",
       "  <tbody>\n",
       "    <tr>\n",
       "      <th>0</th>\n",
       "      <td>DFSALESQLQDTQELLQEENR</td>\n",
       "      <td>1</td>\n",
       "      <td>0.204082</td>\n",
       "      <td>92.33</td>\n",
       "      <td>12.36</td>\n",
       "      <td>22.69</td>\n",
       "      <td>21.80</td>\n",
       "      <td>13.17</td>\n",
       "      <td>14.65</td>\n",
       "      <td>13.88</td>\n",
       "      <td>...</td>\n",
       "      <td>241.0</td>\n",
       "      <td>380.122</td>\n",
       "      <td>270.0</td>\n",
       "      <td>454.0</td>\n",
       "      <td>713.007</td>\n",
       "      <td>133.94</td>\n",
       "      <td>537.463</td>\n",
       "      <td>-4.227</td>\n",
       "      <td>208.869</td>\n",
       "      <td>60.300</td>\n",
       "    </tr>\n",
       "    <tr>\n",
       "      <th>1</th>\n",
       "      <td>NADMSEEMQQDSVECATQALEK</td>\n",
       "      <td>1</td>\n",
       "      <td>0.146067</td>\n",
       "      <td>97.11</td>\n",
       "      <td>12.27</td>\n",
       "      <td>20.85</td>\n",
       "      <td>21.58</td>\n",
       "      <td>14.09</td>\n",
       "      <td>15.42</td>\n",
       "      <td>14.26</td>\n",
       "      <td>...</td>\n",
       "      <td>228.0</td>\n",
       "      <td>375.531</td>\n",
       "      <td>265.0</td>\n",
       "      <td>459.0</td>\n",
       "      <td>684.014</td>\n",
       "      <td>147.94</td>\n",
       "      <td>545.660</td>\n",
       "      <td>-4.406</td>\n",
       "      <td>216.602</td>\n",
       "      <td>61.570</td>\n",
       "    </tr>\n",
       "    <tr>\n",
       "      <th>2</th>\n",
       "      <td>ASASGSGAQVGGPISSGSSASSVTVTR</td>\n",
       "      <td>1</td>\n",
       "      <td>0.195783</td>\n",
       "      <td>115.44</td>\n",
       "      <td>12.07</td>\n",
       "      <td>23.95</td>\n",
       "      <td>25.26</td>\n",
       "      <td>13.99</td>\n",
       "      <td>18.85</td>\n",
       "      <td>19.32</td>\n",
       "      <td>...</td>\n",
       "      <td>168.0</td>\n",
       "      <td>297.981</td>\n",
       "      <td>194.0</td>\n",
       "      <td>390.0</td>\n",
       "      <td>545.021</td>\n",
       "      <td>159.77</td>\n",
       "      <td>482.653</td>\n",
       "      <td>-10.095</td>\n",
       "      <td>207.270</td>\n",
       "      <td>105.422</td>\n",
       "    </tr>\n",
       "    <tr>\n",
       "      <th>3</th>\n",
       "      <td>LSEEEILENPDLFLTSEATDYGR</td>\n",
       "      <td>1</td>\n",
       "      <td>0.069401</td>\n",
       "      <td>100.45</td>\n",
       "      <td>19.00</td>\n",
       "      <td>23.85</td>\n",
       "      <td>24.63</td>\n",
       "      <td>14.16</td>\n",
       "      <td>16.16</td>\n",
       "      <td>15.75</td>\n",
       "      <td>...</td>\n",
       "      <td>254.0</td>\n",
       "      <td>387.734</td>\n",
       "      <td>277.0</td>\n",
       "      <td>472.0</td>\n",
       "      <td>741.007</td>\n",
       "      <td>141.73</td>\n",
       "      <td>562.782</td>\n",
       "      <td>-11.055</td>\n",
       "      <td>223.858</td>\n",
       "      <td>77.698</td>\n",
       "    </tr>\n",
       "    <tr>\n",
       "      <th>4</th>\n",
       "      <td>IMQSSSEVGYDAMAGDFVNMVEK</td>\n",
       "      <td>1</td>\n",
       "      <td>0.335079</td>\n",
       "      <td>100.34</td>\n",
       "      <td>18.20</td>\n",
       "      <td>22.63</td>\n",
       "      <td>25.14</td>\n",
       "      <td>14.71</td>\n",
       "      <td>17.38</td>\n",
       "      <td>15.33</td>\n",
       "      <td>...</td>\n",
       "      <td>236.0</td>\n",
       "      <td>375.687</td>\n",
       "      <td>259.0</td>\n",
       "      <td>469.0</td>\n",
       "      <td>687.028</td>\n",
       "      <td>147.42</td>\n",
       "      <td>537.126</td>\n",
       "      <td>-2.780</td>\n",
       "      <td>219.424</td>\n",
       "      <td>66.769</td>\n",
       "    </tr>\n",
       "  </tbody>\n",
       "</table>\n",
       "<p>5 rows × 569 columns</p>\n",
       "</div>"
      ],
      "text/plain": [
       "                       Peptide  Detectability  Quantification  ANDN920101  \\\n",
       "0        DFSALESQLQDTQELLQEENR              1        0.204082       92.33   \n",
       "1       NADMSEEMQQDSVECATQALEK              1        0.146067       97.11   \n",
       "2  ASASGSGAQVGGPISSGSSASSVTVTR              1        0.195783      115.44   \n",
       "3      LSEEEILENPDLFLTSEATDYGR              1        0.069401      100.45   \n",
       "4      IMQSSSEVGYDAMAGDFVNMVEK              1        0.335079      100.34   \n",
       "\n",
       "   ARGP820101  ARGP820102  ARGP820103  BEGF750101  BEGF750102  BEGF750103  \\\n",
       "0       12.36       22.69       21.80       13.17       14.65       13.88   \n",
       "1       12.27       20.85       21.58       14.09       15.42       14.26   \n",
       "2       12.07       23.95       25.26       13.99       18.85       19.32   \n",
       "3       19.00       23.85       24.63       14.16       16.16       15.75   \n",
       "4       18.20       22.63       25.14       14.71       17.38       15.33   \n",
       "\n",
       "   ...  KARS160113  KARS160114  KARS160115  KARS160116  KARS160117  \\\n",
       "0  ...       241.0     380.122       270.0       454.0     713.007   \n",
       "1  ...       228.0     375.531       265.0       459.0     684.014   \n",
       "2  ...       168.0     297.981       194.0       390.0     545.021   \n",
       "3  ...       254.0     387.734       277.0       472.0     741.007   \n",
       "4  ...       236.0     375.687       259.0       469.0     687.028   \n",
       "\n",
       "   KARS160118  KARS160119  KARS160120  KARS160121  KARS160122  \n",
       "0      133.94     537.463      -4.227     208.869      60.300  \n",
       "1      147.94     545.660      -4.406     216.602      61.570  \n",
       "2      159.77     482.653     -10.095     207.270     105.422  \n",
       "3      141.73     562.782     -11.055     223.858      77.698  \n",
       "4      147.42     537.126      -2.780     219.424      66.769  \n",
       "\n",
       "[5 rows x 569 columns]"
      ]
     },
     "execution_count": 9,
     "metadata": {},
     "output_type": "execute_result"
    }
   ],
   "source": [
    "detected_peptides.head()"
   ]
  },
  {
   "cell_type": "code",
   "execution_count": 10,
   "id": "9f0cb86b-3a22-493c-87fb-0ad4ae6a15e1",
   "metadata": {},
   "outputs": [
    {
     "name": "stdout",
     "output_type": "stream",
     "text": [
      "(37837, 569)\n",
      "(37837, 569)\n"
     ]
    }
   ],
   "source": [
    "# take random sample of undetected_peptides, with equal number of rows to detected_peptides\n",
    "# random_state is used for reproducibility\n",
    "undetected_peptides_balanced = undetected_peptides.sample(n=detected_peptides.shape[0], \n",
    "                                                         random_state=42).reset_index(drop=True)\n",
    "print(detected_peptides.shape)\n",
    "print(undetected_peptides_balanced.shape)"
   ]
  },
  {
   "cell_type": "code",
   "execution_count": 11,
   "id": "08e816a9-b97f-4b77-a58c-0cf8591ac29c",
   "metadata": {},
   "outputs": [
    {
     "data": {
      "text/html": [
       "<div>\n",
       "<style scoped>\n",
       "    .dataframe tbody tr th:only-of-type {\n",
       "        vertical-align: middle;\n",
       "    }\n",
       "\n",
       "    .dataframe tbody tr th {\n",
       "        vertical-align: top;\n",
       "    }\n",
       "\n",
       "    .dataframe thead th {\n",
       "        text-align: right;\n",
       "    }\n",
       "</style>\n",
       "<table border=\"1\" class=\"dataframe\">\n",
       "  <thead>\n",
       "    <tr style=\"text-align: right;\">\n",
       "      <th></th>\n",
       "      <th>Peptide</th>\n",
       "      <th>Detectability</th>\n",
       "      <th>Quantification</th>\n",
       "      <th>ANDN920101</th>\n",
       "      <th>ARGP820101</th>\n",
       "      <th>ARGP820102</th>\n",
       "      <th>ARGP820103</th>\n",
       "      <th>BEGF750101</th>\n",
       "      <th>BEGF750102</th>\n",
       "      <th>BEGF750103</th>\n",
       "      <th>...</th>\n",
       "      <th>KARS160113</th>\n",
       "      <th>KARS160114</th>\n",
       "      <th>KARS160115</th>\n",
       "      <th>KARS160116</th>\n",
       "      <th>KARS160117</th>\n",
       "      <th>KARS160118</th>\n",
       "      <th>KARS160119</th>\n",
       "      <th>KARS160120</th>\n",
       "      <th>KARS160121</th>\n",
       "      <th>KARS160122</th>\n",
       "    </tr>\n",
       "  </thead>\n",
       "  <tbody>\n",
       "    <tr>\n",
       "      <th>0</th>\n",
       "      <td>IWRPPMYQR</td>\n",
       "      <td>0</td>\n",
       "      <td>0.001679</td>\n",
       "      <td>39.78</td>\n",
       "      <td>13.03</td>\n",
       "      <td>7.92</td>\n",
       "      <td>9.32</td>\n",
       "      <td>4.50</td>\n",
       "      <td>6.82</td>\n",
       "      <td>7.08</td>\n",
       "      <td>...</td>\n",
       "      <td>146.0</td>\n",
       "      <td>206.135</td>\n",
       "      <td>147.0</td>\n",
       "      <td>250.0</td>\n",
       "      <td>371.000</td>\n",
       "      <td>54.387</td>\n",
       "      <td>236.732</td>\n",
       "      <td>-2.390</td>\n",
       "      <td>104.006</td>\n",
       "      <td>43.921</td>\n",
       "    </tr>\n",
       "    <tr>\n",
       "      <th>1</th>\n",
       "      <td>NGTHLDAGALTTTFEELHFEIKPHDDCTVEQIYEILK</td>\n",
       "      <td>0</td>\n",
       "      <td>0.043841</td>\n",
       "      <td>161.34</td>\n",
       "      <td>32.57</td>\n",
       "      <td>35.55</td>\n",
       "      <td>37.03</td>\n",
       "      <td>22.43</td>\n",
       "      <td>27.78</td>\n",
       "      <td>24.66</td>\n",
       "      <td>...</td>\n",
       "      <td>395.0</td>\n",
       "      <td>613.817</td>\n",
       "      <td>449.0</td>\n",
       "      <td>741.0</td>\n",
       "      <td>1200.014</td>\n",
       "      <td>220.840</td>\n",
       "      <td>893.243</td>\n",
       "      <td>-32.578</td>\n",
       "      <td>356.324</td>\n",
       "      <td>112.647</td>\n",
       "    </tr>\n",
       "    <tr>\n",
       "      <th>2</th>\n",
       "      <td>MAEESER</td>\n",
       "      <td>0</td>\n",
       "      <td>0.005042</td>\n",
       "      <td>30.62</td>\n",
       "      <td>3.85</td>\n",
       "      <td>5.35</td>\n",
       "      <td>6.47</td>\n",
       "      <td>5.06</td>\n",
       "      <td>4.67</td>\n",
       "      <td>4.28</td>\n",
       "      <td>...</td>\n",
       "      <td>85.0</td>\n",
       "      <td>140.974</td>\n",
       "      <td>94.0</td>\n",
       "      <td>176.0</td>\n",
       "      <td>239.000</td>\n",
       "      <td>46.340</td>\n",
       "      <td>172.880</td>\n",
       "      <td>0.000</td>\n",
       "      <td>70.935</td>\n",
       "      <td>18.322</td>\n",
       "    </tr>\n",
       "    <tr>\n",
       "      <th>3</th>\n",
       "      <td>AVGGAMR</td>\n",
       "      <td>0</td>\n",
       "      <td>0.024155</td>\n",
       "      <td>29.49</td>\n",
       "      <td>4.46</td>\n",
       "      <td>7.29</td>\n",
       "      <td>8.91</td>\n",
       "      <td>5.04</td>\n",
       "      <td>5.52</td>\n",
       "      <td>4.53</td>\n",
       "      <td>...</td>\n",
       "      <td>57.0</td>\n",
       "      <td>88.144</td>\n",
       "      <td>58.0</td>\n",
       "      <td>108.0</td>\n",
       "      <td>147.007</td>\n",
       "      <td>38.000</td>\n",
       "      <td>116.687</td>\n",
       "      <td>0.000</td>\n",
       "      <td>52.267</td>\n",
       "      <td>12.856</td>\n",
       "    </tr>\n",
       "    <tr>\n",
       "      <th>4</th>\n",
       "      <td>NIVHNYSEAEIK</td>\n",
       "      <td>0</td>\n",
       "      <td>0.003472</td>\n",
       "      <td>52.37</td>\n",
       "      <td>11.12</td>\n",
       "      <td>7.57</td>\n",
       "      <td>8.97</td>\n",
       "      <td>7.43</td>\n",
       "      <td>8.67</td>\n",
       "      <td>7.66</td>\n",
       "      <td>...</td>\n",
       "      <td>135.0</td>\n",
       "      <td>211.410</td>\n",
       "      <td>156.0</td>\n",
       "      <td>266.0</td>\n",
       "      <td>404.021</td>\n",
       "      <td>74.960</td>\n",
       "      <td>293.794</td>\n",
       "      <td>-6.155</td>\n",
       "      <td>116.990</td>\n",
       "      <td>32.966</td>\n",
       "    </tr>\n",
       "    <tr>\n",
       "      <th>...</th>\n",
       "      <td>...</td>\n",
       "      <td>...</td>\n",
       "      <td>...</td>\n",
       "      <td>...</td>\n",
       "      <td>...</td>\n",
       "      <td>...</td>\n",
       "      <td>...</td>\n",
       "      <td>...</td>\n",
       "      <td>...</td>\n",
       "      <td>...</td>\n",
       "      <td>...</td>\n",
       "      <td>...</td>\n",
       "      <td>...</td>\n",
       "      <td>...</td>\n",
       "      <td>...</td>\n",
       "      <td>...</td>\n",
       "      <td>...</td>\n",
       "      <td>...</td>\n",
       "      <td>...</td>\n",
       "      <td>...</td>\n",
       "      <td>...</td>\n",
       "    </tr>\n",
       "    <tr>\n",
       "      <th>37832</th>\n",
       "      <td>CGTVGSR</td>\n",
       "      <td>0</td>\n",
       "      <td>0.003530</td>\n",
       "      <td>29.77</td>\n",
       "      <td>3.23</td>\n",
       "      <td>5.96</td>\n",
       "      <td>5.78</td>\n",
       "      <td>2.89</td>\n",
       "      <td>5.03</td>\n",
       "      <td>5.58</td>\n",
       "      <td>...</td>\n",
       "      <td>45.0</td>\n",
       "      <td>91.344</td>\n",
       "      <td>56.0</td>\n",
       "      <td>118.0</td>\n",
       "      <td>160.007</td>\n",
       "      <td>40.060</td>\n",
       "      <td>133.162</td>\n",
       "      <td>-4.227</td>\n",
       "      <td>55.667</td>\n",
       "      <td>28.200</td>\n",
       "    </tr>\n",
       "    <tr>\n",
       "      <th>37833</th>\n",
       "      <td>ALVIAPLFGIAQVVYFLGIAESLLGLLQDPQA</td>\n",
       "      <td>0</td>\n",
       "      <td>0.006192</td>\n",
       "      <td>136.01</td>\n",
       "      <td>35.39</td>\n",
       "      <td>46.69</td>\n",
       "      <td>47.57</td>\n",
       "      <td>22.30</td>\n",
       "      <td>25.29</td>\n",
       "      <td>18.79</td>\n",
       "      <td>...</td>\n",
       "      <td>315.0</td>\n",
       "      <td>440.511</td>\n",
       "      <td>330.0</td>\n",
       "      <td>512.0</td>\n",
       "      <td>866.021</td>\n",
       "      <td>189.020</td>\n",
       "      <td>693.766</td>\n",
       "      <td>-5.883</td>\n",
       "      <td>284.956</td>\n",
       "      <td>95.899</td>\n",
       "    </tr>\n",
       "    <tr>\n",
       "      <th>37834</th>\n",
       "      <td>YQEDFNPLVR</td>\n",
       "      <td>0</td>\n",
       "      <td>0.016867</td>\n",
       "      <td>44.37</td>\n",
       "      <td>10.29</td>\n",
       "      <td>8.73</td>\n",
       "      <td>9.14</td>\n",
       "      <td>5.40</td>\n",
       "      <td>7.36</td>\n",
       "      <td>7.19</td>\n",
       "      <td>...</td>\n",
       "      <td>133.0</td>\n",
       "      <td>195.641</td>\n",
       "      <td>143.0</td>\n",
       "      <td>232.0</td>\n",
       "      <td>373.014</td>\n",
       "      <td>61.790</td>\n",
       "      <td>264.513</td>\n",
       "      <td>-0.960</td>\n",
       "      <td>107.056</td>\n",
       "      <td>38.578</td>\n",
       "    </tr>\n",
       "    <tr>\n",
       "      <th>37835</th>\n",
       "      <td>EESELQR</td>\n",
       "      <td>0</td>\n",
       "      <td>0.000984</td>\n",
       "      <td>30.29</td>\n",
       "      <td>3.59</td>\n",
       "      <td>5.45</td>\n",
       "      <td>5.39</td>\n",
       "      <td>4.50</td>\n",
       "      <td>4.47</td>\n",
       "      <td>4.44</td>\n",
       "      <td>...</td>\n",
       "      <td>85.0</td>\n",
       "      <td>144.541</td>\n",
       "      <td>97.0</td>\n",
       "      <td>178.0</td>\n",
       "      <td>256.000</td>\n",
       "      <td>44.840</td>\n",
       "      <td>182.388</td>\n",
       "      <td>0.000</td>\n",
       "      <td>71.435</td>\n",
       "      <td>20.628</td>\n",
       "    </tr>\n",
       "    <tr>\n",
       "      <th>37836</th>\n",
       "      <td>NSGPQGPR</td>\n",
       "      <td>0</td>\n",
       "      <td>0.001342</td>\n",
       "      <td>34.82</td>\n",
       "      <td>4.75</td>\n",
       "      <td>4.62</td>\n",
       "      <td>4.80</td>\n",
       "      <td>2.48</td>\n",
       "      <td>4.94</td>\n",
       "      <td>7.17</td>\n",
       "      <td>...</td>\n",
       "      <td>75.0</td>\n",
       "      <td>113.441</td>\n",
       "      <td>83.0</td>\n",
       "      <td>138.0</td>\n",
       "      <td>201.007</td>\n",
       "      <td>44.430</td>\n",
       "      <td>160.882</td>\n",
       "      <td>0.000</td>\n",
       "      <td>70.834</td>\n",
       "      <td>39.049</td>\n",
       "    </tr>\n",
       "  </tbody>\n",
       "</table>\n",
       "<p>37837 rows × 569 columns</p>\n",
       "</div>"
      ],
      "text/plain": [
       "                                     Peptide  Detectability  Quantification  \\\n",
       "0                                  IWRPPMYQR              0        0.001679   \n",
       "1      NGTHLDAGALTTTFEELHFEIKPHDDCTVEQIYEILK              0        0.043841   \n",
       "2                                    MAEESER              0        0.005042   \n",
       "3                                    AVGGAMR              0        0.024155   \n",
       "4                               NIVHNYSEAEIK              0        0.003472   \n",
       "...                                      ...            ...             ...   \n",
       "37832                                CGTVGSR              0        0.003530   \n",
       "37833       ALVIAPLFGIAQVVYFLGIAESLLGLLQDPQA              0        0.006192   \n",
       "37834                             YQEDFNPLVR              0        0.016867   \n",
       "37835                                EESELQR              0        0.000984   \n",
       "37836                               NSGPQGPR              0        0.001342   \n",
       "\n",
       "       ANDN920101  ARGP820101  ARGP820102  ARGP820103  BEGF750101  BEGF750102  \\\n",
       "0           39.78       13.03        7.92        9.32        4.50        6.82   \n",
       "1          161.34       32.57       35.55       37.03       22.43       27.78   \n",
       "2           30.62        3.85        5.35        6.47        5.06        4.67   \n",
       "3           29.49        4.46        7.29        8.91        5.04        5.52   \n",
       "4           52.37       11.12        7.57        8.97        7.43        8.67   \n",
       "...           ...         ...         ...         ...         ...         ...   \n",
       "37832       29.77        3.23        5.96        5.78        2.89        5.03   \n",
       "37833      136.01       35.39       46.69       47.57       22.30       25.29   \n",
       "37834       44.37       10.29        8.73        9.14        5.40        7.36   \n",
       "37835       30.29        3.59        5.45        5.39        4.50        4.47   \n",
       "37836       34.82        4.75        4.62        4.80        2.48        4.94   \n",
       "\n",
       "       BEGF750103  ...  KARS160113  KARS160114  KARS160115  KARS160116  \\\n",
       "0            7.08  ...       146.0     206.135       147.0       250.0   \n",
       "1           24.66  ...       395.0     613.817       449.0       741.0   \n",
       "2            4.28  ...        85.0     140.974        94.0       176.0   \n",
       "3            4.53  ...        57.0      88.144        58.0       108.0   \n",
       "4            7.66  ...       135.0     211.410       156.0       266.0   \n",
       "...           ...  ...         ...         ...         ...         ...   \n",
       "37832        5.58  ...        45.0      91.344        56.0       118.0   \n",
       "37833       18.79  ...       315.0     440.511       330.0       512.0   \n",
       "37834        7.19  ...       133.0     195.641       143.0       232.0   \n",
       "37835        4.44  ...        85.0     144.541        97.0       178.0   \n",
       "37836        7.17  ...        75.0     113.441        83.0       138.0   \n",
       "\n",
       "       KARS160117  KARS160118  KARS160119  KARS160120  KARS160121  KARS160122  \n",
       "0         371.000      54.387     236.732      -2.390     104.006      43.921  \n",
       "1        1200.014     220.840     893.243     -32.578     356.324     112.647  \n",
       "2         239.000      46.340     172.880       0.000      70.935      18.322  \n",
       "3         147.007      38.000     116.687       0.000      52.267      12.856  \n",
       "4         404.021      74.960     293.794      -6.155     116.990      32.966  \n",
       "...           ...         ...         ...         ...         ...         ...  \n",
       "37832     160.007      40.060     133.162      -4.227      55.667      28.200  \n",
       "37833     866.021     189.020     693.766      -5.883     284.956      95.899  \n",
       "37834     373.014      61.790     264.513      -0.960     107.056      38.578  \n",
       "37835     256.000      44.840     182.388       0.000      71.435      20.628  \n",
       "37836     201.007      44.430     160.882       0.000      70.834      39.049  \n",
       "\n",
       "[37837 rows x 569 columns]"
      ]
     },
     "execution_count": 11,
     "metadata": {},
     "output_type": "execute_result"
    }
   ],
   "source": [
    "undetected_peptides_balanced"
   ]
  },
  {
   "cell_type": "code",
   "execution_count": 12,
   "id": "85400e1c-568d-4c09-90ea-5aa40d3c06d0",
   "metadata": {},
   "outputs": [
    {
     "data": {
      "text/plain": [
       "(96445, 569)"
      ]
     },
     "execution_count": 12,
     "metadata": {},
     "output_type": "execute_result"
    }
   ],
   "source": [
    "unused_undetected = undetected_peptides[~undetected_peptides[\"Peptide\"].isin\n",
    "                                        (undetected_peptides_balanced[\"Peptide\"])]\n",
    "unused_undetected.shape"
   ]
  },
  {
   "cell_type": "markdown",
   "id": "30f39da9-f71a-43e3-89ac-c34ab5cf4293",
   "metadata": {},
   "source": [
    "# Create training, validation and test sets"
   ]
  },
  {
   "cell_type": "markdown",
   "id": "e2c8c908-dfc2-4101-8676-91a92f32aeee",
   "metadata": {},
   "source": [
    "## Split into train and test sets"
   ]
  },
  {
   "cell_type": "code",
   "execution_count": 13,
   "id": "c7cfde27-05b8-4178-bd1f-4b17c3c48322",
   "metadata": {},
   "outputs": [],
   "source": [
    "# detected peptides\n",
    "X_trainP, X_testP, y_trainP, y_testP = sklearn.model_selection.train_test_split(\n",
    "    detected_peptides, detected_peptides['Detectability'], test_size=0.3, random_state=1)"
   ]
  },
  {
   "cell_type": "code",
   "execution_count": 14,
   "id": "b220628b-12f8-4b80-a354-398ce077b321",
   "metadata": {},
   "outputs": [],
   "source": [
    "# undetected peptides\n",
    "X_trainN, X_testN, y_trainN, y_testN = sklearn.model_selection.train_test_split(\n",
    "    undetected_peptides_balanced, undetected_peptides_balanced['Detectability'], test_size=0.3, random_state=1)"
   ]
  },
  {
   "cell_type": "code",
   "execution_count": 15,
   "id": "d1f8f965-1451-4afb-8e43-97a69a288969",
   "metadata": {},
   "outputs": [
    {
     "name": "stdout",
     "output_type": "stream",
     "text": [
      "(26485, 569)\n",
      "(11352, 569)\n",
      "\n",
      "(26485, 569)\n",
      "(11352, 569)\n"
     ]
    }
   ],
   "source": [
    "print(X_trainP.shape)\n",
    "print(X_testP.shape)\n",
    "print('')\n",
    "print(X_trainN.shape)\n",
    "print(X_testN.shape)"
   ]
  },
  {
   "cell_type": "markdown",
   "id": "276d5d61-ed13-4e40-8d44-6695b8cec870",
   "metadata": {},
   "source": [
    "## split training into train and validation sets"
   ]
  },
  {
   "cell_type": "code",
   "execution_count": 16,
   "id": "6f0c7fa9-5ec4-4e38-8a2e-bd563684ee6a",
   "metadata": {},
   "outputs": [],
   "source": [
    "# detected peptides\n",
    "X_trainP, X_valP, y_trainP, y_valP = sklearn.model_selection.train_test_split(\n",
    "    X_trainP, y_trainP, test_size=0.25, random_state=1)"
   ]
  },
  {
   "cell_type": "code",
   "execution_count": 17,
   "id": "0d0489c7-4f7f-46e6-a2ea-9ed3ac868d73",
   "metadata": {},
   "outputs": [],
   "source": [
    "# undetected peptides\n",
    "X_trainN, X_valN, y_trainN, y_valN = sklearn.model_selection.train_test_split(\n",
    "    X_trainN, y_trainN, test_size=0.25, random_state=1)"
   ]
  },
  {
   "cell_type": "code",
   "execution_count": 18,
   "id": "004b49a7-8018-47da-a2e0-3a1c3657b5e2",
   "metadata": {},
   "outputs": [
    {
     "name": "stdout",
     "output_type": "stream",
     "text": [
      "(19863, 569)\n",
      "(6622, 569)\n",
      "\n",
      "(19863, 569)\n",
      "(6622, 569)\n"
     ]
    }
   ],
   "source": [
    "print(X_trainP.shape)\n",
    "print(X_valP.shape)\n",
    "print('')\n",
    "print(X_trainN.shape)\n",
    "print(X_valN.shape)"
   ]
  },
  {
   "cell_type": "markdown",
   "id": "854382be-114f-4975-ad3d-ffa8f2570315",
   "metadata": {},
   "source": [
    "## create final training and validation sets"
   ]
  },
  {
   "cell_type": "code",
   "execution_count": 19,
   "id": "2df4b089-a724-41ee-8079-e5f402c854ec",
   "metadata": {},
   "outputs": [],
   "source": [
    "# create final training and validation sets\n",
    "X_train = pd.concat([X_trainP, X_trainN])\n",
    "X_val = pd.concat([X_valP] + [X_valN])\n",
    "y_train = pd.concat([pd.Series(y_trainP)] + [pd.Series(y_trainN)])\n",
    "y_val = pd.concat([pd.Series(y_valP)] + [pd.Series(y_valN)])"
   ]
  },
  {
   "cell_type": "code",
   "execution_count": 20,
   "id": "2c4ae028-6ddf-4d51-8d1d-f0cd6808b729",
   "metadata": {},
   "outputs": [
    {
     "name": "stdout",
     "output_type": "stream",
     "text": [
      "(39726, 569)\n",
      "(13244, 569)\n",
      "\n",
      "(39726,)\n",
      "(13244,)\n"
     ]
    }
   ],
   "source": [
    "print(X_train.shape)\n",
    "print(X_val.shape)\n",
    "print('')\n",
    "print(y_train.shape)\n",
    "print(y_val.shape)"
   ]
  },
  {
   "cell_type": "code",
   "execution_count": 21,
   "id": "382b1264-7d73-4c2c-9a8f-aeaf33fc59bd",
   "metadata": {},
   "outputs": [
    {
     "name": "stdout",
     "output_type": "stream",
     "text": [
      "0\n"
     ]
    }
   ],
   "source": [
    "# check validation set is not in train\n",
    "print(len(X_val[X_val[\"Peptide\"].isin(X_train[\"Peptide\"])]))"
   ]
  },
  {
   "cell_type": "markdown",
   "id": "82b1cca4-6a3e-4000-a4fd-80107e2d3143",
   "metadata": {},
   "source": [
    "## create final test set"
   ]
  },
  {
   "cell_type": "code",
   "execution_count": 22,
   "id": "8a948487-f5e5-4362-a194-812df94f538a",
   "metadata": {},
   "outputs": [
    {
     "name": "stdout",
     "output_type": "stream",
     "text": [
      "(22704, 569)\n",
      "(22704,)\n"
     ]
    }
   ],
   "source": [
    "# create final test set\n",
    "X_test = pd.concat([X_testP, X_testN])\n",
    "y_test = pd.concat([pd.Series(y_testP)] + [pd.Series(y_testN)])\n",
    "print(X_test.shape)\n",
    "print(y_test.shape)"
   ]
  },
  {
   "cell_type": "code",
   "execution_count": 23,
   "id": "7c4042a6-eead-45cd-ab07-7aba052b1e6c",
   "metadata": {},
   "outputs": [
    {
     "name": "stdout",
     "output_type": "stream",
     "text": [
      "0\n",
      "0\n"
     ]
    }
   ],
   "source": [
    "# check test is not in train or validation\n",
    "print(len(X_test[X_test[\"Peptide\"].isin(X_val[\"Peptide\"])]))\n",
    "print(len(X_test[X_test[\"Peptide\"].isin(X_train[\"Peptide\"])]))"
   ]
  },
  {
   "cell_type": "markdown",
   "id": "36ffc511-7f8c-4d91-ba07-7b0aea04abb1",
   "metadata": {},
   "source": [
    "## Pre-processing of train, validation and test sets"
   ]
  },
  {
   "cell_type": "code",
   "execution_count": 24,
   "id": "3060d03b-a47b-4be4-8886-3888cc869b19",
   "metadata": {},
   "outputs": [],
   "source": [
    "# integer-encode peptides\n",
    "maxLength = 40\n",
    "\n",
    "aaDict = {\"-\": 0, \"A\": 1, \"R\": 2, \"N\": 3, \"D\": 4, \"C\": 5, \"Q\": 6, \"E\": 7, \"G\": 8, \"H\": 9, \"I\": 10, \"L\": 11, \n",
    "          \"K\": 12, \"M\": 13, \"F\": 14, \"P\": 15, \"S\": 16, \"T\": 17, \"W\": 18, \"Y\": 19, \"V\": 20, \"U\": 21}\n",
    "\n",
    "def convertPeptide(peptide, maxLength):\n",
    "    j = 0\n",
    "    hotPeptide = []\n",
    "    for aa in peptide:\n",
    "        hotPeptide.append(aaDict[aa])\n",
    "        j = j + 1\n",
    "    for k in range(maxLength - j):\n",
    "        hotPeptide.append(0)\n",
    "\n",
    "    return np.array(hotPeptide)"
   ]
  },
  {
   "cell_type": "markdown",
   "id": "b8beb4b6-0a1d-4227-92d8-97fe64d01b40",
   "metadata": {},
   "source": [
    "### Separate out each feature"
   ]
  },
  {
   "cell_type": "code",
   "execution_count": 25,
   "id": "e5197886-277b-46e1-a73d-2d7f87b48233",
   "metadata": {},
   "outputs": [],
   "source": [
    "# training set\n",
    "X_train = shuffle(X_train, random_state=1).reset_index(drop=True)\n",
    "y_train = shuffle(y_train, random_state=1).reset_index(drop=True)\n",
    "\n",
    "X_train_peptide = X_train['Peptide'].apply(convertPeptide, args=(maxLength,))\n",
    "X_train_nsaf = X_train['Quantification']\n",
    "X_train_aaindex1 = X_train.iloc[:, 3:]"
   ]
  },
  {
   "cell_type": "code",
   "execution_count": 26,
   "id": "0a830ead-f84a-4c11-8fea-c2b64ab39e69",
   "metadata": {},
   "outputs": [],
   "source": [
    "# validation set\n",
    "X_val = shuffle(X_val, random_state=1).reset_index(drop=True)\n",
    "y_val = shuffle(y_val, random_state=1).reset_index(drop=True)\n",
    "\n",
    "X_val_peptide = X_val['Peptide'].apply(convertPeptide, args=(maxLength,))\n",
    "X_val_nsaf = X_val['Quantification']\n",
    "X_val_aaindex1 = X_val.iloc[:, 3:]"
   ]
  },
  {
   "cell_type": "code",
   "execution_count": 27,
   "id": "6b85e5cf-9ee0-4f15-80fb-66a4b24c1425",
   "metadata": {},
   "outputs": [],
   "source": [
    "# test set\n",
    "X_test = shuffle(X_test, random_state=1).reset_index(drop=True)\n",
    "y_test = shuffle(y_test, random_state=1).reset_index(drop=True)\n",
    "\n",
    "X_test_peptide = X_test['Peptide'].apply(convertPeptide, args=(maxLength,))\n",
    "X_test_nsaf = X_test['Quantification']\n",
    "X_test_aaindex1 = X_test.iloc[:, 3:]"
   ]
  },
  {
   "cell_type": "code",
   "execution_count": 28,
   "id": "5d62df59-5176-43c1-b24c-79834444d5d5",
   "metadata": {},
   "outputs": [
    {
     "data": {
      "text/plain": [
       "array([[ 43.14 ,   9.01 ,  14.93 , ...,  -1.139,  84.023,  24.31 ],\n",
       "       [ 39.62 ,   5.64 ,   8.09 , ...,  -6.047,  86.368,  33.68 ],\n",
       "       [ 29.98 ,   7.38 ,   8.19 , ...,  -7.509,  62.2  ,  22.946],\n",
       "       ...,\n",
       "       [ 56.43 ,  11.46 ,  14.49 , ...,  -3.554, 121.601,  38.449],\n",
       "       [ 47.4  ,  12.79 ,  12.67 , ...,  -2.601, 105.922,  44.107],\n",
       "       [ 99.06 ,  20.5  ,  22.84 , ...,  -2.694, 212.29 ,  79.143]])"
      ]
     },
     "execution_count": 28,
     "metadata": {},
     "output_type": "execute_result"
    }
   ],
   "source": [
    "np.asarray(X_test_aaindex1)"
   ]
  },
  {
   "cell_type": "code",
   "execution_count": 29,
   "id": "d0ef77b3-0a87-44c8-b3b0-4409eee43e78",
   "metadata": {},
   "outputs": [
    {
     "data": {
      "text/plain": [
       "(22704, 566)"
      ]
     },
     "execution_count": 29,
     "metadata": {},
     "output_type": "execute_result"
    }
   ],
   "source": [
    "np.asarray(X_test_aaindex1).shape"
   ]
  },
  {
   "cell_type": "markdown",
   "id": "9e5ffb85-7270-4b42-a5da-3eba9fc3349a",
   "metadata": {},
   "source": [
    "## Scale features"
   ]
  },
  {
   "cell_type": "code",
   "execution_count": 30,
   "id": "81459cc2-9eba-40a9-944f-502db17812ba",
   "metadata": {},
   "outputs": [],
   "source": [
    "# from sklearn.preprocessing import StandardScaler\n",
    "# # scale quantification column for detected and undetected\n",
    "# scaler = StandardScaler()\n",
    "# print(scaler.fit([X_train_nsaf]))\n",
    "# print(scaler.mean_)\n",
    "# print(scaler.transform([X_train_nsaf]))\n",
    "\n",
    "# scaler = StandardScaler().fit([X_train_nsaf])\n",
    "# scaler.mean_\n",
    "# scaler.scale_\n",
    "\n",
    "# scale AAIndex1 columns for detected and undetected\n",
    "# OPTION 1: Convert AAIndex1 features to vector\n",
    "# OPTION 2: Apply PCA to AAIndex1 features"
   ]
  },
  {
   "cell_type": "markdown",
   "id": "37d669f9-9395-4666-b619-6a897831c124",
   "metadata": {},
   "source": [
    "## Further preprocessing"
   ]
  },
  {
   "cell_type": "code",
   "execution_count": 31,
   "id": "1c945a73-1392-4edb-b671-395bb3948b28",
   "metadata": {},
   "outputs": [],
   "source": [
    "# convert to arrays\n",
    "X_train_peptide = np.array(X_train_peptide.to_list())\n",
    "X_val_peptide = np.array(X_val_peptide.to_list())\n",
    "X_test_peptide = np.array(X_test_peptide.to_list())"
   ]
  },
  {
   "cell_type": "code",
   "execution_count": 42,
   "id": "9f3f1c9d-bfd9-4125-8b0b-98105847c48b",
   "metadata": {},
   "outputs": [
    {
     "data": {
      "text/plain": [
       "(22704, 40)"
      ]
     },
     "execution_count": 42,
     "metadata": {},
     "output_type": "execute_result"
    }
   ],
   "source": [
    "X_test_peptide.shape"
   ]
  },
  {
   "cell_type": "code",
   "execution_count": 114,
   "id": "ef0dc2af-7819-46e2-9b60-015038560a76",
   "metadata": {},
   "outputs": [],
   "source": [
    "# OLD CODE\n",
    "# y_train_aaindex1 = tf.one_hot(np.asarray(y_train), depth=566)\n",
    "# y_test_aaindex1 = tf.one_hot(np.asarray(y_test), depth=566)\n",
    "# # not sure about this - trying to convert to match every feature column"
   ]
  },
  {
   "cell_type": "markdown",
   "id": "61d4e59e-0b8d-401d-a860-c3b7782a713c",
   "metadata": {},
   "source": [
    "# Build model (Keras)"
   ]
  },
  {
   "cell_type": "code",
   "execution_count": 34,
   "id": "f7e6058c-0f31-4740-8511-63a0c0e8280c",
   "metadata": {},
   "outputs": [
    {
     "name": "stdout",
     "output_type": "stream",
     "text": [
      "Model: \"model_1\"\n",
      "__________________________________________________________________________________________________\n",
      "Layer (type)                    Output Shape         Param #     Connected to                     \n",
      "==================================================================================================\n",
      "input_2 (InputLayer)            [(None, 40)]         0                                            \n",
      "__________________________________________________________________________________________________\n",
      "token_and_position_embedding_1  (None, 40, 32)       2592        input_2[0][0]                    \n",
      "__________________________________________________________________________________________________\n",
      "transformer_block_1 (Transforme (None, 40, 32)       6464        token_and_position_embedding_1[0]\n",
      "__________________________________________________________________________________________________\n",
      "global_average_pooling1d_1 (Glo (None, 32)           0           transformer_block_1[0][0]        \n",
      "__________________________________________________________________________________________________\n",
      "aux_output (Dense)              (None, 1)            33          global_average_pooling1d_1[0][0] \n",
      "__________________________________________________________________________________________________\n",
      "aux_input (InputLayer)          [(None, 1)]          0                                            \n",
      "__________________________________________________________________________________________________\n",
      "concatenate_1 (Concatenate)     (None, 2)            0           aux_output[0][0]                 \n",
      "                                                                 aux_input[0][0]                  \n",
      "__________________________________________________________________________________________________\n",
      "dense_15 (Dense)                (None, 64)           192         concatenate_1[0][0]              \n",
      "__________________________________________________________________________________________________\n",
      "dense_16 (Dense)                (None, 64)           4160        dense_15[0][0]                   \n",
      "__________________________________________________________________________________________________\n",
      "dense_17 (Dense)                (None, 64)           4160        dense_16[0][0]                   \n",
      "__________________________________________________________________________________________________\n",
      "main_output (Dense)             (None, 1)            65          dense_17[0][0]                   \n",
      "==================================================================================================\n",
      "Total params: 17,666\n",
      "Trainable params: 17,666\n",
      "Non-trainable params: 0\n",
      "__________________________________________________________________________________________________\n",
      "None\n"
     ]
    }
   ],
   "source": [
    "embed_dim = 32  # Embedding size for each token\n",
    "num_heads = 2  # Number of attention heads\n",
    "ff_dim = 32  # Hidden layer size in feed forward network inside transformer\n",
    "\n",
    "main_input = tf.keras.layers.Input(shape=(40,))\n",
    "embedding_layer = TokenAndPositionEmbedding(40, 41, embed_dim)\n",
    "x = embedding_layer(main_input)\n",
    "transformer_block = TransformerBlock(embed_dim, num_heads, ff_dim)\n",
    "x = transformer_block(bx)\n",
    "lstm_out = tf.keras.layers.GlobalAveragePooling1D()(x)\n",
    "\n",
    "auxiliary_output = tf.keras.layers.Dense(1, activation='sigmoid', name='aux_output')(lstm_out)\n",
    "\n",
    "auxiliary_input = tf.keras.layers.Input(shape=(1,), name='aux_input')\n",
    "x = tf.keras.layers.concatenate([auxiliary_output, auxiliary_input])\n",
    "x = tf.keras.layers.Dense(64, activation='relu')(x)\n",
    "x = tf.keras.layers.Dense(64, activation='relu')(x)\n",
    "x = tf.keras.layers.Dense(64, activation='relu')(x)\n",
    "\n",
    "main_output = tf.keras.layers.Dense(1, activation='sigmoid', name='main_output')(x)\n",
    "\n",
    "model = tf.keras.Model(inputs=[main_input, auxiliary_input], outputs=[main_output, auxiliary_output])\n",
    "\n",
    "optimiser = tf.keras.optimizers.Adam(learning_rate=0.0001, beta_1=0.9, beta_2=0.999, epsilon=None, decay=0.0, amsgrad=False)\n",
    "\n",
    "model.compile(loss='binary_crossentropy', optimizer=optimiser, metrics=['accuracy'], loss_weights=[1., 0.2])\n",
    "\n",
    "print(model.summary())"
   ]
  },
  {
   "cell_type": "code",
   "execution_count": null,
   "id": "dc475893-c688-4121-be0e-78c8ac4b36e6",
   "metadata": {},
   "outputs": [],
   "source": [
    "embed_dim = 32  # Embedding size for each token\n",
    "num_heads = 2  # Number of attention heads\n",
    "ff_dim = 32  # Hidden layer size in feed forward network inside transformer\n",
    "\n",
    "# define inputs\n",
    "main_input = tf.keras.layers.Input(shape=(40,))\n",
    "quant_input = tf.keras.layers.Input(shape=(1,), name='quant_input')\n",
    "aaindex_input = tf.keras.layers.Input(shape=(566,), name='aaindex_input')\n",
    "\n",
    "embedding_layer = TokenAndPositionEmbedding(40, 41, embed_dim)\n",
    "x = embedding_layer(main_input)\n",
    "transformer_block = TransformerBlock(embed_dim, num_heads, ff_dim)\n",
    "x = transformer_block(x)\n",
    "lstm_out = tf.keras.layers.GlobalAveragePooling1D()(x)\n",
    "\n",
    "quant_output = tf.keras.layers.Dense(1, activation='sigmoid', name='quant_output')(lstm_out)\n",
    "aaindex_output = tf.keras.layers.Dense(1, activation='sigmoid', name='aaindex_output')(quant_output)\n",
    "\n",
    "x = tf.keras.layers.concatenate([aaindex_output, auxiliary_input])\n",
    "x = tf.keras.layers.Dense(64, activation='relu')(x)\n",
    "x = tf.keras.layers.Dense(64, activation='relu')(x)\n",
    "x = tf.keras.layers.Dense(64, activation='relu')(x)\n",
    "\n",
    "main_output = tf.keras.layers.Dense(1, activation='sigmoid', name='main_output')(x)\n",
    "\n",
    "model = tf.keras.Model(inputs=[main_input, auxiliary_input], outputs=[main_output, auxiliary_output])\n",
    "\n",
    "optimiser = tf.keras.optimizers.Adam(learning_rate=0.0001, beta_1=0.9, beta_2=0.999, epsilon=None, decay=0.0, amsgrad=False)\n",
    "\n",
    "model.compile(loss='binary_crossentropy', optimizer=optimiser, metrics=['accuracy'], loss_weights=[1., 0.2])\n",
    "\n",
    "print(model.summary())"
   ]
  },
  {
   "cell_type": "code",
   "execution_count": null,
   "id": "2e37fca5-af0c-4b0d-811b-7ff8adf807fa",
   "metadata": {},
   "outputs": [],
   "source": []
  },
  {
   "cell_type": "code",
   "execution_count": null,
   "id": "1a6fb5a9-020f-413c-a228-0f9a457c7231",
   "metadata": {},
   "outputs": [],
   "source": []
  },
  {
   "cell_type": "code",
   "execution_count": null,
   "id": "0e34f65a-842e-422f-a8b6-2d7249c0705a",
   "metadata": {},
   "outputs": [],
   "source": [
    "embed_dim = 32  # Embedding size for each token\n",
    "num_heads = 2  # Number of attention heads\n",
    "ff_dim = 32  # Hidden layer size in feed forward network inside transformer\n",
    "\n",
    "main_input = tf.keras.layers.Input(shape=(40,))\n",
    "embedding_layer = TokenAndPositionEmbedding(40, 41, embed_dim)\n",
    "x = embedding_layer(main_input)\n",
    "transformer_block = TransformerBlock(embed_dim, num_heads, ff_dim)\n",
    "x = transformer_block(x)\n",
    "lstm_out = tf.keras.layers.GlobalAveragePooling1D()(x)\n",
    "\n",
    "auxiliary_output = tf.keras.layers.Dense(1, activation='sigmoid', name='aux_output')(lstm_out)\n",
    "\n",
    "auxiliary_input = tf.keras.layers.Input(shape=(1,), name='aux_input')\n",
    "x = tf.keras.layers.concatenate([auxiliary_output, auxiliary_input])\n",
    "\n",
    "aaindex_output = tf.keras.layers.Dense(1, activation='sigmoid', name='aaindex_output')(lstm_out)\n",
    "aaindex_input = tf.keras.layers.Input(shape=(1,), name='aaindex_input')\n",
    "x = tf.keras.layers.concatenate([aaindex_output, aaindex_input])\n",
    "\n",
    "x = tf.keras.layers.Dense(64, activation='relu')(x)\n",
    "x = tf.keras.layers.Dense(64, activation='relu')(x)\n",
    "x = tf.keras.layers.Dense(64, activation='relu')(x)\n",
    "\n",
    "main_output = tf.keras.layers.Dense(1, activation='sigmoid', name='main_output')(x)\n",
    "\n",
    "model = tf.keras.Model(inputs=[main_input, auxiliary_input], outputs=[main_output, auxiliary_output])\n",
    "\n",
    "optimiser = tf.keras.optimizers.Adam(learning_rate=0.0001, beta_1=0.9, beta_2=0.999, epsilon=None, decay=0.0, amsgrad=False)\n",
    "\n",
    "model.compile(loss='binary_crossentropy', optimizer=optimiser, metrics=['accuracy'], loss_weights=[1., 0.2])\n",
    "\n",
    "print(model.summary())"
   ]
  },
  {
   "cell_type": "code",
   "execution_count": 172,
   "id": "40d25366-a9e6-476e-992b-e4e8574c6934",
   "metadata": {},
   "outputs": [
    {
     "name": "stdout",
     "output_type": "stream",
     "text": [
      "Model: \"model_3\"\n",
      "__________________________________________________________________________________________________\n",
      "Layer (type)                    Output Shape         Param #     Connected to                     \n",
      "==================================================================================================\n",
      "input_5 (InputLayer)            [(None, 40)]         0                                            \n",
      "__________________________________________________________________________________________________\n",
      "token_and_position_embedding_4  (None, 40, 32)       2592        input_5[0][0]                    \n",
      "__________________________________________________________________________________________________\n",
      "transformer_block_4 (Transforme (None, 40, 32)       6464        token_and_position_embedding_4[0]\n",
      "__________________________________________________________________________________________________\n",
      "global_average_pooling1d_4 (Glo (None, 32)           0           transformer_block_4[0][0]        \n",
      "__________________________________________________________________________________________________\n",
      "quant_output (Dense)            (None, 1)            33          global_average_pooling1d_4[0][0] \n",
      "__________________________________________________________________________________________________\n",
      "quant_input (InputLayer)        [(None, 1)]          0                                            \n",
      "__________________________________________________________________________________________________\n",
      "aaindex_output (Dense)          (None, 1)            33          global_average_pooling1d_4[0][0] \n",
      "__________________________________________________________________________________________________\n",
      "aaindex_input (InputLayer)      [(None, 566)]        0                                            \n",
      "__________________________________________________________________________________________________\n",
      "concatenate_4 (Concatenate)     (None, 569)          0           quant_output[0][0]               \n",
      "                                                                 quant_input[0][0]                \n",
      "                                                                 aaindex_output[0][0]             \n",
      "                                                                 aaindex_input[0][0]              \n",
      "__________________________________________________________________________________________________\n",
      "dense_39 (Dense)                (None, 64)           36480       concatenate_4[0][0]              \n",
      "__________________________________________________________________________________________________\n",
      "dense_40 (Dense)                (None, 64)           4160        dense_39[0][0]                   \n",
      "__________________________________________________________________________________________________\n",
      "dense_41 (Dense)                (None, 64)           4160        dense_40[0][0]                   \n",
      "__________________________________________________________________________________________________\n",
      "main_output (Dense)             (None, 1)            65          dense_41[0][0]                   \n",
      "==================================================================================================\n",
      "Total params: 53,987\n",
      "Trainable params: 53,987\n",
      "Non-trainable params: 0\n",
      "__________________________________________________________________________________________________\n",
      "None\n"
     ]
    }
   ],
   "source": [
    "embed_dim = 32  # Embedding size for each token\n",
    "num_heads = 2  # Number of attention heads\n",
    "ff_dim = 32  # Hidden layer size in feed forward network inside transformer\n",
    "\n",
    "main_input = tf.keras.layers.Input(shape=(40,))\n",
    "quant_input = tf.keras.layers.Input(shape=(1,), name='quant_input')\n",
    "aaindex_input = tf.keras.layers.Input(shape=(566,), name='aaindex_input')\n",
    "\n",
    "embedding_layer = TokenAndPositionEmbedding(40, 41, embed_dim)\n",
    "x = embedding_layer(main_input)\n",
    "transformer_block = TransformerBlock(embed_dim, num_heads, ff_dim)\n",
    "x = transformer_block(x)\n",
    "lstm_out = tf.keras.layers.GlobalAveragePooling1D()(x)\n",
    "\n",
    "quant_output = tf.keras.layers.Dense(1, activation='sigmoid', name='quant_output')(lstm_out)\n",
    "aaindex_output = tf.keras.layers.Dense(1, activation='sigmoid', name='aaindex_output')(lstm_out)\n",
    "\n",
    "x = tf.keras.layers.concatenate([quant_input, aaindex_input])\n",
    "x = tf.keras.layers.Dense(64, activation='relu')(x)\n",
    "x = tf.keras.layers.Dense(64, activation='relu')(x)\n",
    "x = tf.keras.layers.Dense(64, activation='relu')(x)\n",
    "\n",
    "main_output = tf.keras.layers.Dense(1, activation='sigmoid', name='main_output')(x)\n",
    "\n",
    "model = tf.keras.Model(inputs=[main_input, quant_input, aaindex_input], outputs=[main_output, quant_output, aaindex_output])\n",
    "\n",
    "optimiser = tf.keras.optimizers.Adam(learning_rate=0.0001, beta_1=0.9, beta_2=0.999, epsilon=None, decay=0.0, amsgrad=False)\n",
    "\n",
    "model.compile(loss='binary_crossentropy', optimizer=optimiser, metrics=['accuracy'], loss_weights=[1., 0.2])\n",
    "\n",
    "print(model.summary())"
   ]
  },
  {
   "cell_type": "markdown",
   "id": "ec334778-3926-4a1b-b12e-b133ae0a3984",
   "metadata": {},
   "source": [
    "# Train and validate model"
   ]
  },
  {
   "cell_type": "code",
   "execution_count": 170,
   "id": "48a63961-acb7-41cc-b78a-5fbed39a5c01",
   "metadata": {},
   "outputs": [
    {
     "data": {
      "text/plain": [
       "(39726, 566)"
      ]
     },
     "execution_count": 170,
     "metadata": {},
     "output_type": "execute_result"
    }
   ],
   "source": [
    "np.asanyarray(X_train_aaindex1).shape"
   ]
  },
  {
   "cell_type": "code",
   "execution_count": 154,
   "id": "09aa8077-f4f5-4635-8d7a-628396fc8087",
   "metadata": {},
   "outputs": [],
   "source": [
    "import time"
   ]
  },
  {
   "cell_type": "code",
   "execution_count": 173,
   "id": "f49e205d-3a4a-4414-af7d-a5a60e1112c8",
   "metadata": {
    "scrolled": true,
    "tags": []
   },
   "outputs": [
    {
     "name": "stdout",
     "output_type": "stream",
     "text": [
      "Epoch 1/150\n",
      "199/199 - 9s - loss: nan - main_output_loss: nan - quant_output_loss: nan - aaindex_output_loss: 0.0000e+00 - main_output_accuracy: 0.5000 - quant_output_accuracy: 0.4997 - aaindex_output_accuracy: 0.4998 - val_loss: nan - val_main_output_loss: nan - val_quant_output_loss: nan - val_aaindex_output_loss: 0.0000e+00 - val_main_output_accuracy: 0.5000 - val_quant_output_accuracy: 0.5000 - val_aaindex_output_accuracy: 0.5000\n",
      "Epoch 2/150\n",
      "199/199 - 4s - loss: nan - main_output_loss: nan - quant_output_loss: nan - aaindex_output_loss: 0.0000e+00 - main_output_accuracy: 0.5000 - quant_output_accuracy: 0.5000 - aaindex_output_accuracy: 0.5000 - val_loss: nan - val_main_output_loss: nan - val_quant_output_loss: nan - val_aaindex_output_loss: 0.0000e+00 - val_main_output_accuracy: 0.5000 - val_quant_output_accuracy: 0.5000 - val_aaindex_output_accuracy: 0.5000\n",
      "Epoch 3/150\n",
      "199/199 - 4s - loss: nan - main_output_loss: nan - quant_output_loss: nan - aaindex_output_loss: 0.0000e+00 - main_output_accuracy: 0.5000 - quant_output_accuracy: 0.5000 - aaindex_output_accuracy: 0.5000 - val_loss: nan - val_main_output_loss: nan - val_quant_output_loss: nan - val_aaindex_output_loss: 0.0000e+00 - val_main_output_accuracy: 0.5000 - val_quant_output_accuracy: 0.5000 - val_aaindex_output_accuracy: 0.5000\n",
      "Epoch 4/150\n",
      "199/199 - 4s - loss: nan - main_output_loss: nan - quant_output_loss: nan - aaindex_output_loss: 0.0000e+00 - main_output_accuracy: 0.5000 - quant_output_accuracy: 0.5000 - aaindex_output_accuracy: 0.5000 - val_loss: nan - val_main_output_loss: nan - val_quant_output_loss: nan - val_aaindex_output_loss: 0.0000e+00 - val_main_output_accuracy: 0.5000 - val_quant_output_accuracy: 0.5000 - val_aaindex_output_accuracy: 0.5000\n",
      "Epoch 5/150\n",
      "199/199 - 4s - loss: nan - main_output_loss: nan - quant_output_loss: nan - aaindex_output_loss: 0.0000e+00 - main_output_accuracy: 0.5000 - quant_output_accuracy: 0.5000 - aaindex_output_accuracy: 0.5000 - val_loss: nan - val_main_output_loss: nan - val_quant_output_loss: nan - val_aaindex_output_loss: 0.0000e+00 - val_main_output_accuracy: 0.5000 - val_quant_output_accuracy: 0.5000 - val_aaindex_output_accuracy: 0.5000\n",
      "Epoch 6/150\n"
     ]
    },
    {
     "ename": "KeyboardInterrupt",
     "evalue": "",
     "output_type": "error",
     "traceback": [
      "\u001b[1;31m---------------------------------------------------------------------------\u001b[0m",
      "\u001b[1;31mKeyboardInterrupt\u001b[0m                         Traceback (most recent call last)",
      "\u001b[1;32m<ipython-input-173-afe35b1ee5a8>\u001b[0m in \u001b[0;36m<module>\u001b[1;34m\u001b[0m\n\u001b[0;32m      9\u001b[0m \u001b[1;33m\u001b[0m\u001b[0m\n\u001b[0;32m     10\u001b[0m \u001b[1;33m\u001b[0m\u001b[0m\n\u001b[1;32m---> 11\u001b[1;33m history = model.fit([np.asanyarray(X_train_peptide), np.asanyarray(X_train_nsaf), np.asanyarray(X_train_aaindex1)], \n\u001b[0m\u001b[0;32m     12\u001b[0m                     \u001b[1;33m[\u001b[0m\u001b[0mnp\u001b[0m\u001b[1;33m.\u001b[0m\u001b[0masanyarray\u001b[0m\u001b[1;33m(\u001b[0m\u001b[0my_train\u001b[0m\u001b[1;33m)\u001b[0m\u001b[1;33m,\u001b[0m \u001b[0mnp\u001b[0m\u001b[1;33m.\u001b[0m\u001b[0masanyarray\u001b[0m\u001b[1;33m(\u001b[0m\u001b[0my_train\u001b[0m\u001b[1;33m)\u001b[0m\u001b[1;33m,\u001b[0m \u001b[0mnp\u001b[0m\u001b[1;33m.\u001b[0m\u001b[0masanyarray\u001b[0m\u001b[1;33m(\u001b[0m\u001b[0my_train\u001b[0m\u001b[1;33m)\u001b[0m\u001b[1;33m]\u001b[0m\u001b[1;33m,\u001b[0m\u001b[1;33m\u001b[0m\u001b[1;33m\u001b[0m\u001b[0m\n\u001b[0;32m     13\u001b[0m                     validation_data = ([np.asarray(X_val_peptide), np.asarray(X_val_nsaf), np.asarray(X_val_aaindex1)], \n",
      "\u001b[1;32m~\\AppData\\Roaming\\Python\\Python38\\site-packages\\tensorflow\\python\\keras\\engine\\training.py\u001b[0m in \u001b[0;36mfit\u001b[1;34m(self, x, y, batch_size, epochs, verbose, callbacks, validation_split, validation_data, shuffle, class_weight, sample_weight, initial_epoch, steps_per_epoch, validation_steps, validation_batch_size, validation_freq, max_queue_size, workers, use_multiprocessing)\u001b[0m\n\u001b[0;32m   1181\u001b[0m                 _r=1):\n\u001b[0;32m   1182\u001b[0m               \u001b[0mcallbacks\u001b[0m\u001b[1;33m.\u001b[0m\u001b[0mon_train_batch_begin\u001b[0m\u001b[1;33m(\u001b[0m\u001b[0mstep\u001b[0m\u001b[1;33m)\u001b[0m\u001b[1;33m\u001b[0m\u001b[1;33m\u001b[0m\u001b[0m\n\u001b[1;32m-> 1183\u001b[1;33m               \u001b[0mtmp_logs\u001b[0m \u001b[1;33m=\u001b[0m \u001b[0mself\u001b[0m\u001b[1;33m.\u001b[0m\u001b[0mtrain_function\u001b[0m\u001b[1;33m(\u001b[0m\u001b[0miterator\u001b[0m\u001b[1;33m)\u001b[0m\u001b[1;33m\u001b[0m\u001b[1;33m\u001b[0m\u001b[0m\n\u001b[0m\u001b[0;32m   1184\u001b[0m               \u001b[1;32mif\u001b[0m \u001b[0mdata_handler\u001b[0m\u001b[1;33m.\u001b[0m\u001b[0mshould_sync\u001b[0m\u001b[1;33m:\u001b[0m\u001b[1;33m\u001b[0m\u001b[1;33m\u001b[0m\u001b[0m\n\u001b[0;32m   1185\u001b[0m                 \u001b[0mcontext\u001b[0m\u001b[1;33m.\u001b[0m\u001b[0masync_wait\u001b[0m\u001b[1;33m(\u001b[0m\u001b[1;33m)\u001b[0m\u001b[1;33m\u001b[0m\u001b[1;33m\u001b[0m\u001b[0m\n",
      "\u001b[1;32m~\\AppData\\Roaming\\Python\\Python38\\site-packages\\tensorflow\\python\\eager\\def_function.py\u001b[0m in \u001b[0;36m__call__\u001b[1;34m(self, *args, **kwds)\u001b[0m\n\u001b[0;32m    887\u001b[0m \u001b[1;33m\u001b[0m\u001b[0m\n\u001b[0;32m    888\u001b[0m       \u001b[1;32mwith\u001b[0m \u001b[0mOptionalXlaContext\u001b[0m\u001b[1;33m(\u001b[0m\u001b[0mself\u001b[0m\u001b[1;33m.\u001b[0m\u001b[0m_jit_compile\u001b[0m\u001b[1;33m)\u001b[0m\u001b[1;33m:\u001b[0m\u001b[1;33m\u001b[0m\u001b[1;33m\u001b[0m\u001b[0m\n\u001b[1;32m--> 889\u001b[1;33m         \u001b[0mresult\u001b[0m \u001b[1;33m=\u001b[0m \u001b[0mself\u001b[0m\u001b[1;33m.\u001b[0m\u001b[0m_call\u001b[0m\u001b[1;33m(\u001b[0m\u001b[1;33m*\u001b[0m\u001b[0margs\u001b[0m\u001b[1;33m,\u001b[0m \u001b[1;33m**\u001b[0m\u001b[0mkwds\u001b[0m\u001b[1;33m)\u001b[0m\u001b[1;33m\u001b[0m\u001b[1;33m\u001b[0m\u001b[0m\n\u001b[0m\u001b[0;32m    890\u001b[0m \u001b[1;33m\u001b[0m\u001b[0m\n\u001b[0;32m    891\u001b[0m       \u001b[0mnew_tracing_count\u001b[0m \u001b[1;33m=\u001b[0m \u001b[0mself\u001b[0m\u001b[1;33m.\u001b[0m\u001b[0mexperimental_get_tracing_count\u001b[0m\u001b[1;33m(\u001b[0m\u001b[1;33m)\u001b[0m\u001b[1;33m\u001b[0m\u001b[1;33m\u001b[0m\u001b[0m\n",
      "\u001b[1;32m~\\AppData\\Roaming\\Python\\Python38\\site-packages\\tensorflow\\python\\eager\\def_function.py\u001b[0m in \u001b[0;36m_call\u001b[1;34m(self, *args, **kwds)\u001b[0m\n\u001b[0;32m    915\u001b[0m       \u001b[1;31m# In this case we have created variables on the first call, so we run the\u001b[0m\u001b[1;33m\u001b[0m\u001b[1;33m\u001b[0m\u001b[1;33m\u001b[0m\u001b[0m\n\u001b[0;32m    916\u001b[0m       \u001b[1;31m# defunned version which is guaranteed to never create variables.\u001b[0m\u001b[1;33m\u001b[0m\u001b[1;33m\u001b[0m\u001b[1;33m\u001b[0m\u001b[0m\n\u001b[1;32m--> 917\u001b[1;33m       \u001b[1;32mreturn\u001b[0m \u001b[0mself\u001b[0m\u001b[1;33m.\u001b[0m\u001b[0m_stateless_fn\u001b[0m\u001b[1;33m(\u001b[0m\u001b[1;33m*\u001b[0m\u001b[0margs\u001b[0m\u001b[1;33m,\u001b[0m \u001b[1;33m**\u001b[0m\u001b[0mkwds\u001b[0m\u001b[1;33m)\u001b[0m  \u001b[1;31m# pylint: disable=not-callable\u001b[0m\u001b[1;33m\u001b[0m\u001b[1;33m\u001b[0m\u001b[0m\n\u001b[0m\u001b[0;32m    918\u001b[0m     \u001b[1;32melif\u001b[0m \u001b[0mself\u001b[0m\u001b[1;33m.\u001b[0m\u001b[0m_stateful_fn\u001b[0m \u001b[1;32mis\u001b[0m \u001b[1;32mnot\u001b[0m \u001b[1;32mNone\u001b[0m\u001b[1;33m:\u001b[0m\u001b[1;33m\u001b[0m\u001b[1;33m\u001b[0m\u001b[0m\n\u001b[0;32m    919\u001b[0m       \u001b[1;31m# Release the lock early so that multiple threads can perform the call\u001b[0m\u001b[1;33m\u001b[0m\u001b[1;33m\u001b[0m\u001b[1;33m\u001b[0m\u001b[0m\n",
      "\u001b[1;32m~\\AppData\\Roaming\\Python\\Python38\\site-packages\\tensorflow\\python\\eager\\function.py\u001b[0m in \u001b[0;36m__call__\u001b[1;34m(self, *args, **kwargs)\u001b[0m\n\u001b[0;32m   3021\u001b[0m       (graph_function,\n\u001b[0;32m   3022\u001b[0m        filtered_flat_args) = self._maybe_define_function(args, kwargs)\n\u001b[1;32m-> 3023\u001b[1;33m     return graph_function._call_flat(\n\u001b[0m\u001b[0;32m   3024\u001b[0m         filtered_flat_args, captured_inputs=graph_function.captured_inputs)  # pylint: disable=protected-access\n\u001b[0;32m   3025\u001b[0m \u001b[1;33m\u001b[0m\u001b[0m\n",
      "\u001b[1;32m~\\AppData\\Roaming\\Python\\Python38\\site-packages\\tensorflow\\python\\eager\\function.py\u001b[0m in \u001b[0;36m_call_flat\u001b[1;34m(self, args, captured_inputs, cancellation_manager)\u001b[0m\n\u001b[0;32m   1958\u001b[0m         and executing_eagerly):\n\u001b[0;32m   1959\u001b[0m       \u001b[1;31m# No tape is watching; skip to running the function.\u001b[0m\u001b[1;33m\u001b[0m\u001b[1;33m\u001b[0m\u001b[1;33m\u001b[0m\u001b[0m\n\u001b[1;32m-> 1960\u001b[1;33m       return self._build_call_outputs(self._inference_function.call(\n\u001b[0m\u001b[0;32m   1961\u001b[0m           ctx, args, cancellation_manager=cancellation_manager))\n\u001b[0;32m   1962\u001b[0m     forward_backward = self._select_forward_and_backward_functions(\n",
      "\u001b[1;32m~\\AppData\\Roaming\\Python\\Python38\\site-packages\\tensorflow\\python\\eager\\function.py\u001b[0m in \u001b[0;36mcall\u001b[1;34m(self, ctx, args, cancellation_manager)\u001b[0m\n\u001b[0;32m    589\u001b[0m       \u001b[1;32mwith\u001b[0m \u001b[0m_InterpolateFunctionError\u001b[0m\u001b[1;33m(\u001b[0m\u001b[0mself\u001b[0m\u001b[1;33m)\u001b[0m\u001b[1;33m:\u001b[0m\u001b[1;33m\u001b[0m\u001b[1;33m\u001b[0m\u001b[0m\n\u001b[0;32m    590\u001b[0m         \u001b[1;32mif\u001b[0m \u001b[0mcancellation_manager\u001b[0m \u001b[1;32mis\u001b[0m \u001b[1;32mNone\u001b[0m\u001b[1;33m:\u001b[0m\u001b[1;33m\u001b[0m\u001b[1;33m\u001b[0m\u001b[0m\n\u001b[1;32m--> 591\u001b[1;33m           outputs = execute.execute(\n\u001b[0m\u001b[0;32m    592\u001b[0m               \u001b[0mstr\u001b[0m\u001b[1;33m(\u001b[0m\u001b[0mself\u001b[0m\u001b[1;33m.\u001b[0m\u001b[0msignature\u001b[0m\u001b[1;33m.\u001b[0m\u001b[0mname\u001b[0m\u001b[1;33m)\u001b[0m\u001b[1;33m,\u001b[0m\u001b[1;33m\u001b[0m\u001b[1;33m\u001b[0m\u001b[0m\n\u001b[0;32m    593\u001b[0m               \u001b[0mnum_outputs\u001b[0m\u001b[1;33m=\u001b[0m\u001b[0mself\u001b[0m\u001b[1;33m.\u001b[0m\u001b[0m_num_outputs\u001b[0m\u001b[1;33m,\u001b[0m\u001b[1;33m\u001b[0m\u001b[1;33m\u001b[0m\u001b[0m\n",
      "\u001b[1;32m~\\AppData\\Roaming\\Python\\Python38\\site-packages\\tensorflow\\python\\eager\\execute.py\u001b[0m in \u001b[0;36mquick_execute\u001b[1;34m(op_name, num_outputs, inputs, attrs, ctx, name)\u001b[0m\n\u001b[0;32m     57\u001b[0m   \u001b[1;32mtry\u001b[0m\u001b[1;33m:\u001b[0m\u001b[1;33m\u001b[0m\u001b[1;33m\u001b[0m\u001b[0m\n\u001b[0;32m     58\u001b[0m     \u001b[0mctx\u001b[0m\u001b[1;33m.\u001b[0m\u001b[0mensure_initialized\u001b[0m\u001b[1;33m(\u001b[0m\u001b[1;33m)\u001b[0m\u001b[1;33m\u001b[0m\u001b[1;33m\u001b[0m\u001b[0m\n\u001b[1;32m---> 59\u001b[1;33m     tensors = pywrap_tfe.TFE_Py_Execute(ctx._handle, device_name, op_name,\n\u001b[0m\u001b[0;32m     60\u001b[0m                                         inputs, attrs, num_outputs)\n\u001b[0;32m     61\u001b[0m   \u001b[1;32mexcept\u001b[0m \u001b[0mcore\u001b[0m\u001b[1;33m.\u001b[0m\u001b[0m_NotOkStatusException\u001b[0m \u001b[1;32mas\u001b[0m \u001b[0me\u001b[0m\u001b[1;33m:\u001b[0m\u001b[1;33m\u001b[0m\u001b[1;33m\u001b[0m\u001b[0m\n",
      "\u001b[1;31mKeyboardInterrupt\u001b[0m: "
     ]
    }
   ],
   "source": [
    "start_time = time.time()\n",
    "\n",
    "# model.fit([x_train, y_train], \n",
    "#           [y_train, x_train], \n",
    "#           batch_size=args.batch_size, epochs=args.epochs, \n",
    "#           validation_data=([x_test, y_test], \n",
    "#                            [y_test, x_test]), \n",
    "#           callbacks=[log, tb, checkpoint, lr_decay])\n",
    "\n",
    "\n",
    "history = model.fit([np.asanyarray(X_train_peptide), np.asanyarray(X_train_nsaf), np.asanyarray(X_train_aaindex1)], \n",
    "                    [np.asanyarray(y_train), np.asanyarray(y_train), np.asanyarray(y_train)], \n",
    "                    validation_data = ([np.asarray(X_val_peptide), np.asarray(X_val_nsaf), np.asarray(X_val_aaindex1)], \n",
    "                                       [np.asarray(y_val), np.asarray(y_val), np.asarray(y_val)]), \n",
    "                    epochs=150, batch_size=200, verbose=2)\n",
    "\n",
    "print(\"\")\n",
    "print(\"Time taken for model to run: \", time.time() - start_time)"
   ]
  },
  {
   "cell_type": "code",
   "execution_count": 158,
   "id": "2248b52b-3071-4a7d-8ea6-35b164f2e25f",
   "metadata": {
    "scrolled": true,
    "tags": []
   },
   "outputs": [
    {
     "name": "stdout",
     "output_type": "stream",
     "text": [
      "Epoch 1/150\n"
     ]
    },
    {
     "ename": "ValueError",
     "evalue": "in user code:\n\n    D:\\Users\\Anima\\AppData\\Roaming\\Python\\Python38\\site-packages\\tensorflow\\python\\keras\\engine\\training.py:855 train_function  *\n        return step_function(self, iterator)\n    D:\\Users\\Anima\\AppData\\Roaming\\Python\\Python38\\site-packages\\tensorflow\\python\\keras\\engine\\training.py:845 step_function  **\n        outputs = model.distribute_strategy.run(run_step, args=(data,))\n    D:\\Users\\Anima\\AppData\\Roaming\\Python\\Python38\\site-packages\\tensorflow\\python\\distribute\\distribute_lib.py:1285 run\n        return self._extended.call_for_each_replica(fn, args=args, kwargs=kwargs)\n    D:\\Users\\Anima\\AppData\\Roaming\\Python\\Python38\\site-packages\\tensorflow\\python\\distribute\\distribute_lib.py:2833 call_for_each_replica\n        return self._call_for_each_replica(fn, args, kwargs)\n    D:\\Users\\Anima\\AppData\\Roaming\\Python\\Python38\\site-packages\\tensorflow\\python\\distribute\\distribute_lib.py:3608 _call_for_each_replica\n        return fn(*args, **kwargs)\n    D:\\Users\\Anima\\AppData\\Roaming\\Python\\Python38\\site-packages\\tensorflow\\python\\keras\\engine\\training.py:838 run_step  **\n        outputs = model.train_step(data)\n    D:\\Users\\Anima\\AppData\\Roaming\\Python\\Python38\\site-packages\\tensorflow\\python\\keras\\engine\\training.py:795 train_step\n        y_pred = self(x, training=True)\n    D:\\Users\\Anima\\AppData\\Roaming\\Python\\Python38\\site-packages\\tensorflow\\python\\keras\\engine\\base_layer.py:1013 __call__\n        input_spec.assert_input_compatibility(self.input_spec, inputs, self.name)\n    D:\\Users\\Anima\\AppData\\Roaming\\Python\\Python38\\site-packages\\tensorflow\\python\\keras\\engine\\input_spec.py:200 assert_input_compatibility\n        raise ValueError('Layer ' + layer_name + ' expects ' +\n\n    ValueError: Layer model expects 2 input(s), but it received 3 input tensors. Inputs received: [<tf.Tensor 'IteratorGetNext:0' shape=(None, 40) dtype=int32>, <tf.Tensor 'ExpandDims:0' shape=(None, 1) dtype=float32>, <tf.Tensor 'IteratorGetNext:2' shape=(None, 566) dtype=float32>]\n",
     "output_type": "error",
     "traceback": [
      "\u001b[1;31m---------------------------------------------------------------------------\u001b[0m",
      "\u001b[1;31mValueError\u001b[0m                                Traceback (most recent call last)",
      "\u001b[1;32m<ipython-input-158-7637fc3c1427>\u001b[0m in \u001b[0;36m<module>\u001b[1;34m\u001b[0m\n\u001b[0;32m      1\u001b[0m \u001b[0mstart_time\u001b[0m \u001b[1;33m=\u001b[0m \u001b[0mtime\u001b[0m\u001b[1;33m.\u001b[0m\u001b[0mtime\u001b[0m\u001b[1;33m(\u001b[0m\u001b[1;33m)\u001b[0m\u001b[1;33m\u001b[0m\u001b[1;33m\u001b[0m\u001b[0m\n\u001b[0;32m      2\u001b[0m \u001b[1;33m\u001b[0m\u001b[0m\n\u001b[1;32m----> 3\u001b[1;33m history = model.fit([np.asanyarray(X_train_peptide), np.asanyarray(X_train_nsaf), np.asanyarray(X_train_aaindex1)], \n\u001b[0m\u001b[0;32m      4\u001b[0m                     \u001b[1;33m[\u001b[0m\u001b[0mnp\u001b[0m\u001b[1;33m.\u001b[0m\u001b[0masanyarray\u001b[0m\u001b[1;33m(\u001b[0m\u001b[0my_train\u001b[0m\u001b[1;33m)\u001b[0m\u001b[1;33m,\u001b[0m \u001b[0mnp\u001b[0m\u001b[1;33m.\u001b[0m\u001b[0masanyarray\u001b[0m\u001b[1;33m(\u001b[0m\u001b[0my_train\u001b[0m\u001b[1;33m)\u001b[0m\u001b[1;33m,\u001b[0m \u001b[0mnp\u001b[0m\u001b[1;33m.\u001b[0m\u001b[0masanyarray\u001b[0m\u001b[1;33m(\u001b[0m\u001b[0my_train\u001b[0m\u001b[1;33m)\u001b[0m\u001b[1;33m]\u001b[0m\u001b[1;33m,\u001b[0m\u001b[1;33m\u001b[0m\u001b[1;33m\u001b[0m\u001b[0m\n\u001b[0;32m      5\u001b[0m                     validation_data = ([np.asarray(X_val_peptide), np.asarray(X_val_nsaf), np.asarray(X_val_aaindex1)], \n",
      "\u001b[1;32m~\\AppData\\Roaming\\Python\\Python38\\site-packages\\tensorflow\\python\\keras\\engine\\training.py\u001b[0m in \u001b[0;36mfit\u001b[1;34m(self, x, y, batch_size, epochs, verbose, callbacks, validation_split, validation_data, shuffle, class_weight, sample_weight, initial_epoch, steps_per_epoch, validation_steps, validation_batch_size, validation_freq, max_queue_size, workers, use_multiprocessing)\u001b[0m\n\u001b[0;32m   1181\u001b[0m                 _r=1):\n\u001b[0;32m   1182\u001b[0m               \u001b[0mcallbacks\u001b[0m\u001b[1;33m.\u001b[0m\u001b[0mon_train_batch_begin\u001b[0m\u001b[1;33m(\u001b[0m\u001b[0mstep\u001b[0m\u001b[1;33m)\u001b[0m\u001b[1;33m\u001b[0m\u001b[1;33m\u001b[0m\u001b[0m\n\u001b[1;32m-> 1183\u001b[1;33m               \u001b[0mtmp_logs\u001b[0m \u001b[1;33m=\u001b[0m \u001b[0mself\u001b[0m\u001b[1;33m.\u001b[0m\u001b[0mtrain_function\u001b[0m\u001b[1;33m(\u001b[0m\u001b[0miterator\u001b[0m\u001b[1;33m)\u001b[0m\u001b[1;33m\u001b[0m\u001b[1;33m\u001b[0m\u001b[0m\n\u001b[0m\u001b[0;32m   1184\u001b[0m               \u001b[1;32mif\u001b[0m \u001b[0mdata_handler\u001b[0m\u001b[1;33m.\u001b[0m\u001b[0mshould_sync\u001b[0m\u001b[1;33m:\u001b[0m\u001b[1;33m\u001b[0m\u001b[1;33m\u001b[0m\u001b[0m\n\u001b[0;32m   1185\u001b[0m                 \u001b[0mcontext\u001b[0m\u001b[1;33m.\u001b[0m\u001b[0masync_wait\u001b[0m\u001b[1;33m(\u001b[0m\u001b[1;33m)\u001b[0m\u001b[1;33m\u001b[0m\u001b[1;33m\u001b[0m\u001b[0m\n",
      "\u001b[1;32m~\\AppData\\Roaming\\Python\\Python38\\site-packages\\tensorflow\\python\\eager\\def_function.py\u001b[0m in \u001b[0;36m__call__\u001b[1;34m(self, *args, **kwds)\u001b[0m\n\u001b[0;32m    887\u001b[0m \u001b[1;33m\u001b[0m\u001b[0m\n\u001b[0;32m    888\u001b[0m       \u001b[1;32mwith\u001b[0m \u001b[0mOptionalXlaContext\u001b[0m\u001b[1;33m(\u001b[0m\u001b[0mself\u001b[0m\u001b[1;33m.\u001b[0m\u001b[0m_jit_compile\u001b[0m\u001b[1;33m)\u001b[0m\u001b[1;33m:\u001b[0m\u001b[1;33m\u001b[0m\u001b[1;33m\u001b[0m\u001b[0m\n\u001b[1;32m--> 889\u001b[1;33m         \u001b[0mresult\u001b[0m \u001b[1;33m=\u001b[0m \u001b[0mself\u001b[0m\u001b[1;33m.\u001b[0m\u001b[0m_call\u001b[0m\u001b[1;33m(\u001b[0m\u001b[1;33m*\u001b[0m\u001b[0margs\u001b[0m\u001b[1;33m,\u001b[0m \u001b[1;33m**\u001b[0m\u001b[0mkwds\u001b[0m\u001b[1;33m)\u001b[0m\u001b[1;33m\u001b[0m\u001b[1;33m\u001b[0m\u001b[0m\n\u001b[0m\u001b[0;32m    890\u001b[0m \u001b[1;33m\u001b[0m\u001b[0m\n\u001b[0;32m    891\u001b[0m       \u001b[0mnew_tracing_count\u001b[0m \u001b[1;33m=\u001b[0m \u001b[0mself\u001b[0m\u001b[1;33m.\u001b[0m\u001b[0mexperimental_get_tracing_count\u001b[0m\u001b[1;33m(\u001b[0m\u001b[1;33m)\u001b[0m\u001b[1;33m\u001b[0m\u001b[1;33m\u001b[0m\u001b[0m\n",
      "\u001b[1;32m~\\AppData\\Roaming\\Python\\Python38\\site-packages\\tensorflow\\python\\eager\\def_function.py\u001b[0m in \u001b[0;36m_call\u001b[1;34m(self, *args, **kwds)\u001b[0m\n\u001b[0;32m    922\u001b[0m       \u001b[1;31m# In this case we have not created variables on the first call. So we can\u001b[0m\u001b[1;33m\u001b[0m\u001b[1;33m\u001b[0m\u001b[1;33m\u001b[0m\u001b[0m\n\u001b[0;32m    923\u001b[0m       \u001b[1;31m# run the first trace but we should fail if variables are created.\u001b[0m\u001b[1;33m\u001b[0m\u001b[1;33m\u001b[0m\u001b[1;33m\u001b[0m\u001b[0m\n\u001b[1;32m--> 924\u001b[1;33m       \u001b[0mresults\u001b[0m \u001b[1;33m=\u001b[0m \u001b[0mself\u001b[0m\u001b[1;33m.\u001b[0m\u001b[0m_stateful_fn\u001b[0m\u001b[1;33m(\u001b[0m\u001b[1;33m*\u001b[0m\u001b[0margs\u001b[0m\u001b[1;33m,\u001b[0m \u001b[1;33m**\u001b[0m\u001b[0mkwds\u001b[0m\u001b[1;33m)\u001b[0m\u001b[1;33m\u001b[0m\u001b[1;33m\u001b[0m\u001b[0m\n\u001b[0m\u001b[0;32m    925\u001b[0m       \u001b[1;32mif\u001b[0m \u001b[0mself\u001b[0m\u001b[1;33m.\u001b[0m\u001b[0m_created_variables\u001b[0m\u001b[1;33m:\u001b[0m\u001b[1;33m\u001b[0m\u001b[1;33m\u001b[0m\u001b[0m\n\u001b[0;32m    926\u001b[0m         raise ValueError(\"Creating variables on a non-first call to a function\"\n",
      "\u001b[1;32m~\\AppData\\Roaming\\Python\\Python38\\site-packages\\tensorflow\\python\\eager\\function.py\u001b[0m in \u001b[0;36m__call__\u001b[1;34m(self, *args, **kwargs)\u001b[0m\n\u001b[0;32m   3020\u001b[0m     \u001b[1;32mwith\u001b[0m \u001b[0mself\u001b[0m\u001b[1;33m.\u001b[0m\u001b[0m_lock\u001b[0m\u001b[1;33m:\u001b[0m\u001b[1;33m\u001b[0m\u001b[1;33m\u001b[0m\u001b[0m\n\u001b[0;32m   3021\u001b[0m       (graph_function,\n\u001b[1;32m-> 3022\u001b[1;33m        filtered_flat_args) = self._maybe_define_function(args, kwargs)\n\u001b[0m\u001b[0;32m   3023\u001b[0m     return graph_function._call_flat(\n\u001b[0;32m   3024\u001b[0m         filtered_flat_args, captured_inputs=graph_function.captured_inputs)  # pylint: disable=protected-access\n",
      "\u001b[1;32m~\\AppData\\Roaming\\Python\\Python38\\site-packages\\tensorflow\\python\\eager\\function.py\u001b[0m in \u001b[0;36m_maybe_define_function\u001b[1;34m(self, args, kwargs)\u001b[0m\n\u001b[0;32m   3438\u001b[0m               \u001b[0mself\u001b[0m\u001b[1;33m.\u001b[0m\u001b[0minput_signature\u001b[0m \u001b[1;32mis\u001b[0m \u001b[1;32mNone\u001b[0m \u001b[1;32mand\u001b[0m\u001b[1;33m\u001b[0m\u001b[1;33m\u001b[0m\u001b[0m\n\u001b[0;32m   3439\u001b[0m               call_context_key in self._function_cache.missed):\n\u001b[1;32m-> 3440\u001b[1;33m             return self._define_function_with_shape_relaxation(\n\u001b[0m\u001b[0;32m   3441\u001b[0m                 args, kwargs, flat_args, filtered_flat_args, cache_key_context)\n\u001b[0;32m   3442\u001b[0m \u001b[1;33m\u001b[0m\u001b[0m\n",
      "\u001b[1;32m~\\AppData\\Roaming\\Python\\Python38\\site-packages\\tensorflow\\python\\eager\\function.py\u001b[0m in \u001b[0;36m_define_function_with_shape_relaxation\u001b[1;34m(self, args, kwargs, flat_args, filtered_flat_args, cache_key_context)\u001b[0m\n\u001b[0;32m   3360\u001b[0m           expand_composites=True)\n\u001b[0;32m   3361\u001b[0m \u001b[1;33m\u001b[0m\u001b[0m\n\u001b[1;32m-> 3362\u001b[1;33m     graph_function = self._create_graph_function(\n\u001b[0m\u001b[0;32m   3363\u001b[0m         args, kwargs, override_flat_arg_shapes=relaxed_arg_shapes)\n\u001b[0;32m   3364\u001b[0m     \u001b[0mself\u001b[0m\u001b[1;33m.\u001b[0m\u001b[0m_function_cache\u001b[0m\u001b[1;33m.\u001b[0m\u001b[0marg_relaxed\u001b[0m\u001b[1;33m[\u001b[0m\u001b[0mrank_only_cache_key\u001b[0m\u001b[1;33m]\u001b[0m \u001b[1;33m=\u001b[0m \u001b[0mgraph_function\u001b[0m\u001b[1;33m\u001b[0m\u001b[1;33m\u001b[0m\u001b[0m\n",
      "\u001b[1;32m~\\AppData\\Roaming\\Python\\Python38\\site-packages\\tensorflow\\python\\eager\\function.py\u001b[0m in \u001b[0;36m_create_graph_function\u001b[1;34m(self, args, kwargs, override_flat_arg_shapes)\u001b[0m\n\u001b[0;32m   3277\u001b[0m     \u001b[0marg_names\u001b[0m \u001b[1;33m=\u001b[0m \u001b[0mbase_arg_names\u001b[0m \u001b[1;33m+\u001b[0m \u001b[0mmissing_arg_names\u001b[0m\u001b[1;33m\u001b[0m\u001b[1;33m\u001b[0m\u001b[0m\n\u001b[0;32m   3278\u001b[0m     graph_function = ConcreteFunction(\n\u001b[1;32m-> 3279\u001b[1;33m         func_graph_module.func_graph_from_py_func(\n\u001b[0m\u001b[0;32m   3280\u001b[0m             \u001b[0mself\u001b[0m\u001b[1;33m.\u001b[0m\u001b[0m_name\u001b[0m\u001b[1;33m,\u001b[0m\u001b[1;33m\u001b[0m\u001b[1;33m\u001b[0m\u001b[0m\n\u001b[0;32m   3281\u001b[0m             \u001b[0mself\u001b[0m\u001b[1;33m.\u001b[0m\u001b[0m_python_function\u001b[0m\u001b[1;33m,\u001b[0m\u001b[1;33m\u001b[0m\u001b[1;33m\u001b[0m\u001b[0m\n",
      "\u001b[1;32m~\\AppData\\Roaming\\Python\\Python38\\site-packages\\tensorflow\\python\\framework\\func_graph.py\u001b[0m in \u001b[0;36mfunc_graph_from_py_func\u001b[1;34m(name, python_func, args, kwargs, signature, func_graph, autograph, autograph_options, add_control_dependencies, arg_names, op_return_value, collections, capture_by_value, override_flat_arg_shapes)\u001b[0m\n\u001b[0;32m    997\u001b[0m         \u001b[0m_\u001b[0m\u001b[1;33m,\u001b[0m \u001b[0moriginal_func\u001b[0m \u001b[1;33m=\u001b[0m \u001b[0mtf_decorator\u001b[0m\u001b[1;33m.\u001b[0m\u001b[0munwrap\u001b[0m\u001b[1;33m(\u001b[0m\u001b[0mpython_func\u001b[0m\u001b[1;33m)\u001b[0m\u001b[1;33m\u001b[0m\u001b[1;33m\u001b[0m\u001b[0m\n\u001b[0;32m    998\u001b[0m \u001b[1;33m\u001b[0m\u001b[0m\n\u001b[1;32m--> 999\u001b[1;33m       \u001b[0mfunc_outputs\u001b[0m \u001b[1;33m=\u001b[0m \u001b[0mpython_func\u001b[0m\u001b[1;33m(\u001b[0m\u001b[1;33m*\u001b[0m\u001b[0mfunc_args\u001b[0m\u001b[1;33m,\u001b[0m \u001b[1;33m**\u001b[0m\u001b[0mfunc_kwargs\u001b[0m\u001b[1;33m)\u001b[0m\u001b[1;33m\u001b[0m\u001b[1;33m\u001b[0m\u001b[0m\n\u001b[0m\u001b[0;32m   1000\u001b[0m \u001b[1;33m\u001b[0m\u001b[0m\n\u001b[0;32m   1001\u001b[0m       \u001b[1;31m# invariant: `func_outputs` contains only Tensors, CompositeTensors,\u001b[0m\u001b[1;33m\u001b[0m\u001b[1;33m\u001b[0m\u001b[1;33m\u001b[0m\u001b[0m\n",
      "\u001b[1;32m~\\AppData\\Roaming\\Python\\Python38\\site-packages\\tensorflow\\python\\eager\\def_function.py\u001b[0m in \u001b[0;36mwrapped_fn\u001b[1;34m(*args, **kwds)\u001b[0m\n\u001b[0;32m    670\u001b[0m         \u001b[1;31m# the function a weak reference to itself to avoid a reference cycle.\u001b[0m\u001b[1;33m\u001b[0m\u001b[1;33m\u001b[0m\u001b[1;33m\u001b[0m\u001b[0m\n\u001b[0;32m    671\u001b[0m         \u001b[1;32mwith\u001b[0m \u001b[0mOptionalXlaContext\u001b[0m\u001b[1;33m(\u001b[0m\u001b[0mcompile_with_xla\u001b[0m\u001b[1;33m)\u001b[0m\u001b[1;33m:\u001b[0m\u001b[1;33m\u001b[0m\u001b[1;33m\u001b[0m\u001b[0m\n\u001b[1;32m--> 672\u001b[1;33m           \u001b[0mout\u001b[0m \u001b[1;33m=\u001b[0m \u001b[0mweak_wrapped_fn\u001b[0m\u001b[1;33m(\u001b[0m\u001b[1;33m)\u001b[0m\u001b[1;33m.\u001b[0m\u001b[0m__wrapped__\u001b[0m\u001b[1;33m(\u001b[0m\u001b[1;33m*\u001b[0m\u001b[0margs\u001b[0m\u001b[1;33m,\u001b[0m \u001b[1;33m**\u001b[0m\u001b[0mkwds\u001b[0m\u001b[1;33m)\u001b[0m\u001b[1;33m\u001b[0m\u001b[1;33m\u001b[0m\u001b[0m\n\u001b[0m\u001b[0;32m    673\u001b[0m         \u001b[1;32mreturn\u001b[0m \u001b[0mout\u001b[0m\u001b[1;33m\u001b[0m\u001b[1;33m\u001b[0m\u001b[0m\n\u001b[0;32m    674\u001b[0m \u001b[1;33m\u001b[0m\u001b[0m\n",
      "\u001b[1;32m~\\AppData\\Roaming\\Python\\Python38\\site-packages\\tensorflow\\python\\framework\\func_graph.py\u001b[0m in \u001b[0;36mwrapper\u001b[1;34m(*args, **kwargs)\u001b[0m\n\u001b[0;32m    984\u001b[0m           \u001b[1;32mexcept\u001b[0m \u001b[0mException\u001b[0m \u001b[1;32mas\u001b[0m \u001b[0me\u001b[0m\u001b[1;33m:\u001b[0m  \u001b[1;31m# pylint:disable=broad-except\u001b[0m\u001b[1;33m\u001b[0m\u001b[1;33m\u001b[0m\u001b[0m\n\u001b[0;32m    985\u001b[0m             \u001b[1;32mif\u001b[0m \u001b[0mhasattr\u001b[0m\u001b[1;33m(\u001b[0m\u001b[0me\u001b[0m\u001b[1;33m,\u001b[0m \u001b[1;34m\"ag_error_metadata\"\u001b[0m\u001b[1;33m)\u001b[0m\u001b[1;33m:\u001b[0m\u001b[1;33m\u001b[0m\u001b[1;33m\u001b[0m\u001b[0m\n\u001b[1;32m--> 986\u001b[1;33m               \u001b[1;32mraise\u001b[0m \u001b[0me\u001b[0m\u001b[1;33m.\u001b[0m\u001b[0mag_error_metadata\u001b[0m\u001b[1;33m.\u001b[0m\u001b[0mto_exception\u001b[0m\u001b[1;33m(\u001b[0m\u001b[0me\u001b[0m\u001b[1;33m)\u001b[0m\u001b[1;33m\u001b[0m\u001b[1;33m\u001b[0m\u001b[0m\n\u001b[0m\u001b[0;32m    987\u001b[0m             \u001b[1;32melse\u001b[0m\u001b[1;33m:\u001b[0m\u001b[1;33m\u001b[0m\u001b[1;33m\u001b[0m\u001b[0m\n\u001b[0;32m    988\u001b[0m               \u001b[1;32mraise\u001b[0m\u001b[1;33m\u001b[0m\u001b[1;33m\u001b[0m\u001b[0m\n",
      "\u001b[1;31mValueError\u001b[0m: in user code:\n\n    D:\\Users\\Anima\\AppData\\Roaming\\Python\\Python38\\site-packages\\tensorflow\\python\\keras\\engine\\training.py:855 train_function  *\n        return step_function(self, iterator)\n    D:\\Users\\Anima\\AppData\\Roaming\\Python\\Python38\\site-packages\\tensorflow\\python\\keras\\engine\\training.py:845 step_function  **\n        outputs = model.distribute_strategy.run(run_step, args=(data,))\n    D:\\Users\\Anima\\AppData\\Roaming\\Python\\Python38\\site-packages\\tensorflow\\python\\distribute\\distribute_lib.py:1285 run\n        return self._extended.call_for_each_replica(fn, args=args, kwargs=kwargs)\n    D:\\Users\\Anima\\AppData\\Roaming\\Python\\Python38\\site-packages\\tensorflow\\python\\distribute\\distribute_lib.py:2833 call_for_each_replica\n        return self._call_for_each_replica(fn, args, kwargs)\n    D:\\Users\\Anima\\AppData\\Roaming\\Python\\Python38\\site-packages\\tensorflow\\python\\distribute\\distribute_lib.py:3608 _call_for_each_replica\n        return fn(*args, **kwargs)\n    D:\\Users\\Anima\\AppData\\Roaming\\Python\\Python38\\site-packages\\tensorflow\\python\\keras\\engine\\training.py:838 run_step  **\n        outputs = model.train_step(data)\n    D:\\Users\\Anima\\AppData\\Roaming\\Python\\Python38\\site-packages\\tensorflow\\python\\keras\\engine\\training.py:795 train_step\n        y_pred = self(x, training=True)\n    D:\\Users\\Anima\\AppData\\Roaming\\Python\\Python38\\site-packages\\tensorflow\\python\\keras\\engine\\base_layer.py:1013 __call__\n        input_spec.assert_input_compatibility(self.input_spec, inputs, self.name)\n    D:\\Users\\Anima\\AppData\\Roaming\\Python\\Python38\\site-packages\\tensorflow\\python\\keras\\engine\\input_spec.py:200 assert_input_compatibility\n        raise ValueError('Layer ' + layer_name + ' expects ' +\n\n    ValueError: Layer model expects 2 input(s), but it received 3 input tensors. Inputs received: [<tf.Tensor 'IteratorGetNext:0' shape=(None, 40) dtype=int32>, <tf.Tensor 'ExpandDims:0' shape=(None, 1) dtype=float32>, <tf.Tensor 'IteratorGetNext:2' shape=(None, 566) dtype=float32>]\n"
     ]
    }
   ],
   "source": [
    "start_time = time.time()\n",
    "\n",
    "history = model.fit([np.asanyarray(X_train_peptide), np.asanyarray(X_train_nsaf), np.asanyarray(X_train_aaindex1)], \n",
    "                    [np.asanyarray(y_train), np.asanyarray(y_train), np.asanyarray(y_train)], \n",
    "                    validation_data = ([np.asarray(X_val_peptide), np.asarray(X_val_nsaf), np.asarray(X_val_aaindex1)], \n",
    "                                       [np.asarray(y_val), np.asarray(y_val), np.asarray(y_val)]), \n",
    "                    epochs=150, batch_size=200, verbose=2)\n",
    "print(\"\")\n",
    "print(\"Time taken for model to run: \", time.time() - start_time)"
   ]
  },
  {
   "cell_type": "code",
   "execution_count": null,
   "id": "111aa89d-b070-4ac6-9314-ad8faa82c080",
   "metadata": {},
   "outputs": [],
   "source": []
  },
  {
   "cell_type": "code",
   "execution_count": null,
   "id": "7909fab0-9889-415b-baba-e0cd950dd044",
   "metadata": {
    "scrolled": true,
    "tags": []
   },
   "outputs": [
    {
     "name": "stdout",
     "output_type": "stream",
     "text": [
      "Epoch 1/150\n",
      "51/51 - 10s - loss: 0.8292 - main_output_loss: 0.6929 - aux_output_loss: 0.6811 - main_output_accuracy: 0.5109 - aux_output_accuracy: 0.5568 - val_loss: 0.8272 - val_main_output_loss: 0.6926 - val_aux_output_loss: 0.6728 - val_main_output_accuracy: 0.5000 - val_aux_output_accuracy: 0.5807\n",
      "Epoch 2/150\n",
      "51/51 - 8s - loss: 0.8258 - main_output_loss: 0.6922 - aux_output_loss: 0.6680 - main_output_accuracy: 0.5008 - aux_output_accuracy: 0.5865 - val_loss: 0.8235 - val_main_output_loss: 0.6913 - val_aux_output_loss: 0.6609 - val_main_output_accuracy: 0.5090 - val_aux_output_accuracy: 0.6070\n",
      "Epoch 3/150\n",
      "51/51 - 8s - loss: 0.8213 - main_output_loss: 0.6901 - aux_output_loss: 0.6558 - main_output_accuracy: 0.5250 - aux_output_accuracy: 0.6130 - val_loss: 0.8185 - val_main_output_loss: 0.6884 - val_aux_output_loss: 0.6507 - val_main_output_accuracy: 0.5379 - val_aux_output_accuracy: 0.6197\n",
      "Epoch 4/150\n",
      "51/51 - 8s - loss: 0.8147 - main_output_loss: 0.6857 - aux_output_loss: 0.6452 - main_output_accuracy: 0.5631 - aux_output_accuracy: 0.6244 - val_loss: 0.8108 - val_main_output_loss: 0.6824 - val_aux_output_loss: 0.6420 - val_main_output_accuracy: 0.5748 - val_aux_output_accuracy: 0.6276\n",
      "Epoch 5/150\n",
      "51/51 - 8s - loss: 0.8054 - main_output_loss: 0.6778 - aux_output_loss: 0.6379 - main_output_accuracy: 0.5993 - aux_output_accuracy: 0.6324 - val_loss: 0.8008 - val_main_output_loss: 0.6729 - val_aux_output_loss: 0.6398 - val_main_output_accuracy: 0.6113 - val_aux_output_accuracy: 0.6308\n",
      "Epoch 6/150\n",
      "51/51 - 8s - loss: 0.7947 - main_output_loss: 0.6676 - aux_output_loss: 0.6354 - main_output_accuracy: 0.6262 - aux_output_accuracy: 0.6355 - val_loss: 0.7922 - val_main_output_loss: 0.6641 - val_aux_output_loss: 0.6406 - val_main_output_accuracy: 0.6181 - val_aux_output_accuracy: 0.6341\n",
      "Epoch 7/150\n",
      "51/51 - 8s - loss: 0.7846 - main_output_loss: 0.6580 - aux_output_loss: 0.6327 - main_output_accuracy: 0.6384 - aux_output_accuracy: 0.6398 - val_loss: 0.7841 - val_main_output_loss: 0.6560 - val_aux_output_loss: 0.6403 - val_main_output_accuracy: 0.6291 - val_aux_output_accuracy: 0.6369\n",
      "Epoch 8/150\n",
      "51/51 - 8s - loss: 0.7759 - main_output_loss: 0.6497 - aux_output_loss: 0.6313 - main_output_accuracy: 0.6440 - aux_output_accuracy: 0.6426 - val_loss: 0.7776 - val_main_output_loss: 0.6498 - val_aux_output_loss: 0.6392 - val_main_output_accuracy: 0.6327 - val_aux_output_accuracy: 0.6385\n",
      "Epoch 9/150\n",
      "51/51 - 8s - loss: 0.7685 - main_output_loss: 0.6426 - aux_output_loss: 0.6295 - main_output_accuracy: 0.6468 - aux_output_accuracy: 0.6453 - val_loss: 0.7728 - val_main_output_loss: 0.6450 - val_aux_output_loss: 0.6390 - val_main_output_accuracy: 0.6373 - val_aux_output_accuracy: 0.6379\n",
      "Epoch 10/150\n",
      "51/51 - 8s - loss: 0.7619 - main_output_loss: 0.6366 - aux_output_loss: 0.6265 - main_output_accuracy: 0.6492 - aux_output_accuracy: 0.6470 - val_loss: 0.7671 - val_main_output_loss: 0.6398 - val_aux_output_loss: 0.6363 - val_main_output_accuracy: 0.6414 - val_aux_output_accuracy: 0.6409\n",
      "Epoch 11/150\n",
      "51/51 - 8s - loss: 0.7577 - main_output_loss: 0.6325 - aux_output_loss: 0.6257 - main_output_accuracy: 0.6496 - aux_output_accuracy: 0.6473 - val_loss: 0.7605 - val_main_output_loss: 0.6344 - val_aux_output_loss: 0.6308 - val_main_output_accuracy: 0.6468 - val_aux_output_accuracy: 0.6413\n",
      "Epoch 12/150\n",
      "51/51 - 8s - loss: 0.7522 - main_output_loss: 0.6277 - aux_output_loss: 0.6222 - main_output_accuracy: 0.6529 - aux_output_accuracy: 0.6495 - val_loss: 0.7576 - val_main_output_loss: 0.6315 - val_aux_output_loss: 0.6305 - val_main_output_accuracy: 0.6459 - val_aux_output_accuracy: 0.6422\n",
      "Epoch 13/150\n",
      "51/51 - 8s - loss: 0.7473 - main_output_loss: 0.6234 - aux_output_loss: 0.6198 - main_output_accuracy: 0.6557 - aux_output_accuracy: 0.6520 - val_loss: 0.7529 - val_main_output_loss: 0.6274 - val_aux_output_loss: 0.6279 - val_main_output_accuracy: 0.6498 - val_aux_output_accuracy: 0.6442\n",
      "Epoch 14/150\n",
      "51/51 - 8s - loss: 0.7430 - main_output_loss: 0.6195 - aux_output_loss: 0.6179 - main_output_accuracy: 0.6581 - aux_output_accuracy: 0.6532 - val_loss: 0.7473 - val_main_output_loss: 0.6228 - val_aux_output_loss: 0.6224 - val_main_output_accuracy: 0.6522 - val_aux_output_accuracy: 0.6481\n",
      "Epoch 15/150\n",
      "51/51 - 8s - loss: 0.7371 - main_output_loss: 0.6142 - aux_output_loss: 0.6143 - main_output_accuracy: 0.6625 - aux_output_accuracy: 0.6571 - val_loss: 0.7419 - val_main_output_loss: 0.6177 - val_aux_output_loss: 0.6206 - val_main_output_accuracy: 0.6570 - val_aux_output_accuracy: 0.6512\n",
      "Epoch 16/150\n",
      "51/51 - 8s - loss: 0.7301 - main_output_loss: 0.6081 - aux_output_loss: 0.6100 - main_output_accuracy: 0.6684 - aux_output_accuracy: 0.6618 - val_loss: 0.7348 - val_main_output_loss: 0.6116 - val_aux_output_loss: 0.6162 - val_main_output_accuracy: 0.6625 - val_aux_output_accuracy: 0.6549\n",
      "Epoch 17/150\n",
      "51/51 - 8s - loss: 0.7234 - main_output_loss: 0.6021 - aux_output_loss: 0.6067 - main_output_accuracy: 0.6733 - aux_output_accuracy: 0.6669 - val_loss: 0.7302 - val_main_output_loss: 0.6073 - val_aux_output_loss: 0.6146 - val_main_output_accuracy: 0.6695 - val_aux_output_accuracy: 0.6611\n",
      "Epoch 18/150\n",
      "51/51 - 8s - loss: 0.7172 - main_output_loss: 0.5965 - aux_output_loss: 0.6033 - main_output_accuracy: 0.6785 - aux_output_accuracy: 0.6693 - val_loss: 0.7241 - val_main_output_loss: 0.6021 - val_aux_output_loss: 0.6100 - val_main_output_accuracy: 0.6723 - val_aux_output_accuracy: 0.6662\n",
      "Epoch 19/150\n",
      "51/51 - 8s - loss: 0.7136 - main_output_loss: 0.5932 - aux_output_loss: 0.6020 - main_output_accuracy: 0.6788 - aux_output_accuracy: 0.6712 - val_loss: 0.7220 - val_main_output_loss: 0.5997 - val_aux_output_loss: 0.6115 - val_main_output_accuracy: 0.6720 - val_aux_output_accuracy: 0.6665\n",
      "Epoch 20/150\n"
     ]
    }
   ],
   "source": [
    "start_time = time.time()\n",
    "\n",
    "history = model.fit([np.asanyarray(X_train1_peptide), np.asanyarray(X_train1_pep)], \n",
    "                    [np.asanyarray(y_train), np.asanyarray(y_train)], \n",
    "                    validation_data = ([np.asarray(X_test1_peptide), np.asarray(X_test1_pep)], \n",
    "                                       [np.asarray(y_test),np.asarray(y_test)]), \n",
    "                    epochs=150, batch_size=1342, verbose=2)\n",
    "print(\"\")\n",
    "print(\"Time taken for model to run: \", time.time() - start_time)"
   ]
  },
  {
   "cell_type": "code",
   "execution_count": null,
   "id": "70840ca4-decf-49c7-b906-8c6bda3b3243",
   "metadata": {},
   "outputs": [],
   "source": [
    "history_dict = history.history\n",
    "history_dict.keys()"
   ]
  },
  {
   "cell_type": "code",
   "execution_count": null,
   "id": "9adb3b80-9ee4-4f1a-926a-007610bd0940",
   "metadata": {},
   "outputs": [],
   "source": [
    "# save to df\n",
    "df_acc = pd.DataFrame({'Loss': history_dict['loss'], 'main_output_loss': history_dict['main_output_loss'], 'aux_output_loss': history_dict['aux_output_loss'], \n",
    "                      'main_output_accuracy': history_dict['main_output_accuracy'], 'aux_output_accuracy': history_dict['aux_output_accuracy'], \n",
    "                      'val_loss': history_dict['val_loss'], 'val_main_output_loss': history_dict['val_main_output_loss'], 'val_aux_output_loss': history_dict['val_aux_output_loss'],\n",
    "                      'val_main_output_accuracy': history_dict['val_main_output_accuracy'], 'val_aux_output_accuracy': history_dict['val_aux_output_accuracy']})\n",
    "df_acc"
   ]
  },
  {
   "cell_type": "code",
   "execution_count": null,
   "id": "3866822d-c7ca-47e2-8968-54c13fdcd6ac",
   "metadata": {},
   "outputs": [],
   "source": [
    "df_acc.to_csv('M3_seq_pep/M3_train_val_acc_40aa_150_epochs.tsv', sep='\\t', index=False)"
   ]
  },
  {
   "cell_type": "markdown",
   "id": "aed04c94-bc20-4221-b821-2d4862a685de",
   "metadata": {},
   "source": [
    "# old code"
   ]
  },
  {
   "cell_type": "markdown",
   "id": "b3352d48-26f8-4e85-aa86-8d1a8ac16807",
   "metadata": {},
   "source": [
    "# Test model"
   ]
  },
  {
   "cell_type": "code",
   "execution_count": 38,
   "id": "4eb6fbfc-2cd3-4719-a12e-8f0eb9aeccd0",
   "metadata": {},
   "outputs": [],
   "source": [
    "df = pd.DataFrame({'Peptide': X_testFinal_peptide, 'Quantification': X_testFinal_quant, 'Detectability': y_testFinal})"
   ]
  },
  {
   "cell_type": "code",
   "execution_count": 40,
   "id": "f752df94-19d1-417c-aeeb-4ecdb8935236",
   "metadata": {},
   "outputs": [],
   "source": [
    "predictions = model.predict([np.array([\n",
    "    convertPeptide(pep, maxLength) for pep in df['Peptide']]), np.array(X_testFinal_quant)])"
   ]
  },
  {
   "cell_type": "code",
   "execution_count": 77,
   "id": "2c5e896b-0b79-4b71-9f8a-bd2f08263b3c",
   "metadata": {},
   "outputs": [
    {
     "data": {
      "text/plain": [
       "array([[75633, 20812],\n",
       "       [  493,  3291]], dtype=int64)"
      ]
     },
     "execution_count": 77,
     "metadata": {},
     "output_type": "execute_result"
    }
   ],
   "source": [
    "confusion_matrix = sklearn.metrics.confusion_matrix(y_testFinal, np.rint(df['Predictions']))\n",
    "confusion_matrix"
   ]
  },
  {
   "cell_type": "code",
   "execution_count": 72,
   "id": "ff4e295c-dc5a-4549-b309-01daabc0d404",
   "metadata": {},
   "outputs": [
    {
     "data": {
      "text/plain": [
       "0.7874367697971645"
      ]
     },
     "execution_count": 72,
     "metadata": {},
     "output_type": "execute_result"
    }
   ],
   "source": [
    "# Accuracy\n",
    "from sklearn.metrics import accuracy_score\n",
    "accuracy_score(y_testFinal, np.rint(df['Predictions']))"
   ]
  },
  {
   "cell_type": "code",
   "execution_count": 103,
   "id": "8a06f268-ddae-434a-b25f-c7f209388000",
   "metadata": {},
   "outputs": [
    {
     "data": {
      "text/plain": [
       "0.8697145877378436"
      ]
     },
     "execution_count": 103,
     "metadata": {},
     "output_type": "execute_result"
    }
   ],
   "source": [
    "# Recall\n",
    "from sklearn.metrics import recall_score\n",
    "recall_score(y_testFinal, round(df['Predictions']), average='binary')"
   ]
  },
  {
   "cell_type": "code",
   "execution_count": 101,
   "id": "b97d247c-99f9-4704-9516-d9452baca0a5",
   "metadata": {},
   "outputs": [
    {
     "data": {
      "text/plain": [
       "0.1365390200389993"
      ]
     },
     "execution_count": 101,
     "metadata": {},
     "output_type": "execute_result"
    }
   ],
   "source": [
    "# Precision\n",
    "from sklearn.metrics import precision_score\n",
    "precision_score(y_testFinal, np.rint(df['Predictions']), average='binary')"
   ]
  },
  {
   "cell_type": "code",
   "execution_count": 102,
   "id": "25b7a46b-71d1-4f22-a7d1-e2a7e0c2cd00",
   "metadata": {},
   "outputs": [
    {
     "data": {
      "text/plain": [
       "0.2360239538136049"
      ]
     },
     "execution_count": 102,
     "metadata": {},
     "output_type": "execute_result"
    }
   ],
   "source": [
    "# F1 score\n",
    "from sklearn.metrics import f1_score\n",
    "f1_score(y_testFinal, np.rint(df['Predictions']), average='binary')"
   ]
  },
  {
   "cell_type": "code",
   "execution_count": null,
   "id": "e8282889-04d4-4cf0-96a1-c347d335c2e2",
   "metadata": {},
   "outputs": [],
   "source": [
    "# disp = ConfusionMatrixDisplay(confusion_matrix=confusion_matrix)\n",
    "# disp.plot()"
   ]
  },
  {
   "cell_type": "code",
   "execution_count": 46,
   "id": "e58db4a7-0653-4c05-bcdb-9827129e733c",
   "metadata": {},
   "outputs": [
    {
     "data": {
      "text/plain": [
       "[array([[0.00086892],\n",
       "        [0.00147071],\n",
       "        [0.74521136],\n",
       "        ...,\n",
       "        [0.75317943],\n",
       "        [0.14952269],\n",
       "        [0.00810751]], dtype=float32),\n",
       " array([[0.00093165],\n",
       "        [0.02130318],\n",
       "        [0.49680048],\n",
       "        ...,\n",
       "        [0.69334596],\n",
       "        [0.40080753],\n",
       "        [0.2815854 ]], dtype=float32)]"
      ]
     },
     "execution_count": 46,
     "metadata": {},
     "output_type": "execute_result"
    }
   ],
   "source": [
    "predictions"
   ]
  },
  {
   "cell_type": "code",
   "execution_count": 47,
   "id": "2bd72595-2980-439c-80ff-9622fc8629f1",
   "metadata": {},
   "outputs": [],
   "source": [
    "df['Predictions'] = predictions[0].flatten()"
   ]
  },
  {
   "cell_type": "code",
   "execution_count": 105,
   "id": "0149be1a-60fd-468e-afb6-e4e0b3e2f4f6",
   "metadata": {},
   "outputs": [
    {
     "data": {
      "text/html": [
       "<div>\n",
       "<style scoped>\n",
       "    .dataframe tbody tr th:only-of-type {\n",
       "        vertical-align: middle;\n",
       "    }\n",
       "\n",
       "    .dataframe tbody tr th {\n",
       "        vertical-align: top;\n",
       "    }\n",
       "\n",
       "    .dataframe thead th {\n",
       "        text-align: right;\n",
       "    }\n",
       "</style>\n",
       "<table border=\"1\" class=\"dataframe\">\n",
       "  <thead>\n",
       "    <tr style=\"text-align: right;\">\n",
       "      <th></th>\n",
       "      <th>Peptide</th>\n",
       "      <th>Quantification</th>\n",
       "      <th>Detectability</th>\n",
       "      <th>Predictions</th>\n",
       "      <th>Pred_rounded</th>\n",
       "    </tr>\n",
       "  </thead>\n",
       "  <tbody>\n",
       "    <tr>\n",
       "      <th>0</th>\n",
       "      <td>ALVYYTFGALGGNLIAHMVLGYR</td>\n",
       "      <td>0.006297</td>\n",
       "      <td>0</td>\n",
       "      <td>0.000869</td>\n",
       "      <td>0.0</td>\n",
       "    </tr>\n",
       "    <tr>\n",
       "      <th>1</th>\n",
       "      <td>CHFSALVANIIQNVPVHQR</td>\n",
       "      <td>0.009625</td>\n",
       "      <td>0</td>\n",
       "      <td>0.001471</td>\n",
       "      <td>0.0</td>\n",
       "    </tr>\n",
       "    <tr>\n",
       "      <th>2</th>\n",
       "      <td>EDSAYGSQSVEQEAEK</td>\n",
       "      <td>0.035556</td>\n",
       "      <td>0</td>\n",
       "      <td>0.745211</td>\n",
       "      <td>1.0</td>\n",
       "    </tr>\n",
       "    <tr>\n",
       "      <th>3</th>\n",
       "      <td>SEVEMEGPEECLGR</td>\n",
       "      <td>0.004199</td>\n",
       "      <td>0</td>\n",
       "      <td>0.317184</td>\n",
       "      <td>0.0</td>\n",
       "    </tr>\n",
       "    <tr>\n",
       "      <th>4</th>\n",
       "      <td>LQNCTGIPLFETQPTYAPLYELITQFELSK</td>\n",
       "      <td>0.004428</td>\n",
       "      <td>0</td>\n",
       "      <td>0.297828</td>\n",
       "      <td>0.0</td>\n",
       "    </tr>\n",
       "    <tr>\n",
       "      <th>...</th>\n",
       "      <td>...</td>\n",
       "      <td>...</td>\n",
       "      <td>...</td>\n",
       "      <td>...</td>\n",
       "      <td>...</td>\n",
       "    </tr>\n",
       "    <tr>\n",
       "      <th>100224</th>\n",
       "      <td>IPLGNDNIQQEGDR</td>\n",
       "      <td>0.006294</td>\n",
       "      <td>0</td>\n",
       "      <td>0.367778</td>\n",
       "      <td>0.0</td>\n",
       "    </tr>\n",
       "    <tr>\n",
       "      <th>100225</th>\n",
       "      <td>AEPPLNASASDQGEK</td>\n",
       "      <td>0.116116</td>\n",
       "      <td>0</td>\n",
       "      <td>0.916781</td>\n",
       "      <td>1.0</td>\n",
       "    </tr>\n",
       "    <tr>\n",
       "      <th>100226</th>\n",
       "      <td>YLQCILGVDNIK</td>\n",
       "      <td>0.014675</td>\n",
       "      <td>0</td>\n",
       "      <td>0.753179</td>\n",
       "      <td>1.0</td>\n",
       "    </tr>\n",
       "    <tr>\n",
       "      <th>100227</th>\n",
       "      <td>GSTALHYCCLTDNAECLK</td>\n",
       "      <td>0.007952</td>\n",
       "      <td>0</td>\n",
       "      <td>0.149523</td>\n",
       "      <td>0.0</td>\n",
       "    </tr>\n",
       "    <tr>\n",
       "      <th>100228</th>\n",
       "      <td>HQEPILNGGAAFHCAR</td>\n",
       "      <td>0.001456</td>\n",
       "      <td>0</td>\n",
       "      <td>0.008108</td>\n",
       "      <td>0.0</td>\n",
       "    </tr>\n",
       "  </tbody>\n",
       "</table>\n",
       "<p>100229 rows × 5 columns</p>\n",
       "</div>"
      ],
      "text/plain": [
       "                               Peptide  Quantification  Detectability  \\\n",
       "0              ALVYYTFGALGGNLIAHMVLGYR        0.006297              0   \n",
       "1                  CHFSALVANIIQNVPVHQR        0.009625              0   \n",
       "2                     EDSAYGSQSVEQEAEK        0.035556              0   \n",
       "3                       SEVEMEGPEECLGR        0.004199              0   \n",
       "4       LQNCTGIPLFETQPTYAPLYELITQFELSK        0.004428              0   \n",
       "...                                ...             ...            ...   \n",
       "100224                  IPLGNDNIQQEGDR        0.006294              0   \n",
       "100225                 AEPPLNASASDQGEK        0.116116              0   \n",
       "100226                    YLQCILGVDNIK        0.014675              0   \n",
       "100227              GSTALHYCCLTDNAECLK        0.007952              0   \n",
       "100228                HQEPILNGGAAFHCAR        0.001456              0   \n",
       "\n",
       "        Predictions  Pred_rounded  \n",
       "0          0.000869           0.0  \n",
       "1          0.001471           0.0  \n",
       "2          0.745211           1.0  \n",
       "3          0.317184           0.0  \n",
       "4          0.297828           0.0  \n",
       "...             ...           ...  \n",
       "100224     0.367778           0.0  \n",
       "100225     0.916781           1.0  \n",
       "100226     0.753179           1.0  \n",
       "100227     0.149523           0.0  \n",
       "100228     0.008108           0.0  \n",
       "\n",
       "[100229 rows x 5 columns]"
      ]
     },
     "execution_count": 105,
     "metadata": {},
     "output_type": "execute_result"
    }
   ],
   "source": [
    "df['Pred_rounded'] = round(df['Predictions'])\n",
    "df"
   ]
  },
  {
   "cell_type": "code",
   "execution_count": 106,
   "id": "9d13f3ee-7d3b-43dc-9232-6091a38cc7d6",
   "metadata": {},
   "outputs": [],
   "source": [
    "df.to_csv('40/M2_test_pred_40aa_800_epochs.tsv', sep='\\t', index=False)"
   ]
  }
 ],
 "metadata": {
  "kernelspec": {
   "display_name": "Python 3",
   "language": "python",
   "name": "python3"
  },
  "language_info": {
   "codemirror_mode": {
    "name": "ipython",
    "version": 3
   },
   "file_extension": ".py",
   "mimetype": "text/x-python",
   "name": "python",
   "nbconvert_exporter": "python",
   "pygments_lexer": "ipython3",
   "version": "3.8.8"
  }
 },
 "nbformat": 4,
 "nbformat_minor": 5
}
