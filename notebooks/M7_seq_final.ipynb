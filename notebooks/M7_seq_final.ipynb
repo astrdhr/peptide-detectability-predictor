{
 "cells": [
  {
   "cell_type": "code",
   "execution_count": 1,
   "id": "63a02e12-486a-4678-9fc3-618381cd039d",
   "metadata": {},
   "outputs": [],
   "source": [
    "# import libraries\n",
    "import numpy as np\n",
    "import pandas as pd\n",
    "import tensorflow as tf\n",
    "from tensorflow import keras\n",
    "from tensorflow.keras import layers\n",
    "import sklearn.model_selection\n",
    "from sklearn.utils import shuffle\n",
    "#from sklearn.metrics import confusion_matrix, ConfusionMatrixDisplay\n",
    "from tensorflow.keras.models import Sequential\n",
    "from tensorflow.keras.layers import Dense\n",
    "from tensorflow.keras.layers import LSTM\n",
    "from tensorflow.keras.layers import Embedding\n",
    "import math\n",
    "from tensorflow.keras.models import load_model\n",
    "from tensorflow.keras.models import model_from_json\n",
    "import re\n",
    "from transformers import TokenAndPositionEmbedding, TransformerBlock\n",
    "import time"
   ]
  },
  {
   "cell_type": "code",
   "execution_count": 2,
   "id": "fd70e717-bd34-4353-9439-e2cb276f5758",
   "metadata": {},
   "outputs": [],
   "source": [
    "# import detected and undetected datasets\n",
    "detected_peptides = pd.read_table('../data/detected_peptides_all_aaindex1.tsv')\n",
    "undetected_peptides = pd.read_table('../data/undetected_peptides_all_aaindex1.tsv')"
   ]
  },
  {
   "cell_type": "code",
   "execution_count": 3,
   "id": "5318a505-1a2d-4cc0-8baf-38d7aad3ecb4",
   "metadata": {},
   "outputs": [
    {
     "name": "stdout",
     "output_type": "stream",
     "text": [
      "(37837, 571)\n",
      "(134282, 571)\n"
     ]
    }
   ],
   "source": [
    "# keep detected and undetected peptides less than or equal to 40 aa AND greater than or equal to 7 aa in length\n",
    "detected_peptides = detected_peptides.loc[(detected_peptides[\"Peptide\"].str.len()>=7) & \n",
    "                                          (detected_peptides[\"Peptide\"].str.len()<=40)].reset_index(drop=True)\n",
    "\n",
    "undetected_peptides = undetected_peptides.loc[(undetected_peptides[\"Peptide\"].str.len()>=7) & \n",
    "                                              (undetected_peptides[\"Peptide\"].str.len()<=40)].reset_index(drop=True)\n",
    "\n",
    "print(detected_peptides.shape)\n",
    "print(undetected_peptides.shape)"
   ]
  },
  {
   "cell_type": "code",
   "execution_count": 4,
   "id": "c1262c90-0a8f-4e9e-920e-c1f63aabc6f8",
   "metadata": {},
   "outputs": [
    {
     "data": {
      "text/plain": [
       "0"
      ]
     },
     "execution_count": 4,
     "metadata": {},
     "output_type": "execute_result"
    }
   ],
   "source": [
    "# double check 0 peptides in undetected peptides are present in detected peptides\n",
    "len(undetected_peptides[undetected_peptides[\"Peptide\"].isin(detected_peptides[\"Peptide\"])])"
   ]
  },
  {
   "cell_type": "code",
   "execution_count": 5,
   "id": "64482e66-4dde-4e86-928a-f0ae5c1c9eba",
   "metadata": {},
   "outputs": [
    {
     "name": "stdout",
     "output_type": "stream",
     "text": [
      "(37837, 568)\n",
      "(134282, 568)\n"
     ]
    }
   ],
   "source": [
    "# drop unnecessary columns\n",
    "detected_peptides = detected_peptides.drop(['Protein', 'PEP', 'Protein_length'], axis=1)\n",
    "undetected_peptides = undetected_peptides.drop(['Protein', 'PEP', 'Protein_length'], axis=1)\n",
    "\n",
    "print(detected_peptides.shape)\n",
    "print(undetected_peptides.shape)"
   ]
  },
  {
   "cell_type": "code",
   "execution_count": 6,
   "id": "061e432f-28fe-4aae-81f0-2fcddfe04ed1",
   "metadata": {},
   "outputs": [
    {
     "name": "stdout",
     "output_type": "stream",
     "text": [
      "(37837, 569)\n",
      "(134282, 569)\n"
     ]
    }
   ],
   "source": [
    "# add detectability column\n",
    "detected_peptides.insert(loc=1, column='Detectability', value=1)\n",
    "undetected_peptides.insert(loc=1, column='Detectability', value=0)\n",
    "\n",
    "print(detected_peptides.shape)\n",
    "print(undetected_peptides.shape)"
   ]
  },
  {
   "cell_type": "code",
   "execution_count": 7,
   "id": "833ffed3-5311-427f-a882-817da2d46046",
   "metadata": {},
   "outputs": [
    {
     "data": {
      "text/html": [
       "<div>\n",
       "<style scoped>\n",
       "    .dataframe tbody tr th:only-of-type {\n",
       "        vertical-align: middle;\n",
       "    }\n",
       "\n",
       "    .dataframe tbody tr th {\n",
       "        vertical-align: top;\n",
       "    }\n",
       "\n",
       "    .dataframe thead th {\n",
       "        text-align: right;\n",
       "    }\n",
       "</style>\n",
       "<table border=\"1\" class=\"dataframe\">\n",
       "  <thead>\n",
       "    <tr style=\"text-align: right;\">\n",
       "      <th></th>\n",
       "      <th>Peptide</th>\n",
       "      <th>Detectability</th>\n",
       "      <th>Quantification</th>\n",
       "      <th>ANDN920101</th>\n",
       "      <th>ARGP820101</th>\n",
       "      <th>ARGP820102</th>\n",
       "      <th>ARGP820103</th>\n",
       "      <th>BEGF750101</th>\n",
       "      <th>BEGF750102</th>\n",
       "      <th>BEGF750103</th>\n",
       "      <th>...</th>\n",
       "      <th>KARS160113</th>\n",
       "      <th>KARS160114</th>\n",
       "      <th>KARS160115</th>\n",
       "      <th>KARS160116</th>\n",
       "      <th>KARS160117</th>\n",
       "      <th>KARS160118</th>\n",
       "      <th>KARS160119</th>\n",
       "      <th>KARS160120</th>\n",
       "      <th>KARS160121</th>\n",
       "      <th>KARS160122</th>\n",
       "    </tr>\n",
       "  </thead>\n",
       "  <tbody>\n",
       "    <tr>\n",
       "      <th>0</th>\n",
       "      <td>DFSALESQLQDTQELLQEENR</td>\n",
       "      <td>1</td>\n",
       "      <td>0.204082</td>\n",
       "      <td>92.33</td>\n",
       "      <td>12.36</td>\n",
       "      <td>22.69</td>\n",
       "      <td>21.80</td>\n",
       "      <td>13.17</td>\n",
       "      <td>14.65</td>\n",
       "      <td>13.88</td>\n",
       "      <td>...</td>\n",
       "      <td>241.0</td>\n",
       "      <td>380.122</td>\n",
       "      <td>270.0</td>\n",
       "      <td>454.0</td>\n",
       "      <td>713.007</td>\n",
       "      <td>133.94</td>\n",
       "      <td>537.463</td>\n",
       "      <td>-4.227</td>\n",
       "      <td>208.869</td>\n",
       "      <td>60.300</td>\n",
       "    </tr>\n",
       "    <tr>\n",
       "      <th>1</th>\n",
       "      <td>NADMSEEMQQDSVECATQALEK</td>\n",
       "      <td>1</td>\n",
       "      <td>0.146067</td>\n",
       "      <td>97.11</td>\n",
       "      <td>12.27</td>\n",
       "      <td>20.85</td>\n",
       "      <td>21.58</td>\n",
       "      <td>14.09</td>\n",
       "      <td>15.42</td>\n",
       "      <td>14.26</td>\n",
       "      <td>...</td>\n",
       "      <td>228.0</td>\n",
       "      <td>375.531</td>\n",
       "      <td>265.0</td>\n",
       "      <td>459.0</td>\n",
       "      <td>684.014</td>\n",
       "      <td>147.94</td>\n",
       "      <td>545.660</td>\n",
       "      <td>-4.406</td>\n",
       "      <td>216.602</td>\n",
       "      <td>61.570</td>\n",
       "    </tr>\n",
       "    <tr>\n",
       "      <th>2</th>\n",
       "      <td>ASASGSGAQVGGPISSGSSASSVTVTR</td>\n",
       "      <td>1</td>\n",
       "      <td>0.195783</td>\n",
       "      <td>115.44</td>\n",
       "      <td>12.07</td>\n",
       "      <td>23.95</td>\n",
       "      <td>25.26</td>\n",
       "      <td>13.99</td>\n",
       "      <td>18.85</td>\n",
       "      <td>19.32</td>\n",
       "      <td>...</td>\n",
       "      <td>168.0</td>\n",
       "      <td>297.981</td>\n",
       "      <td>194.0</td>\n",
       "      <td>390.0</td>\n",
       "      <td>545.021</td>\n",
       "      <td>159.77</td>\n",
       "      <td>482.653</td>\n",
       "      <td>-10.095</td>\n",
       "      <td>207.270</td>\n",
       "      <td>105.422</td>\n",
       "    </tr>\n",
       "    <tr>\n",
       "      <th>3</th>\n",
       "      <td>LSEEEILENPDLFLTSEATDYGR</td>\n",
       "      <td>1</td>\n",
       "      <td>0.069401</td>\n",
       "      <td>100.45</td>\n",
       "      <td>19.00</td>\n",
       "      <td>23.85</td>\n",
       "      <td>24.63</td>\n",
       "      <td>14.16</td>\n",
       "      <td>16.16</td>\n",
       "      <td>15.75</td>\n",
       "      <td>...</td>\n",
       "      <td>254.0</td>\n",
       "      <td>387.734</td>\n",
       "      <td>277.0</td>\n",
       "      <td>472.0</td>\n",
       "      <td>741.007</td>\n",
       "      <td>141.73</td>\n",
       "      <td>562.782</td>\n",
       "      <td>-11.055</td>\n",
       "      <td>223.858</td>\n",
       "      <td>77.698</td>\n",
       "    </tr>\n",
       "    <tr>\n",
       "      <th>4</th>\n",
       "      <td>IMQSSSEVGYDAMAGDFVNMVEK</td>\n",
       "      <td>1</td>\n",
       "      <td>0.335079</td>\n",
       "      <td>100.34</td>\n",
       "      <td>18.20</td>\n",
       "      <td>22.63</td>\n",
       "      <td>25.14</td>\n",
       "      <td>14.71</td>\n",
       "      <td>17.38</td>\n",
       "      <td>15.33</td>\n",
       "      <td>...</td>\n",
       "      <td>236.0</td>\n",
       "      <td>375.687</td>\n",
       "      <td>259.0</td>\n",
       "      <td>469.0</td>\n",
       "      <td>687.028</td>\n",
       "      <td>147.42</td>\n",
       "      <td>537.126</td>\n",
       "      <td>-2.780</td>\n",
       "      <td>219.424</td>\n",
       "      <td>66.769</td>\n",
       "    </tr>\n",
       "  </tbody>\n",
       "</table>\n",
       "<p>5 rows × 569 columns</p>\n",
       "</div>"
      ],
      "text/plain": [
       "                       Peptide  Detectability  Quantification  ANDN920101  \\\n",
       "0        DFSALESQLQDTQELLQEENR              1        0.204082       92.33   \n",
       "1       NADMSEEMQQDSVECATQALEK              1        0.146067       97.11   \n",
       "2  ASASGSGAQVGGPISSGSSASSVTVTR              1        0.195783      115.44   \n",
       "3      LSEEEILENPDLFLTSEATDYGR              1        0.069401      100.45   \n",
       "4      IMQSSSEVGYDAMAGDFVNMVEK              1        0.335079      100.34   \n",
       "\n",
       "   ARGP820101  ARGP820102  ARGP820103  BEGF750101  BEGF750102  BEGF750103  \\\n",
       "0       12.36       22.69       21.80       13.17       14.65       13.88   \n",
       "1       12.27       20.85       21.58       14.09       15.42       14.26   \n",
       "2       12.07       23.95       25.26       13.99       18.85       19.32   \n",
       "3       19.00       23.85       24.63       14.16       16.16       15.75   \n",
       "4       18.20       22.63       25.14       14.71       17.38       15.33   \n",
       "\n",
       "   ...  KARS160113  KARS160114  KARS160115  KARS160116  KARS160117  \\\n",
       "0  ...       241.0     380.122       270.0       454.0     713.007   \n",
       "1  ...       228.0     375.531       265.0       459.0     684.014   \n",
       "2  ...       168.0     297.981       194.0       390.0     545.021   \n",
       "3  ...       254.0     387.734       277.0       472.0     741.007   \n",
       "4  ...       236.0     375.687       259.0       469.0     687.028   \n",
       "\n",
       "   KARS160118  KARS160119  KARS160120  KARS160121  KARS160122  \n",
       "0      133.94     537.463      -4.227     208.869      60.300  \n",
       "1      147.94     545.660      -4.406     216.602      61.570  \n",
       "2      159.77     482.653     -10.095     207.270     105.422  \n",
       "3      141.73     562.782     -11.055     223.858      77.698  \n",
       "4      147.42     537.126      -2.780     219.424      66.769  \n",
       "\n",
       "[5 rows x 569 columns]"
      ]
     },
     "execution_count": 7,
     "metadata": {},
     "output_type": "execute_result"
    }
   ],
   "source": [
    "detected_peptides.head()"
   ]
  },
  {
   "cell_type": "code",
   "execution_count": 8,
   "id": "5eb07c1b-e03e-4f88-9305-580f5797fffd",
   "metadata": {},
   "outputs": [
    {
     "name": "stdout",
     "output_type": "stream",
     "text": [
      "(172119, 569)\n",
      "(172119, 556)\n",
      "(37837, 556)\n",
      "(134282, 556)\n"
     ]
    }
   ],
   "source": [
    "# remove nan values\n",
    "all_peptides = pd.concat([detected_peptides, undetected_peptides])\n",
    "print(all_peptides.shape)\n",
    "all_peptides = all_peptides.dropna(axis=1, how='any')\n",
    "print(all_peptides.shape)\n",
    "detected_peptides = all_peptides[all_peptides['Detectability'] == 1]\n",
    "undetected_peptides = all_peptides[all_peptides['Detectability'] == 0]\n",
    "print(detected_peptides.shape)\n",
    "print(undetected_peptides.shape)"
   ]
  },
  {
   "cell_type": "code",
   "execution_count": 9,
   "id": "9f0cb86b-3a22-493c-87fb-0ad4ae6a15e1",
   "metadata": {},
   "outputs": [
    {
     "name": "stdout",
     "output_type": "stream",
     "text": [
      "(37837, 556)\n",
      "(37837, 556)\n"
     ]
    }
   ],
   "source": [
    "# take random sample of undetected_peptides, with equal number of rows to detected_peptides\n",
    "# random_state is used for reproducibility\n",
    "undetected_peptides_balanced = undetected_peptides.sample(n=detected_peptides.shape[0], \n",
    "                                                         random_state=42).reset_index(drop=True)\n",
    "print(detected_peptides.shape)\n",
    "print(undetected_peptides_balanced.shape)"
   ]
  },
  {
   "cell_type": "code",
   "execution_count": 10,
   "id": "08e816a9-b97f-4b77-a58c-0cf8591ac29c",
   "metadata": {},
   "outputs": [
    {
     "data": {
      "text/html": [
       "<div>\n",
       "<style scoped>\n",
       "    .dataframe tbody tr th:only-of-type {\n",
       "        vertical-align: middle;\n",
       "    }\n",
       "\n",
       "    .dataframe tbody tr th {\n",
       "        vertical-align: top;\n",
       "    }\n",
       "\n",
       "    .dataframe thead th {\n",
       "        text-align: right;\n",
       "    }\n",
       "</style>\n",
       "<table border=\"1\" class=\"dataframe\">\n",
       "  <thead>\n",
       "    <tr style=\"text-align: right;\">\n",
       "      <th></th>\n",
       "      <th>Peptide</th>\n",
       "      <th>Detectability</th>\n",
       "      <th>Quantification</th>\n",
       "      <th>ANDN920101</th>\n",
       "      <th>ARGP820101</th>\n",
       "      <th>ARGP820102</th>\n",
       "      <th>ARGP820103</th>\n",
       "      <th>BEGF750101</th>\n",
       "      <th>BEGF750102</th>\n",
       "      <th>BEGF750103</th>\n",
       "      <th>...</th>\n",
       "      <th>KARS160113</th>\n",
       "      <th>KARS160114</th>\n",
       "      <th>KARS160115</th>\n",
       "      <th>KARS160116</th>\n",
       "      <th>KARS160117</th>\n",
       "      <th>KARS160118</th>\n",
       "      <th>KARS160119</th>\n",
       "      <th>KARS160120</th>\n",
       "      <th>KARS160121</th>\n",
       "      <th>KARS160122</th>\n",
       "    </tr>\n",
       "  </thead>\n",
       "  <tbody>\n",
       "    <tr>\n",
       "      <th>0</th>\n",
       "      <td>IWRPPMYQR</td>\n",
       "      <td>0</td>\n",
       "      <td>0.001679</td>\n",
       "      <td>39.78</td>\n",
       "      <td>13.03</td>\n",
       "      <td>7.92</td>\n",
       "      <td>9.32</td>\n",
       "      <td>4.50</td>\n",
       "      <td>6.82</td>\n",
       "      <td>7.08</td>\n",
       "      <td>...</td>\n",
       "      <td>146.0</td>\n",
       "      <td>206.135</td>\n",
       "      <td>147.0</td>\n",
       "      <td>250.0</td>\n",
       "      <td>371.000</td>\n",
       "      <td>54.387</td>\n",
       "      <td>236.732</td>\n",
       "      <td>-2.390</td>\n",
       "      <td>104.006</td>\n",
       "      <td>43.921</td>\n",
       "    </tr>\n",
       "    <tr>\n",
       "      <th>1</th>\n",
       "      <td>NGTHLDAGALTTTFEELHFEIKPHDDCTVEQIYEILK</td>\n",
       "      <td>0</td>\n",
       "      <td>0.043841</td>\n",
       "      <td>161.34</td>\n",
       "      <td>32.57</td>\n",
       "      <td>35.55</td>\n",
       "      <td>37.03</td>\n",
       "      <td>22.43</td>\n",
       "      <td>27.78</td>\n",
       "      <td>24.66</td>\n",
       "      <td>...</td>\n",
       "      <td>395.0</td>\n",
       "      <td>613.817</td>\n",
       "      <td>449.0</td>\n",
       "      <td>741.0</td>\n",
       "      <td>1200.014</td>\n",
       "      <td>220.840</td>\n",
       "      <td>893.243</td>\n",
       "      <td>-32.578</td>\n",
       "      <td>356.324</td>\n",
       "      <td>112.647</td>\n",
       "    </tr>\n",
       "    <tr>\n",
       "      <th>2</th>\n",
       "      <td>MAEESER</td>\n",
       "      <td>0</td>\n",
       "      <td>0.005042</td>\n",
       "      <td>30.62</td>\n",
       "      <td>3.85</td>\n",
       "      <td>5.35</td>\n",
       "      <td>6.47</td>\n",
       "      <td>5.06</td>\n",
       "      <td>4.67</td>\n",
       "      <td>4.28</td>\n",
       "      <td>...</td>\n",
       "      <td>85.0</td>\n",
       "      <td>140.974</td>\n",
       "      <td>94.0</td>\n",
       "      <td>176.0</td>\n",
       "      <td>239.000</td>\n",
       "      <td>46.340</td>\n",
       "      <td>172.880</td>\n",
       "      <td>0.000</td>\n",
       "      <td>70.935</td>\n",
       "      <td>18.322</td>\n",
       "    </tr>\n",
       "    <tr>\n",
       "      <th>3</th>\n",
       "      <td>AVGGAMR</td>\n",
       "      <td>0</td>\n",
       "      <td>0.024155</td>\n",
       "      <td>29.49</td>\n",
       "      <td>4.46</td>\n",
       "      <td>7.29</td>\n",
       "      <td>8.91</td>\n",
       "      <td>5.04</td>\n",
       "      <td>5.52</td>\n",
       "      <td>4.53</td>\n",
       "      <td>...</td>\n",
       "      <td>57.0</td>\n",
       "      <td>88.144</td>\n",
       "      <td>58.0</td>\n",
       "      <td>108.0</td>\n",
       "      <td>147.007</td>\n",
       "      <td>38.000</td>\n",
       "      <td>116.687</td>\n",
       "      <td>0.000</td>\n",
       "      <td>52.267</td>\n",
       "      <td>12.856</td>\n",
       "    </tr>\n",
       "    <tr>\n",
       "      <th>4</th>\n",
       "      <td>NIVHNYSEAEIK</td>\n",
       "      <td>0</td>\n",
       "      <td>0.003472</td>\n",
       "      <td>52.37</td>\n",
       "      <td>11.12</td>\n",
       "      <td>7.57</td>\n",
       "      <td>8.97</td>\n",
       "      <td>7.43</td>\n",
       "      <td>8.67</td>\n",
       "      <td>7.66</td>\n",
       "      <td>...</td>\n",
       "      <td>135.0</td>\n",
       "      <td>211.410</td>\n",
       "      <td>156.0</td>\n",
       "      <td>266.0</td>\n",
       "      <td>404.021</td>\n",
       "      <td>74.960</td>\n",
       "      <td>293.794</td>\n",
       "      <td>-6.155</td>\n",
       "      <td>116.990</td>\n",
       "      <td>32.966</td>\n",
       "    </tr>\n",
       "    <tr>\n",
       "      <th>...</th>\n",
       "      <td>...</td>\n",
       "      <td>...</td>\n",
       "      <td>...</td>\n",
       "      <td>...</td>\n",
       "      <td>...</td>\n",
       "      <td>...</td>\n",
       "      <td>...</td>\n",
       "      <td>...</td>\n",
       "      <td>...</td>\n",
       "      <td>...</td>\n",
       "      <td>...</td>\n",
       "      <td>...</td>\n",
       "      <td>...</td>\n",
       "      <td>...</td>\n",
       "      <td>...</td>\n",
       "      <td>...</td>\n",
       "      <td>...</td>\n",
       "      <td>...</td>\n",
       "      <td>...</td>\n",
       "      <td>...</td>\n",
       "      <td>...</td>\n",
       "    </tr>\n",
       "    <tr>\n",
       "      <th>37832</th>\n",
       "      <td>CGTVGSR</td>\n",
       "      <td>0</td>\n",
       "      <td>0.003530</td>\n",
       "      <td>29.77</td>\n",
       "      <td>3.23</td>\n",
       "      <td>5.96</td>\n",
       "      <td>5.78</td>\n",
       "      <td>2.89</td>\n",
       "      <td>5.03</td>\n",
       "      <td>5.58</td>\n",
       "      <td>...</td>\n",
       "      <td>45.0</td>\n",
       "      <td>91.344</td>\n",
       "      <td>56.0</td>\n",
       "      <td>118.0</td>\n",
       "      <td>160.007</td>\n",
       "      <td>40.060</td>\n",
       "      <td>133.162</td>\n",
       "      <td>-4.227</td>\n",
       "      <td>55.667</td>\n",
       "      <td>28.200</td>\n",
       "    </tr>\n",
       "    <tr>\n",
       "      <th>37833</th>\n",
       "      <td>ALVIAPLFGIAQVVYFLGIAESLLGLLQDPQA</td>\n",
       "      <td>0</td>\n",
       "      <td>0.006192</td>\n",
       "      <td>136.01</td>\n",
       "      <td>35.39</td>\n",
       "      <td>46.69</td>\n",
       "      <td>47.57</td>\n",
       "      <td>22.30</td>\n",
       "      <td>25.29</td>\n",
       "      <td>18.79</td>\n",
       "      <td>...</td>\n",
       "      <td>315.0</td>\n",
       "      <td>440.511</td>\n",
       "      <td>330.0</td>\n",
       "      <td>512.0</td>\n",
       "      <td>866.021</td>\n",
       "      <td>189.020</td>\n",
       "      <td>693.766</td>\n",
       "      <td>-5.883</td>\n",
       "      <td>284.956</td>\n",
       "      <td>95.899</td>\n",
       "    </tr>\n",
       "    <tr>\n",
       "      <th>37834</th>\n",
       "      <td>YQEDFNPLVR</td>\n",
       "      <td>0</td>\n",
       "      <td>0.016867</td>\n",
       "      <td>44.37</td>\n",
       "      <td>10.29</td>\n",
       "      <td>8.73</td>\n",
       "      <td>9.14</td>\n",
       "      <td>5.40</td>\n",
       "      <td>7.36</td>\n",
       "      <td>7.19</td>\n",
       "      <td>...</td>\n",
       "      <td>133.0</td>\n",
       "      <td>195.641</td>\n",
       "      <td>143.0</td>\n",
       "      <td>232.0</td>\n",
       "      <td>373.014</td>\n",
       "      <td>61.790</td>\n",
       "      <td>264.513</td>\n",
       "      <td>-0.960</td>\n",
       "      <td>107.056</td>\n",
       "      <td>38.578</td>\n",
       "    </tr>\n",
       "    <tr>\n",
       "      <th>37835</th>\n",
       "      <td>EESELQR</td>\n",
       "      <td>0</td>\n",
       "      <td>0.000984</td>\n",
       "      <td>30.29</td>\n",
       "      <td>3.59</td>\n",
       "      <td>5.45</td>\n",
       "      <td>5.39</td>\n",
       "      <td>4.50</td>\n",
       "      <td>4.47</td>\n",
       "      <td>4.44</td>\n",
       "      <td>...</td>\n",
       "      <td>85.0</td>\n",
       "      <td>144.541</td>\n",
       "      <td>97.0</td>\n",
       "      <td>178.0</td>\n",
       "      <td>256.000</td>\n",
       "      <td>44.840</td>\n",
       "      <td>182.388</td>\n",
       "      <td>0.000</td>\n",
       "      <td>71.435</td>\n",
       "      <td>20.628</td>\n",
       "    </tr>\n",
       "    <tr>\n",
       "      <th>37836</th>\n",
       "      <td>NSGPQGPR</td>\n",
       "      <td>0</td>\n",
       "      <td>0.001342</td>\n",
       "      <td>34.82</td>\n",
       "      <td>4.75</td>\n",
       "      <td>4.62</td>\n",
       "      <td>4.80</td>\n",
       "      <td>2.48</td>\n",
       "      <td>4.94</td>\n",
       "      <td>7.17</td>\n",
       "      <td>...</td>\n",
       "      <td>75.0</td>\n",
       "      <td>113.441</td>\n",
       "      <td>83.0</td>\n",
       "      <td>138.0</td>\n",
       "      <td>201.007</td>\n",
       "      <td>44.430</td>\n",
       "      <td>160.882</td>\n",
       "      <td>0.000</td>\n",
       "      <td>70.834</td>\n",
       "      <td>39.049</td>\n",
       "    </tr>\n",
       "  </tbody>\n",
       "</table>\n",
       "<p>37837 rows × 556 columns</p>\n",
       "</div>"
      ],
      "text/plain": [
       "                                     Peptide  Detectability  Quantification  \\\n",
       "0                                  IWRPPMYQR              0        0.001679   \n",
       "1      NGTHLDAGALTTTFEELHFEIKPHDDCTVEQIYEILK              0        0.043841   \n",
       "2                                    MAEESER              0        0.005042   \n",
       "3                                    AVGGAMR              0        0.024155   \n",
       "4                               NIVHNYSEAEIK              0        0.003472   \n",
       "...                                      ...            ...             ...   \n",
       "37832                                CGTVGSR              0        0.003530   \n",
       "37833       ALVIAPLFGIAQVVYFLGIAESLLGLLQDPQA              0        0.006192   \n",
       "37834                             YQEDFNPLVR              0        0.016867   \n",
       "37835                                EESELQR              0        0.000984   \n",
       "37836                               NSGPQGPR              0        0.001342   \n",
       "\n",
       "       ANDN920101  ARGP820101  ARGP820102  ARGP820103  BEGF750101  BEGF750102  \\\n",
       "0           39.78       13.03        7.92        9.32        4.50        6.82   \n",
       "1          161.34       32.57       35.55       37.03       22.43       27.78   \n",
       "2           30.62        3.85        5.35        6.47        5.06        4.67   \n",
       "3           29.49        4.46        7.29        8.91        5.04        5.52   \n",
       "4           52.37       11.12        7.57        8.97        7.43        8.67   \n",
       "...           ...         ...         ...         ...         ...         ...   \n",
       "37832       29.77        3.23        5.96        5.78        2.89        5.03   \n",
       "37833      136.01       35.39       46.69       47.57       22.30       25.29   \n",
       "37834       44.37       10.29        8.73        9.14        5.40        7.36   \n",
       "37835       30.29        3.59        5.45        5.39        4.50        4.47   \n",
       "37836       34.82        4.75        4.62        4.80        2.48        4.94   \n",
       "\n",
       "       BEGF750103  ...  KARS160113  KARS160114  KARS160115  KARS160116  \\\n",
       "0            7.08  ...       146.0     206.135       147.0       250.0   \n",
       "1           24.66  ...       395.0     613.817       449.0       741.0   \n",
       "2            4.28  ...        85.0     140.974        94.0       176.0   \n",
       "3            4.53  ...        57.0      88.144        58.0       108.0   \n",
       "4            7.66  ...       135.0     211.410       156.0       266.0   \n",
       "...           ...  ...         ...         ...         ...         ...   \n",
       "37832        5.58  ...        45.0      91.344        56.0       118.0   \n",
       "37833       18.79  ...       315.0     440.511       330.0       512.0   \n",
       "37834        7.19  ...       133.0     195.641       143.0       232.0   \n",
       "37835        4.44  ...        85.0     144.541        97.0       178.0   \n",
       "37836        7.17  ...        75.0     113.441        83.0       138.0   \n",
       "\n",
       "       KARS160117  KARS160118  KARS160119  KARS160120  KARS160121  KARS160122  \n",
       "0         371.000      54.387     236.732      -2.390     104.006      43.921  \n",
       "1        1200.014     220.840     893.243     -32.578     356.324     112.647  \n",
       "2         239.000      46.340     172.880       0.000      70.935      18.322  \n",
       "3         147.007      38.000     116.687       0.000      52.267      12.856  \n",
       "4         404.021      74.960     293.794      -6.155     116.990      32.966  \n",
       "...           ...         ...         ...         ...         ...         ...  \n",
       "37832     160.007      40.060     133.162      -4.227      55.667      28.200  \n",
       "37833     866.021     189.020     693.766      -5.883     284.956      95.899  \n",
       "37834     373.014      61.790     264.513      -0.960     107.056      38.578  \n",
       "37835     256.000      44.840     182.388       0.000      71.435      20.628  \n",
       "37836     201.007      44.430     160.882       0.000      70.834      39.049  \n",
       "\n",
       "[37837 rows x 556 columns]"
      ]
     },
     "execution_count": 10,
     "metadata": {},
     "output_type": "execute_result"
    }
   ],
   "source": [
    "undetected_peptides_balanced"
   ]
  },
  {
   "cell_type": "code",
   "execution_count": 11,
   "id": "85400e1c-568d-4c09-90ea-5aa40d3c06d0",
   "metadata": {},
   "outputs": [
    {
     "data": {
      "text/plain": [
       "(96445, 556)"
      ]
     },
     "execution_count": 11,
     "metadata": {},
     "output_type": "execute_result"
    }
   ],
   "source": [
    "unused_undetected = undetected_peptides[~undetected_peptides[\"Peptide\"].isin\n",
    "                                        (undetected_peptides_balanced[\"Peptide\"])]\n",
    "unused_undetected.shape"
   ]
  },
  {
   "cell_type": "markdown",
   "id": "30f39da9-f71a-43e3-89ac-c34ab5cf4293",
   "metadata": {},
   "source": [
    "# Create training, validation and test sets"
   ]
  },
  {
   "cell_type": "markdown",
   "id": "e2c8c908-dfc2-4101-8676-91a92f32aeee",
   "metadata": {},
   "source": [
    "## Split into train and test sets"
   ]
  },
  {
   "cell_type": "code",
   "execution_count": 12,
   "id": "c7cfde27-05b8-4178-bd1f-4b17c3c48322",
   "metadata": {},
   "outputs": [],
   "source": [
    "# detected peptides\n",
    "X_trainP, X_testP, y_trainP, y_testP = sklearn.model_selection.train_test_split(\n",
    "    detected_peptides, detected_peptides['Detectability'], test_size=0.3, random_state=1)"
   ]
  },
  {
   "cell_type": "code",
   "execution_count": 13,
   "id": "b220628b-12f8-4b80-a354-398ce077b321",
   "metadata": {},
   "outputs": [],
   "source": [
    "# undetected peptides\n",
    "X_trainN, X_testN, y_trainN, y_testN = sklearn.model_selection.train_test_split(\n",
    "    undetected_peptides_balanced, undetected_peptides_balanced['Detectability'], test_size=0.3, random_state=1)"
   ]
  },
  {
   "cell_type": "code",
   "execution_count": 14,
   "id": "d1f8f965-1451-4afb-8e43-97a69a288969",
   "metadata": {},
   "outputs": [
    {
     "name": "stdout",
     "output_type": "stream",
     "text": [
      "(26485, 556)\n",
      "(11352, 556)\n",
      "\n",
      "(26485, 556)\n",
      "(11352, 556)\n"
     ]
    }
   ],
   "source": [
    "print(X_trainP.shape)\n",
    "print(X_testP.shape)\n",
    "print('')\n",
    "print(X_trainN.shape)\n",
    "print(X_testN.shape)"
   ]
  },
  {
   "cell_type": "markdown",
   "id": "276d5d61-ed13-4e40-8d44-6695b8cec870",
   "metadata": {},
   "source": [
    "## split training into train and validation sets"
   ]
  },
  {
   "cell_type": "code",
   "execution_count": 15,
   "id": "6f0c7fa9-5ec4-4e38-8a2e-bd563684ee6a",
   "metadata": {},
   "outputs": [],
   "source": [
    "# detected peptides\n",
    "X_trainP, X_valP, y_trainP, y_valP = sklearn.model_selection.train_test_split(\n",
    "    X_trainP, y_trainP, test_size=0.25, random_state=1)"
   ]
  },
  {
   "cell_type": "code",
   "execution_count": 16,
   "id": "0d0489c7-4f7f-46e6-a2ea-9ed3ac868d73",
   "metadata": {},
   "outputs": [],
   "source": [
    "# undetected peptides\n",
    "X_trainN, X_valN, y_trainN, y_valN = sklearn.model_selection.train_test_split(\n",
    "    X_trainN, y_trainN, test_size=0.25, random_state=1)"
   ]
  },
  {
   "cell_type": "code",
   "execution_count": 17,
   "id": "004b49a7-8018-47da-a2e0-3a1c3657b5e2",
   "metadata": {},
   "outputs": [
    {
     "name": "stdout",
     "output_type": "stream",
     "text": [
      "(19863, 556)\n",
      "(6622, 556)\n",
      "\n",
      "(19863, 556)\n",
      "(6622, 556)\n"
     ]
    }
   ],
   "source": [
    "print(X_trainP.shape)\n",
    "print(X_valP.shape)\n",
    "print('')\n",
    "print(X_trainN.shape)\n",
    "print(X_valN.shape)"
   ]
  },
  {
   "cell_type": "markdown",
   "id": "854382be-114f-4975-ad3d-ffa8f2570315",
   "metadata": {},
   "source": [
    "## create final training and validation sets"
   ]
  },
  {
   "cell_type": "code",
   "execution_count": 18,
   "id": "2df4b089-a724-41ee-8079-e5f402c854ec",
   "metadata": {},
   "outputs": [],
   "source": [
    "# create final training and validation sets\n",
    "X_train = pd.concat([X_trainP, X_trainN])\n",
    "X_val = pd.concat([X_valP] + [X_valN])\n",
    "y_train = pd.concat([pd.Series(y_trainP)] + [pd.Series(y_trainN)])\n",
    "y_val = pd.concat([pd.Series(y_valP)] + [pd.Series(y_valN)])"
   ]
  },
  {
   "cell_type": "code",
   "execution_count": 19,
   "id": "2c4ae028-6ddf-4d51-8d1d-f0cd6808b729",
   "metadata": {},
   "outputs": [
    {
     "name": "stdout",
     "output_type": "stream",
     "text": [
      "(39726, 556)\n",
      "(13244, 556)\n",
      "\n",
      "(39726,)\n",
      "(13244,)\n"
     ]
    }
   ],
   "source": [
    "print(X_train.shape)\n",
    "print(X_val.shape)\n",
    "print('')\n",
    "print(y_train.shape)\n",
    "print(y_val.shape)"
   ]
  },
  {
   "cell_type": "code",
   "execution_count": 20,
   "id": "382b1264-7d73-4c2c-9a8f-aeaf33fc59bd",
   "metadata": {},
   "outputs": [
    {
     "name": "stdout",
     "output_type": "stream",
     "text": [
      "0\n"
     ]
    }
   ],
   "source": [
    "# check validation set is not in train\n",
    "print(len(X_val[X_val[\"Peptide\"].isin(X_train[\"Peptide\"])]))"
   ]
  },
  {
   "cell_type": "markdown",
   "id": "82b1cca4-6a3e-4000-a4fd-80107e2d3143",
   "metadata": {},
   "source": [
    "## create final test set"
   ]
  },
  {
   "cell_type": "code",
   "execution_count": 21,
   "id": "8a948487-f5e5-4362-a194-812df94f538a",
   "metadata": {},
   "outputs": [
    {
     "name": "stdout",
     "output_type": "stream",
     "text": [
      "(22704, 556)\n",
      "(22704,)\n"
     ]
    }
   ],
   "source": [
    "# create final test set\n",
    "X_test = pd.concat([X_testP, X_testN])\n",
    "y_test = pd.concat([pd.Series(y_testP)] + [pd.Series(y_testN)])\n",
    "print(X_test.shape)\n",
    "print(y_test.shape)"
   ]
  },
  {
   "cell_type": "code",
   "execution_count": 22,
   "id": "7c4042a6-eead-45cd-ab07-7aba052b1e6c",
   "metadata": {},
   "outputs": [
    {
     "name": "stdout",
     "output_type": "stream",
     "text": [
      "0\n",
      "0\n"
     ]
    }
   ],
   "source": [
    "# check test is not in train or validation\n",
    "print(len(X_test[X_test[\"Peptide\"].isin(X_val[\"Peptide\"])]))\n",
    "print(len(X_test[X_test[\"Peptide\"].isin(X_train[\"Peptide\"])]))"
   ]
  },
  {
   "cell_type": "markdown",
   "id": "36ffc511-7f8c-4d91-ba07-7b0aea04abb1",
   "metadata": {},
   "source": [
    "## Pre-processing of train, validation and test sets"
   ]
  },
  {
   "cell_type": "code",
   "execution_count": 23,
   "id": "3060d03b-a47b-4be4-8886-3888cc869b19",
   "metadata": {},
   "outputs": [],
   "source": [
    "# integer-encode peptides\n",
    "maxLength = 40\n",
    "\n",
    "aaDict = {\"-\": 0, \"A\": 1, \"R\": 2, \"N\": 3, \"D\": 4, \"C\": 5, \"Q\": 6, \"E\": 7, \"G\": 8, \"H\": 9, \"I\": 10, \"L\": 11, \n",
    "          \"K\": 12, \"M\": 13, \"F\": 14, \"P\": 15, \"S\": 16, \"T\": 17, \"W\": 18, \"Y\": 19, \"V\": 20, \"U\": 21}\n",
    "\n",
    "def convertPeptide(peptide, maxLength):\n",
    "    j = 0\n",
    "    hotPeptide = []\n",
    "    for aa in peptide:\n",
    "        hotPeptide.append(aaDict[aa])\n",
    "        j = j + 1\n",
    "    for k in range(maxLength - j):\n",
    "        hotPeptide.append(0)\n",
    "\n",
    "    return np.array(hotPeptide)"
   ]
  },
  {
   "cell_type": "markdown",
   "id": "b8beb4b6-0a1d-4227-92d8-97fe64d01b40",
   "metadata": {},
   "source": [
    "### Separate out each feature"
   ]
  },
  {
   "cell_type": "code",
   "execution_count": 24,
   "id": "e5197886-277b-46e1-a73d-2d7f87b48233",
   "metadata": {},
   "outputs": [],
   "source": [
    "# training set\n",
    "X_train = shuffle(X_train, random_state=1).reset_index(drop=True)\n",
    "y_train = shuffle(y_train, random_state=1).reset_index(drop=True)\n",
    "\n",
    "X_train_peptide = X_train['Peptide'].apply(convertPeptide, args=(maxLength,))\n",
    "X_train_nsaf = X_train['Quantification']\n",
    "X_train_aaindex1 = X_train.iloc[:, 3:]"
   ]
  },
  {
   "cell_type": "code",
   "execution_count": 25,
   "id": "0a830ead-f84a-4c11-8fea-c2b64ab39e69",
   "metadata": {},
   "outputs": [],
   "source": [
    "# validation set\n",
    "X_val = shuffle(X_val, random_state=1).reset_index(drop=True)\n",
    "y_val = shuffle(y_val, random_state=1).reset_index(drop=True)\n",
    "\n",
    "X_val_peptide = X_val['Peptide'].apply(convertPeptide, args=(maxLength,))\n",
    "X_val_nsaf = X_val['Quantification']\n",
    "X_val_aaindex1 = X_val.iloc[:, 3:]"
   ]
  },
  {
   "cell_type": "code",
   "execution_count": 26,
   "id": "6b85e5cf-9ee0-4f15-80fb-66a4b24c1425",
   "metadata": {},
   "outputs": [],
   "source": [
    "# test set\n",
    "X_test = shuffle(X_test, random_state=1).reset_index(drop=True)\n",
    "y_test = shuffle(y_test, random_state=1).reset_index(drop=True)\n",
    "\n",
    "X_test_peptide = X_test['Peptide'].apply(convertPeptide, args=(maxLength,))\n",
    "X_test_nsaf = X_test['Quantification']\n",
    "X_test_aaindex1 = X_test.iloc[:, 3:]"
   ]
  },
  {
   "cell_type": "code",
   "execution_count": 27,
   "id": "5d62df59-5176-43c1-b24c-79834444d5d5",
   "metadata": {},
   "outputs": [
    {
     "data": {
      "text/plain": [
       "array([[ 43.14 ,   9.01 ,  14.93 , ...,  -1.139,  84.023,  24.31 ],\n",
       "       [ 39.62 ,   5.64 ,   8.09 , ...,  -6.047,  86.368,  33.68 ],\n",
       "       [ 29.98 ,   7.38 ,   8.19 , ...,  -7.509,  62.2  ,  22.946],\n",
       "       ...,\n",
       "       [ 56.43 ,  11.46 ,  14.49 , ...,  -3.554, 121.601,  38.449],\n",
       "       [ 47.4  ,  12.79 ,  12.67 , ...,  -2.601, 105.922,  44.107],\n",
       "       [ 99.06 ,  20.5  ,  22.84 , ...,  -2.694, 212.29 ,  79.143]])"
      ]
     },
     "execution_count": 27,
     "metadata": {},
     "output_type": "execute_result"
    }
   ],
   "source": [
    "np.asarray(X_test_aaindex1)"
   ]
  },
  {
   "cell_type": "code",
   "execution_count": 28,
   "id": "d0ef77b3-0a87-44c8-b3b0-4409eee43e78",
   "metadata": {},
   "outputs": [
    {
     "data": {
      "text/plain": [
       "(22704, 553)"
      ]
     },
     "execution_count": 28,
     "metadata": {},
     "output_type": "execute_result"
    }
   ],
   "source": [
    "np.asarray(X_test_aaindex1).shape"
   ]
  },
  {
   "cell_type": "markdown",
   "id": "37d669f9-9395-4666-b619-6a897831c124",
   "metadata": {},
   "source": [
    "## Further preprocessing"
   ]
  },
  {
   "cell_type": "code",
   "execution_count": 29,
   "id": "1c945a73-1392-4edb-b671-395bb3948b28",
   "metadata": {},
   "outputs": [],
   "source": [
    "# convert to arrays\n",
    "X_train_peptide = np.array(X_train_peptide.to_list())\n",
    "X_val_peptide = np.array(X_val_peptide.to_list())\n",
    "X_test_peptide = np.array(X_test_peptide.to_list())"
   ]
  },
  {
   "cell_type": "code",
   "execution_count": 30,
   "id": "9f3f1c9d-bfd9-4125-8b0b-98105847c48b",
   "metadata": {},
   "outputs": [
    {
     "data": {
      "text/plain": [
       "(22704, 40)"
      ]
     },
     "execution_count": 30,
     "metadata": {},
     "output_type": "execute_result"
    }
   ],
   "source": [
    "X_test_peptide.shape"
   ]
  },
  {
   "cell_type": "markdown",
   "id": "61d4e59e-0b8d-401d-a860-c3b7782a713c",
   "metadata": {},
   "source": [
    "# Build model (Keras)"
   ]
  },
  {
   "cell_type": "markdown",
   "id": "db7ce8f2-7a76-4bb5-b9ae-f52bbf41322c",
   "metadata": {},
   "source": [
    "### New transformer network architecture"
   ]
  },
  {
   "cell_type": "code",
   "execution_count": 59,
   "id": "3ba2f40e-829b-49ee-af2f-6a40c51b693d",
   "metadata": {},
   "outputs": [
    {
     "name": "stdout",
     "output_type": "stream",
     "text": [
      "Model: \"model_2\"\n",
      "__________________________________________________________________________________________________\n",
      "Layer (type)                    Output Shape         Param #     Connected to                     \n",
      "==================================================================================================\n",
      "input_3 (InputLayer)            [(None, 40)]         0                                            \n",
      "__________________________________________________________________________________________________\n",
      "token_and_position_embedding_2  (None, 40, 32)       1952        input_3[0][0]                    \n",
      "__________________________________________________________________________________________________\n",
      "transformer_block_2 (Transforme (None, 40, 32)       6464        token_and_position_embedding_2[0]\n",
      "__________________________________________________________________________________________________\n",
      "global_average_pooling1d_2 (Glo (None, 32)           0           transformer_block_2[0][0]        \n",
      "__________________________________________________________________________________________________\n",
      "aux_output (Dense)              (None, 1)            33          global_average_pooling1d_2[0][0] \n",
      "__________________________________________________________________________________________________\n",
      "aux_input (InputLayer)          [(None, 1)]          0                                            \n",
      "__________________________________________________________________________________________________\n",
      "concatenate_2 (Concatenate)     (None, 2)            0           aux_output[0][0]                 \n",
      "                                                                 aux_input[0][0]                  \n",
      "__________________________________________________________________________________________________\n",
      "dense_24 (Dense)                (None, 64)           192         concatenate_2[0][0]              \n",
      "__________________________________________________________________________________________________\n",
      "dense_25 (Dense)                (None, 64)           4160        dense_24[0][0]                   \n",
      "__________________________________________________________________________________________________\n",
      "dense_26 (Dense)                (None, 64)           4160        dense_25[0][0]                   \n",
      "__________________________________________________________________________________________________\n",
      "main_output (Dense)             (None, 1)            65          dense_26[0][0]                   \n",
      "==================================================================================================\n",
      "Total params: 17,026\n",
      "Trainable params: 17,026\n",
      "Non-trainable params: 0\n",
      "__________________________________________________________________________________________________\n",
      "None\n"
     ]
    }
   ],
   "source": [
    "embed_dim = 32  # Embedding size for each token\n",
    "num_heads = 2  # Number of attention heads\n",
    "ff_dim = 32  # Hidden layer size in feed forward network inside transformer\n",
    "\n",
    "main_input = tf.keras.layers.Input(shape=(40,))\n",
    "# embed each peptide into a 40-dimensional vector\n",
    "embedding_layer = TokenAndPositionEmbedding(40, 21, embed_dim)\n",
    "x = embedding_layer(main_input)\n",
    "transformer_block = TransformerBlock(embed_dim, num_heads, ff_dim)\n",
    "x = transformer_block(x)\n",
    "lstm_out = tf.keras.layers.GlobalAveragePooling1D()(x)\n",
    "auxiliary_output = tf.keras.layers.Dense(1, activation='sigmoid', name='aux_output')(lstm_out)\n",
    "\n",
    "auxiliary_input = tf.keras.layers.Input(shape=(1,), name='aux_input')\n",
    "\n",
    "x = tf.keras.layers.concatenate([auxiliary_output, auxiliary_input])\n",
    "\n",
    "x = tf.keras.layers.Dense(64, activation='relu')(x)\n",
    "x = tf.keras.layers.Dense(64, activation='relu')(x)\n",
    "x = tf.keras.layers.Dense(64, activation='relu')(x)\n",
    "\n",
    "main_output = tf.keras.layers.Dense(1, activation='sigmoid', name='main_output')(x)\n",
    "\n",
    "model = tf.keras.Model(inputs=[main_input, auxiliary_input], outputs=[main_output, auxiliary_output])\n",
    "\n",
    "optimiser = tf.keras.optimizers.Adam(learning_rate=0.0001, beta_1=0.9, beta_2=0.999, epsilon=None, decay=0.0, amsgrad=False)\n",
    "\n",
    "model.compile(loss='binary_crossentropy', optimizer=optimiser, metrics=['accuracy'], loss_weights=[1., 0.2])\n",
    "\n",
    "print(model.summary())"
   ]
  },
  {
   "cell_type": "code",
   "execution_count": 45,
   "id": "9bf6afb4-c06e-49b3-a78e-a0e708763070",
   "metadata": {},
   "outputs": [],
   "source": [
    "# keras.utils.plot_model(model, \"M1_seq_model.png\", show_shapes=True)\n",
    "#1342"
   ]
  },
  {
   "cell_type": "code",
   "execution_count": 60,
   "id": "dc121cec-1b78-47c0-beb6-7c1fcfa0cdbd",
   "metadata": {
    "scrolled": true,
    "tags": []
   },
   "outputs": [
    {
     "name": "stdout",
     "output_type": "stream",
     "text": [
      "Epoch 1/200\n",
      "297/297 - 7s - loss: 0.8262 - main_output_loss: 0.6914 - aux_output_loss: 0.6741 - main_output_accuracy: 0.5408 - aux_output_accuracy: 0.5732 - val_loss: 0.8146 - val_main_output_loss: 0.6844 - val_aux_output_loss: 0.6508 - val_main_output_accuracy: 0.6156 - val_aux_output_accuracy: 0.6128\n",
      "Epoch 2/200\n",
      "297/297 - 4s - loss: 0.7943 - main_output_loss: 0.6653 - aux_output_loss: 0.6449 - main_output_accuracy: 0.6185 - aux_output_accuracy: 0.6205 - val_loss: 0.7637 - val_main_output_loss: 0.6378 - val_aux_output_loss: 0.6293 - val_main_output_accuracy: 0.6391 - val_aux_output_accuracy: 0.6393\n",
      "Epoch 3/200\n",
      "297/297 - 4s - loss: 0.7639 - main_output_loss: 0.6369 - aux_output_loss: 0.6351 - main_output_accuracy: 0.6365 - aux_output_accuracy: 0.6368 - val_loss: 0.7545 - val_main_output_loss: 0.6296 - val_aux_output_loss: 0.6242 - val_main_output_accuracy: 0.6404 - val_aux_output_accuracy: 0.6461\n",
      "Epoch 4/200\n",
      "297/297 - 4s - loss: 0.7561 - main_output_loss: 0.6303 - aux_output_loss: 0.6290 - main_output_accuracy: 0.6412 - aux_output_accuracy: 0.6421 - val_loss: 0.7461 - val_main_output_loss: 0.6224 - val_aux_output_loss: 0.6185 - val_main_output_accuracy: 0.6497 - val_aux_output_accuracy: 0.6567\n",
      "Epoch 5/200\n",
      "297/297 - 4s - loss: 0.7523 - main_output_loss: 0.6271 - aux_output_loss: 0.6261 - main_output_accuracy: 0.6443 - aux_output_accuracy: 0.6447 - val_loss: 0.7389 - val_main_output_loss: 0.6157 - val_aux_output_loss: 0.6160 - val_main_output_accuracy: 0.6598 - val_aux_output_accuracy: 0.6581\n",
      "Epoch 6/200\n",
      "297/297 - 4s - loss: 0.7483 - main_output_loss: 0.6236 - aux_output_loss: 0.6232 - main_output_accuracy: 0.6479 - aux_output_accuracy: 0.6486 - val_loss: 0.7361 - val_main_output_loss: 0.6135 - val_aux_output_loss: 0.6130 - val_main_output_accuracy: 0.6623 - val_aux_output_accuracy: 0.6611\n",
      "Epoch 7/200\n",
      "297/297 - 4s - loss: 0.7442 - main_output_loss: 0.6202 - aux_output_loss: 0.6204 - main_output_accuracy: 0.6513 - aux_output_accuracy: 0.6518 - val_loss: 0.7307 - val_main_output_loss: 0.6086 - val_aux_output_loss: 0.6105 - val_main_output_accuracy: 0.6623 - val_aux_output_accuracy: 0.6620\n",
      "Epoch 8/200\n",
      "297/297 - 4s - loss: 0.7393 - main_output_loss: 0.6160 - aux_output_loss: 0.6168 - main_output_accuracy: 0.6539 - aux_output_accuracy: 0.6543 - val_loss: 0.7289 - val_main_output_loss: 0.6070 - val_aux_output_loss: 0.6097 - val_main_output_accuracy: 0.6609 - val_aux_output_accuracy: 0.6620\n",
      "Epoch 9/200\n",
      "297/297 - 4s - loss: 0.7360 - main_output_loss: 0.6132 - aux_output_loss: 0.6144 - main_output_accuracy: 0.6565 - aux_output_accuracy: 0.6573 - val_loss: 0.7259 - val_main_output_loss: 0.6043 - val_aux_output_loss: 0.6079 - val_main_output_accuracy: 0.6702 - val_aux_output_accuracy: 0.6702\n",
      "Epoch 10/200\n",
      "297/297 - 4s - loss: 0.7337 - main_output_loss: 0.6112 - aux_output_loss: 0.6123 - main_output_accuracy: 0.6594 - aux_output_accuracy: 0.6595 - val_loss: 0.7218 - val_main_output_loss: 0.6012 - val_aux_output_loss: 0.6029 - val_main_output_accuracy: 0.6685 - val_aux_output_accuracy: 0.6680\n",
      "Epoch 11/200\n",
      "297/297 - 4s - loss: 0.7293 - main_output_loss: 0.6075 - aux_output_loss: 0.6091 - main_output_accuracy: 0.6617 - aux_output_accuracy: 0.6616 - val_loss: 0.7262 - val_main_output_loss: 0.6046 - val_aux_output_loss: 0.6079 - val_main_output_accuracy: 0.6632 - val_aux_output_accuracy: 0.6629\n",
      "Epoch 12/200\n",
      "297/297 - 4s - loss: 0.7274 - main_output_loss: 0.6059 - aux_output_loss: 0.6078 - main_output_accuracy: 0.6624 - aux_output_accuracy: 0.6619 - val_loss: 0.7174 - val_main_output_loss: 0.5971 - val_aux_output_loss: 0.6013 - val_main_output_accuracy: 0.6702 - val_aux_output_accuracy: 0.6691\n",
      "Epoch 13/200\n",
      "297/297 - 4s - loss: 0.7240 - main_output_loss: 0.6029 - aux_output_loss: 0.6054 - main_output_accuracy: 0.6660 - aux_output_accuracy: 0.6659 - val_loss: 0.7232 - val_main_output_loss: 0.6030 - val_aux_output_loss: 0.6009 - val_main_output_accuracy: 0.6715 - val_aux_output_accuracy: 0.6725\n",
      "Epoch 14/200\n",
      "297/297 - 4s - loss: 0.7217 - main_output_loss: 0.6008 - aux_output_loss: 0.6042 - main_output_accuracy: 0.6666 - aux_output_accuracy: 0.6668 - val_loss: 0.7111 - val_main_output_loss: 0.5916 - val_aux_output_loss: 0.5974 - val_main_output_accuracy: 0.6739 - val_aux_output_accuracy: 0.6737\n",
      "Epoch 15/200\n",
      "297/297 - 4s - loss: 0.7198 - main_output_loss: 0.5992 - aux_output_loss: 0.6030 - main_output_accuracy: 0.6698 - aux_output_accuracy: 0.6693 - val_loss: 0.7097 - val_main_output_loss: 0.5902 - val_aux_output_loss: 0.5973 - val_main_output_accuracy: 0.6773 - val_aux_output_accuracy: 0.6768\n",
      "Epoch 16/200\n",
      "297/297 - 4s - loss: 0.7185 - main_output_loss: 0.5981 - aux_output_loss: 0.6020 - main_output_accuracy: 0.6679 - aux_output_accuracy: 0.6688 - val_loss: 0.7104 - val_main_output_loss: 0.5909 - val_aux_output_loss: 0.5974 - val_main_output_accuracy: 0.6771 - val_aux_output_accuracy: 0.6774\n",
      "Epoch 17/200\n",
      "297/297 - 4s - loss: 0.7164 - main_output_loss: 0.5961 - aux_output_loss: 0.6013 - main_output_accuracy: 0.6709 - aux_output_accuracy: 0.6721 - val_loss: 0.7131 - val_main_output_loss: 0.5937 - val_aux_output_loss: 0.5969 - val_main_output_accuracy: 0.6807 - val_aux_output_accuracy: 0.6811\n",
      "Epoch 18/200\n",
      "297/297 - 4s - loss: 0.7147 - main_output_loss: 0.5947 - aux_output_loss: 0.6002 - main_output_accuracy: 0.6707 - aux_output_accuracy: 0.6708 - val_loss: 0.7049 - val_main_output_loss: 0.5860 - val_aux_output_loss: 0.5944 - val_main_output_accuracy: 0.6796 - val_aux_output_accuracy: 0.6799\n",
      "Epoch 19/200\n",
      "297/297 - 4s - loss: 0.7140 - main_output_loss: 0.5941 - aux_output_loss: 0.5995 - main_output_accuracy: 0.6728 - aux_output_accuracy: 0.6730 - val_loss: 0.7047 - val_main_output_loss: 0.5857 - val_aux_output_loss: 0.5950 - val_main_output_accuracy: 0.6799 - val_aux_output_accuracy: 0.6797\n",
      "Epoch 20/200\n",
      "297/297 - 4s - loss: 0.7118 - main_output_loss: 0.5921 - aux_output_loss: 0.5985 - main_output_accuracy: 0.6736 - aux_output_accuracy: 0.6738 - val_loss: 0.7085 - val_main_output_loss: 0.5891 - val_aux_output_loss: 0.5969 - val_main_output_accuracy: 0.6736 - val_aux_output_accuracy: 0.6736\n",
      "Epoch 21/200\n",
      "297/297 - 4s - loss: 0.7100 - main_output_loss: 0.5906 - aux_output_loss: 0.5971 - main_output_accuracy: 0.6736 - aux_output_accuracy: 0.6746 - val_loss: 0.7005 - val_main_output_loss: 0.5822 - val_aux_output_loss: 0.5913 - val_main_output_accuracy: 0.6839 - val_aux_output_accuracy: 0.6836\n",
      "Epoch 22/200\n",
      "297/297 - 4s - loss: 0.7089 - main_output_loss: 0.5897 - aux_output_loss: 0.5960 - main_output_accuracy: 0.6756 - aux_output_accuracy: 0.6759 - val_loss: 0.6992 - val_main_output_loss: 0.5812 - val_aux_output_loss: 0.5901 - val_main_output_accuracy: 0.6828 - val_aux_output_accuracy: 0.6845\n",
      "Epoch 23/200\n",
      "297/297 - 4s - loss: 0.7084 - main_output_loss: 0.5893 - aux_output_loss: 0.5959 - main_output_accuracy: 0.6758 - aux_output_accuracy: 0.6763 - val_loss: 0.6989 - val_main_output_loss: 0.5812 - val_aux_output_loss: 0.5882 - val_main_output_accuracy: 0.6848 - val_aux_output_accuracy: 0.6853\n",
      "Epoch 24/200\n",
      "297/297 - 4s - loss: 0.7058 - main_output_loss: 0.5870 - aux_output_loss: 0.5939 - main_output_accuracy: 0.6766 - aux_output_accuracy: 0.6770 - val_loss: 0.6985 - val_main_output_loss: 0.5806 - val_aux_output_loss: 0.5898 - val_main_output_accuracy: 0.6870 - val_aux_output_accuracy: 0.6870\n",
      "Epoch 25/200\n",
      "297/297 - 4s - loss: 0.7061 - main_output_loss: 0.5873 - aux_output_loss: 0.5940 - main_output_accuracy: 0.6769 - aux_output_accuracy: 0.6765 - val_loss: 0.6975 - val_main_output_loss: 0.5797 - val_aux_output_loss: 0.5888 - val_main_output_accuracy: 0.6809 - val_aux_output_accuracy: 0.6808\n",
      "Epoch 26/200\n",
      "297/297 - 4s - loss: 0.7048 - main_output_loss: 0.5863 - aux_output_loss: 0.5928 - main_output_accuracy: 0.6763 - aux_output_accuracy: 0.6771 - val_loss: 0.6978 - val_main_output_loss: 0.5807 - val_aux_output_loss: 0.5853 - val_main_output_accuracy: 0.6826 - val_aux_output_accuracy: 0.6832\n",
      "Epoch 27/200\n",
      "297/297 - 4s - loss: 0.7040 - main_output_loss: 0.5855 - aux_output_loss: 0.5923 - main_output_accuracy: 0.6785 - aux_output_accuracy: 0.6780 - val_loss: 0.6953 - val_main_output_loss: 0.5779 - val_aux_output_loss: 0.5869 - val_main_output_accuracy: 0.6845 - val_aux_output_accuracy: 0.6850\n",
      "Epoch 28/200\n",
      "297/297 - 4s - loss: 0.7036 - main_output_loss: 0.5853 - aux_output_loss: 0.5916 - main_output_accuracy: 0.6757 - aux_output_accuracy: 0.6757 - val_loss: 0.6955 - val_main_output_loss: 0.5781 - val_aux_output_loss: 0.5872 - val_main_output_accuracy: 0.6860 - val_aux_output_accuracy: 0.6851\n",
      "Epoch 29/200\n",
      "297/297 - 4s - loss: 0.7037 - main_output_loss: 0.5853 - aux_output_loss: 0.5916 - main_output_accuracy: 0.6773 - aux_output_accuracy: 0.6774 - val_loss: 0.6951 - val_main_output_loss: 0.5778 - val_aux_output_loss: 0.5866 - val_main_output_accuracy: 0.6840 - val_aux_output_accuracy: 0.6844\n",
      "Epoch 30/200\n",
      "297/297 - 4s - loss: 0.7025 - main_output_loss: 0.5844 - aux_output_loss: 0.5904 - main_output_accuracy: 0.6792 - aux_output_accuracy: 0.6790 - val_loss: 0.6982 - val_main_output_loss: 0.5804 - val_aux_output_loss: 0.5890 - val_main_output_accuracy: 0.6799 - val_aux_output_accuracy: 0.6800\n",
      "Epoch 31/200\n",
      "297/297 - 4s - loss: 0.7016 - main_output_loss: 0.5837 - aux_output_loss: 0.5896 - main_output_accuracy: 0.6801 - aux_output_accuracy: 0.6801 - val_loss: 0.6970 - val_main_output_loss: 0.5798 - val_aux_output_loss: 0.5859 - val_main_output_accuracy: 0.6869 - val_aux_output_accuracy: 0.6878\n",
      "Epoch 32/200\n",
      "297/297 - 4s - loss: 0.7011 - main_output_loss: 0.5833 - aux_output_loss: 0.5891 - main_output_accuracy: 0.6793 - aux_output_accuracy: 0.6795 - val_loss: 0.6956 - val_main_output_loss: 0.5791 - val_aux_output_loss: 0.5826 - val_main_output_accuracy: 0.6839 - val_aux_output_accuracy: 0.6839\n",
      "Epoch 33/200\n",
      "297/297 - 4s - loss: 0.7011 - main_output_loss: 0.5833 - aux_output_loss: 0.5889 - main_output_accuracy: 0.6784 - aux_output_accuracy: 0.6784 - val_loss: 0.6943 - val_main_output_loss: 0.5775 - val_aux_output_loss: 0.5838 - val_main_output_accuracy: 0.6846 - val_aux_output_accuracy: 0.6851\n",
      "Epoch 34/200\n",
      "297/297 - 4s - loss: 0.7001 - main_output_loss: 0.5825 - aux_output_loss: 0.5883 - main_output_accuracy: 0.6805 - aux_output_accuracy: 0.6807 - val_loss: 0.6923 - val_main_output_loss: 0.5760 - val_aux_output_loss: 0.5815 - val_main_output_accuracy: 0.6873 - val_aux_output_accuracy: 0.6883\n",
      "Epoch 35/200\n",
      "297/297 - 4s - loss: 0.6992 - main_output_loss: 0.5818 - aux_output_loss: 0.5873 - main_output_accuracy: 0.6810 - aux_output_accuracy: 0.6808 - val_loss: 0.6932 - val_main_output_loss: 0.5765 - val_aux_output_loss: 0.5837 - val_main_output_accuracy: 0.6889 - val_aux_output_accuracy: 0.6886\n",
      "Epoch 36/200\n",
      "297/297 - 4s - loss: 0.7002 - main_output_loss: 0.5826 - aux_output_loss: 0.5880 - main_output_accuracy: 0.6790 - aux_output_accuracy: 0.6788 - val_loss: 0.6916 - val_main_output_loss: 0.5751 - val_aux_output_loss: 0.5821 - val_main_output_accuracy: 0.6857 - val_aux_output_accuracy: 0.6854\n",
      "Epoch 37/200\n",
      "297/297 - 4s - loss: 0.7002 - main_output_loss: 0.5827 - aux_output_loss: 0.5876 - main_output_accuracy: 0.6791 - aux_output_accuracy: 0.6788 - val_loss: 0.6909 - val_main_output_loss: 0.5745 - val_aux_output_loss: 0.5821 - val_main_output_accuracy: 0.6867 - val_aux_output_accuracy: 0.6869\n",
      "Epoch 38/200\n",
      "297/297 - 4s - loss: 0.6993 - main_output_loss: 0.5819 - aux_output_loss: 0.5869 - main_output_accuracy: 0.6799 - aux_output_accuracy: 0.6800 - val_loss: 0.6919 - val_main_output_loss: 0.5758 - val_aux_output_loss: 0.5807 - val_main_output_accuracy: 0.6845 - val_aux_output_accuracy: 0.6848\n",
      "Epoch 39/200\n",
      "297/297 - 4s - loss: 0.6985 - main_output_loss: 0.5813 - aux_output_loss: 0.5864 - main_output_accuracy: 0.6799 - aux_output_accuracy: 0.6793 - val_loss: 0.6895 - val_main_output_loss: 0.5735 - val_aux_output_loss: 0.5798 - val_main_output_accuracy: 0.6887 - val_aux_output_accuracy: 0.6885\n",
      "Epoch 40/200\n",
      "297/297 - 4s - loss: 0.6985 - main_output_loss: 0.5814 - aux_output_loss: 0.5859 - main_output_accuracy: 0.6786 - aux_output_accuracy: 0.6799 - val_loss: 0.6897 - val_main_output_loss: 0.5735 - val_aux_output_loss: 0.5807 - val_main_output_accuracy: 0.6888 - val_aux_output_accuracy: 0.6886\n",
      "Epoch 41/200\n",
      "297/297 - 4s - loss: 0.6982 - main_output_loss: 0.5811 - aux_output_loss: 0.5856 - main_output_accuracy: 0.6803 - aux_output_accuracy: 0.6810 - val_loss: 0.6907 - val_main_output_loss: 0.5744 - val_aux_output_loss: 0.5817 - val_main_output_accuracy: 0.6857 - val_aux_output_accuracy: 0.6856\n",
      "Epoch 42/200\n",
      "297/297 - 4s - loss: 0.6964 - main_output_loss: 0.5795 - aux_output_loss: 0.5847 - main_output_accuracy: 0.6801 - aux_output_accuracy: 0.6795 - val_loss: 0.6904 - val_main_output_loss: 0.5745 - val_aux_output_loss: 0.5796 - val_main_output_accuracy: 0.6861 - val_aux_output_accuracy: 0.6857\n",
      "Epoch 43/200\n",
      "297/297 - 4s - loss: 0.6969 - main_output_loss: 0.5799 - aux_output_loss: 0.5849 - main_output_accuracy: 0.6784 - aux_output_accuracy: 0.6793 - val_loss: 0.6908 - val_main_output_loss: 0.5748 - val_aux_output_loss: 0.5797 - val_main_output_accuracy: 0.6878 - val_aux_output_accuracy: 0.6877\n",
      "Epoch 44/200\n",
      "297/297 - 4s - loss: 0.6966 - main_output_loss: 0.5798 - aux_output_loss: 0.5841 - main_output_accuracy: 0.6811 - aux_output_accuracy: 0.6817 - val_loss: 0.6904 - val_main_output_loss: 0.5745 - val_aux_output_loss: 0.5794 - val_main_output_accuracy: 0.6898 - val_aux_output_accuracy: 0.6894\n",
      "Epoch 45/200\n",
      "297/297 - 4s - loss: 0.6961 - main_output_loss: 0.5794 - aux_output_loss: 0.5836 - main_output_accuracy: 0.6802 - aux_output_accuracy: 0.6803 - val_loss: 0.6898 - val_main_output_loss: 0.5740 - val_aux_output_loss: 0.5791 - val_main_output_accuracy: 0.6868 - val_aux_output_accuracy: 0.6869\n",
      "Epoch 46/200\n",
      "297/297 - 4s - loss: 0.6960 - main_output_loss: 0.5792 - aux_output_loss: 0.5838 - main_output_accuracy: 0.6799 - aux_output_accuracy: 0.6797 - val_loss: 0.6891 - val_main_output_loss: 0.5733 - val_aux_output_loss: 0.5790 - val_main_output_accuracy: 0.6873 - val_aux_output_accuracy: 0.6891\n",
      "Epoch 47/200\n",
      "297/297 - 4s - loss: 0.6961 - main_output_loss: 0.5794 - aux_output_loss: 0.5835 - main_output_accuracy: 0.6812 - aux_output_accuracy: 0.6814 - val_loss: 0.6880 - val_main_output_loss: 0.5725 - val_aux_output_loss: 0.5778 - val_main_output_accuracy: 0.6897 - val_aux_output_accuracy: 0.6900\n",
      "Epoch 48/200\n",
      "297/297 - 4s - loss: 0.6955 - main_output_loss: 0.5789 - aux_output_loss: 0.5829 - main_output_accuracy: 0.6808 - aux_output_accuracy: 0.6811 - val_loss: 0.6893 - val_main_output_loss: 0.5738 - val_aux_output_loss: 0.5777 - val_main_output_accuracy: 0.6894 - val_aux_output_accuracy: 0.6893\n",
      "Epoch 49/200\n",
      "297/297 - 4s - loss: 0.6946 - main_output_loss: 0.5781 - aux_output_loss: 0.5822 - main_output_accuracy: 0.6823 - aux_output_accuracy: 0.6825 - val_loss: 0.6879 - val_main_output_loss: 0.5723 - val_aux_output_loss: 0.5779 - val_main_output_accuracy: 0.6870 - val_aux_output_accuracy: 0.6869\n",
      "Epoch 50/200\n",
      "297/297 - 4s - loss: 0.6950 - main_output_loss: 0.5784 - aux_output_loss: 0.5826 - main_output_accuracy: 0.6821 - aux_output_accuracy: 0.6814 - val_loss: 0.6876 - val_main_output_loss: 0.5721 - val_aux_output_loss: 0.5779 - val_main_output_accuracy: 0.6889 - val_aux_output_accuracy: 0.6895\n",
      "Epoch 51/200\n",
      "297/297 - 4s - loss: 0.6946 - main_output_loss: 0.5782 - aux_output_loss: 0.5821 - main_output_accuracy: 0.6833 - aux_output_accuracy: 0.6825 - val_loss: 0.6906 - val_main_output_loss: 0.5745 - val_aux_output_loss: 0.5805 - val_main_output_accuracy: 0.6871 - val_aux_output_accuracy: 0.6864\n",
      "Epoch 52/200\n",
      "297/297 - 4s - loss: 0.6942 - main_output_loss: 0.5778 - aux_output_loss: 0.5818 - main_output_accuracy: 0.6820 - aux_output_accuracy: 0.6823 - val_loss: 0.6928 - val_main_output_loss: 0.5770 - val_aux_output_loss: 0.5791 - val_main_output_accuracy: 0.6872 - val_aux_output_accuracy: 0.6896\n",
      "Epoch 53/200\n",
      "297/297 - 4s - loss: 0.6946 - main_output_loss: 0.5782 - aux_output_loss: 0.5821 - main_output_accuracy: 0.6810 - aux_output_accuracy: 0.6803 - val_loss: 0.6904 - val_main_output_loss: 0.5744 - val_aux_output_loss: 0.5799 - val_main_output_accuracy: 0.6879 - val_aux_output_accuracy: 0.6873\n",
      "Epoch 54/200\n",
      "297/297 - 4s - loss: 0.6939 - main_output_loss: 0.5776 - aux_output_loss: 0.5812 - main_output_accuracy: 0.6816 - aux_output_accuracy: 0.6822 - val_loss: 0.6889 - val_main_output_loss: 0.5734 - val_aux_output_loss: 0.5776 - val_main_output_accuracy: 0.6857 - val_aux_output_accuracy: 0.6854\n",
      "Epoch 55/200\n",
      "297/297 - 4s - loss: 0.6929 - main_output_loss: 0.5768 - aux_output_loss: 0.5807 - main_output_accuracy: 0.6836 - aux_output_accuracy: 0.6828 - val_loss: 0.6886 - val_main_output_loss: 0.5732 - val_aux_output_loss: 0.5767 - val_main_output_accuracy: 0.6876 - val_aux_output_accuracy: 0.6870\n",
      "Epoch 56/200\n",
      "297/297 - 4s - loss: 0.6937 - main_output_loss: 0.5776 - aux_output_loss: 0.5809 - main_output_accuracy: 0.6811 - aux_output_accuracy: 0.6815 - val_loss: 0.6902 - val_main_output_loss: 0.5744 - val_aux_output_loss: 0.5789 - val_main_output_accuracy: 0.6873 - val_aux_output_accuracy: 0.6879\n",
      "Epoch 57/200\n",
      "297/297 - 4s - loss: 0.6927 - main_output_loss: 0.5766 - aux_output_loss: 0.5802 - main_output_accuracy: 0.6816 - aux_output_accuracy: 0.6811 - val_loss: 0.6878 - val_main_output_loss: 0.5723 - val_aux_output_loss: 0.5777 - val_main_output_accuracy: 0.6860 - val_aux_output_accuracy: 0.6867\n",
      "Epoch 58/200\n",
      "297/297 - 4s - loss: 0.6926 - main_output_loss: 0.5766 - aux_output_loss: 0.5802 - main_output_accuracy: 0.6826 - aux_output_accuracy: 0.6834 - val_loss: 0.6878 - val_main_output_loss: 0.5726 - val_aux_output_loss: 0.5763 - val_main_output_accuracy: 0.6894 - val_aux_output_accuracy: 0.6904\n",
      "Epoch 59/200\n",
      "297/297 - 4s - loss: 0.6929 - main_output_loss: 0.5769 - aux_output_loss: 0.5802 - main_output_accuracy: 0.6816 - aux_output_accuracy: 0.6809 - val_loss: 0.6869 - val_main_output_loss: 0.5717 - val_aux_output_loss: 0.5761 - val_main_output_accuracy: 0.6897 - val_aux_output_accuracy: 0.6897\n",
      "Epoch 60/200\n",
      "297/297 - 4s - loss: 0.6918 - main_output_loss: 0.5759 - aux_output_loss: 0.5794 - main_output_accuracy: 0.6822 - aux_output_accuracy: 0.6810 - val_loss: 0.6872 - val_main_output_loss: 0.5719 - val_aux_output_loss: 0.5764 - val_main_output_accuracy: 0.6863 - val_aux_output_accuracy: 0.6869\n",
      "Epoch 61/200\n",
      "297/297 - 4s - loss: 0.6921 - main_output_loss: 0.5762 - aux_output_loss: 0.5793 - main_output_accuracy: 0.6841 - aux_output_accuracy: 0.6838 - val_loss: 0.6864 - val_main_output_loss: 0.5715 - val_aux_output_loss: 0.5745 - val_main_output_accuracy: 0.6912 - val_aux_output_accuracy: 0.6899\n",
      "Epoch 62/200\n",
      "297/297 - 4s - loss: 0.6926 - main_output_loss: 0.5767 - aux_output_loss: 0.5796 - main_output_accuracy: 0.6826 - aux_output_accuracy: 0.6829 - val_loss: 0.6857 - val_main_output_loss: 0.5708 - val_aux_output_loss: 0.5747 - val_main_output_accuracy: 0.6894 - val_aux_output_accuracy: 0.6894\n",
      "Epoch 63/200\n",
      "297/297 - 4s - loss: 0.6927 - main_output_loss: 0.5767 - aux_output_loss: 0.5797 - main_output_accuracy: 0.6846 - aux_output_accuracy: 0.6844 - val_loss: 0.6854 - val_main_output_loss: 0.5706 - val_aux_output_loss: 0.5740 - val_main_output_accuracy: 0.6916 - val_aux_output_accuracy: 0.6900\n",
      "Epoch 64/200\n",
      "297/297 - 4s - loss: 0.6919 - main_output_loss: 0.5761 - aux_output_loss: 0.5790 - main_output_accuracy: 0.6834 - aux_output_accuracy: 0.6842 - val_loss: 0.6873 - val_main_output_loss: 0.5721 - val_aux_output_loss: 0.5761 - val_main_output_accuracy: 0.6856 - val_aux_output_accuracy: 0.6859\n",
      "Epoch 65/200\n",
      "297/297 - 4s - loss: 0.6926 - main_output_loss: 0.5768 - aux_output_loss: 0.5793 - main_output_accuracy: 0.6816 - aux_output_accuracy: 0.6828 - val_loss: 0.6867 - val_main_output_loss: 0.5715 - val_aux_output_loss: 0.5762 - val_main_output_accuracy: 0.6883 - val_aux_output_accuracy: 0.6883\n",
      "Epoch 66/200\n",
      "297/297 - 4s - loss: 0.6911 - main_output_loss: 0.5755 - aux_output_loss: 0.5784 - main_output_accuracy: 0.6831 - aux_output_accuracy: 0.6833 - val_loss: 0.6875 - val_main_output_loss: 0.5726 - val_aux_output_loss: 0.5743 - val_main_output_accuracy: 0.6886 - val_aux_output_accuracy: 0.6913\n",
      "Epoch 67/200\n",
      "297/297 - 4s - loss: 0.6903 - main_output_loss: 0.5747 - aux_output_loss: 0.5779 - main_output_accuracy: 0.6851 - aux_output_accuracy: 0.6850 - val_loss: 0.6848 - val_main_output_loss: 0.5701 - val_aux_output_loss: 0.5734 - val_main_output_accuracy: 0.6896 - val_aux_output_accuracy: 0.6903\n",
      "Epoch 68/200\n",
      "297/297 - 4s - loss: 0.6906 - main_output_loss: 0.5750 - aux_output_loss: 0.5779 - main_output_accuracy: 0.6843 - aux_output_accuracy: 0.6834 - val_loss: 0.6853 - val_main_output_loss: 0.5704 - val_aux_output_loss: 0.5744 - val_main_output_accuracy: 0.6891 - val_aux_output_accuracy: 0.6885\n",
      "Epoch 69/200\n",
      "297/297 - 4s - loss: 0.6911 - main_output_loss: 0.5754 - aux_output_loss: 0.5784 - main_output_accuracy: 0.6834 - aux_output_accuracy: 0.6831 - val_loss: 0.6872 - val_main_output_loss: 0.5719 - val_aux_output_loss: 0.5763 - val_main_output_accuracy: 0.6871 - val_aux_output_accuracy: 0.6885\n",
      "Epoch 70/200\n",
      "297/297 - 4s - loss: 0.6912 - main_output_loss: 0.5756 - aux_output_loss: 0.5783 - main_output_accuracy: 0.6822 - aux_output_accuracy: 0.6834 - val_loss: 0.6855 - val_main_output_loss: 0.5707 - val_aux_output_loss: 0.5738 - val_main_output_accuracy: 0.6894 - val_aux_output_accuracy: 0.6902\n",
      "Epoch 71/200\n",
      "297/297 - 4s - loss: 0.6892 - main_output_loss: 0.5739 - aux_output_loss: 0.5768 - main_output_accuracy: 0.6848 - aux_output_accuracy: 0.6852 - val_loss: 0.6861 - val_main_output_loss: 0.5712 - val_aux_output_loss: 0.5744 - val_main_output_accuracy: 0.6895 - val_aux_output_accuracy: 0.6878\n",
      "Epoch 72/200\n",
      "297/297 - 4s - loss: 0.6900 - main_output_loss: 0.5745 - aux_output_loss: 0.5775 - main_output_accuracy: 0.6849 - aux_output_accuracy: 0.6844 - val_loss: 0.6864 - val_main_output_loss: 0.5716 - val_aux_output_loss: 0.5741 - val_main_output_accuracy: 0.6879 - val_aux_output_accuracy: 0.6898\n",
      "Epoch 73/200\n",
      "297/297 - 4s - loss: 0.6898 - main_output_loss: 0.5744 - aux_output_loss: 0.5772 - main_output_accuracy: 0.6854 - aux_output_accuracy: 0.6854 - val_loss: 0.6843 - val_main_output_loss: 0.5696 - val_aux_output_loss: 0.5732 - val_main_output_accuracy: 0.6899 - val_aux_output_accuracy: 0.6901\n",
      "Epoch 74/200\n",
      "297/297 - 4s - loss: 0.6897 - main_output_loss: 0.5743 - aux_output_loss: 0.5771 - main_output_accuracy: 0.6840 - aux_output_accuracy: 0.6843 - val_loss: 0.6893 - val_main_output_loss: 0.5742 - val_aux_output_loss: 0.5758 - val_main_output_accuracy: 0.6870 - val_aux_output_accuracy: 0.6868\n",
      "Epoch 75/200\n",
      "297/297 - 4s - loss: 0.6900 - main_output_loss: 0.5746 - aux_output_loss: 0.5771 - main_output_accuracy: 0.6841 - aux_output_accuracy: 0.6836 - val_loss: 0.6856 - val_main_output_loss: 0.5709 - val_aux_output_loss: 0.5738 - val_main_output_accuracy: 0.6887 - val_aux_output_accuracy: 0.6880\n",
      "Epoch 76/200\n",
      "297/297 - 4s - loss: 0.6898 - main_output_loss: 0.5744 - aux_output_loss: 0.5769 - main_output_accuracy: 0.6838 - aux_output_accuracy: 0.6845 - val_loss: 0.6843 - val_main_output_loss: 0.5698 - val_aux_output_loss: 0.5728 - val_main_output_accuracy: 0.6895 - val_aux_output_accuracy: 0.6898\n",
      "Epoch 77/200\n",
      "297/297 - 4s - loss: 0.6897 - main_output_loss: 0.5744 - aux_output_loss: 0.5767 - main_output_accuracy: 0.6838 - aux_output_accuracy: 0.6836 - val_loss: 0.6847 - val_main_output_loss: 0.5703 - val_aux_output_loss: 0.5722 - val_main_output_accuracy: 0.6897 - val_aux_output_accuracy: 0.6916\n",
      "Epoch 78/200\n",
      "297/297 - 4s - loss: 0.6892 - main_output_loss: 0.5739 - aux_output_loss: 0.5765 - main_output_accuracy: 0.6838 - aux_output_accuracy: 0.6834 - val_loss: 0.6863 - val_main_output_loss: 0.5714 - val_aux_output_loss: 0.5743 - val_main_output_accuracy: 0.6874 - val_aux_output_accuracy: 0.6869\n",
      "Epoch 79/200\n",
      "297/297 - 4s - loss: 0.6887 - main_output_loss: 0.5734 - aux_output_loss: 0.5761 - main_output_accuracy: 0.6850 - aux_output_accuracy: 0.6845 - val_loss: 0.6900 - val_main_output_loss: 0.5744 - val_aux_output_loss: 0.5782 - val_main_output_accuracy: 0.6843 - val_aux_output_accuracy: 0.6852\n",
      "Epoch 80/200\n",
      "297/297 - 4s - loss: 0.6888 - main_output_loss: 0.5736 - aux_output_loss: 0.5760 - main_output_accuracy: 0.6853 - aux_output_accuracy: 0.6853 - val_loss: 0.6846 - val_main_output_loss: 0.5699 - val_aux_output_loss: 0.5732 - val_main_output_accuracy: 0.6885 - val_aux_output_accuracy: 0.6882\n",
      "Epoch 81/200\n",
      "297/297 - 4s - loss: 0.6884 - main_output_loss: 0.5732 - aux_output_loss: 0.5757 - main_output_accuracy: 0.6845 - aux_output_accuracy: 0.6842 - val_loss: 0.6895 - val_main_output_loss: 0.5746 - val_aux_output_loss: 0.5745 - val_main_output_accuracy: 0.6858 - val_aux_output_accuracy: 0.6852\n",
      "Epoch 82/200\n",
      "297/297 - 4s - loss: 0.6880 - main_output_loss: 0.5729 - aux_output_loss: 0.5754 - main_output_accuracy: 0.6853 - aux_output_accuracy: 0.6850 - val_loss: 0.6860 - val_main_output_loss: 0.5711 - val_aux_output_loss: 0.5742 - val_main_output_accuracy: 0.6881 - val_aux_output_accuracy: 0.6879\n",
      "Epoch 83/200\n",
      "297/297 - 4s - loss: 0.6883 - main_output_loss: 0.5732 - aux_output_loss: 0.5755 - main_output_accuracy: 0.6840 - aux_output_accuracy: 0.6847 - val_loss: 0.6866 - val_main_output_loss: 0.5716 - val_aux_output_loss: 0.5748 - val_main_output_accuracy: 0.6867 - val_aux_output_accuracy: 0.6853\n",
      "Epoch 84/200\n",
      "297/297 - 4s - loss: 0.6894 - main_output_loss: 0.5741 - aux_output_loss: 0.5763 - main_output_accuracy: 0.6843 - aux_output_accuracy: 0.6838 - val_loss: 0.6885 - val_main_output_loss: 0.5736 - val_aux_output_loss: 0.5746 - val_main_output_accuracy: 0.6879 - val_aux_output_accuracy: 0.6896\n",
      "Epoch 85/200\n",
      "297/297 - 4s - loss: 0.6876 - main_output_loss: 0.5727 - aux_output_loss: 0.5748 - main_output_accuracy: 0.6848 - aux_output_accuracy: 0.6850 - val_loss: 0.6866 - val_main_output_loss: 0.5716 - val_aux_output_loss: 0.5751 - val_main_output_accuracy: 0.6879 - val_aux_output_accuracy: 0.6880\n",
      "Epoch 86/200\n",
      "297/297 - 4s - loss: 0.6869 - main_output_loss: 0.5720 - aux_output_loss: 0.5745 - main_output_accuracy: 0.6862 - aux_output_accuracy: 0.6857 - val_loss: 0.6868 - val_main_output_loss: 0.5725 - val_aux_output_loss: 0.5716 - val_main_output_accuracy: 0.6905 - val_aux_output_accuracy: 0.6909\n",
      "Epoch 87/200\n",
      "297/297 - 4s - loss: 0.6875 - main_output_loss: 0.5726 - aux_output_loss: 0.5745 - main_output_accuracy: 0.6860 - aux_output_accuracy: 0.6863 - val_loss: 0.6844 - val_main_output_loss: 0.5697 - val_aux_output_loss: 0.5735 - val_main_output_accuracy: 0.6892 - val_aux_output_accuracy: 0.6882\n",
      "Epoch 88/200\n",
      "297/297 - 4s - loss: 0.6875 - main_output_loss: 0.5726 - aux_output_loss: 0.5746 - main_output_accuracy: 0.6866 - aux_output_accuracy: 0.6863 - val_loss: 0.6930 - val_main_output_loss: 0.5774 - val_aux_output_loss: 0.5782 - val_main_output_accuracy: 0.6854 - val_aux_output_accuracy: 0.6864\n",
      "Epoch 89/200\n",
      "297/297 - 4s - loss: 0.6878 - main_output_loss: 0.5729 - aux_output_loss: 0.5749 - main_output_accuracy: 0.6846 - aux_output_accuracy: 0.6844 - val_loss: 0.6829 - val_main_output_loss: 0.5686 - val_aux_output_loss: 0.5715 - val_main_output_accuracy: 0.6883 - val_aux_output_accuracy: 0.6893\n",
      "Epoch 90/200\n",
      "297/297 - 4s - loss: 0.6872 - main_output_loss: 0.5723 - aux_output_loss: 0.5744 - main_output_accuracy: 0.6839 - aux_output_accuracy: 0.6844 - val_loss: 0.6850 - val_main_output_loss: 0.5704 - val_aux_output_loss: 0.5732 - val_main_output_accuracy: 0.6908 - val_aux_output_accuracy: 0.6907\n",
      "Epoch 91/200\n",
      "297/297 - 4s - loss: 0.6865 - main_output_loss: 0.5717 - aux_output_loss: 0.5740 - main_output_accuracy: 0.6859 - aux_output_accuracy: 0.6868 - val_loss: 0.6833 - val_main_output_loss: 0.5691 - val_aux_output_loss: 0.5710 - val_main_output_accuracy: 0.6907 - val_aux_output_accuracy: 0.6894\n",
      "Epoch 92/200\n",
      "297/297 - 4s - loss: 0.6878 - main_output_loss: 0.5729 - aux_output_loss: 0.5747 - main_output_accuracy: 0.6837 - aux_output_accuracy: 0.6842 - val_loss: 0.6831 - val_main_output_loss: 0.5687 - val_aux_output_loss: 0.5719 - val_main_output_accuracy: 0.6867 - val_aux_output_accuracy: 0.6876\n",
      "Epoch 93/200\n",
      "297/297 - 4s - loss: 0.6858 - main_output_loss: 0.5711 - aux_output_loss: 0.5733 - main_output_accuracy: 0.6871 - aux_output_accuracy: 0.6863 - val_loss: 0.6845 - val_main_output_loss: 0.5701 - val_aux_output_loss: 0.5721 - val_main_output_accuracy: 0.6900 - val_aux_output_accuracy: 0.6894\n",
      "Epoch 94/200\n",
      "297/297 - 4s - loss: 0.6857 - main_output_loss: 0.5710 - aux_output_loss: 0.5734 - main_output_accuracy: 0.6873 - aux_output_accuracy: 0.6877 - val_loss: 0.6832 - val_main_output_loss: 0.5686 - val_aux_output_loss: 0.5729 - val_main_output_accuracy: 0.6891 - val_aux_output_accuracy: 0.6889\n",
      "Epoch 95/200\n",
      "297/297 - 4s - loss: 0.6854 - main_output_loss: 0.5707 - aux_output_loss: 0.5734 - main_output_accuracy: 0.6855 - aux_output_accuracy: 0.6852 - val_loss: 0.6830 - val_main_output_loss: 0.5686 - val_aux_output_loss: 0.5717 - val_main_output_accuracy: 0.6900 - val_aux_output_accuracy: 0.6894\n",
      "Epoch 96/200\n",
      "297/297 - 4s - loss: 0.6853 - main_output_loss: 0.5707 - aux_output_loss: 0.5731 - main_output_accuracy: 0.6857 - aux_output_accuracy: 0.6855 - val_loss: 0.6841 - val_main_output_loss: 0.5697 - val_aux_output_loss: 0.5718 - val_main_output_accuracy: 0.6891 - val_aux_output_accuracy: 0.6908\n",
      "Epoch 97/200\n",
      "297/297 - 4s - loss: 0.6843 - main_output_loss: 0.5699 - aux_output_loss: 0.5724 - main_output_accuracy: 0.6880 - aux_output_accuracy: 0.6881 - val_loss: 0.6845 - val_main_output_loss: 0.5700 - val_aux_output_loss: 0.5725 - val_main_output_accuracy: 0.6900 - val_aux_output_accuracy: 0.6910\n",
      "Epoch 98/200\n",
      "297/297 - 4s - loss: 0.6836 - main_output_loss: 0.5693 - aux_output_loss: 0.5719 - main_output_accuracy: 0.6897 - aux_output_accuracy: 0.6891 - val_loss: 0.6832 - val_main_output_loss: 0.5687 - val_aux_output_loss: 0.5723 - val_main_output_accuracy: 0.6882 - val_aux_output_accuracy: 0.6891\n",
      "Epoch 99/200\n",
      "297/297 - 4s - loss: 0.6854 - main_output_loss: 0.5708 - aux_output_loss: 0.5730 - main_output_accuracy: 0.6864 - aux_output_accuracy: 0.6867 - val_loss: 0.6817 - val_main_output_loss: 0.5675 - val_aux_output_loss: 0.5713 - val_main_output_accuracy: 0.6913 - val_aux_output_accuracy: 0.6900\n",
      "Epoch 100/200\n",
      "297/297 - 4s - loss: 0.6837 - main_output_loss: 0.5694 - aux_output_loss: 0.5719 - main_output_accuracy: 0.6860 - aux_output_accuracy: 0.6865 - val_loss: 0.6851 - val_main_output_loss: 0.5707 - val_aux_output_loss: 0.5722 - val_main_output_accuracy: 0.6897 - val_aux_output_accuracy: 0.6888\n",
      "Epoch 101/200\n",
      "297/297 - 4s - loss: 0.6832 - main_output_loss: 0.5689 - aux_output_loss: 0.5715 - main_output_accuracy: 0.6882 - aux_output_accuracy: 0.6876 - val_loss: 0.6817 - val_main_output_loss: 0.5679 - val_aux_output_loss: 0.5693 - val_main_output_accuracy: 0.6928 - val_aux_output_accuracy: 0.6929\n",
      "Epoch 102/200\n",
      "297/297 - 4s - loss: 0.6833 - main_output_loss: 0.5690 - aux_output_loss: 0.5716 - main_output_accuracy: 0.6884 - aux_output_accuracy: 0.6876 - val_loss: 0.6821 - val_main_output_loss: 0.5681 - val_aux_output_loss: 0.5703 - val_main_output_accuracy: 0.6921 - val_aux_output_accuracy: 0.6929\n",
      "Epoch 103/200\n",
      "297/297 - 4s - loss: 0.6833 - main_output_loss: 0.5690 - aux_output_loss: 0.5716 - main_output_accuracy: 0.6888 - aux_output_accuracy: 0.6888 - val_loss: 0.6824 - val_main_output_loss: 0.5682 - val_aux_output_loss: 0.5706 - val_main_output_accuracy: 0.6926 - val_aux_output_accuracy: 0.6914\n",
      "Epoch 104/200\n",
      "297/297 - 4s - loss: 0.6828 - main_output_loss: 0.5686 - aux_output_loss: 0.5711 - main_output_accuracy: 0.6885 - aux_output_accuracy: 0.6884 - val_loss: 0.6850 - val_main_output_loss: 0.5708 - val_aux_output_loss: 0.5713 - val_main_output_accuracy: 0.6920 - val_aux_output_accuracy: 0.6907\n",
      "Epoch 105/200\n",
      "297/297 - 4s - loss: 0.6825 - main_output_loss: 0.5683 - aux_output_loss: 0.5710 - main_output_accuracy: 0.6878 - aux_output_accuracy: 0.6885 - val_loss: 0.6790 - val_main_output_loss: 0.5652 - val_aux_output_loss: 0.5688 - val_main_output_accuracy: 0.6936 - val_aux_output_accuracy: 0.6942\n",
      "Epoch 106/200\n",
      "297/297 - 4s - loss: 0.6824 - main_output_loss: 0.5683 - aux_output_loss: 0.5708 - main_output_accuracy: 0.6902 - aux_output_accuracy: 0.6895 - val_loss: 0.6788 - val_main_output_loss: 0.5653 - val_aux_output_loss: 0.5675 - val_main_output_accuracy: 0.6925 - val_aux_output_accuracy: 0.6943\n",
      "Epoch 107/200\n",
      "297/297 - 4s - loss: 0.6819 - main_output_loss: 0.5678 - aux_output_loss: 0.5703 - main_output_accuracy: 0.6884 - aux_output_accuracy: 0.6889 - val_loss: 0.6796 - val_main_output_loss: 0.5658 - val_aux_output_loss: 0.5689 - val_main_output_accuracy: 0.6952 - val_aux_output_accuracy: 0.6950\n",
      "Epoch 108/200\n",
      "297/297 - 4s - loss: 0.6813 - main_output_loss: 0.5674 - aux_output_loss: 0.5699 - main_output_accuracy: 0.6886 - aux_output_accuracy: 0.6886 - val_loss: 0.6822 - val_main_output_loss: 0.5683 - val_aux_output_loss: 0.5697 - val_main_output_accuracy: 0.6923 - val_aux_output_accuracy: 0.6923\n",
      "Epoch 109/200\n",
      "297/297 - 4s - loss: 0.6808 - main_output_loss: 0.5668 - aux_output_loss: 0.5696 - main_output_accuracy: 0.6893 - aux_output_accuracy: 0.6891 - val_loss: 0.6788 - val_main_output_loss: 0.5650 - val_aux_output_loss: 0.5690 - val_main_output_accuracy: 0.6925 - val_aux_output_accuracy: 0.6926\n",
      "Epoch 110/200\n",
      "297/297 - 4s - loss: 0.6815 - main_output_loss: 0.5674 - aux_output_loss: 0.5701 - main_output_accuracy: 0.6906 - aux_output_accuracy: 0.6909 - val_loss: 0.6828 - val_main_output_loss: 0.5689 - val_aux_output_loss: 0.5695 - val_main_output_accuracy: 0.6915 - val_aux_output_accuracy: 0.6900\n",
      "Epoch 111/200\n",
      "297/297 - 4s - loss: 0.6807 - main_output_loss: 0.5669 - aux_output_loss: 0.5693 - main_output_accuracy: 0.6902 - aux_output_accuracy: 0.6905 - val_loss: 0.6782 - val_main_output_loss: 0.5647 - val_aux_output_loss: 0.5674 - val_main_output_accuracy: 0.6943 - val_aux_output_accuracy: 0.6936\n",
      "Epoch 112/200\n",
      "297/297 - 4s - loss: 0.6792 - main_output_loss: 0.5656 - aux_output_loss: 0.5682 - main_output_accuracy: 0.6926 - aux_output_accuracy: 0.6921 - val_loss: 0.6840 - val_main_output_loss: 0.5702 - val_aux_output_loss: 0.5691 - val_main_output_accuracy: 0.6919 - val_aux_output_accuracy: 0.6903\n",
      "Epoch 113/200\n",
      "297/297 - 4s - loss: 0.6797 - main_output_loss: 0.5659 - aux_output_loss: 0.5687 - main_output_accuracy: 0.6925 - aux_output_accuracy: 0.6929 - val_loss: 0.6798 - val_main_output_loss: 0.5658 - val_aux_output_loss: 0.5701 - val_main_output_accuracy: 0.6952 - val_aux_output_accuracy: 0.6954\n",
      "Epoch 114/200\n",
      "297/297 - 4s - loss: 0.6799 - main_output_loss: 0.5661 - aux_output_loss: 0.5687 - main_output_accuracy: 0.6911 - aux_output_accuracy: 0.6913 - val_loss: 0.6770 - val_main_output_loss: 0.5636 - val_aux_output_loss: 0.5671 - val_main_output_accuracy: 0.6950 - val_aux_output_accuracy: 0.6952\n",
      "Epoch 115/200\n",
      "297/297 - 4s - loss: 0.6778 - main_output_loss: 0.5644 - aux_output_loss: 0.5671 - main_output_accuracy: 0.6929 - aux_output_accuracy: 0.6931 - val_loss: 0.6779 - val_main_output_loss: 0.5643 - val_aux_output_loss: 0.5681 - val_main_output_accuracy: 0.6943 - val_aux_output_accuracy: 0.6936\n",
      "Epoch 116/200\n",
      "297/297 - 4s - loss: 0.6776 - main_output_loss: 0.5641 - aux_output_loss: 0.5673 - main_output_accuracy: 0.6940 - aux_output_accuracy: 0.6940 - val_loss: 0.6769 - val_main_output_loss: 0.5635 - val_aux_output_loss: 0.5670 - val_main_output_accuracy: 0.6961 - val_aux_output_accuracy: 0.6966\n",
      "Epoch 117/200\n",
      "297/297 - 5s - loss: 0.6777 - main_output_loss: 0.5643 - aux_output_loss: 0.5673 - main_output_accuracy: 0.6933 - aux_output_accuracy: 0.6934 - val_loss: 0.6808 - val_main_output_loss: 0.5668 - val_aux_output_loss: 0.5702 - val_main_output_accuracy: 0.6929 - val_aux_output_accuracy: 0.6918\n",
      "Epoch 118/200\n",
      "297/297 - 5s - loss: 0.6778 - main_output_loss: 0.5644 - aux_output_loss: 0.5671 - main_output_accuracy: 0.6943 - aux_output_accuracy: 0.6941 - val_loss: 0.6772 - val_main_output_loss: 0.5639 - val_aux_output_loss: 0.5666 - val_main_output_accuracy: 0.6938 - val_aux_output_accuracy: 0.6937\n",
      "Epoch 119/200\n",
      "297/297 - 5s - loss: 0.6770 - main_output_loss: 0.5637 - aux_output_loss: 0.5663 - main_output_accuracy: 0.6946 - aux_output_accuracy: 0.6953 - val_loss: 0.6857 - val_main_output_loss: 0.5719 - val_aux_output_loss: 0.5688 - val_main_output_accuracy: 0.6871 - val_aux_output_accuracy: 0.6905\n",
      "Epoch 120/200\n",
      "297/297 - 4s - loss: 0.6766 - main_output_loss: 0.5634 - aux_output_loss: 0.5660 - main_output_accuracy: 0.6933 - aux_output_accuracy: 0.6938 - val_loss: 0.6745 - val_main_output_loss: 0.5615 - val_aux_output_loss: 0.5651 - val_main_output_accuracy: 0.6964 - val_aux_output_accuracy: 0.6966\n",
      "Epoch 121/200\n",
      "297/297 - 4s - loss: 0.6759 - main_output_loss: 0.5627 - aux_output_loss: 0.5657 - main_output_accuracy: 0.6930 - aux_output_accuracy: 0.6927 - val_loss: 0.6745 - val_main_output_loss: 0.5619 - val_aux_output_loss: 0.5630 - val_main_output_accuracy: 0.6970 - val_aux_output_accuracy: 0.6972\n",
      "Epoch 122/200\n",
      "297/297 - 4s - loss: 0.6764 - main_output_loss: 0.5632 - aux_output_loss: 0.5658 - main_output_accuracy: 0.6932 - aux_output_accuracy: 0.6942 - val_loss: 0.6739 - val_main_output_loss: 0.5612 - val_aux_output_loss: 0.5635 - val_main_output_accuracy: 0.6959 - val_aux_output_accuracy: 0.6965\n",
      "Epoch 123/200\n",
      "297/297 - 5s - loss: 0.6753 - main_output_loss: 0.5623 - aux_output_loss: 0.5652 - main_output_accuracy: 0.6951 - aux_output_accuracy: 0.6956 - val_loss: 0.6746 - val_main_output_loss: 0.5618 - val_aux_output_loss: 0.5637 - val_main_output_accuracy: 0.6992 - val_aux_output_accuracy: 0.6991\n",
      "Epoch 124/200\n",
      "297/297 - 5s - loss: 0.6750 - main_output_loss: 0.5620 - aux_output_loss: 0.5649 - main_output_accuracy: 0.6971 - aux_output_accuracy: 0.6970 - val_loss: 0.6757 - val_main_output_loss: 0.5627 - val_aux_output_loss: 0.5651 - val_main_output_accuracy: 0.6968 - val_aux_output_accuracy: 0.6970\n",
      "Epoch 125/200\n",
      "297/297 - 5s - loss: 0.6757 - main_output_loss: 0.5628 - aux_output_loss: 0.5649 - main_output_accuracy: 0.6948 - aux_output_accuracy: 0.6958 - val_loss: 0.6802 - val_main_output_loss: 0.5666 - val_aux_output_loss: 0.5679 - val_main_output_accuracy: 0.6970 - val_aux_output_accuracy: 0.6974\n",
      "Epoch 126/200\n",
      "297/297 - 4s - loss: 0.6753 - main_output_loss: 0.5623 - aux_output_loss: 0.5647 - main_output_accuracy: 0.6945 - aux_output_accuracy: 0.6952 - val_loss: 0.6762 - val_main_output_loss: 0.5634 - val_aux_output_loss: 0.5641 - val_main_output_accuracy: 0.6929 - val_aux_output_accuracy: 0.6944\n",
      "Epoch 127/200\n",
      "297/297 - 5s - loss: 0.6738 - main_output_loss: 0.5610 - aux_output_loss: 0.5638 - main_output_accuracy: 0.6979 - aux_output_accuracy: 0.6976 - val_loss: 0.6738 - val_main_output_loss: 0.5611 - val_aux_output_loss: 0.5637 - val_main_output_accuracy: 0.6984 - val_aux_output_accuracy: 0.6981\n",
      "Epoch 128/200\n",
      "297/297 - 5s - loss: 0.6750 - main_output_loss: 0.5621 - aux_output_loss: 0.5647 - main_output_accuracy: 0.6946 - aux_output_accuracy: 0.6953 - val_loss: 0.6738 - val_main_output_loss: 0.5610 - val_aux_output_loss: 0.5639 - val_main_output_accuracy: 0.6980 - val_aux_output_accuracy: 0.6979\n",
      "Epoch 129/200\n",
      "297/297 - 4s - loss: 0.6733 - main_output_loss: 0.5606 - aux_output_loss: 0.5633 - main_output_accuracy: 0.6962 - aux_output_accuracy: 0.6969 - val_loss: 0.6755 - val_main_output_loss: 0.5623 - val_aux_output_loss: 0.5658 - val_main_output_accuracy: 0.6995 - val_aux_output_accuracy: 0.7005\n",
      "Epoch 130/200\n",
      "297/297 - 4s - loss: 0.6733 - main_output_loss: 0.5607 - aux_output_loss: 0.5631 - main_output_accuracy: 0.6981 - aux_output_accuracy: 0.6976 - val_loss: 0.6752 - val_main_output_loss: 0.5623 - val_aux_output_loss: 0.5648 - val_main_output_accuracy: 0.6930 - val_aux_output_accuracy: 0.6948\n",
      "Epoch 131/200\n",
      "297/297 - 5s - loss: 0.6729 - main_output_loss: 0.5604 - aux_output_loss: 0.5628 - main_output_accuracy: 0.6955 - aux_output_accuracy: 0.6958 - val_loss: 0.6731 - val_main_output_loss: 0.5608 - val_aux_output_loss: 0.5618 - val_main_output_accuracy: 0.7007 - val_aux_output_accuracy: 0.7008\n",
      "Epoch 132/200\n",
      "297/297 - 5s - loss: 0.6733 - main_output_loss: 0.5607 - aux_output_loss: 0.5631 - main_output_accuracy: 0.6964 - aux_output_accuracy: 0.6967 - val_loss: 0.6751 - val_main_output_loss: 0.5619 - val_aux_output_loss: 0.5659 - val_main_output_accuracy: 0.6990 - val_aux_output_accuracy: 0.6990\n",
      "Epoch 133/200\n",
      "297/297 - 5s - loss: 0.6728 - main_output_loss: 0.5603 - aux_output_loss: 0.5628 - main_output_accuracy: 0.6974 - aux_output_accuracy: 0.6983 - val_loss: 0.6708 - val_main_output_loss: 0.5586 - val_aux_output_loss: 0.5611 - val_main_output_accuracy: 0.6996 - val_aux_output_accuracy: 0.6999\n",
      "Epoch 134/200\n",
      "297/297 - 4s - loss: 0.6731 - main_output_loss: 0.5605 - aux_output_loss: 0.5627 - main_output_accuracy: 0.6967 - aux_output_accuracy: 0.6965 - val_loss: 0.6725 - val_main_output_loss: 0.5600 - val_aux_output_loss: 0.5624 - val_main_output_accuracy: 0.6980 - val_aux_output_accuracy: 0.6996\n",
      "Epoch 135/200\n",
      "297/297 - 4s - loss: 0.6718 - main_output_loss: 0.5594 - aux_output_loss: 0.5619 - main_output_accuracy: 0.6992 - aux_output_accuracy: 0.6993 - val_loss: 0.6731 - val_main_output_loss: 0.5606 - val_aux_output_loss: 0.5625 - val_main_output_accuracy: 0.6996 - val_aux_output_accuracy: 0.6990\n",
      "Epoch 136/200\n",
      "297/297 - 4s - loss: 0.6723 - main_output_loss: 0.5598 - aux_output_loss: 0.5623 - main_output_accuracy: 0.6982 - aux_output_accuracy: 0.6986 - val_loss: 0.6729 - val_main_output_loss: 0.5607 - val_aux_output_loss: 0.5608 - val_main_output_accuracy: 0.7016 - val_aux_output_accuracy: 0.7014\n",
      "Epoch 137/200\n",
      "297/297 - 4s - loss: 0.6712 - main_output_loss: 0.5589 - aux_output_loss: 0.5613 - main_output_accuracy: 0.6999 - aux_output_accuracy: 0.7004 - val_loss: 0.6704 - val_main_output_loss: 0.5584 - val_aux_output_loss: 0.5597 - val_main_output_accuracy: 0.7013 - val_aux_output_accuracy: 0.7007\n",
      "Epoch 138/200\n",
      "297/297 - 4s - loss: 0.6716 - main_output_loss: 0.5593 - aux_output_loss: 0.5615 - main_output_accuracy: 0.6982 - aux_output_accuracy: 0.6985 - val_loss: 0.6758 - val_main_output_loss: 0.5629 - val_aux_output_loss: 0.5645 - val_main_output_accuracy: 0.6990 - val_aux_output_accuracy: 0.6996\n",
      "Epoch 139/200\n",
      "297/297 - 4s - loss: 0.6722 - main_output_loss: 0.5598 - aux_output_loss: 0.5619 - main_output_accuracy: 0.6975 - aux_output_accuracy: 0.6975 - val_loss: 0.6709 - val_main_output_loss: 0.5586 - val_aux_output_loss: 0.5610 - val_main_output_accuracy: 0.6991 - val_aux_output_accuracy: 0.6987\n",
      "Epoch 140/200\n",
      "297/297 - 4s - loss: 0.6718 - main_output_loss: 0.5595 - aux_output_loss: 0.5615 - main_output_accuracy: 0.6982 - aux_output_accuracy: 0.6987 - val_loss: 0.6750 - val_main_output_loss: 0.5619 - val_aux_output_loss: 0.5654 - val_main_output_accuracy: 0.6999 - val_aux_output_accuracy: 0.7000\n",
      "Epoch 141/200\n",
      "297/297 - 4s - loss: 0.6705 - main_output_loss: 0.5583 - aux_output_loss: 0.5609 - main_output_accuracy: 0.6990 - aux_output_accuracy: 0.6990 - val_loss: 0.6796 - val_main_output_loss: 0.5667 - val_aux_output_loss: 0.5647 - val_main_output_accuracy: 0.6937 - val_aux_output_accuracy: 0.6954\n",
      "Epoch 142/200\n",
      "297/297 - 4s - loss: 0.6709 - main_output_loss: 0.5587 - aux_output_loss: 0.5609 - main_output_accuracy: 0.6983 - aux_output_accuracy: 0.6985 - val_loss: 0.6712 - val_main_output_loss: 0.5587 - val_aux_output_loss: 0.5622 - val_main_output_accuracy: 0.7012 - val_aux_output_accuracy: 0.7013\n",
      "Epoch 143/200\n",
      "297/297 - 4s - loss: 0.6696 - main_output_loss: 0.5576 - aux_output_loss: 0.5601 - main_output_accuracy: 0.7002 - aux_output_accuracy: 0.7008 - val_loss: 0.6728 - val_main_output_loss: 0.5604 - val_aux_output_loss: 0.5619 - val_main_output_accuracy: 0.7014 - val_aux_output_accuracy: 0.7011\n",
      "Epoch 144/200\n",
      "297/297 - 4s - loss: 0.6699 - main_output_loss: 0.5579 - aux_output_loss: 0.5602 - main_output_accuracy: 0.6992 - aux_output_accuracy: 0.7006 - val_loss: 0.6725 - val_main_output_loss: 0.5602 - val_aux_output_loss: 0.5616 - val_main_output_accuracy: 0.6993 - val_aux_output_accuracy: 0.6987\n",
      "Epoch 145/200\n",
      "297/297 - 4s - loss: 0.6695 - main_output_loss: 0.5575 - aux_output_loss: 0.5598 - main_output_accuracy: 0.6990 - aux_output_accuracy: 0.6992 - val_loss: 0.6721 - val_main_output_loss: 0.5597 - val_aux_output_loss: 0.5618 - val_main_output_accuracy: 0.7008 - val_aux_output_accuracy: 0.7019\n",
      "Epoch 146/200\n",
      "297/297 - 4s - loss: 0.6705 - main_output_loss: 0.5584 - aux_output_loss: 0.5605 - main_output_accuracy: 0.6993 - aux_output_accuracy: 0.6985 - val_loss: 0.6684 - val_main_output_loss: 0.5566 - val_aux_output_loss: 0.5590 - val_main_output_accuracy: 0.7010 - val_aux_output_accuracy: 0.7014\n",
      "Epoch 147/200\n",
      "297/297 - 4s - loss: 0.6688 - main_output_loss: 0.5569 - aux_output_loss: 0.5594 - main_output_accuracy: 0.6998 - aux_output_accuracy: 0.6997 - val_loss: 0.6800 - val_main_output_loss: 0.5672 - val_aux_output_loss: 0.5642 - val_main_output_accuracy: 0.6947 - val_aux_output_accuracy: 0.6959\n",
      "Epoch 148/200\n",
      "297/297 - 4s - loss: 0.6697 - main_output_loss: 0.5577 - aux_output_loss: 0.5598 - main_output_accuracy: 0.6984 - aux_output_accuracy: 0.6988 - val_loss: 0.6690 - val_main_output_loss: 0.5572 - val_aux_output_loss: 0.5588 - val_main_output_accuracy: 0.7002 - val_aux_output_accuracy: 0.7000\n",
      "Epoch 149/200\n",
      "297/297 - 4s - loss: 0.6698 - main_output_loss: 0.5578 - aux_output_loss: 0.5597 - main_output_accuracy: 0.7007 - aux_output_accuracy: 0.7011 - val_loss: 0.6735 - val_main_output_loss: 0.5610 - val_aux_output_loss: 0.5626 - val_main_output_accuracy: 0.7010 - val_aux_output_accuracy: 0.7020\n",
      "Epoch 150/200\n",
      "297/297 - 4s - loss: 0.6689 - main_output_loss: 0.5571 - aux_output_loss: 0.5592 - main_output_accuracy: 0.7026 - aux_output_accuracy: 0.7023 - val_loss: 0.6703 - val_main_output_loss: 0.5582 - val_aux_output_loss: 0.5604 - val_main_output_accuracy: 0.7002 - val_aux_output_accuracy: 0.7009\n",
      "Epoch 151/200\n",
      "297/297 - 4s - loss: 0.6684 - main_output_loss: 0.5566 - aux_output_loss: 0.5587 - main_output_accuracy: 0.7008 - aux_output_accuracy: 0.7009 - val_loss: 0.6684 - val_main_output_loss: 0.5567 - val_aux_output_loss: 0.5583 - val_main_output_accuracy: 0.7006 - val_aux_output_accuracy: 0.7021\n",
      "Epoch 152/200\n",
      "297/297 - 4s - loss: 0.6675 - main_output_loss: 0.5559 - aux_output_loss: 0.5582 - main_output_accuracy: 0.7004 - aux_output_accuracy: 0.7007 - val_loss: 0.6721 - val_main_output_loss: 0.5598 - val_aux_output_loss: 0.5616 - val_main_output_accuracy: 0.7006 - val_aux_output_accuracy: 0.7008\n",
      "Epoch 153/200\n",
      "297/297 - 4s - loss: 0.6681 - main_output_loss: 0.5565 - aux_output_loss: 0.5582 - main_output_accuracy: 0.7008 - aux_output_accuracy: 0.7008 - val_loss: 0.6688 - val_main_output_loss: 0.5568 - val_aux_output_loss: 0.5601 - val_main_output_accuracy: 0.7005 - val_aux_output_accuracy: 0.7018\n",
      "Epoch 154/200\n",
      "297/297 - 5s - loss: 0.6684 - main_output_loss: 0.5567 - aux_output_loss: 0.5585 - main_output_accuracy: 0.7022 - aux_output_accuracy: 0.7021 - val_loss: 0.6679 - val_main_output_loss: 0.5562 - val_aux_output_loss: 0.5583 - val_main_output_accuracy: 0.7035 - val_aux_output_accuracy: 0.7035\n",
      "Epoch 155/200\n",
      "297/297 - 4s - loss: 0.6675 - main_output_loss: 0.5559 - aux_output_loss: 0.5581 - main_output_accuracy: 0.7014 - aux_output_accuracy: 0.7011 - val_loss: 0.6703 - val_main_output_loss: 0.5585 - val_aux_output_loss: 0.5592 - val_main_output_accuracy: 0.7015 - val_aux_output_accuracy: 0.7023\n",
      "Epoch 156/200\n",
      "297/297 - 4s - loss: 0.6681 - main_output_loss: 0.5565 - aux_output_loss: 0.5581 - main_output_accuracy: 0.6998 - aux_output_accuracy: 0.6997 - val_loss: 0.6707 - val_main_output_loss: 0.5586 - val_aux_output_loss: 0.5605 - val_main_output_accuracy: 0.7025 - val_aux_output_accuracy: 0.7030\n",
      "Epoch 157/200\n",
      "297/297 - 4s - loss: 0.6678 - main_output_loss: 0.5562 - aux_output_loss: 0.5579 - main_output_accuracy: 0.7034 - aux_output_accuracy: 0.7038 - val_loss: 0.6698 - val_main_output_loss: 0.5578 - val_aux_output_loss: 0.5597 - val_main_output_accuracy: 0.7033 - val_aux_output_accuracy: 0.7030\n",
      "Epoch 158/200\n",
      "297/297 - 4s - loss: 0.6669 - main_output_loss: 0.5555 - aux_output_loss: 0.5574 - main_output_accuracy: 0.7026 - aux_output_accuracy: 0.7024 - val_loss: 0.6697 - val_main_output_loss: 0.5578 - val_aux_output_loss: 0.5592 - val_main_output_accuracy: 0.7045 - val_aux_output_accuracy: 0.7045\n",
      "Epoch 159/200\n",
      "297/297 - 4s - loss: 0.6671 - main_output_loss: 0.5556 - aux_output_loss: 0.5574 - main_output_accuracy: 0.7027 - aux_output_accuracy: 0.7026 - val_loss: 0.6679 - val_main_output_loss: 0.5560 - val_aux_output_loss: 0.5594 - val_main_output_accuracy: 0.7042 - val_aux_output_accuracy: 0.7041\n",
      "Epoch 160/200\n",
      "297/297 - 4s - loss: 0.6667 - main_output_loss: 0.5553 - aux_output_loss: 0.5573 - main_output_accuracy: 0.7038 - aux_output_accuracy: 0.7038 - val_loss: 0.6685 - val_main_output_loss: 0.5570 - val_aux_output_loss: 0.5575 - val_main_output_accuracy: 0.7041 - val_aux_output_accuracy: 0.7032\n",
      "Epoch 161/200\n",
      "297/297 - 5s - loss: 0.6672 - main_output_loss: 0.5558 - aux_output_loss: 0.5575 - main_output_accuracy: 0.7022 - aux_output_accuracy: 0.7022 - val_loss: 0.6681 - val_main_output_loss: 0.5566 - val_aux_output_loss: 0.5577 - val_main_output_accuracy: 0.7008 - val_aux_output_accuracy: 0.7031\n",
      "Epoch 162/200\n",
      "297/297 - 5s - loss: 0.6675 - main_output_loss: 0.5561 - aux_output_loss: 0.5574 - main_output_accuracy: 0.7009 - aux_output_accuracy: 0.7016 - val_loss: 0.6694 - val_main_output_loss: 0.5574 - val_aux_output_loss: 0.5600 - val_main_output_accuracy: 0.7043 - val_aux_output_accuracy: 0.7044\n",
      "Epoch 163/200\n",
      "297/297 - 5s - loss: 0.6656 - main_output_loss: 0.5544 - aux_output_loss: 0.5561 - main_output_accuracy: 0.7035 - aux_output_accuracy: 0.7029 - val_loss: 0.6686 - val_main_output_loss: 0.5567 - val_aux_output_loss: 0.5595 - val_main_output_accuracy: 0.7032 - val_aux_output_accuracy: 0.7019\n",
      "Epoch 164/200\n",
      "297/297 - 5s - loss: 0.6666 - main_output_loss: 0.5552 - aux_output_loss: 0.5566 - main_output_accuracy: 0.7018 - aux_output_accuracy: 0.7016 - val_loss: 0.6660 - val_main_output_loss: 0.5547 - val_aux_output_loss: 0.5568 - val_main_output_accuracy: 0.7033 - val_aux_output_accuracy: 0.7036\n",
      "Epoch 165/200\n",
      "297/297 - 5s - loss: 0.6661 - main_output_loss: 0.5548 - aux_output_loss: 0.5565 - main_output_accuracy: 0.7026 - aux_output_accuracy: 0.7030 - val_loss: 0.6662 - val_main_output_loss: 0.5549 - val_aux_output_loss: 0.5567 - val_main_output_accuracy: 0.7042 - val_aux_output_accuracy: 0.7027\n",
      "Epoch 166/200\n",
      "297/297 - 5s - loss: 0.6658 - main_output_loss: 0.5546 - aux_output_loss: 0.5561 - main_output_accuracy: 0.7034 - aux_output_accuracy: 0.7040 - val_loss: 0.6672 - val_main_output_loss: 0.5560 - val_aux_output_loss: 0.5560 - val_main_output_accuracy: 0.7058 - val_aux_output_accuracy: 0.7061\n",
      "Epoch 167/200\n",
      "297/297 - 5s - loss: 0.6656 - main_output_loss: 0.5544 - aux_output_loss: 0.5557 - main_output_accuracy: 0.7028 - aux_output_accuracy: 0.7032 - val_loss: 0.6717 - val_main_output_loss: 0.5598 - val_aux_output_loss: 0.5595 - val_main_output_accuracy: 0.6977 - val_aux_output_accuracy: 0.6999\n",
      "Epoch 168/200\n",
      "297/297 - 5s - loss: 0.6654 - main_output_loss: 0.5542 - aux_output_loss: 0.5558 - main_output_accuracy: 0.7040 - aux_output_accuracy: 0.7042 - val_loss: 0.6674 - val_main_output_loss: 0.5560 - val_aux_output_loss: 0.5569 - val_main_output_accuracy: 0.7024 - val_aux_output_accuracy: 0.7024\n",
      "Epoch 169/200\n",
      "297/297 - 5s - loss: 0.6651 - main_output_loss: 0.5539 - aux_output_loss: 0.5556 - main_output_accuracy: 0.7031 - aux_output_accuracy: 0.7032 - val_loss: 0.6674 - val_main_output_loss: 0.5559 - val_aux_output_loss: 0.5577 - val_main_output_accuracy: 0.7023 - val_aux_output_accuracy: 0.7037\n",
      "Epoch 170/200\n",
      "297/297 - 5s - loss: 0.6651 - main_output_loss: 0.5539 - aux_output_loss: 0.5556 - main_output_accuracy: 0.7025 - aux_output_accuracy: 0.7031 - val_loss: 0.6734 - val_main_output_loss: 0.5611 - val_aux_output_loss: 0.5618 - val_main_output_accuracy: 0.6991 - val_aux_output_accuracy: 0.6997\n",
      "Epoch 171/200\n",
      "297/297 - 5s - loss: 0.6645 - main_output_loss: 0.5535 - aux_output_loss: 0.5549 - main_output_accuracy: 0.7039 - aux_output_accuracy: 0.7038 - val_loss: 0.6692 - val_main_output_loss: 0.5572 - val_aux_output_loss: 0.5600 - val_main_output_accuracy: 0.7036 - val_aux_output_accuracy: 0.7041\n",
      "Epoch 172/200\n",
      "297/297 - 5s - loss: 0.6648 - main_output_loss: 0.5537 - aux_output_loss: 0.5552 - main_output_accuracy: 0.7023 - aux_output_accuracy: 0.7026 - val_loss: 0.6676 - val_main_output_loss: 0.5561 - val_aux_output_loss: 0.5574 - val_main_output_accuracy: 0.7030 - val_aux_output_accuracy: 0.7032\n",
      "Epoch 173/200\n",
      "297/297 - 5s - loss: 0.6651 - main_output_loss: 0.5540 - aux_output_loss: 0.5554 - main_output_accuracy: 0.7032 - aux_output_accuracy: 0.7032 - val_loss: 0.6655 - val_main_output_loss: 0.5543 - val_aux_output_loss: 0.5562 - val_main_output_accuracy: 0.7043 - val_aux_output_accuracy: 0.7044\n",
      "Epoch 174/200\n",
      "297/297 - 4s - loss: 0.6657 - main_output_loss: 0.5546 - aux_output_loss: 0.5556 - main_output_accuracy: 0.7034 - aux_output_accuracy: 0.7024 - val_loss: 0.6687 - val_main_output_loss: 0.5570 - val_aux_output_loss: 0.5581 - val_main_output_accuracy: 0.7024 - val_aux_output_accuracy: 0.7030\n",
      "Epoch 175/200\n",
      "297/297 - 4s - loss: 0.6648 - main_output_loss: 0.5538 - aux_output_loss: 0.5550 - main_output_accuracy: 0.7046 - aux_output_accuracy: 0.7042 - val_loss: 0.6675 - val_main_output_loss: 0.5559 - val_aux_output_loss: 0.5580 - val_main_output_accuracy: 0.7044 - val_aux_output_accuracy: 0.7045\n",
      "Epoch 176/200\n",
      "297/297 - 4s - loss: 0.6641 - main_output_loss: 0.5532 - aux_output_loss: 0.5546 - main_output_accuracy: 0.7043 - aux_output_accuracy: 0.7042 - val_loss: 0.6639 - val_main_output_loss: 0.5532 - val_aux_output_loss: 0.5537 - val_main_output_accuracy: 0.7046 - val_aux_output_accuracy: 0.7048\n",
      "Epoch 177/200\n",
      "297/297 - 5s - loss: 0.6643 - main_output_loss: 0.5534 - aux_output_loss: 0.5547 - main_output_accuracy: 0.7051 - aux_output_accuracy: 0.7043 - val_loss: 0.6682 - val_main_output_loss: 0.5565 - val_aux_output_loss: 0.5583 - val_main_output_accuracy: 0.7036 - val_aux_output_accuracy: 0.7038\n",
      "Epoch 178/200\n",
      "297/297 - 5s - loss: 0.6638 - main_output_loss: 0.5529 - aux_output_loss: 0.5544 - main_output_accuracy: 0.7026 - aux_output_accuracy: 0.7026 - val_loss: 0.6692 - val_main_output_loss: 0.5576 - val_aux_output_loss: 0.5579 - val_main_output_accuracy: 0.7035 - val_aux_output_accuracy: 0.7052\n",
      "Epoch 179/200\n",
      "297/297 - 4s - loss: 0.6644 - main_output_loss: 0.5535 - aux_output_loss: 0.5548 - main_output_accuracy: 0.7019 - aux_output_accuracy: 0.7023 - val_loss: 0.6680 - val_main_output_loss: 0.5567 - val_aux_output_loss: 0.5564 - val_main_output_accuracy: 0.6990 - val_aux_output_accuracy: 0.6989\n",
      "Epoch 180/200\n",
      "297/297 - 4s - loss: 0.6638 - main_output_loss: 0.5529 - aux_output_loss: 0.5542 - main_output_accuracy: 0.7046 - aux_output_accuracy: 0.7048 - val_loss: 0.6681 - val_main_output_loss: 0.5564 - val_aux_output_loss: 0.5581 - val_main_output_accuracy: 0.7000 - val_aux_output_accuracy: 0.7009\n",
      "Epoch 181/200\n",
      "297/297 - 4s - loss: 0.6626 - main_output_loss: 0.5519 - aux_output_loss: 0.5534 - main_output_accuracy: 0.7045 - aux_output_accuracy: 0.7051 - val_loss: 0.6652 - val_main_output_loss: 0.5542 - val_aux_output_loss: 0.5549 - val_main_output_accuracy: 0.7039 - val_aux_output_accuracy: 0.7039\n",
      "Epoch 182/200\n",
      "297/297 - 4s - loss: 0.6636 - main_output_loss: 0.5528 - aux_output_loss: 0.5541 - main_output_accuracy: 0.7051 - aux_output_accuracy: 0.7056 - val_loss: 0.6670 - val_main_output_loss: 0.5557 - val_aux_output_loss: 0.5568 - val_main_output_accuracy: 0.7030 - val_aux_output_accuracy: 0.7040\n",
      "Epoch 183/200\n",
      "297/297 - 5s - loss: 0.6630 - main_output_loss: 0.5523 - aux_output_loss: 0.5537 - main_output_accuracy: 0.7051 - aux_output_accuracy: 0.7057 - val_loss: 0.6663 - val_main_output_loss: 0.5551 - val_aux_output_loss: 0.5561 - val_main_output_accuracy: 0.7036 - val_aux_output_accuracy: 0.7044\n",
      "Epoch 184/200\n",
      "297/297 - 4s - loss: 0.6640 - main_output_loss: 0.5531 - aux_output_loss: 0.5543 - main_output_accuracy: 0.7053 - aux_output_accuracy: 0.7057 - val_loss: 0.6656 - val_main_output_loss: 0.5544 - val_aux_output_loss: 0.5559 - val_main_output_accuracy: 0.7030 - val_aux_output_accuracy: 0.7030\n",
      "Epoch 185/200\n",
      "297/297 - 4s - loss: 0.6633 - main_output_loss: 0.5525 - aux_output_loss: 0.5539 - main_output_accuracy: 0.7044 - aux_output_accuracy: 0.7050 - val_loss: 0.6667 - val_main_output_loss: 0.5555 - val_aux_output_loss: 0.5562 - val_main_output_accuracy: 0.7037 - val_aux_output_accuracy: 0.7036\n",
      "Epoch 186/200\n",
      "297/297 - 4s - loss: 0.6636 - main_output_loss: 0.5528 - aux_output_loss: 0.5539 - main_output_accuracy: 0.7042 - aux_output_accuracy: 0.7048 - val_loss: 0.6739 - val_main_output_loss: 0.5614 - val_aux_output_loss: 0.5624 - val_main_output_accuracy: 0.6998 - val_aux_output_accuracy: 0.6999\n",
      "Epoch 187/200\n",
      "297/297 - 4s - loss: 0.6630 - main_output_loss: 0.5523 - aux_output_loss: 0.5534 - main_output_accuracy: 0.7042 - aux_output_accuracy: 0.7046 - val_loss: 0.6654 - val_main_output_loss: 0.5542 - val_aux_output_loss: 0.5561 - val_main_output_accuracy: 0.7043 - val_aux_output_accuracy: 0.7037\n",
      "Epoch 188/200\n",
      "297/297 - 4s - loss: 0.6630 - main_output_loss: 0.5523 - aux_output_loss: 0.5535 - main_output_accuracy: 0.7058 - aux_output_accuracy: 0.7059 - val_loss: 0.6643 - val_main_output_loss: 0.5534 - val_aux_output_loss: 0.5544 - val_main_output_accuracy: 0.7046 - val_aux_output_accuracy: 0.7050\n",
      "Epoch 189/200\n",
      "297/297 - 4s - loss: 0.6636 - main_output_loss: 0.5528 - aux_output_loss: 0.5539 - main_output_accuracy: 0.7049 - aux_output_accuracy: 0.7042 - val_loss: 0.6645 - val_main_output_loss: 0.5536 - val_aux_output_loss: 0.5546 - val_main_output_accuracy: 0.7044 - val_aux_output_accuracy: 0.7041\n",
      "Epoch 190/200\n",
      "297/297 - 4s - loss: 0.6625 - main_output_loss: 0.5519 - aux_output_loss: 0.5531 - main_output_accuracy: 0.7052 - aux_output_accuracy: 0.7054 - val_loss: 0.6670 - val_main_output_loss: 0.5556 - val_aux_output_loss: 0.5574 - val_main_output_accuracy: 0.7025 - val_aux_output_accuracy: 0.7027\n",
      "Epoch 191/200\n",
      "297/297 - 4s - loss: 0.6627 - main_output_loss: 0.5521 - aux_output_loss: 0.5532 - main_output_accuracy: 0.7051 - aux_output_accuracy: 0.7050 - val_loss: 0.6683 - val_main_output_loss: 0.5566 - val_aux_output_loss: 0.5586 - val_main_output_accuracy: 0.7045 - val_aux_output_accuracy: 0.7044\n",
      "Epoch 192/200\n",
      "297/297 - 4s - loss: 0.6635 - main_output_loss: 0.5528 - aux_output_loss: 0.5539 - main_output_accuracy: 0.7045 - aux_output_accuracy: 0.7046 - val_loss: 0.6704 - val_main_output_loss: 0.5590 - val_aux_output_loss: 0.5570 - val_main_output_accuracy: 0.6971 - val_aux_output_accuracy: 0.6987\n",
      "Epoch 193/200\n",
      "297/297 - 4s - loss: 0.6632 - main_output_loss: 0.5525 - aux_output_loss: 0.5533 - main_output_accuracy: 0.7051 - aux_output_accuracy: 0.7051 - val_loss: 0.6663 - val_main_output_loss: 0.5553 - val_aux_output_loss: 0.5548 - val_main_output_accuracy: 0.7029 - val_aux_output_accuracy: 0.7044\n",
      "Epoch 194/200\n",
      "297/297 - 4s - loss: 0.6631 - main_output_loss: 0.5524 - aux_output_loss: 0.5533 - main_output_accuracy: 0.7049 - aux_output_accuracy: 0.7049 - val_loss: 0.6671 - val_main_output_loss: 0.5559 - val_aux_output_loss: 0.5560 - val_main_output_accuracy: 0.7036 - val_aux_output_accuracy: 0.7033\n",
      "Epoch 195/200\n",
      "297/297 - 4s - loss: 0.6620 - main_output_loss: 0.5515 - aux_output_loss: 0.5525 - main_output_accuracy: 0.7056 - aux_output_accuracy: 0.7057 - val_loss: 0.6699 - val_main_output_loss: 0.5582 - val_aux_output_loss: 0.5585 - val_main_output_accuracy: 0.7030 - val_aux_output_accuracy: 0.7028\n",
      "Epoch 196/200\n",
      "297/297 - 4s - loss: 0.6632 - main_output_loss: 0.5525 - aux_output_loss: 0.5534 - main_output_accuracy: 0.7075 - aux_output_accuracy: 0.7073 - val_loss: 0.6655 - val_main_output_loss: 0.5543 - val_aux_output_loss: 0.5560 - val_main_output_accuracy: 0.7049 - val_aux_output_accuracy: 0.7050\n",
      "Epoch 197/200\n",
      "297/297 - 4s - loss: 0.6625 - main_output_loss: 0.5519 - aux_output_loss: 0.5530 - main_output_accuracy: 0.7046 - aux_output_accuracy: 0.7044 - val_loss: 0.6652 - val_main_output_loss: 0.5541 - val_aux_output_loss: 0.5555 - val_main_output_accuracy: 0.7037 - val_aux_output_accuracy: 0.7024\n",
      "Epoch 198/200\n",
      "297/297 - 4s - loss: 0.6620 - main_output_loss: 0.5515 - aux_output_loss: 0.5527 - main_output_accuracy: 0.7061 - aux_output_accuracy: 0.7063 - val_loss: 0.6652 - val_main_output_loss: 0.5542 - val_aux_output_loss: 0.5552 - val_main_output_accuracy: 0.7028 - val_aux_output_accuracy: 0.7025\n",
      "Epoch 199/200\n",
      "297/297 - 4s - loss: 0.6622 - main_output_loss: 0.5517 - aux_output_loss: 0.5527 - main_output_accuracy: 0.7050 - aux_output_accuracy: 0.7052 - val_loss: 0.6643 - val_main_output_loss: 0.5534 - val_aux_output_loss: 0.5546 - val_main_output_accuracy: 0.7030 - val_aux_output_accuracy: 0.7021\n",
      "Epoch 200/200\n",
      "297/297 - 4s - loss: 0.6623 - main_output_loss: 0.5518 - aux_output_loss: 0.5527 - main_output_accuracy: 0.7046 - aux_output_accuracy: 0.7050 - val_loss: 0.6710 - val_main_output_loss: 0.5589 - val_aux_output_loss: 0.5602 - val_main_output_accuracy: 0.6996 - val_aux_output_accuracy: 0.6997\n",
      "\n",
      "Time taken for model to run:  884.2720699310303\n"
     ]
    }
   ],
   "source": [
    "start_time = time.time()\n",
    "\n",
    "history = model.fit([np.asanyarray(X_train_peptide), np.asarray([1]*X_train_peptide.shape[0])], \n",
    "                    [np.asanyarray(y_train), np.asanyarray(y_train)], \n",
    "                    validation_data = ([np.asarray(X_val_peptide), np.asarray([1]*X_val_peptide.shape[0])], \n",
    "                                       [np.asarray(y_val), np.asarray(y_val)]), \n",
    "                    epochs=200, batch_size=134, verbose=2)\n",
    "\n",
    "print(\"\")\n",
    "print(\"Time taken for model to run: \", time.time() - start_time)"
   ]
  },
  {
   "cell_type": "code",
   "execution_count": 81,
   "id": "0cf5a86b-953b-4571-88fd-b386c29985dd",
   "metadata": {},
   "outputs": [
    {
     "name": "stderr",
     "output_type": "stream",
     "text": [
      "WARNING:absl:Found untraced functions such as embedding_4_layer_call_fn, embedding_4_layer_call_and_return_conditional_losses, embedding_5_layer_call_fn, embedding_5_layer_call_and_return_conditional_losses, multi_head_self_attention_2_layer_call_fn while saving (showing 5 of 55). These functions will not be directly callable after loading.\n"
     ]
    },
    {
     "name": "stdout",
     "output_type": "stream",
     "text": [
      "INFO:tensorflow:Assets written to: final_models/M1_seq\\assets\n"
     ]
    },
    {
     "name": "stderr",
     "output_type": "stream",
     "text": [
      "INFO:tensorflow:Assets written to: final_models/M1_seq\\assets\n"
     ]
    }
   ],
   "source": [
    "# save model\n",
    "history.model.save(\"final_models/M1_seq\")"
   ]
  },
  {
   "cell_type": "markdown",
   "id": "0dc25786-7926-467b-8de0-7941a8a8d4d1",
   "metadata": {},
   "source": [
    "## Plot results"
   ]
  },
  {
   "cell_type": "code",
   "execution_count": 61,
   "id": "705d84cc-0186-4a35-9d19-0fddc7b89fe9",
   "metadata": {},
   "outputs": [],
   "source": [
    "history_dict = history.history\n",
    "history_dict.keys()\n",
    "\n",
    "# save to df\n",
    "df_acc = pd.DataFrame({'Loss': history_dict['loss'], 'main_output_loss': history_dict['main_output_loss'], 'aux_output_loss': history_dict['aux_output_loss'], \n",
    "                      'main_output_accuracy': history_dict['main_output_accuracy'], 'aux_output_accuracy': history_dict['aux_output_accuracy'], \n",
    "                      'val_loss': history_dict['val_loss'], 'val_main_output_loss': history_dict['val_main_output_loss'], 'val_aux_output_loss': history_dict['val_aux_output_loss'],\n",
    "                      'val_main_output_accuracy': history_dict['val_main_output_accuracy'], 'val_aux_output_accuracy': history_dict['val_aux_output_accuracy']})"
   ]
  },
  {
   "cell_type": "code",
   "execution_count": 62,
   "id": "b55939ae-0598-4c30-ab13-ea3d56098d4d",
   "metadata": {},
   "outputs": [],
   "source": [
    "df_acc.to_csv('final_data/M1_seq_train_134b_200epoch.tsv', sep='\\t', index=False)"
   ]
  },
  {
   "cell_type": "code",
   "execution_count": 63,
   "id": "787cbbc3-809e-4476-b4ec-8341f8797bbb",
   "metadata": {},
   "outputs": [
    {
     "data": {
      "image/png": "[encoded data removed]",
      "text/plain": [
       "<Figure size 432x288 with 1 Axes>"
      ]
     },
     "metadata": {
      "needs_background": "light"
     },
     "output_type": "display_data"
    }
   ],
   "source": [
    "# plot training and validation loss\n",
    "import matplotlib.pyplot as plt\n",
    "\n",
    "train_loss = history_dict['main_output_loss']\n",
    "val_loss = history_dict['val_main_output_loss']\n",
    "\n",
    "acc = history_dict['main_output_accuracy']\n",
    "epochs = range(1, len(acc) + 1)\n",
    "\n",
    "plt.plot(epochs, train_loss, 'r', label='Training loss')\n",
    "plt.plot(epochs, val_loss, 'b', label='Validation loss')\n",
    "plt.title('Training and validation loss (sequence)')\n",
    "plt.xlabel('Epochs')\n",
    "plt.ylabel('Loss')\n",
    "plt.legend()\n",
    "plt.savefig('final_figures/M1_seq_train_val_loss_134b_200ep', dpi=400)\n",
    "plt.show()"
   ]
  },
  {
   "cell_type": "code",
   "execution_count": 64,
   "id": "33667e54-8c16-4353-b98d-07ce4bc5ee98",
   "metadata": {},
   "outputs": [
    {
     "data": {
      "image/png": "[encoded data removed]",
      "text/plain": [
       "<Figure size 432x288 with 1 Axes>"
      ]
     },
     "metadata": {
      "needs_background": "light"
     },
     "output_type": "display_data"
    }
   ],
   "source": [
    "# plot training and validation accuracy\n",
    "plt.clf()\n",
    "train_acc = history_dict['main_output_accuracy']\n",
    "val_acc = history_dict['val_main_output_accuracy']\n",
    "\n",
    "acc = history_dict['main_output_accuracy']\n",
    "epochs = range(1, len(acc) + 1)\n",
    "\n",
    "plt.plot(epochs, train_acc, 'r', label='Training acc')\n",
    "plt.plot(epochs, val_acc, 'b', label='Validation acc')\n",
    "plt.title('Training and validation accuracy (sequence)')\n",
    "plt.xlabel('Epochs')\n",
    "plt.ylabel('Accuracy')\n",
    "plt.legend()\n",
    "plt.savefig('final_figures/M1_seq_train_val_acc_134b_200ep', dpi=400)\n",
    "plt.show()"
   ]
  },
  {
   "cell_type": "markdown",
   "id": "61f92716-3976-4ae3-b6fb-a6a555adfc4f",
   "metadata": {},
   "source": [
    "## Model evaluation"
   ]
  },
  {
   "cell_type": "code",
   "execution_count": 65,
   "id": "5d67242d-2f6a-44dc-911a-bcf58f3fe09d",
   "metadata": {},
   "outputs": [
    {
     "name": "stdout",
     "output_type": "stream",
     "text": [
      "1242/1242 [==============================] - ETA: 0s - loss: 0.6624 - main_output_loss: 0.5518 - aux_output_loss: 0.5529 - main_output_accuracy: 0.7053 - aux_output_accuracy: 0.706 - 3s 3ms/step - loss: 0.6619 - main_output_loss: 0.5514 - aux_output_loss: 0.5525 - main_output_accuracy: 0.7057 - aux_output_accuracy: 0.7066\n",
      "main_output_loss: 55.14%\n",
      "main_output_accuracy: 70.57%\n"
     ]
    }
   ],
   "source": [
    "# train set\n",
    "train_results = model.evaluate([np.asarray(X_train_peptide), np.asarray([1]*X_train_peptide.shape[0])], \n",
    "                               [np.asarray(y_train), np.asarray(y_train)])\n",
    "\n",
    "print(\"%s: %.2f%%\" % (model.metrics_names[1], train_results[1]*100))\n",
    "print(\"%s: %.2f%%\" % (model.metrics_names[3], train_results[3]*100))"
   ]
  },
  {
   "cell_type": "code",
   "execution_count": 66,
   "id": "a850bd60-d981-425b-9f64-d56be872ed79",
   "metadata": {},
   "outputs": [
    {
     "name": "stdout",
     "output_type": "stream",
     "text": [
      "414/414 [==============================] - 1s 3ms/step - loss: 0.6710 - main_output_loss: 0.5589 - aux_output_loss: 0.5602 - main_output_accuracy: 0.6996 - aux_output_accuracy: 0.6997\n",
      "main_output_loss: 55.89%\n",
      "main_output_accuracy: 69.96%\n"
     ]
    }
   ],
   "source": [
    "# validation set\n",
    "val_results = model.evaluate([np.asarray(X_val_peptide), np.asarray([1]*X_val_peptide.shape[0])], \n",
    "                             [np.asarray(y_val), np.asarray(y_val)])\n",
    "\n",
    "print(\"%s: %.2f%%\" % (model.metrics_names[1], val_results[1]*100))\n",
    "print(\"%s: %.2f%%\" % (model.metrics_names[3], val_results[3]*100))"
   ]
  },
  {
   "cell_type": "code",
   "execution_count": 67,
   "id": "e41d27cb-91fb-4294-9cd1-83b3ec58a3cf",
   "metadata": {},
   "outputs": [
    {
     "name": "stdout",
     "output_type": "stream",
     "text": [
      "710/710 [==============================] - 2s 3ms/step - loss: 0.6758 - main_output_loss: 0.5631 - aux_output_loss: 0.5636 - main_output_accuracy: 0.6958 - aux_output_accuracy: 0.6970A: 0s - loss: 0.6762 - main_output_loss: 0.5634 - aux_output_loss: 0.5642 - main_output_accuracy: 0.6957 - aux_output_accur\n",
      "main_output_loss: 56.31%\n",
      "main_output_accuracy: 69.58%\n"
     ]
    }
   ],
   "source": [
    "# test set\n",
    "test_results = model.evaluate([np.asarray(X_test_peptide), np.asarray([1]*X_test_peptide.shape[0])], \n",
    "                              [np.asarray(y_test), np.asarray(y_test)])\n",
    "\n",
    "print(\"%s: %.2f%%\" % (model.metrics_names[1], test_results[1]*100))\n",
    "print(\"%s: %.2f%%\" % (model.metrics_names[3], test_results[3]*100))"
   ]
  },
  {
   "cell_type": "markdown",
   "id": "cd4bb425-2546-4e15-8ab4-e420862f7209",
   "metadata": {},
   "source": [
    "## Model prediction"
   ]
  },
  {
   "cell_type": "code",
   "execution_count": 68,
   "id": "9b9a0af0-d624-4707-a08b-a3149b988450",
   "metadata": {},
   "outputs": [
    {
     "data": {
      "text/plain": [
       "(22704, 2)"
      ]
     },
     "execution_count": 68,
     "metadata": {},
     "output_type": "execute_result"
    }
   ],
   "source": [
    "df = pd.DataFrame({'Peptide': X_test['Peptide'], 'Detectability': y_test})\n",
    "df.shape"
   ]
  },
  {
   "cell_type": "code",
   "execution_count": 69,
   "id": "e28106d2-c002-4390-9a72-55225c42408e",
   "metadata": {},
   "outputs": [
    {
     "name": "stdout",
     "output_type": "stream",
     "text": [
      "710/710 [==============================] - 2s 2ms/step\n"
     ]
    }
   ],
   "source": [
    "test_predictions = model.predict([np.array([convertPeptide(pep, maxLength) for pep in df['Peptide']]), np.asarray([1]*X_test_peptide.shape[0])], \n",
    "                                 verbose=1)"
   ]
  },
  {
   "cell_type": "code",
   "execution_count": 70,
   "id": "98d5f30b-a034-4597-b1e1-54c9dc282123",
   "metadata": {},
   "outputs": [
    {
     "data": {
      "text/html": [
       "<div>\n",
       "<style scoped>\n",
       "    .dataframe tbody tr th:only-of-type {\n",
       "        vertical-align: middle;\n",
       "    }\n",
       "\n",
       "    .dataframe tbody tr th {\n",
       "        vertical-align: top;\n",
       "    }\n",
       "\n",
       "    .dataframe thead th {\n",
       "        text-align: right;\n",
       "    }\n",
       "</style>\n",
       "<table border=\"1\" class=\"dataframe\">\n",
       "  <thead>\n",
       "    <tr style=\"text-align: right;\">\n",
       "      <th></th>\n",
       "      <th>Peptide</th>\n",
       "      <th>Detectability</th>\n",
       "      <th>Predictions</th>\n",
       "    </tr>\n",
       "  </thead>\n",
       "  <tbody>\n",
       "    <tr>\n",
       "      <th>0</th>\n",
       "      <td>GYSLASLLAK</td>\n",
       "      <td>1</td>\n",
       "      <td>0.772385</td>\n",
       "    </tr>\n",
       "    <tr>\n",
       "      <th>1</th>\n",
       "      <td>LTSSNEINK</td>\n",
       "      <td>0</td>\n",
       "      <td>0.450480</td>\n",
       "    </tr>\n",
       "    <tr>\n",
       "      <th>2</th>\n",
       "      <td>ACTIAIR</td>\n",
       "      <td>0</td>\n",
       "      <td>0.363180</td>\n",
       "    </tr>\n",
       "    <tr>\n",
       "      <th>3</th>\n",
       "      <td>VGPVPVLVMSLLFIASVFMLHIWGK</td>\n",
       "      <td>0</td>\n",
       "      <td>0.006660</td>\n",
       "    </tr>\n",
       "    <tr>\n",
       "      <th>4</th>\n",
       "      <td>TLEEDVDDR</td>\n",
       "      <td>0</td>\n",
       "      <td>0.288882</td>\n",
       "    </tr>\n",
       "  </tbody>\n",
       "</table>\n",
       "</div>"
      ],
      "text/plain": [
       "                     Peptide  Detectability  Predictions\n",
       "0                 GYSLASLLAK              1     0.772385\n",
       "1                  LTSSNEINK              0     0.450480\n",
       "2                    ACTIAIR              0     0.363180\n",
       "3  VGPVPVLVMSLLFIASVFMLHIWGK              0     0.006660\n",
       "4                  TLEEDVDDR              0     0.288882"
      ]
     },
     "execution_count": 70,
     "metadata": {},
     "output_type": "execute_result"
    }
   ],
   "source": [
    "df[\"Predictions\"] = test_predictions[0].flatten()\n",
    "df.head()"
   ]
  },
  {
   "cell_type": "code",
   "execution_count": 71,
   "id": "b1288d87-7d90-4f6e-9393-ecea8063ad12",
   "metadata": {},
   "outputs": [],
   "source": [
    "df.to_csv('final_data/M1_seq_pred_134b_200epoch.tsv', sep='\\t', index=False)"
   ]
  },
  {
   "cell_type": "code",
   "execution_count": 72,
   "id": "07f413d7-6f48-4a95-85fb-c9377757c70b",
   "metadata": {},
   "outputs": [],
   "source": [
    "# visualise prediction distribution\n",
    "import seaborn as sns"
   ]
  },
  {
   "cell_type": "code",
   "execution_count": 74,
   "id": "8363db05-30e3-4b80-aea1-44a519f5708c",
   "metadata": {},
   "outputs": [
    {
     "data": {
      "image/png": "[encoded data removed]",
      "text/plain": [
       "<Figure size 720x360 with 1 Axes>"
      ]
     },
     "metadata": {
      "needs_background": "light"
     },
     "output_type": "display_data"
    }
   ],
   "source": [
    "fig, ax = plt.subplots(figsize=(10, 5))\n",
    "sns.histplot(data=df, x=df['Predictions'], hue=df['Detectability'], stat='count', bins=25)\n",
    "ax.set_title('Sequence', fontsize=18)\n",
    "ax.set_xlabel('Predictions', fontsize=16)\n",
    "ax.set_ylabel('Count', fontsize=16)\n",
    "plt.setp(ax.get_legend().get_texts(), fontsize=14)\n",
    "plt.setp(ax.get_legend().get_title(), fontsize=14)\n",
    "plt.savefig('final_figures/M1_seq_hist_134b_200ep.png', dpi=400)"
   ]
  },
  {
   "cell_type": "code",
   "execution_count": 75,
   "id": "cccd1457-c4a9-4886-b3cc-1c8ce2b65700",
   "metadata": {},
   "outputs": [
    {
     "data": {
      "text/plain": [
       "array([[6499, 4853],\n",
       "       [2053, 9299]], dtype=int64)"
      ]
     },
     "execution_count": 75,
     "metadata": {},
     "output_type": "execute_result"
    }
   ],
   "source": [
    "# confusion matrix\n",
    "confusion_matrix = sklearn.metrics.confusion_matrix(y_test, np.rint(df['Predictions']))\n",
    "confusion_matrix"
   ]
  },
  {
   "cell_type": "code",
   "execution_count": 76,
   "id": "de8f1791-0e9d-46ca-b9de-8e1edbfb5229",
   "metadata": {},
   "outputs": [
    {
     "data": {
      "text/plain": [
       "0.6958245243128964"
      ]
     },
     "execution_count": 76,
     "metadata": {},
     "output_type": "execute_result"
    }
   ],
   "source": [
    "# Accuracy\n",
    "from sklearn.metrics import accuracy_score\n",
    "accuracy_score(y_test, np.rint(df['Predictions']))"
   ]
  },
  {
   "cell_type": "code",
   "execution_count": 77,
   "id": "9886359b-3ca6-4958-9ac5-30dd2801b967",
   "metadata": {
    "tags": []
   },
   "outputs": [
    {
     "data": {
      "text/plain": [
       "0.8191508104298802"
      ]
     },
     "execution_count": 77,
     "metadata": {},
     "output_type": "execute_result"
    }
   ],
   "source": [
    "# Recall\n",
    "from sklearn.metrics import recall_score\n",
    "recall_score(y_test, round(df['Predictions']), average='binary')"
   ]
  },
  {
   "cell_type": "code",
   "execution_count": 78,
   "id": "42cf2d70-9894-4e4f-aaca-b01faa531676",
   "metadata": {},
   "outputs": [
    {
     "data": {
      "text/plain": [
       "0.65708027133974"
      ]
     },
     "execution_count": 78,
     "metadata": {},
     "output_type": "execute_result"
    }
   ],
   "source": [
    "# Precision\n",
    "from sklearn.metrics import precision_score\n",
    "precision_score(y_test, np.rint(df['Predictions']), average='binary')"
   ]
  },
  {
   "cell_type": "code",
   "execution_count": 79,
   "id": "da0f93e1-604d-45ce-8566-a64fe5c11be0",
   "metadata": {},
   "outputs": [
    {
     "data": {
      "text/plain": [
       "0.7292189460476789"
      ]
     },
     "execution_count": 79,
     "metadata": {},
     "output_type": "execute_result"
    }
   ],
   "source": [
    "# F1 score\n",
    "from sklearn.metrics import f1_score\n",
    "f1_score(y_test, np.rint(df['Predictions']), average='binary')"
   ]
  },
  {
   "cell_type": "code",
   "execution_count": 80,
   "id": "ad5cb8bb-96a1-4534-96f4-ca6cdf483ba1",
   "metadata": {},
   "outputs": [
    {
     "data": {
      "text/plain": [
       "0.4041352217390442"
      ]
     },
     "execution_count": 80,
     "metadata": {},
     "output_type": "execute_result"
    }
   ],
   "source": [
    "# MCC (Matthew's correlation coefficient)\n",
    "from sklearn.metrics import matthews_corrcoef\n",
    "matthews_corrcoef(y_test, np.rint(df['Predictions']))"
   ]
  },
  {
   "cell_type": "markdown",
   "id": "d672f61a-13d5-47ef-b74d-d3a459c3caaf",
   "metadata": {},
   "source": [
    "## Plot ROC curve"
   ]
  },
  {
   "cell_type": "code",
   "execution_count": 109,
   "id": "3923125f-afda-4d28-ac93-89610b640ec7",
   "metadata": {},
   "outputs": [],
   "source": [
    "from sklearn.metrics import roc_curve, auc, roc_auc_score"
   ]
  },
  {
   "cell_type": "code",
   "execution_count": 113,
   "id": "b84e34ee-ad23-48b5-91b7-134a1840dd0c",
   "metadata": {},
   "outputs": [
    {
     "data": {
      "text/plain": [
       "0.7671200735910161"
      ]
     },
     "execution_count": 113,
     "metadata": {},
     "output_type": "execute_result"
    }
   ],
   "source": [
    "fpr, tpr, thresholds = roc_curve(y_test, df['Predictions'])\n",
    "auc_keras = auc(fpr, tpr)\n",
    "auc_keras"
   ]
  },
  {
   "cell_type": "code",
   "execution_count": null,
   "id": "c9697616-a017-443f-a7ab-a7ffc30b3f24",
   "metadata": {},
   "outputs": [],
   "source": [
    "def plot_roc_curve(y_test, predictions):\n",
    "    fpr, tpr, thresholds = roc_curve(y_test, predictions)\n",
    "    auc_keras = auc(fpr, tpr)\n",
    "    \n",
    "    plt.figure(1)\n",
    "    plt.plot([0, 1], [0, 1], 'k--')\n",
    "    plt.plot(fpr_keras, tpr_keras, label='Keras (AUC = {:.3f})'.format(auc_keras))\n",
    "    plt.xlabel('False positive rate')"
   ]
  },
  {
   "cell_type": "code",
   "execution_count": 103,
   "id": "c0bd6180-2d49-45a0-8848-1b515febd136",
   "metadata": {},
   "outputs": [
    {
     "data": {
      "image/png": "[encoded data removed]",
      "text/plain": [
       "<Figure size 432x288 with 1 Axes>"
      ]
     },
     "metadata": {
      "needs_background": "light"
     },
     "output_type": "display_data"
    }
   ],
   "source": [
    "plt.figure(1)\n",
    "plt.plot([0, 1], [0, 1], 'k--')\n",
    "plt.plot(fpr_keras, tpr_keras, label='Keras (AUC = {:.3f})'.format(auc_keras))\n",
    "#plt.plot(fpr_rf, tpr_rf, label='RF (area = {:.3f})'.format(auc_rf))\n",
    "plt.xlabel('False positive rate')\n",
    "plt.ylabel('True positive rate')\n",
    "plt.title('ROC curve')\n",
    "plt.legend(loc='best')\n",
    "plt.show()"
   ]
  },
  {
   "cell_type": "markdown",
   "id": "0239d569-ef28-4fa4-a4ed-243f4f7d174c",
   "metadata": {},
   "source": [
    "# How peptide length affects prediction accuracy"
   ]
  },
  {
   "cell_type": "code",
   "execution_count": 61,
   "id": "0051a8b1-a6d0-4db3-8031-a077ccdb0a84",
   "metadata": {},
   "outputs": [
    {
     "data": {
      "text/plain": [
       "1757"
      ]
     },
     "execution_count": 61,
     "metadata": {},
     "output_type": "execute_result"
    }
   ],
   "source": [
    "len(df.loc[(df[\"Peptide\"].str.len()==11)])"
   ]
  },
  {
   "cell_type": "code",
   "execution_count": 113,
   "id": "a5a49fc7-ebe2-4406-b6f4-b93f03a14e8e",
   "metadata": {},
   "outputs": [],
   "source": [
    "df_30 = df.loc[(df[\"Peptide\"].str.len()<=30)].reset_index(drop=True)\n",
    "df_20 = df.loc[(df[\"Peptide\"].str.len()<=20)].reset_index(drop=True)\n",
    "df_10 = df.loc[(df[\"Peptide\"].str.len()<=10)].reset_index(drop=True)"
   ]
  },
  {
   "cell_type": "code",
   "execution_count": null,
   "id": "372ae15a-51a7-4708-9bd1-343c59c0fb12",
   "metadata": {},
   "outputs": [],
   "source": []
  }
 ],
 "metadata": {
  "kernelspec": {
   "display_name": "Python 3",
   "language": "python",
   "name": "python3"
  },
  "language_info": {
   "codemirror_mode": {
    "name": "ipython",
    "version": 3
   },
   "file_extension": ".py",
   "mimetype": "text/x-python",
   "name": "python",
   "nbconvert_exporter": "python",
   "pygments_lexer": "ipython3",
   "version": "3.8.8"
  }
 },
 "nbformat": 4,
 "nbformat_minor": 5
}
